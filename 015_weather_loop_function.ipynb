{
  "nbformat": 4,
  "nbformat_minor": 0,
  "metadata": {
    "colab": {
      "provenance": [],
      "toc_visible": true
    },
    "kernelspec": {
      "name": "python3",
      "display_name": "Python 3"
    },
    "language_info": {
      "name": "python"
    }
  },
  "cells": [
    {
      "cell_type": "code",
      "execution_count": null,
      "metadata": {
        "id": "LZ6GI4e0pCH2"
      },
      "outputs": [],
      "source": [
        "import pandas as pd\n",
        "import requests\n",
        "import json"
      ]
    },
    {
      "cell_type": "markdown",
      "source": [
        "# 1st step: write code that does everything for a single city"
      ],
      "metadata": {
        "id": "znapYETQTb31"
      }
    },
    {
      "cell_type": "code",
      "source": [
        "city = \"Berlin\"\n",
        "api_key = \"YOUR-API-KEY-HERE\""
      ],
      "metadata": {
        "id": "ntdLtCbwqL2b"
      },
      "execution_count": null,
      "outputs": []
    },
    {
      "cell_type": "code",
      "source": [
        "weather_city = requests.get(f\"http://api.openweathermap.org/data/2.5/forecast?q={city}&appid={api_key}&units=metric\")\n",
        "json = weather_city.json()\n",
        "json"
      ],
      "metadata": {
        "id": "bMaYmQRxpWew"
      },
      "execution_count": null,
      "outputs": []
    },
    {
      "cell_type": "code",
      "source": [
        "# create a dictionary that contains empty lists we want to fill with data from the json\n",
        "weather_dict = {\"city\": [],\n",
        "                \"date_time\": [],\n",
        "                \"temp\": []\n",
        "                #\"wind_speed\": []\n",
        "                }\n",
        "\n",
        "# iterate over the dictionaries/forecasts\n",
        "# for each, get the temperature\n",
        "# for each, also get the city name (= the same each time)\n",
        "for i in range(len(json[\"list\"])):\n",
        "  weather_dict[\"temp\"].append(json[\"list\"][i][\"main\"][\"temp\"])\n",
        "  weather_dict[\"date_time\"].append(json[\"list\"][i][\"dt_txt\"])\n",
        "  weather_dict[\"city\"].append(json[\"city\"][\"name\"])\n",
        "\n",
        "weather_df = pd.DataFrame(weather_dict)"
      ],
      "metadata": {
        "id": "tbtjKwY3-f4P"
      },
      "execution_count": null,
      "outputs": []
    },
    {
      "cell_type": "code",
      "source": [
        "weather_df"
      ],
      "metadata": {
        "id": "UXglmF7hpWcE"
      },
      "execution_count": null,
      "outputs": []
    },
    {
      "cell_type": "markdown",
      "source": [
        "# Second step: copy+paste your code from above and tweak it to run inside a for loop that can handle multiple cities"
      ],
      "metadata": {
        "id": "5kG1keOoTnBI"
      }
    },
    {
      "cell_type": "code",
      "source": [
        "cities = [\"Berlin\", \"Bremen\", \"Munich\", \"Muenster\"]\n",
        "api_key = \"YOUR-API-KEY-HERE\"\n",
        "\n",
        "# create a dictionary that contains empty lists we want to fill with data from the json\n",
        "weather_dict = {\"city\": [],\n",
        "                \"date_time\": [],\n",
        "                \"temp\": []\n",
        "                }\n",
        "\n",
        "for i in range(len(cities)):\n",
        "  weather_city = requests.get(f\"http://api.openweathermap.org/data/2.5/forecast?q={cities[i]}&appid={api_key}&units=metric\")\n",
        "  json = weather_city.json()\n",
        "\n",
        "# alternative:\n",
        "# for city in cities:\n",
        "#  weather_city = requests.get(f\"http://api.openweathermap.org/data/2.5/forecast?q={city}&appid={api_key}&units=metric\")\n",
        "#  json = weather_city.json()\n",
        "\n",
        "  for j in range(len(json[\"list\"])):\n",
        "    weather_dict[\"temp\"].append(json[\"list\"][j][\"main\"][\"temp\"])\n",
        "    weather_dict[\"date_time\"].append(json[\"list\"][j][\"dt_txt\"])\n",
        "    weather_dict[\"city\"].append(json[\"city\"][\"name\"])\n",
        "# alternative    weather_dict[\"city\"].append(cities[i])\n",
        "\n",
        "weather_df = pd.DataFrame(weather_dict)"
      ],
      "metadata": {
        "id": "C61sMwVcroOl"
      },
      "execution_count": null,
      "outputs": []
    },
    {
      "cell_type": "code",
      "source": [
        "weather_df[\"city\"].unique()"
      ],
      "metadata": {
        "colab": {
          "base_uri": "https://localhost:8080/"
        },
        "id": "h1yRS_TbGbN6",
        "outputId": "94e8e243-1e2a-4d50-ed4e-9331663cf630"
      },
      "execution_count": null,
      "outputs": [
        {
          "output_type": "execute_result",
          "data": {
            "text/plain": [
              "array(['Berlin', 'Bremen', 'Munich', 'Münster'], dtype=object)"
            ]
          },
          "metadata": {},
          "execution_count": 23
        }
      ]
    },
    {
      "cell_type": "markdown",
      "source": [
        "# Third step: copy+paste your code with the cities for loop and tweak such that it will work inside a function.\n",
        "Here, the argument to the function will be a list with city names called \"cities\". This is because before, we explicitly defined the cities variable to be exactly that (= a list with city names). Therefore, the logic of our code inside the function does not need to change really because as long as gets the same type of input, it doesn't matter whether it comes from an explicit statement or from the function call."
      ],
      "metadata": {
        "id": "ZtcZ4Hu9T6Rm"
      }
    },
    {
      "cell_type": "code",
      "source": [
        "def weather_baby(cities):\n",
        "\n",
        "  api_key = \"YOUR-API-KEY-HERE\"\n",
        "\n",
        "# create a dictionary that contains empty lists we want to fill with data from the json\n",
        "  weather_dict = {\"city\": [],\n",
        "                  \"date_time\": [],\n",
        "                  \"temp\": []\n",
        "                  }\n",
        "\n",
        "  for i in range(len(cities)):\n",
        "    weather_city = requests.get(f\"http://api.openweathermap.org/data/2.5/forecast?q={cities[i]}&appid={api_key}&units=metric\")\n",
        "    json = weather_city.json()\n",
        "\n",
        "# alternative:\n",
        "# for city in cities:\n",
        "#  weather_city = requests.get(f\"http://api.openweathermap.org/data/2.5/forecast?q={city}&appid={api_key}&units=metric\")\n",
        "#  json = weather_city.json()\n",
        "\n",
        "    for j in range(len(json[\"list\"])):\n",
        "      weather_dict[\"temp\"].append(json[\"list\"][j][\"main\"][\"temp\"])\n",
        "      weather_dict[\"date_time\"].append(json[\"list\"][j][\"dt_txt\"])\n",
        "      weather_dict[\"city\"].append(json[\"city\"][\"name\"])\n",
        "# alternative    weather_dict[\"city\"].append(cities[i])\n",
        "\n",
        "  weather_df = pd.DataFrame(weather_dict)\n",
        "  return weather_df"
      ],
      "metadata": {
        "id": "LnvEC2ugInO8"
      },
      "execution_count": null,
      "outputs": []
    },
    {
      "cell_type": "code",
      "source": [
        "weather_baby([\"Berlin\"])"
      ],
      "metadata": {
        "id": "WU90DIjDJ68M"
      },
      "execution_count": null,
      "outputs": []
    },
    {
      "cell_type": "code",
      "source": [
        "weather_baby([\"Bremen\", \"Düsseldorf\"])"
      ],
      "metadata": {
        "colab": {
          "base_uri": "https://localhost:8080/",
          "height": 423
        },
        "id": "HhAthzIATOaY",
        "outputId": "309d3340-20e6-4433-cebb-cb28d0e10b59"
      },
      "execution_count": null,
      "outputs": [
        {
          "output_type": "execute_result",
          "data": {
            "text/plain": [
              "          city            date_time   temp\n",
              "0       Bremen  2023-03-31 12:00:00  10.64\n",
              "1       Bremen  2023-03-31 15:00:00  10.28\n",
              "2       Bremen  2023-03-31 18:00:00   9.46\n",
              "3       Bremen  2023-03-31 21:00:00   8.61\n",
              "4       Bremen  2023-04-01 00:00:00   8.42\n",
              "..         ...                  ...    ...\n",
              "75  Düsseldorf  2023-04-04 21:00:00   4.85\n",
              "76  Düsseldorf  2023-04-05 00:00:00   3.29\n",
              "77  Düsseldorf  2023-04-05 03:00:00   2.11\n",
              "78  Düsseldorf  2023-04-05 06:00:00   2.06\n",
              "79  Düsseldorf  2023-04-05 09:00:00   6.17\n",
              "\n",
              "[80 rows x 3 columns]"
            ],
            "text/html": [
              "\n",
              "  <div id=\"df-a9fb9147-7dc7-4859-bb54-22a44635e97c\">\n",
              "    <div class=\"colab-df-container\">\n",
              "      <div>\n",
              "<style scoped>\n",
              "    .dataframe tbody tr th:only-of-type {\n",
              "        vertical-align: middle;\n",
              "    }\n",
              "\n",
              "    .dataframe tbody tr th {\n",
              "        vertical-align: top;\n",
              "    }\n",
              "\n",
              "    .dataframe thead th {\n",
              "        text-align: right;\n",
              "    }\n",
              "</style>\n",
              "<table border=\"1\" class=\"dataframe\">\n",
              "  <thead>\n",
              "    <tr style=\"text-align: right;\">\n",
              "      <th></th>\n",
              "      <th>city</th>\n",
              "      <th>date_time</th>\n",
              "      <th>temp</th>\n",
              "    </tr>\n",
              "  </thead>\n",
              "  <tbody>\n",
              "    <tr>\n",
              "      <th>0</th>\n",
              "      <td>Bremen</td>\n",
              "      <td>2023-03-31 12:00:00</td>\n",
              "      <td>10.64</td>\n",
              "    </tr>\n",
              "    <tr>\n",
              "      <th>1</th>\n",
              "      <td>Bremen</td>\n",
              "      <td>2023-03-31 15:00:00</td>\n",
              "      <td>10.28</td>\n",
              "    </tr>\n",
              "    <tr>\n",
              "      <th>2</th>\n",
              "      <td>Bremen</td>\n",
              "      <td>2023-03-31 18:00:00</td>\n",
              "      <td>9.46</td>\n",
              "    </tr>\n",
              "    <tr>\n",
              "      <th>3</th>\n",
              "      <td>Bremen</td>\n",
              "      <td>2023-03-31 21:00:00</td>\n",
              "      <td>8.61</td>\n",
              "    </tr>\n",
              "    <tr>\n",
              "      <th>4</th>\n",
              "      <td>Bremen</td>\n",
              "      <td>2023-04-01 00:00:00</td>\n",
              "      <td>8.42</td>\n",
              "    </tr>\n",
              "    <tr>\n",
              "      <th>...</th>\n",
              "      <td>...</td>\n",
              "      <td>...</td>\n",
              "      <td>...</td>\n",
              "    </tr>\n",
              "    <tr>\n",
              "      <th>75</th>\n",
              "      <td>Düsseldorf</td>\n",
              "      <td>2023-04-04 21:00:00</td>\n",
              "      <td>4.85</td>\n",
              "    </tr>\n",
              "    <tr>\n",
              "      <th>76</th>\n",
              "      <td>Düsseldorf</td>\n",
              "      <td>2023-04-05 00:00:00</td>\n",
              "      <td>3.29</td>\n",
              "    </tr>\n",
              "    <tr>\n",
              "      <th>77</th>\n",
              "      <td>Düsseldorf</td>\n",
              "      <td>2023-04-05 03:00:00</td>\n",
              "      <td>2.11</td>\n",
              "    </tr>\n",
              "    <tr>\n",
              "      <th>78</th>\n",
              "      <td>Düsseldorf</td>\n",
              "      <td>2023-04-05 06:00:00</td>\n",
              "      <td>2.06</td>\n",
              "    </tr>\n",
              "    <tr>\n",
              "      <th>79</th>\n",
              "      <td>Düsseldorf</td>\n",
              "      <td>2023-04-05 09:00:00</td>\n",
              "      <td>6.17</td>\n",
              "    </tr>\n",
              "  </tbody>\n",
              "</table>\n",
              "<p>80 rows × 3 columns</p>\n",
              "</div>\n",
              "      <button class=\"colab-df-convert\" onclick=\"convertToInteractive('df-a9fb9147-7dc7-4859-bb54-22a44635e97c')\"\n",
              "              title=\"Convert this dataframe to an interactive table.\"\n",
              "              style=\"display:none;\">\n",
              "        \n",
              "  <svg xmlns=\"http://www.w3.org/2000/svg\" height=\"24px\"viewBox=\"0 0 24 24\"\n",
              "       width=\"24px\">\n",
              "    <path d=\"M0 0h24v24H0V0z\" fill=\"none\"/>\n",
              "    <path d=\"M18.56 5.44l.94 2.06.94-2.06 2.06-.94-2.06-.94-.94-2.06-.94 2.06-2.06.94zm-11 1L8.5 8.5l.94-2.06 2.06-.94-2.06-.94L8.5 2.5l-.94 2.06-2.06.94zm10 10l.94 2.06.94-2.06 2.06-.94-2.06-.94-.94-2.06-.94 2.06-2.06.94z\"/><path d=\"M17.41 7.96l-1.37-1.37c-.4-.4-.92-.59-1.43-.59-.52 0-1.04.2-1.43.59L10.3 9.45l-7.72 7.72c-.78.78-.78 2.05 0 2.83L4 21.41c.39.39.9.59 1.41.59.51 0 1.02-.2 1.41-.59l7.78-7.78 2.81-2.81c.8-.78.8-2.07 0-2.86zM5.41 20L4 18.59l7.72-7.72 1.47 1.35L5.41 20z\"/>\n",
              "  </svg>\n",
              "      </button>\n",
              "      \n",
              "  <style>\n",
              "    .colab-df-container {\n",
              "      display:flex;\n",
              "      flex-wrap:wrap;\n",
              "      gap: 12px;\n",
              "    }\n",
              "\n",
              "    .colab-df-convert {\n",
              "      background-color: #E8F0FE;\n",
              "      border: none;\n",
              "      border-radius: 50%;\n",
              "      cursor: pointer;\n",
              "      display: none;\n",
              "      fill: #1967D2;\n",
              "      height: 32px;\n",
              "      padding: 0 0 0 0;\n",
              "      width: 32px;\n",
              "    }\n",
              "\n",
              "    .colab-df-convert:hover {\n",
              "      background-color: #E2EBFA;\n",
              "      box-shadow: 0px 1px 2px rgba(60, 64, 67, 0.3), 0px 1px 3px 1px rgba(60, 64, 67, 0.15);\n",
              "      fill: #174EA6;\n",
              "    }\n",
              "\n",
              "    [theme=dark] .colab-df-convert {\n",
              "      background-color: #3B4455;\n",
              "      fill: #D2E3FC;\n",
              "    }\n",
              "\n",
              "    [theme=dark] .colab-df-convert:hover {\n",
              "      background-color: #434B5C;\n",
              "      box-shadow: 0px 1px 3px 1px rgba(0, 0, 0, 0.15);\n",
              "      filter: drop-shadow(0px 1px 2px rgba(0, 0, 0, 0.3));\n",
              "      fill: #FFFFFF;\n",
              "    }\n",
              "  </style>\n",
              "\n",
              "      <script>\n",
              "        const buttonEl =\n",
              "          document.querySelector('#df-a9fb9147-7dc7-4859-bb54-22a44635e97c button.colab-df-convert');\n",
              "        buttonEl.style.display =\n",
              "          google.colab.kernel.accessAllowed ? 'block' : 'none';\n",
              "\n",
              "        async function convertToInteractive(key) {\n",
              "          const element = document.querySelector('#df-a9fb9147-7dc7-4859-bb54-22a44635e97c');\n",
              "          const dataTable =\n",
              "            await google.colab.kernel.invokeFunction('convertToInteractive',\n",
              "                                                     [key], {});\n",
              "          if (!dataTable) return;\n",
              "\n",
              "          const docLinkHtml = 'Like what you see? Visit the ' +\n",
              "            '<a target=\"_blank\" href=https://colab.research.google.com/notebooks/data_table.ipynb>data table notebook</a>'\n",
              "            + ' to learn more about interactive tables.';\n",
              "          element.innerHTML = '';\n",
              "          dataTable['output_type'] = 'display_data';\n",
              "          await google.colab.output.renderOutput(dataTable, element);\n",
              "          const docLink = document.createElement('div');\n",
              "          docLink.innerHTML = docLinkHtml;\n",
              "          element.appendChild(docLink);\n",
              "        }\n",
              "      </script>\n",
              "    </div>\n",
              "  </div>\n",
              "  "
            ]
          },
          "metadata": {},
          "execution_count": 38
        }
      ]
    }
  ]
}