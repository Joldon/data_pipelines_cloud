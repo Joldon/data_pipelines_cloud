{
  "cells": [
    {
      "cell_type": "markdown",
      "metadata": {
        "id": "Wu99MtE0j0za"
      },
      "source": [
        "So far we've learnt how to scrape the web, and how to make a request for information from an API. Some websites make APIs even easier. Check out [RapidAPI](https://rapidapi.com/) they take care of writing most of the code for you.\n",
        "\n",
        "We will use the [AeroDataBox API](https://rapidapi.com/aedbx-aedbx/api/aerodatabox/), which can retrieve all sorts of information about flights and airports. We will show you how to retrieve information about the airports, and then it's up to you to apply this, along with what you've already learnt this week, to **produce a function, which retrieves tomorrows flight information for the major airports in the cities you web scraped**."
      ]
    },
    {
      "cell_type": "code",
      "execution_count": null,
      "metadata": {
        "id": "lIYdn1woOS1n"
      },
      "outputs": [],
      "source": [
        "import pandas as pd\n",
        "import requests"
      ]
    },
    {
      "cell_type": "markdown",
      "metadata": {
        "id": "_xaphJ-ElsfW"
      },
      "source": [
        "On the left hand side of the AeroDataBox API page, you'll see a list of options for information that you can retrieve:\n",
        "> - Flights API\n",
        "- Subsciption / PUSH API\n",
        "- Airport API\n",
        "- Aircraft API\n",
        "- Healthcheck & Status API\n",
        "\n",
        "1. We want to select `Airport API`\n",
        "\n",
        "2. Then within Airport API we want to select `Search airports by location`\n",
        "\n",
        "3. Now in the middle third you'll want to enter the `latitude` and `longitude` of any city to test... we chose Berlin: latitude 52.31 longitude 13.24. Next we changed the `radiusKM` to only 50km. And finally set `withFlightInfoOnly` to true, so it will only return airports which have flight data (scheduled or live) available.\n",
        "\n",
        "4. On the right hand third of the screen you should see a block of code that looks pretty unfamiliar. This is because by default the code is probably set to *(Node.js) Axios*. However, we have the power to change this to familiar python. Select the dropdown box at the top of the code and select `python > requests`.\n",
        "\n",
        "Now you can copy the code to your notebook and it should look a little something like the cell below:"
      ]
    },
    {
      "cell_type": "code",
      "execution_count": null,
      "metadata": {
        "id": "bUXWMvbK-5hH",
        "outputId": "7d386ef8-fcb4-42dc-dd5d-2f348979b2b2"
      },
      "outputs": [
        {
          "name": "stdout",
          "output_type": "stream",
          "text": [
            "{\"searchBy\":{\"lat\":52.31,\"lon\":13.24},\"items\":[{\"icao\":\"EDDB\",\"iata\":\"BER\",\"name\":\"Berlin, Berlin Brandenburg\",\"shortName\":\"Brandenburg\",\"municipalityName\":\"Berlin\",\"location\":{\"lat\":52.35139,\"lon\":13.493889},\"countryCode\":\"DE\"}]}\n"
          ]
        }
      ],
      "source": [
        "url = \"https://aerodatabox.p.rapidapi.com/airports/search/location\"\n",
        "\n",
        "querystring = {\"lat\":\"52.31\",\"lon\":\"13.24\",\"radiusKm\":\"50\",\"limit\":\"10\",\"withFlightInfoOnly\":\"true\"}\n",
        "\n",
        "headers = {\n",
        "\t\"X-RapidAPI-Key\": \"YOUR_API_KEY_HERE\",\n",
        "\t\"X-RapidAPI-Host\": \"aerodatabox.p.rapidapi.com\"\n",
        "}\n",
        "\n",
        "response = requests.request(\"GET\", url, headers=headers, params=querystring)\n",
        "\n",
        "print(response.text)"
      ]
    },
    {
      "cell_type": "markdown",
      "metadata": {
        "id": "wZ9xmcZf-5hI"
      },
      "source": [
        "Let's view the response as `.json()` instead of `.text` so that it's easier to read"
      ]
    },
    {
      "cell_type": "code",
      "execution_count": null,
      "metadata": {
        "id": "nc-IwRbk-5hI",
        "outputId": "3075d1e0-c146-4728-ef10-f20051855169"
      },
      "outputs": [
        {
          "name": "stdout",
          "output_type": "stream",
          "text": [
            "<bound method Response.json of <Response [200]>>\n"
          ]
        }
      ],
      "source": [
        "print(response.json)"
      ]
    },
    {
      "cell_type": "code",
      "execution_count": null,
      "metadata": {
        "id": "AX48-NkA-5hI"
      },
      "outputs": [],
      "source": [
        "from IPython.display import JSON"
      ]
    },
    {
      "cell_type": "code",
      "execution_count": null,
      "metadata": {
        "id": "wqPc4MEA-5hI",
        "outputId": "951ca062-583d-4dca-ea24-0105c2dfc68b"
      },
      "outputs": [
        {
          "data": {
            "application/json": {
              "items": [
                {
                  "countryCode": "DE",
                  "iata": "BER",
                  "icao": "EDDB",
                  "location": {
                    "lat": 52.35139,
                    "lon": 13.493889
                  },
                  "municipalityName": "Berlin",
                  "name": "Berlin, Berlin Brandenburg",
                  "shortName": "Brandenburg"
                }
              ],
              "searchBy": {
                "lat": 52.31,
                "lon": 13.24
              }
            },
            "text/plain": [
              "<IPython.core.display.JSON object>"
            ]
          },
          "metadata": {
            "application/json": {
              "expanded": false,
              "root": "root"
            }
          },
          "output_type": "display_data"
        }
      ],
      "source": [
        "display(JSON(response.json()))"
      ]
    },
    {
      "cell_type": "markdown",
      "metadata": {
        "id": "od9zKgfh-5hJ"
      },
      "source": [
        "We can now turn this into a dataframe using `.json_normalize()`"
      ]
    },
    {
      "cell_type": "code",
      "execution_count": null,
      "metadata": {
        "id": "w9vvdB66-5hJ",
        "outputId": "b11fe85a-441d-4be1-9d81-7d6fb284acc9"
      },
      "outputs": [
        {
          "data": {
            "text/html": [
              "<div>\n",
              "<style scoped>\n",
              "    .dataframe tbody tr th:only-of-type {\n",
              "        vertical-align: middle;\n",
              "    }\n",
              "\n",
              "    .dataframe tbody tr th {\n",
              "        vertical-align: top;\n",
              "    }\n",
              "\n",
              "    .dataframe thead th {\n",
              "        text-align: right;\n",
              "    }\n",
              "</style>\n",
              "<table border=\"1\" class=\"dataframe\">\n",
              "  <thead>\n",
              "    <tr style=\"text-align: right;\">\n",
              "      <th></th>\n",
              "      <th>icao</th>\n",
              "      <th>iata</th>\n",
              "      <th>name</th>\n",
              "      <th>shortName</th>\n",
              "      <th>municipalityName</th>\n",
              "      <th>countryCode</th>\n",
              "      <th>location.lat</th>\n",
              "      <th>location.lon</th>\n",
              "    </tr>\n",
              "  </thead>\n",
              "  <tbody>\n",
              "    <tr>\n",
              "      <th>0</th>\n",
              "      <td>EDDB</td>\n",
              "      <td>BER</td>\n",
              "      <td>Berlin, Berlin Brandenburg</td>\n",
              "      <td>Brandenburg</td>\n",
              "      <td>Berlin</td>\n",
              "      <td>DE</td>\n",
              "      <td>52.35139</td>\n",
              "      <td>13.493889</td>\n",
              "    </tr>\n",
              "  </tbody>\n",
              "</table>\n",
              "</div>"
            ],
            "text/plain": [
              "   icao iata                        name    shortName municipalityName  \\\n",
              "0  EDDB  BER  Berlin, Berlin Brandenburg  Brandenburg           Berlin   \n",
              "\n",
              "  countryCode  location.lat  location.lon  \n",
              "0          DE      52.35139     13.493889  "
            ]
          },
          "execution_count": 7,
          "metadata": {},
          "output_type": "execute_result"
        }
      ],
      "source": [
        "pd.json_normalize(response.json()['items'])"
      ]
    },
    {
      "cell_type": "markdown",
      "metadata": {
        "id": "Q47nbbH0I3Xt"
      },
      "source": [
        "Let's now use this for the latitude and longitude of multiple cities"
      ]
    },
    {
      "cell_type": "code",
      "execution_count": null,
      "metadata": {
        "id": "W_B-X-f3-5hJ"
      },
      "outputs": [],
      "source": [
        "lat = [52.3112, 51.3026]\n",
        "lon = [13.2418, 0.739]\n",
        "\n",
        "list_for_df_airports = []\n",
        "\n",
        "for i in range(len(lat)):\n",
        "    url = \"https://aerodatabox.p.rapidapi.com/airports/search/location\"\n",
        "\n",
        "    querystring = {\"lat\":lat[i],\"lon\":lon[i],\"radiusKm\":\"50\",\"limit\":\"10\",\"withFlightInfoOnly\":\"true\"}\n",
        "\n",
        "    headers = {\n",
        "        \"X-RapidAPI-Key\": \"YOUR_API_KEY_HERE\",\n",
        "        \"X-RapidAPI-Host\": \"aerodatabox.p.rapidapi.com\"\n",
        "    }\n",
        "\n",
        "    response = requests.request(\"GET\", url, headers=headers, params=querystring)\n",
        "    \n",
        "    list_for_df_airports.append(response.json()['items'])"
      ]
    },
    {
      "cell_type": "code",
      "execution_count": null,
      "metadata": {
        "id": "SgPH8aUN-5hK"
      },
      "outputs": [],
      "source": [
        "# lat = [52.3112, 51.3026]\n",
        "# lon = [13.2418, 0.739]\n",
        "\n",
        "# list_for_df_airports = []\n",
        "\n",
        "# for i in range(len(lat)):\n",
        "#     url = f\"https://aerodatabox.p.rapidapi.com/airports/search/location/{lat[i]}/{lon[i]}/km/50/10\"\n",
        "\n",
        "#     querystring = {\"withFlightInfoOnly\":\"true\"}\n",
        "\n",
        "#     headers = {\n",
        "#         \"X-RapidAPI-Key\": \"YOUR_API_KEY_HERE\",\n",
        "#         \"X-RapidAPI-Host\": \"aerodatabox.p.rapidapi.com\"\n",
        "#     }\n",
        "\n",
        "#     response = requests.request(\"GET\", url, headers=headers, params=querystring)\n",
        "    \n",
        "#     list_for_df_airports.append(response.json()['items'])"
      ]
    },
    {
      "cell_type": "code",
      "execution_count": null,
      "metadata": {
        "id": "thhkuun8-5hK",
        "outputId": "d6756f0f-d138-4be9-c4b7-2d3ec5b49774"
      },
      "outputs": [
        {
          "data": {
            "text/plain": [
              "[[{'icao': 'EDDB',\n",
              "   'iata': 'BER',\n",
              "   'name': 'Berlin, Berlin Brandenburg',\n",
              "   'shortName': 'Brandenburg',\n",
              "   'municipalityName': 'Berlin',\n",
              "   'location': {'lat': 52.35139, 'lon': 13.493889},\n",
              "   'countryCode': 'DE'}],\n",
              " [{'icao': 'EGMC',\n",
              "   'iata': 'SEN',\n",
              "   'name': 'Southend',\n",
              "   'shortName': 'Southend',\n",
              "   'municipalityName': 'Southend',\n",
              "   'location': {'lat': 51.5714, 'lon': 0.695555},\n",
              "   'countryCode': 'GB'}]]"
            ]
          },
          "execution_count": 9,
          "metadata": {},
          "output_type": "execute_result"
        }
      ],
      "source": [
        "list_for_df_airports"
      ]
    },
    {
      "cell_type": "code",
      "execution_count": null,
      "metadata": {
        "id": "jnYsxNxW-5hK",
        "outputId": "9edc648a-45a1-436c-f38e-93ff5968a33d"
      },
      "outputs": [
        {
          "data": {
            "text/plain": [
              "'EGMC'"
            ]
          },
          "execution_count": 14,
          "metadata": {},
          "output_type": "execute_result"
        }
      ],
      "source": [
        "list_for_df_airports[1][0]['icao']"
      ]
    },
    {
      "cell_type": "code",
      "execution_count": null,
      "metadata": {
        "id": "uTwlDQFW-5hK",
        "outputId": "1a9b0a27-fbe4-4874-cf99-79b3586794ee"
      },
      "outputs": [
        {
          "data": {
            "text/plain": [
              "{'icao': 'EDDB', 'name': 'Berlin, Berlin Brandenburg'}"
            ]
          },
          "execution_count": 15,
          "metadata": {},
          "output_type": "execute_result"
        }
      ],
      "source": [
        "airpot_dict = {}\n",
        "airpot_dict['icao'] = list_for_df_airports[0][0]['icao']\n",
        "airpot_dict['name'] = list_for_df_airports[0][0]['name']\n",
        "\n",
        "airpot_dict"
      ]
    },
    {
      "cell_type": "code",
      "execution_count": null,
      "metadata": {
        "id": "kCpWX1gO-5hK"
      },
      "outputs": [],
      "source": []
    },
    {
      "cell_type": "code",
      "execution_count": null,
      "metadata": {
        "id": "EGGpU65u-5hK"
      },
      "outputs": [],
      "source": [
        "list_for_df = []\n",
        "\n",
        "for i in list_for_df_airports:\n",
        "    airpots_dict = {}\n",
        "    \n",
        "    airpots_dict['icao'] = i[0]['icao']\n",
        "    airpots_dict['name'] = i[0]['name']\n",
        "    list_for_df.append(airpots_dict)"
      ]
    },
    {
      "cell_type": "code",
      "execution_count": null,
      "metadata": {
        "id": "d8hTlgEM-5hK",
        "outputId": "67e11175-3af0-4f0d-adab-7325389651fe"
      },
      "outputs": [
        {
          "data": {
            "text/plain": [
              "[{'icao': 'EDDB', 'name': 'Berlin, Berlin Brandenburg'},\n",
              " {'icao': 'EGMC', 'name': 'Southend'}]"
            ]
          },
          "execution_count": 20,
          "metadata": {},
          "output_type": "execute_result"
        }
      ],
      "source": [
        "list_for_df"
      ]
    },
    {
      "cell_type": "code",
      "execution_count": null,
      "metadata": {
        "id": "9H0MqSIx-5hL",
        "outputId": "0435cadf-fa79-4877-8ab4-18efe09c94ce"
      },
      "outputs": [
        {
          "data": {
            "text/html": [
              "<div>\n",
              "<style scoped>\n",
              "    .dataframe tbody tr th:only-of-type {\n",
              "        vertical-align: middle;\n",
              "    }\n",
              "\n",
              "    .dataframe tbody tr th {\n",
              "        vertical-align: top;\n",
              "    }\n",
              "\n",
              "    .dataframe thead th {\n",
              "        text-align: right;\n",
              "    }\n",
              "</style>\n",
              "<table border=\"1\" class=\"dataframe\">\n",
              "  <thead>\n",
              "    <tr style=\"text-align: right;\">\n",
              "      <th></th>\n",
              "      <th>icao</th>\n",
              "      <th>name</th>\n",
              "    </tr>\n",
              "  </thead>\n",
              "  <tbody>\n",
              "    <tr>\n",
              "      <th>0</th>\n",
              "      <td>EDDB</td>\n",
              "      <td>Berlin, Berlin Brandenburg</td>\n",
              "    </tr>\n",
              "    <tr>\n",
              "      <th>1</th>\n",
              "      <td>EGMC</td>\n",
              "      <td>Southend</td>\n",
              "    </tr>\n",
              "  </tbody>\n",
              "</table>\n",
              "</div>"
            ],
            "text/plain": [
              "   icao                        name\n",
              "0  EDDB  Berlin, Berlin Brandenburg\n",
              "1  EGMC                    Southend"
            ]
          },
          "execution_count": 21,
          "metadata": {},
          "output_type": "execute_result"
        }
      ],
      "source": [
        "airports_df = pd.DataFrame(list_for_df)\n",
        "airports_df"
      ]
    },
    {
      "cell_type": "code",
      "execution_count": null,
      "metadata": {
        "id": "q0VCPFOmH3vl",
        "jupyter": {
          "source_hidden": true
        },
        "tags": []
      },
      "outputs": [],
      "source": [
        "def icao_airport_codes(latitudes, longitudes):\n",
        "\n",
        "  #assert len(latitudes) == len(longitudes)\n",
        "  \n",
        "  list_for_df = []\n",
        "\n",
        "  for i in range(len(latitudes)):\n",
        "\n",
        "    url = f\"https://aerodatabox.p.rapidapi.com/airports/search/location/{latitudes[i]}/{longitudes[i]}/km/100/16\"\n",
        "\n",
        "    querystring = {\"withFlightInfoOnly\":\"true\"}\n",
        "\n",
        "    headers = {\n",
        "      \"X-RapidAPI-Host\": \"aerodatabox.p.rapidapi.com\",\n",
        "      \"X-RapidAPI-Key\": \"YOUR_API_KEY_HERE\"\n",
        "    }\n",
        "\n",
        "    response = requests.request(\"GET\", url, headers=headers, params=querystring)\n",
        "\n",
        "    list_for_df.append(pd.json_normalize(response.json()['items']))\n",
        "\n",
        "  return pd.concat(list_for_df, ignore_index=True)"
      ]
    },
    {
      "cell_type": "markdown",
      "metadata": {
        "id": "q3DS1gbq3xG8"
      },
      "source": [
        "###### **Challenge 1:** Icao codes\n",
        "If you use the above for all of your cities, you can create a DataFrame of all the airports and their associated `icao` codes. Perfect for a relational database.\n",
        "\n",
        "###### **Challenge 2:** Arrivals information\n",
        "Using what you have been shown above, plus the skills you've learnt in the last couple of days:\n",
        "1. In `AeroDataBox API` use the `Flight API` > `FIDS/Schedules: Airport departures and arrivals by airport ICAO code` section\n",
        "2. Fill out the parameters in the middle third and then copy the `python: requests` code from the right hand third\n",
        "3. Explore the data you get back. What would be useful in your DataFrame and what can be excluded? Remember Gans wants to know about when people are arriving in the city\n",
        "4. Make a DataFrame from the information you see as important\n",
        "5. Condense everything you did above into a function that can take a list of ICAO codes as an input, and as an output gives you a DataFrame with the information for *tomorrows arrivals*"
      ]
    },
    {
      "cell_type": "code",
      "execution_count": null,
      "metadata": {
        "collapsed": true,
        "id": "4xFK3kVd4w5A",
        "jupyter": {
          "outputs_hidden": true
        },
        "tags": [],
        "outputId": "258f0e66-fcb5-4ab5-9c2b-ac27a43b3bae"
      },
      "outputs": [
        {
          "name": "stdout",
          "output_type": "stream",
          "text": [
            "{\"arrivals\":[{\"departure\":{\"airport\":{\"icao\":\"LEPA\",\"iata\":\"PMI\",\"name\":\"Palma De Mallorca\"},\"scheduledTimeLocal\":\"2022-10-04 17:20+02:00\",\"actualTimeLocal\":\"2022-10-04 17:24+02:00\",\"scheduledTimeUtc\":\"2022-10-04 15:20Z\",\"actualTimeUtc\":\"2022-10-04 15:24Z\",\"terminal\":\"N\",\"checkInDesk\":\"002-017\",\"gate\":\"C68\",\"quality\":[\"Basic\",\"Live\"]},\"arrival\":{\"scheduledTimeLocal\":\"2022-10-04 20:05+02:00\",\"scheduledTimeUtc\":\"2022-10-04 18:05Z\",\"terminal\":\"0\",\"quality\":[\"Basic\"]},\"number\":\"FR 279\",\"status\":\"Expected\",\"codeshareStatus\":\"Unknown\",\"isCargo\":false,\"aircraft\":{\"model\":\"Airbus A320\"},\"airline\":{\"name\":\"Ryanair\"}},{\"departure\":{\"airport\":{\"icao\":\"LGSA\",\"iata\":\"CHQ\",\"name\":\"Souda\"},\"scheduledTimeLocal\":\"2022-10-04 17:50+03:00\",\"scheduledTimeUtc\":\"2022-10-04 14:50Z\",\"quality\":[\"Basic\"]},\"arrival\":{\"scheduledTimeLocal\":\"2022-10-04 20:00+02:00\",\"scheduledTimeUtc\":\"2022-10-04 18:00Z\",\"terminal\":\"0\",\"quality\":[\"Basic\"]},\"number\":\"FR 5642\",\"status\":\"Unknown\",\"codeshareStatus\":\"Unknown\",\"isCargo\":false,\"aircraft\":{\"model\":\"Boeing 737-800\"},\"airline\":{\"name\":\"Ryanair\"}},{\"departure\":{\"airport\":{\"icao\":\"ELLX\",\"iata\":\"LUX\",\"name\":\"Luxembourg\"},\"scheduledTimeLocal\":\"2022-10-04 18:40+02:00\",\"actualTimeLocal\":\"2022-10-04 18:40+02:00\",\"scheduledTimeUtc\":\"2022-10-04 16:40Z\",\"actualTimeUtc\":\"2022-10-04 16:40Z\",\"quality\":[\"Basic\",\"Live\"]},\"arrival\":{\"scheduledTimeLocal\":\"2022-10-04 20:10+02:00\",\"scheduledTimeUtc\":\"2022-10-04 18:10Z\",\"terminal\":\"1\",\"quality\":[\"Basic\"]},\"number\":\"LG 9473\",\"callSign\":\"LGL9473\",\"status\":\"Expected\",\"codeshareStatus\":\"Unknown\",\"isCargo\":false,\"aircraft\":{\"reg\":\"LX-LQJ\",\"modeS\":\"4D00DA\",\"model\":\"Bombardier Dash 8 Q400 / DHC-8-400\"},\"airline\":{\"name\":\"Luxair\"}},{\"departure\":{\"airport\":{\"icao\":\"EDDM\",\"iata\":\"MUC\",\"name\":\"Munich\"},\"scheduledTimeLocal\":\"2022-10-04 19:00+02:00\",\"actualTimeLocal\":\"2022-10-04 19:00+02:00\",\"scheduledTimeUtc\":\"2022-10-04 17:00Z\",\"actualTimeUtc\":\"2022-10-04 17:00Z\",\"terminal\":\"2\",\"quality\":[\"Basic\",\"Live\"]},\"arrival\":{\"scheduledTimeLocal\":\"2022-10-04 20:05+02:00\",\"scheduledTimeUtc\":\"2022-10-04 18:05Z\",\"terminal\":\"1\",\"quality\":[\"Basic\"]},\"number\":\"LH 1942\",\"status\":\"Expected\",\"codeshareStatus\":\"Unknown\",\"isCargo\":false,\"aircraft\":{\"model\":\"Airbus A320\"},\"airline\":{\"name\":\"Lufthansa\"}},{\"departure\":{\"airport\":{\"icao\":\"EDDF\",\"iata\":\"FRA\",\"name\":\"Frankfurt-am-Main\"},\"scheduledTimeLocal\":\"2022-10-04 19:45+02:00\",\"actualTimeLocal\":\"2022-10-04 19:45+02:00\",\"scheduledTimeUtc\":\"2022-10-04 17:45Z\",\"actualTimeUtc\":\"2022-10-04 17:45Z\",\"terminal\":\"1\",\"checkInDesk\":\"263-461\",\"gate\":\"A52\",\"quality\":[\"Basic\",\"Live\"]},\"arrival\":{\"scheduledTimeLocal\":\"2022-10-04 20:55+02:00\",\"scheduledTimeUtc\":\"2022-10-04 18:55Z\",\"terminal\":\"1\",\"quality\":[\"Basic\"]},\"number\":\"LH 200\",\"status\":\"Expected\",\"codeshareStatus\":\"Unknown\",\"isCargo\":false,\"aircraft\":{\"reg\":\"D-AISW\",\"model\":\"Airbus A321\"},\"airline\":{\"name\":\"Lufthansa\"}},{\"departure\":{\"airport\":{\"icao\":\"EBBR\",\"iata\":\"BRU\",\"name\":\"Brussels\"},\"scheduledTimeLocal\":\"2022-10-04 18:40+02:00\",\"actualTimeLocal\":\"2022-10-04 18:53+02:00\",\"scheduledTimeUtc\":\"2022-10-04 16:40Z\",\"actualTimeUtc\":\"2022-10-04 16:53Z\",\"checkInDesk\":\"05\",\"quality\":[\"Basic\",\"Live\"]},\"arrival\":{\"scheduledTimeLocal\":\"2022-10-04 20:00+02:00\",\"scheduledTimeUtc\":\"2022-10-04 18:00Z\",\"terminal\":\"1\",\"quality\":[\"Basic\"]},\"number\":\"SN 2589\",\"status\":\"Expected\",\"codeshareStatus\":\"Unknown\",\"isCargo\":false,\"aircraft\":{\"model\":\"Airbus A319\"},\"airline\":{\"name\":\"Brussels\"}},{\"departure\":{\"airport\":{\"icao\":\"LIEO\",\"iata\":\"OLB\",\"name\":\"Olbia\"},\"scheduledTimeLocal\":\"2022-10-04 17:50+02:00\",\"scheduledTimeUtc\":\"2022-10-04 15:50Z\",\"quality\":[\"Basic\"]},\"arrival\":{\"scheduledTimeLocal\":\"2022-10-04 20:10+02:00\",\"scheduledTimeUtc\":\"2022-10-04 18:10Z\",\"terminal\":\"1\",\"quality\":[\"Basic\"]},\"number\":\"U2 4590\",\"status\":\"Unknown\",\"codeshareStatus\":\"Unknown\",\"isCargo\":false,\"aircraft\":{\"model\":\"Airbus A319\"},\"airline\":{\"name\":\"easyJet\"}},{\"departure\":{\"airport\":{\"icao\":\"LFSB\",\"iata\":\"BSL\",\"name\":\"Bâle/Mulhouse\"},\"scheduledTimeLocal\":\"2022-10-04 19:15+02:00\",\"scheduledTimeUtc\":\"2022-10-04 17:15Z\",\"quality\":[\"Basic\"]},\"arrival\":{\"scheduledTimeLocal\":\"2022-10-04 20:50+02:00\",\"scheduledTimeUtc\":\"2022-10-04 18:50Z\",\"terminal\":\"1\",\"quality\":[\"Basic\"]},\"number\":\"U2 4640\",\"status\":\"Unknown\",\"codeshareStatus\":\"Unknown\",\"isCargo\":false,\"aircraft\":{\"model\":\"Airbus A320\"},\"airline\":{\"name\":\"easyJet\"}},{\"departure\":{\"airport\":{\"icao\":\"LIPZ\",\"iata\":\"VCE\",\"name\":\"Venice\"},\"scheduledTimeLocal\":\"2022-10-04 18:50+02:00\",\"scheduledTimeUtc\":\"2022-10-04 16:50Z\",\"quality\":[\"Basic\"]},\"arrival\":{\"scheduledTimeLocal\":\"2022-10-04 20:35+02:00\",\"scheduledTimeUtc\":\"2022-10-04 18:35Z\",\"terminal\":\"1\",\"quality\":[\"Basic\"]},\"number\":\"U2 5840\",\"status\":\"Unknown\",\"codeshareStatus\":\"Unknown\",\"isCargo\":false,\"aircraft\":{\"model\":\"Airbus A319\"},\"airline\":{\"name\":\"easyJet\"}},{\"departure\":{\"airport\":{\"icao\":\"EDDL\",\"iata\":\"DUS\",\"name\":\"Duesseldorf\"},\"scheduledTimeLocal\":\"2022-10-04 20:45+02:00\",\"actualTimeLocal\":\"2022-10-04 20:50+02:00\",\"runwayTimeLocal\":\"2022-10-04 20:59+02:00\",\"scheduledTimeUtc\":\"2022-10-04 18:45Z\",\"actualTimeUtc\":\"2022-10-04 18:50Z\",\"runwayTimeUtc\":\"2022-10-04 18:59Z\",\"terminal\":\"B\",\"checkInDesk\":\"153,170\",\"gate\":\"A40\",\"quality\":[\"Basic\",\"Live\"]},\"arrival\":{\"scheduledTimeLocal\":\"2022-10-04 21:55+02:00\",\"scheduledTimeUtc\":\"2022-10-04 19:55Z\",\"terminal\":\"1\",\"quality\":[\"Basic\"]},\"number\":\"EW 8047\",\"callSign\":\"GWI27LR\",\"status\":\"Expected\",\"codeshareStatus\":\"Unknown\",\"isCargo\":false,\"aircraft\":{\"reg\":\"D-ABNH\",\"modeS\":\"3C49C8\",\"model\":\"Airbus A319\"},\"airline\":{\"name\":\"Eurowings\"}},{\"departure\":{\"airport\":{\"icao\":\"LTFM\",\"iata\":\"IST\",\"name\":\"Istanbul\"},\"scheduledTimeLocal\":\"2022-10-04 19:10+03:00\",\"scheduledTimeUtc\":\"2022-10-04 16:10Z\",\"quality\":[\"Basic\"]},\"arrival\":{\"scheduledTimeLocal\":\"2022-10-04 21:05+02:00\",\"scheduledTimeUtc\":\"2022-10-04 19:05Z\",\"terminal\":\"1\",\"quality\":[\"Basic\"]},\"number\":\"TK 1727\",\"status\":\"Unknown\",\"codeshareStatus\":\"Unknown\",\"isCargo\":false,\"aircraft\":{\"model\":\"Airbus A321\"},\"airline\":{\"name\":\"Turkish\"}},{\"departure\":{\"airport\":{\"icao\":\"LIML\",\"iata\":\"LIN\",\"name\":\"Milan\"},\"scheduledTimeLocal\":\"2022-10-04 19:20+02:00\",\"scheduledTimeUtc\":\"2022-10-04 17:20Z\",\"quality\":[\"Basic\"]},\"arrival\":{\"scheduledTimeLocal\":\"2022-10-04 21:10+02:00\",\"scheduledTimeUtc\":\"2022-10-04 19:10Z\",\"terminal\":\"1\",\"quality\":[\"Basic\"]},\"number\":\"U2 4678\",\"status\":\"Unknown\",\"codeshareStatus\":\"Unknown\",\"isCargo\":false,\"aircraft\":{\"model\":\"Airbus A320\"},\"airline\":{\"name\":\"easyJet\"}},{\"departure\":{\"airport\":{\"icao\":\"HEGN\",\"iata\":\"HRG\",\"name\":\"Hurghada\"},\"scheduledTimeLocal\":\"2022-10-04 16:45+02:00\",\"scheduledTimeUtc\":\"2022-10-04 14:45Z\",\"terminal\":\"1\",\"quality\":[\"Basic\"]},\"arrival\":{\"scheduledTimeLocal\":\"2022-10-04 21:55+02:00\",\"scheduledTimeUtc\":\"2022-10-04 19:55Z\",\"terminal\":\"1\",\"quality\":[\"Basic\"]},\"number\":\"U2 5788\",\"status\":\"Unknown\",\"codeshareStatus\":\"Unknown\",\"isCargo\":false,\"aircraft\":{\"model\":\"Airbus A320\"},\"airline\":{\"name\":\"easyJet\"}},{\"departure\":{\"airport\":{\"icao\":\"EGKK\",\"iata\":\"LGW\",\"name\":\"London\"},\"scheduledTimeLocal\":\"2022-10-04 18:00+01:00\",\"actualTimeLocal\":\"2022-10-04 18:00+01:00\",\"scheduledTimeUtc\":\"2022-10-04 17:00Z\",\"actualTimeUtc\":\"2022-10-04 17:00Z\",\"terminal\":\"N\",\"gate\":\"564\",\"quality\":[\"Basic\",\"Live\"]},\"arrival\":{\"scheduledTimeLocal\":\"2022-10-04 21:00+02:00\",\"scheduledTimeUtc\":\"2022-10-04 19:00Z\",\"terminal\":\"1\",\"quality\":[\"Basic\"]},\"number\":\"U2 8125\",\"status\":\"Expected\",\"codeshareStatus\":\"Unknown\",\"isCargo\":false,\"aircraft\":{\"model\":\"Airbus A319\"},\"airline\":{\"name\":\"easyJet\"}},{\"departure\":{\"airport\":{\"icao\":\"LEBL\",\"iata\":\"BCN\",\"name\":\"Barcelona\"},\"scheduledTimeLocal\":\"2022-10-04 18:35+02:00\",\"actualTimeLocal\":\"2022-10-04 18:39+02:00\",\"scheduledTimeUtc\":\"2022-10-04 16:35Z\",\"actualTimeUtc\":\"2022-10-04 16:39Z\",\"terminal\":\"1\",\"checkInDesk\":\"401-512\",\"gate\":\"A12\",\"quality\":[\"Basic\",\"Live\"]},\"arrival\":{\"scheduledTimeLocal\":\"2022-10-04 21:20+02:00\",\"scheduledTimeUtc\":\"2022-10-04 19:20Z\",\"terminal\":\"1\",\"quality\":[\"Basic\"]},\"number\":\"VY 1884\",\"status\":\"Expected\",\"codeshareStatus\":\"Unknown\",\"isCargo\":false,\"aircraft\":{\"model\":\"Airbus A320\"},\"airline\":{\"name\":\"Vueling\"}},{\"departure\":{\"airport\":{\"icao\":\"LBWN\",\"iata\":\"VAR\",\"name\":\"Varna\"},\"scheduledTimeLocal\":\"2022-10-04 19:50+03:00\",\"scheduledTimeUtc\":\"2022-10-04 16:50Z\",\"quality\":[\"Basic\"]},\"arrival\":{\"scheduledTimeLocal\":\"2022-10-04 21:20+02:00\",\"scheduledTimeUtc\":\"2022-10-04 19:20Z\",\"terminal\":\"0\",\"quality\":[\"Basic\"]},\"number\":\"W6 4515\",\"status\":\"Unknown\",\"codeshareStatus\":\"IsOperator\",\"isCargo\":false,\"aircraft\":{\"model\":\"Airbus A320\"},\"airline\":{\"name\":\"Wizz Air\"}},{\"departure\":{\"airport\":{\"icao\":\"ENGM\",\"iata\":\"OSL\",\"name\":\"Oslo\"},\"scheduledTimeLocal\":\"2022-10-04 18:30+02:00\",\"actualTimeLocal\":\"2022-10-04 18:27+02:00\",\"scheduledTimeUtc\":\"2022-10-04 16:30Z\",\"actualTimeUtc\":\"2022-10-04 16:27Z\",\"checkInDesk\":\"123\",\"gate\":\"D3\",\"quality\":[\"Basic\",\"Live\"]},\"arrival\":{\"scheduledTimeLocal\":\"2022-10-04 20:05+02:00\",\"scheduledTimeUtc\":\"2022-10-04 18:05Z\",\"terminal\":\"1\",\"quality\":[\"Basic\"]},\"number\":\"DY 1108\",\"status\":\"Expected\",\"codeshareStatus\":\"Unknown\",\"isCargo\":false,\"aircraft\":{\"model\":\"Boeing 737-800\"},\"airline\":{\"name\":\"Norwegian Air Shuttle\"}},{\"departure\":{\"airport\":{\"icao\":\"EYVI\",\"iata\":\"VNO\",\"name\":\"Vilnius\"},\"scheduledTimeLocal\":\"2022-10-04 20:00+03:00\",\"scheduledTimeUtc\":\"2022-10-04 17:00Z\",\"quality\":[\"Basic\"]},\"arrival\":{\"scheduledTimeLocal\":\"2022-10-04 20:35+02:00\",\"scheduledTimeUtc\":\"2022-10-04 18:35Z\",\"terminal\":\"1\",\"quality\":[\"Basic\"]},\"number\":\"BT 921\",\"status\":\"Unknown\",\"codeshareStatus\":\"Unknown\",\"isCargo\":false,\"aircraft\":{\"model\":\"Airbus A220-300\"},\"airline\":{\"name\":\"Air Baltic\"}},{\"departure\":{\"airport\":{\"icao\":\"LFPG\",\"iata\":\"CDG\",\"name\":\"Paris\"},\"scheduledTimeLocal\":\"2022-10-04 20:55+02:00\",\"scheduledTimeUtc\":\"2022-10-04 18:55Z\",\"terminal\":\"2F\",\"quality\":[\"Basic\"]},\"arrival\":{\"scheduledTimeLocal\":\"2022-10-04 22:40+02:00\",\"scheduledTimeUtc\":\"2022-10-04 20:40Z\",\"terminal\":\"1\",\"quality\":[\"Basic\"]},\"number\":\"AF 1134\",\"status\":\"Unknown\",\"codeshareStatus\":\"Unknown\",\"isCargo\":false,\"aircraft\":{\"model\":\"Airbus A320\"},\"airline\":{\"name\":\"Air France\"}},{\"departure\":{\"airport\":{\"icao\":\"LGRP\",\"iata\":\"RHO\",\"name\":\"Rodes Island\"},\"scheduledTimeLocal\":\"2022-10-04 19:50+03:00\",\"scheduledTimeUtc\":\"2022-10-04 16:50Z\",\"quality\":[\"Basic\"]},\"arrival\":{\"scheduledTimeLocal\":\"2022-10-04 22:20+02:00\",\"scheduledTimeUtc\":\"2022-10-04 20:20Z\",\"terminal\":\"1\",\"quality\":[\"Basic\"]},\"number\":\"EW 5305\",\"status\":\"Unknown\",\"codeshareStatus\":\"Unknown\",\"isCargo\":false,\"aircraft\":{\"model\":\"Airbus A320\"},\"airline\":{\"name\":\"Eurowings\"}},{\"departure\":{\"airport\":{\"icao\":\"LGTS\",\"iata\":\"SKG\",\"name\":\"Thessaloniki\"},\"scheduledTimeLocal\":\"2022-10-04 21:05+03:00\",\"scheduledTimeUtc\":\"2022-10-04 18:05Z\",\"terminal\":\"0\",\"quality\":[\"Basic\"]},\"arrival\":{\"scheduledTimeLocal\":\"2022-10-04 22:40+02:00\",\"scheduledTimeUtc\":\"2022-10-04 20:40Z\",\"terminal\":\"0\",\"quality\":[\"Basic\"]},\"number\":\"FR 1147\",\"status\":\"Unknown\",\"codeshareStatus\":\"Unknown\",\"isCargo\":false,\"aircraft\":{\"model\":\"Boeing 737-800\"},\"airline\":{\"name\":\"Ryanair\"}},{\"departure\":{\"airport\":{\"icao\":\"EGSS\",\"iata\":\"STN\",\"name\":\"London\"},\"scheduledTimeLocal\":\"2022-10-04 19:45+01:00\",\"actualTimeLocal\":\"2022-10-04 21:07+01:00\",\"scheduledTimeUtc\":\"2022-10-04 18:45Z\",\"actualTimeUtc\":\"2022-10-04 20:07Z\",\"terminal\":\"1\",\"quality\":[\"Basic\",\"Live\"]},\"arrival\":{\"scheduledTimeLocal\":\"2022-10-04 22:30+02:00\",\"scheduledTimeUtc\":\"2022-10-04 20:30Z\",\"terminal\":\"0\",\"quality\":[\"Basic\"]},\"number\":\"FR 147\",\"status\":\"Expected\",\"codeshareStatus\":\"Unknown\",\"isCargo\":false,\"aircraft\":{\"model\":\"Boeing 737-800\"},\"airline\":{\"name\":\"Ryanair\"}},{\"departure\":{\"airport\":{\"icao\":\"LICC\",\"iata\":\"CTA\",\"name\":\"Catania\"},\"scheduledTimeLocal\":\"2022-10-04 19:35+02:00\",\"actualTimeLocal\":\"2022-10-04 19:57+02:00\",\"scheduledTimeUtc\":\"2022-10-04 17:35Z\",\"actualTimeUtc\":\"2022-10-04 17:57Z\",\"terminal\":\"A\",\"quality\":[\"Basic\",\"Live\"]},\"arrival\":{\"scheduledTimeLocal\":\"2022-10-04 22:20+02:00\",\"scheduledTimeUtc\":\"2022-10-04 20:20Z\",\"terminal\":\"0\",\"quality\":[\"Basic\"]},\"number\":\"FR 1577\",\"status\":\"Expected\",\"codeshareStatus\":\"Unknown\",\"isCargo\":false,\"aircraft\":{\"model\":\"Boeing 737-800\"},\"airline\":{\"name\":\"Ryanair\"}},{\"departure\":{\"airport\":{\"icao\":\"LGAV\",\"iata\":\"ATH\",\"name\":\"Athens\"},\"scheduledTimeLocal\":\"2022-10-04 20:20+03:00\",\"actualTimeLocal\":\"2022-10-04 20:35+03:00\",\"scheduledTimeUtc\":\"2022-10-04 17:20Z\",\"actualTimeUtc\":\"2022-10-04 17:35Z\",\"terminal\":\"D\",\"checkInDesk\":\"50---52\",\"gate\":\"A40\",\"quality\":[\"Basic\",\"Live\"]},\"arrival\":{\"scheduledTimeLocal\":\"2022-10-04 22:15+02:00\",\"scheduledTimeUtc\":\"2022-10-04 20:15Z\",\"terminal\":\"0\",\"quality\":[\"Basic\"]},\"number\":\"FR 171\",\"status\":\"Expected\",\"codeshareStatus\":\"Unknown\",\"isCargo\":false,\"aircraft\":{\"model\":\"Boeing 737-800\"},\"airline\":{\"name\":\"Ryanair\"}},{\"departure\":{\"airport\":{\"icao\":\"LEIB\",\"iata\":\"IBZ\",\"name\":\"Ibiza Town\"},\"scheduledTimeLocal\":\"2022-10-04 19:35+02:00\",\"actualTimeLocal\":\"2022-10-04 19:59+02:00\",\"scheduledTimeUtc\":\"2022-10-04 17:35Z\",\"actualTimeUtc\":\"2022-10-04 17:59Z\",\"terminal\":\"1\",\"checkInDesk\":\"21-22\",\"gate\":\"02\",\"quality\":[\"Basic\",\"Live\"]},\"arrival\":{\"scheduledTimeLocal\":\"2022-10-04 22:20+02:00\",\"scheduledTimeUtc\":\"2022-10-04 20:20Z\",\"terminal\":\"0\",\"quality\":[\"Basic\"]},\"number\":\"FR 209\",\"status\":\"Expected\",\"codeshareStatus\":\"Unknown\",\"isCargo\":false,\"aircraft\":{\"model\":\"Boeing 737-800\"},\"airline\":{\"name\":\"Ryanair\"}},{\"departure\":{\"airport\":{\"icao\":\"LIMC\",\"iata\":\"MXP\",\"name\":\"Milan\"},\"scheduledTimeLocal\":\"2022-10-04 20:15+02:00\",\"scheduledTimeUtc\":\"2022-10-04 18:15Z\",\"terminal\":\"1\",\"quality\":[\"Basic\"]},\"arrival\":{\"scheduledTimeLocal\":\"2022-10-04 22:00+02:00\",\"scheduledTimeUtc\":\"2022-10-04 20:00Z\",\"terminal\":\"0\",\"quality\":[\"Basic\"]},\"number\":\"FR 9\",\"status\":\"Unknown\",\"codeshareStatus\":\"Unknown\",\"isCargo\":false,\"aircraft\":{\"model\":\"Boeing 737-800\"},\"airline\":{\"name\":\"Ryanair\"}},{\"departure\":{\"airport\":{\"icao\":\"LEMD\",\"iata\":\"MAD\",\"name\":\"Madrid\"},\"scheduledTimeLocal\":\"2022-10-04 19:40+02:00\",\"actualTimeLocal\":\"2022-10-04 19:40+02:00\",\"scheduledTimeUtc\":\"2022-10-04 17:40Z\",\"actualTimeUtc\":\"2022-10-04 17:40Z\",\"terminal\":\"4\",\"checkInDesk\":\"850-859\",\"gate\":\"J48\",\"quality\":[\"Basic\",\"Live\"]},\"arrival\":{\"scheduledTimeLocal\":\"2022-10-04 22:40+02:00\",\"scheduledTimeUtc\":\"2022-10-04 20:40Z\",\"terminal\":\"1\",\"quality\":[\"Basic\"]},\"number\":\"IB 3674\",\"status\":\"Expected\",\"codeshareStatus\":\"Unknown\",\"isCargo\":false,\"aircraft\":{\"model\":\"Airbus A320\"},\"airline\":{\"name\":\"Iberia\"}},{\"departure\":{\"airport\":{\"icao\":\"EDDM\",\"iata\":\"MUC\",\"name\":\"Munich\"},\"scheduledTimeLocal\":\"2022-10-04 21:30+02:00\",\"actualTimeLocal\":\"2022-10-04 21:30+02:00\",\"scheduledTimeUtc\":\"2022-10-04 19:30Z\",\"actualTimeUtc\":\"2022-10-04 19:30Z\",\"terminal\":\"2\",\"quality\":[\"Basic\",\"Live\"]},\"arrival\":{\"scheduledTimeLocal\":\"2022-10-04 22:35+02:00\",\"scheduledTimeUtc\":\"2022-10-04 20:35Z\",\"terminal\":\"1\",\"quality\":[\"Basic\"]},\"number\":\"LH 1960\",\"status\":\"Expected\",\"codeshareStatus\":\"Unknown\",\"isCargo\":false,\"aircraft\":{\"model\":\"Airbus A320\"},\"airline\":{\"name\":\"Lufthansa\"}},{\"departure\":{\"airport\":{\"icao\":\"EDDF\",\"iata\":\"FRA\",\"name\":\"Frankfurt-am-Main\"},\"scheduledTimeLocal\":\"2022-10-04 21:15+02:00\",\"actualTimeLocal\":\"2022-10-04 21:15+02:00\",\"scheduledTimeUtc\":\"2022-10-04 19:15Z\",\"actualTimeUtc\":\"2022-10-04 19:15Z\",\"terminal\":\"1\",\"checkInDesk\":\"263-461\",\"gate\":\"A50\",\"quality\":[\"Basic\",\"Live\"]},\"arrival\":{\"scheduledTimeLocal\":\"2022-10-04 22:25+02:00\",\"scheduledTimeUtc\":\"2022-10-04 20:25Z\",\"terminal\":\"1\",\"quality\":[\"Basic\"]},\"number\":\"LH 44\",\"status\":\"Expected\",\"codeshareStatus\":\"Unknown\",\"isCargo\":false,\"aircraft\":{\"reg\":\"D-AIEA\",\"modeS\":\"3C64A1\",\"model\":\"Airbus A321\"},\"airline\":{\"name\":\"Lufthansa\"}},{\"departure\":{\"airport\":{\"icao\":\"LSZH\",\"iata\":\"ZRH\",\"name\":\"Zurich\"},\"scheduledTimeLocal\":\"2022-10-04 20:55+02:00\",\"actualTimeLocal\":\"2022-10-04 20:55+02:00\",\"scheduledTimeUtc\":\"2022-10-04 18:55Z\",\"actualTimeUtc\":\"2022-10-04 18:55Z\",\"checkInDesk\":\"1\",\"gate\":\"A71\",\"quality\":[\"Basic\",\"Live\"]},\"arrival\":{\"scheduledTimeLocal\":\"2022-10-04 22:20+02:00\",\"scheduledTimeUtc\":\"2022-10-04 20:20Z\",\"terminal\":\"1\",\"quality\":[\"Basic\"]},\"number\":\"LX 962\",\"status\":\"Expected\",\"codeshareStatus\":\"Unknown\",\"isCargo\":false,\"aircraft\":{\"reg\":\"HB-IOM\",\"modeS\":\"4B1698\",\"model\":\"Airbus A320\"},\"airline\":{\"name\":\"SWISS\"}},{\"departure\":{\"airport\":{\"icao\":\"LOWW\",\"iata\":\"VIE\",\"name\":\"Vienna\"},\"scheduledTimeLocal\":\"2022-10-04 21:00+02:00\",\"actualTimeLocal\":\"2022-10-04 21:17+02:00\",\"scheduledTimeUtc\":\"2022-10-04 19:00Z\",\"actualTimeUtc\":\"2022-10-04 19:17Z\",\"terminal\":\"3\",\"checkInDesk\":\"351-368\",\"gate\":\"F27\",\"quality\":[\"Basic\",\"Live\"]},\"arrival\":{\"scheduledTimeLocal\":\"2022-10-04 22:15+02:00\",\"scheduledTimeUtc\":\"2022-10-04 20:15Z\",\"terminal\":\"1\",\"quality\":[\"Basic\"]},\"number\":\"OS 239\",\"status\":\"Expected\",\"codeshareStatus\":\"Unknown\",\"isCargo\":false,\"aircraft\":{\"model\":\"Airbus A320\"},\"airline\":{\"name\":\"Austrian\"}},{\"departure\":{\"airport\":{\"icao\":\"EBBR\",\"iata\":\"BRU\",\"name\":\"Brussels\"},\"scheduledTimeLocal\":\"2022-10-04 20:50+02:00\",\"actualTimeLocal\":\"2022-10-04 21:24+02:00\",\"scheduledTimeUtc\":\"2022-10-04 18:50Z\",\"actualTimeUtc\":\"2022-10-04 19:24Z\",\"checkInDesk\":\"05\",\"quality\":[\"Basic\",\"Live\"]},\"arrival\":{\"scheduledTimeLocal\":\"2022-10-04 22:10+02:00\",\"scheduledTimeUtc\":\"2022-10-04 20:10Z\",\"terminal\":\"1\",\"quality\":[\"Basic\"]},\"number\":\"SN 2591\",\"status\":\"Expected\",\"codeshareStatus\":\"Unknown\",\"isCargo\":false,\"aircraft\":{\"model\":\"Airbus A320\"},\"airline\":{\"name\":\"Brussels\"}},{\"departure\":{\"airport\":{\"icao\":\"LPPT\",\"iata\":\"LIS\",\"name\":\"Lisbon\"},\"scheduledTimeLocal\":\"2022-10-04 17:55+01:00\",\"actualTimeLocal\":\"2022-10-04 18:18+01:00\",\"scheduledTimeUtc\":\"2022-10-04 16:55Z\",\"actualTimeUtc\":\"2022-10-04 17:18Z\",\"terminal\":\"1\",\"quality\":[\"Basic\",\"Live\"]},\"arrival\":{\"scheduledTimeLocal\":\"2022-10-04 22:20+02:00\",\"scheduledTimeUtc\":\"2022-10-04 20:20Z\",\"terminal\":\"1\",\"quality\":[\"Basic\"]},\"number\":\"TP 532\",\"status\":\"Expected\",\"codeshareStatus\":\"Unknown\",\"isCargo\":false,\"aircraft\":{\"model\":\"Embraer 190\"},\"airline\":{\"name\":\"TAP Air Portugal\"}},{\"departure\":{\"airport\":{\"icao\":\"LIRN\",\"iata\":\"NAP\",\"name\":\"Nápoli\"},\"scheduledTimeLocal\":\"2022-10-04 19:55+02:00\",\"scheduledTimeUtc\":\"2022-10-04 17:55Z\",\"quality\":[\"Basic\"]},\"arrival\":{\"scheduledTimeLocal\":\"2022-10-04 22:15+02:00\",\"scheduledTimeUtc\":\"2022-10-04 20:15Z\",\"terminal\":\"1\",\"quality\":[\"Basic\"]},\"number\":\"U2 4576\",\"status\":\"Unknown\",\"codeshareStatus\":\"Unknown\",\"isCargo\":false,\"aircraft\":{\"model\":\"Airbus A319\"},\"airline\":{\"name\":\"easyJet\"}},{\"departure\":{\"airport\":{\"name\":\"Paris\"},\"quality\":[]},\"arrival\":{\"scheduledTimeLocal\":\"2022-10-04 22:15+02:00\",\"scheduledTimeUtc\":\"2022-10-04 20:15Z\",\"terminal\":\"1\",\"quality\":[\"Basic\"]},\"number\":\"U2 5540\",\"status\":\"Unknown\",\"codeshareStatus\":\"Unknown\",\"isCargo\":false,\"aircraft\":{\"model\":\"Airbus A319\"},\"airline\":{\"name\":\"easyJet\"}},{\"departure\":{\"airport\":{\"icao\":\"LIEE\",\"iata\":\"CAG\",\"name\":\"Cagliari\"},\"scheduledTimeLocal\":\"2022-10-04 19:25+02:00\",\"scheduledTimeUtc\":\"2022-10-04 17:25Z\",\"quality\":[\"Basic\"]},\"arrival\":{\"scheduledTimeLocal\":\"2022-10-04 22:00+02:00\",\"scheduledTimeUtc\":\"2022-10-04 20:00Z\",\"terminal\":\"1\",\"quality\":[\"Basic\"]},\"number\":\"U2 5662\",\"status\":\"Unknown\",\"codeshareStatus\":\"Unknown\",\"isCargo\":false,\"aircraft\":{\"model\":\"Airbus A320\"},\"airline\":{\"name\":\"easyJet\"}},{\"departure\":{\"airport\":{\"icao\":\"EHAM\",\"iata\":\"AMS\",\"name\":\"Amsterdam\"},\"scheduledTimeLocal\":\"2022-10-04 22:05+02:00\",\"actualTimeLocal\":\"2022-10-04 22:06+02:00\",\"scheduledTimeUtc\":\"2022-10-04 20:05Z\",\"actualTimeUtc\":\"2022-10-04 20:06Z\",\"terminal\":\"1\",\"checkInDesk\":\"6-8\",\"gate\":\"C16\",\"quality\":[\"Basic\",\"Live\"]},\"arrival\":{\"scheduledTimeLocal\":\"2022-10-04 23:20+02:00\",\"scheduledTimeUtc\":\"2022-10-04 21:20Z\",\"terminal\":\"1\",\"quality\":[\"Basic\"]},\"number\":\"KL 1835\",\"status\":\"Expected\",\"codeshareStatus\":\"Unknown\",\"isCargo\":false,\"aircraft\":{\"reg\":\"PH-BXM\",\"modeS\":\"484165\",\"model\":\"Boeing 737-800\"},\"airline\":{\"name\":\"KLM\"}},{\"departure\":{\"airport\":{\"icao\":\"LTBJ\",\"iata\":\"ADB\",\"name\":\"İzmir\"},\"scheduledTimeLocal\":\"2022-10-05 03:45+03:00\",\"actualTimeLocal\":\"2022-10-05 04:00+03:00\",\"scheduledTimeUtc\":\"2022-10-05 00:45Z\",\"actualTimeUtc\":\"2022-10-05 01:00Z\",\"terminal\":\"I\",\"checkInDesk\":\"21\",\"gate\":\"29\",\"quality\":[\"Basic\",\"Live\"]},\"arrival\":{\"scheduledTimeLocal\":\"2022-10-05 05:45+02:00\",\"scheduledTimeUtc\":\"2022-10-05 03:45Z\",\"terminal\":\"1\",\"quality\":[\"Basic\"]},\"number\":\"XQ 966\",\"callSign\":\"SXS5DY\",\"status\":\"Expected\",\"codeshareStatus\":\"IsOperator\",\"isCargo\":false,\"aircraft\":{\"reg\":\"TC-SNT\",\"modeS\":\"4BCDD4\",\"model\":\"Boeing 737-800\"},\"airline\":{\"name\":\"SunExpress\"}},{\"departure\":{\"airport\":{\"icao\":\"KLAX\",\"iata\":\"LAX\",\"name\":\"Los Angeles\"},\"scheduledTimeLocal\":\"2022-10-04 10:57-07:00\",\"actualTimeLocal\":\"2022-10-04 10:57-07:00\",\"runwayTimeLocal\":\"2022-10-04 10:57-07:00\",\"scheduledTimeUtc\":\"2022-10-04 17:57Z\",\"actualTimeUtc\":\"2022-10-04 17:57Z\",\"runwayTimeUtc\":\"2022-10-04 17:57Z\",\"quality\":[\"Basic\",\"Live\"]},\"arrival\":{\"scheduledTimeLocal\":\"2022-10-05 06:14+02:00\",\"scheduledTimeUtc\":\"2022-10-05 04:14Z\",\"quality\":[\"Basic\"]},\"number\":\"NBT 612\",\"callSign\":\"NBT612\",\"status\":\"Expected\",\"codeshareStatus\":\"IsOperator\",\"isCargo\":false,\"aircraft\":{\"reg\":\"LN-FNJ\",\"modeS\":\"47AEC6\",\"model\":\"Boeing 787-9\"},\"airline\":{\"name\":\"NBT\"}},{\"departure\":{\"airport\":{\"icao\":\"OTHH\",\"iata\":\"DOH\",\"name\":\"Doha\"},\"scheduledTimeLocal\":\"2022-10-05 03:10+03:00\",\"scheduledTimeUtc\":\"2022-10-05 00:10Z\",\"quality\":[\"Basic\"]},\"arrival\":{\"scheduledTimeLocal\":\"2022-10-05 06:50+02:00\",\"scheduledTimeUtc\":\"2022-10-05 04:50Z\",\"terminal\":\"1\",\"quality\":[\"Basic\"]},\"number\":\"QR 79\",\"status\":\"Unknown\",\"codeshareStatus\":\"IsOperator\",\"isCargo\":false,\"aircraft\":{\"model\":\"Boeing 787-8\"},\"airline\":{\"name\":\"Qatar Airways\"}},{\"departure\":{\"airport\":{\"icao\":\"EDDS\",\"iata\":\"STR\",\"name\":\"Stuttgart\"},\"scheduledTimeLocal\":\"2022-10-05 06:25+02:00\",\"actualTimeLocal\":\"2022-10-05 06:25+02:00\",\"scheduledTimeUtc\":\"2022-10-05 04:25Z\",\"actualTimeUtc\":\"2022-10-05 04:25Z\",\"terminal\":\"1\",\"gate\":\"324\",\"quality\":[\"Basic\",\"Live\"]},\"arrival\":{\"scheduledTimeLocal\":\"2022-10-05 07:40+02:00\",\"scheduledTimeUtc\":\"2022-10-05 05:40Z\",\"terminal\":\"1\",\"quality\":[\"Basic\"]},\"number\":\"EW 2002\",\"callSign\":\"EWG2002\",\"status\":\"Expected\",\"codeshareStatus\":\"IsOperator\",\"isCargo\":false,\"aircraft\":{\"reg\":\"9H-MLD\",\"modeS\":\"4D23D9\",\"model\":\"Airbus A320\"},\"airline\":{\"name\":\"Eurowings\"}},{\"departure\":{\"airport\":{\"icao\":\"EDDL\",\"iata\":\"DUS\",\"name\":\"Duesseldorf\"},\"scheduledTimeLocal\":\"2022-10-05 06:20+02:00\",\"actualTimeLocal\":\"2022-10-05 06:17+02:00\",\"runwayTimeLocal\":\"2022-10-05 06:27+02:00\",\"scheduledTimeUtc\":\"2022-10-05 04:20Z\",\"actualTimeUtc\":\"2022-10-05 04:17Z\",\"runwayTimeUtc\":\"2022-10-05 04:27Z\",\"terminal\":\"A\",\"checkInDesk\":\"105,110\",\"gate\":\"A52\",\"quality\":[\"Basic\",\"Live\"]},\"arrival\":{\"scheduledTimeLocal\":\"2022-10-05 07:35+02:00\",\"scheduledTimeUtc\":\"2022-10-05 05:35Z\",\"terminal\":\"1\",\"quality\":[\"Basic\"]},\"number\":\"EW 9048\",\"callSign\":\"GWI52FP\",\"status\":\"Expected\",\"codeshareStatus\":\"Unknown\",\"isCargo\":false,\"aircraft\":{\"reg\":\"D-AKNV\",\"modeS\":\"3C6DD6\",\"model\":\"Airbus A319\"},\"airline\":{\"name\":\"Eurowings\"}},{\"departure\":{\"airport\":{\"icao\":\"EDDF\",\"iata\":\"FRA\",\"name\":\"Frankfurt-am-Main\"},\"scheduledTimeLocal\":\"2022-10-05 06:45+02:00\",\"actualTimeLocal\":\"2022-10-05 06:45+02:00\",\"scheduledTimeUtc\":\"2022-10-05 04:45Z\",\"actualTimeUtc\":\"2022-10-05 04:45Z\",\"terminal\":\"1\",\"checkInDesk\":\"263-461\",\"gate\":\"A13\",\"quality\":[\"Basic\",\"Live\"]},\"arrival\":{\"scheduledTimeLocal\":\"2022-10-05 07:55+02:00\",\"scheduledTimeUtc\":\"2022-10-05 05:55Z\",\"terminal\":\"1\",\"quality\":[\"Basic\"]},\"number\":\"LH 170\",\"status\":\"Expected\",\"codeshareStatus\":\"Unknown\",\"isCargo\":false,\"aircraft\":{\"reg\":\"D-AIRF\",\"modeS\":\"3C6646\",\"model\":\"Airbus A321\"},\"airline\":{\"name\":\"Lufthansa\"}},{\"departure\":{\"airport\":{\"icao\":\"EDDM\",\"iata\":\"MUC\",\"name\":\"Munich\"},\"scheduledTimeLocal\":\"2022-10-05 06:30+02:00\",\"actualTimeLocal\":\"2022-10-05 06:30+02:00\",\"scheduledTimeUtc\":\"2022-10-05 04:30Z\",\"actualTimeUtc\":\"2022-10-05 04:30Z\",\"terminal\":\"2\",\"quality\":[\"Basic\",\"Live\"]},\"arrival\":{\"scheduledTimeLocal\":\"2022-10-05 07:35+02:00\",\"scheduledTimeUtc\":\"2022-10-05 05:35Z\",\"terminal\":\"1\",\"quality\":[\"Basic\"]},\"number\":\"LH 1926\",\"status\":\"Expected\",\"codeshareStatus\":\"IsOperator\",\"isCargo\":false,\"aircraft\":{\"model\":\"Airbus A320\"},\"airline\":{\"name\":\"Lufthansa\"}},{\"departure\":{\"airport\":{\"icao\":\"LFPG\",\"iata\":\"CDG\",\"name\":\"Paris\"},\"scheduledTimeLocal\":\"2022-10-05 06:05+02:00\",\"scheduledTimeUtc\":\"2022-10-05 04:05Z\",\"terminal\":\"2B\",\"quality\":[\"Basic\"]},\"arrival\":{\"scheduledTimeLocal\":\"2022-10-05 07:55+02:00\",\"scheduledTimeUtc\":\"2022-10-05 05:55Z\",\"terminal\":\"1\",\"quality\":[\"Basic\"]},\"number\":\"U2 5674\",\"status\":\"Unknown\",\"codeshareStatus\":\"Unknown\",\"isCargo\":false,\"aircraft\":{\"model\":\"Airbus A320\"},\"airline\":{\"name\":\"easyJet\"}},{\"departure\":{\"airport\":{\"icao\":\"KEWR\",\"iata\":\"EWR\",\"name\":\"Newark\"},\"scheduledTimeLocal\":\"2022-10-04 17:50-04:00\",\"actualTimeLocal\":\"2022-10-04 18:53-04:00\",\"runwayTimeLocal\":\"2022-10-04 18:53-04:00\",\"scheduledTimeUtc\":\"2022-10-04 21:50Z\",\"actualTimeUtc\":\"2022-10-04 22:53Z\",\"runwayTimeUtc\":\"2022-10-04 22:53Z\",\"terminal\":\"C\",\"quality\":[\"Basic\",\"Live\"]},\"arrival\":{\"scheduledTimeLocal\":\"2022-10-05 07:50+02:00\",\"scheduledTimeUtc\":\"2022-10-05 05:50Z\",\"terminal\":\"1\",\"quality\":[\"Basic\"]},\"number\":\"UA 962\",\"callSign\":\"UAL962\",\"status\":\"Expected\",\"codeshareStatus\":\"IsOperator\",\"isCargo\":false,\"aircraft\":{\"reg\":\"N77066\",\"modeS\":\"AA6C50\",\"model\":\"Boeing 767-400\"},\"airline\":{\"name\":\"United\"}},{\"departure\":{\"airport\":{\"icao\":\"WSSS\",\"iata\":\"SIN\",\"name\":\"Singapore\"},\"scheduledTimeLocal\":\"2022-10-05 00:30+08:00\",\"actualTimeLocal\":\"2022-10-05 00:30+08:00\",\"scheduledTimeUtc\":\"2022-10-04 16:30Z\",\"actualTimeUtc\":\"2022-10-04 16:30Z\",\"terminal\":\"1\",\"checkInDesk\":\"06\",\"gate\":\"D46\",\"quality\":[\"Basic\",\"Live\"]},\"arrival\":{\"scheduledTimeLocal\":\"2022-10-05 08:00+02:00\",\"scheduledTimeUtc\":\"2022-10-05 06:00Z\",\"terminal\":\"1\",\"quality\":[\"Basic\"]},\"number\":\"TR 734\",\"callSign\":\"TGW734\",\"status\":\"Expected\",\"codeshareStatus\":\"Unknown\",\"isCargo\":false,\"aircraft\":{\"reg\":\"9V-OFI\",\"modeS\":\"76BCC9\",\"model\":\"Boeing 787-8\"},\"airline\":{\"name\":\"Scoot\"}},{\"departure\":{\"airport\":{\"icao\":\"LQTZ\",\"iata\":\"TZL\",\"name\":\"Tuzla\"},\"scheduledTimeLocal\":\"2022-10-05 06:10+02:00\",\"scheduledTimeUtc\":\"2022-10-05 04:10Z\",\"quality\":[\"Basic\"]},\"arrival\":{\"scheduledTimeLocal\":\"2022-10-05 08:00+02:00\",\"scheduledTimeUtc\":\"2022-10-05 06:00Z\",\"terminal\":\"0\",\"quality\":[\"Basic\"]},\"number\":\"W6 4275\",\"status\":\"Unknown\",\"codeshareStatus\":\"Unknown\",\"isCargo\":false,\"aircraft\":{\"model\":\"Airbus A320\"},\"airline\":{\"name\":\"Wizz Air\"}}]}\n"
          ]
        }
      ],
      "source": [
        "\n",
        "\n",
        "url = \"https://aerodatabox.p.rapidapi.com/flights/airports/icao/EDDB/2022-10-04T20:00/2022-10-05T08:00\"\n",
        "\n",
        "querystring = {\"withLeg\":\"true\",\"direction\":\"Arrival\",\"withCancelled\":\"false\",\"withCodeshared\":\"false\",\"withCargo\":\"false\",\"withPrivate\":\"false\",\"withLocation\":\"false\"}\n",
        "\n",
        "headers = {\n",
        "\t\"X-RapidAPI-Key\": \"YOUR_API_KEY_HERE\",\n",
        "\t\"X-RapidAPI-Host\": \"aerodatabox.p.rapidapi.com\"\n",
        "}\n",
        "\n",
        "response = requests.request(\"GET\", url, headers=headers, params=querystring)\n",
        "\n",
        "print(response.text)"
      ]
    },
    {
      "cell_type": "code",
      "execution_count": null,
      "metadata": {
        "id": "pIVGOaZU-5hL",
        "outputId": "69df11ce-6414-4f26-f1be-ecbb2db25a18"
      },
      "outputs": [
        {
          "data": {
            "application/json": {
              "arrivals": [
                {
                  "aircraft": {
                    "model": "Airbus A320"
                  },
                  "airline": {
                    "name": "Ryanair"
                  },
                  "arrival": {
                    "quality": [
                      "Basic"
                    ],
                    "scheduledTimeLocal": "2022-10-04 20:05+02:00",
                    "scheduledTimeUtc": "2022-10-04 18:05Z",
                    "terminal": "0"
                  },
                  "codeshareStatus": "Unknown",
                  "departure": {
                    "actualTimeLocal": "2022-10-04 17:24+02:00",
                    "actualTimeUtc": "2022-10-04 15:24Z",
                    "airport": {
                      "iata": "PMI",
                      "icao": "LEPA",
                      "name": "Palma De Mallorca"
                    },
                    "checkInDesk": "002-017",
                    "gate": "C68",
                    "quality": [
                      "Basic",
                      "Live"
                    ],
                    "scheduledTimeLocal": "2022-10-04 17:20+02:00",
                    "scheduledTimeUtc": "2022-10-04 15:20Z",
                    "terminal": "N"
                  },
                  "isCargo": false,
                  "number": "FR 279",
                  "status": "Expected"
                },
                {
                  "aircraft": {
                    "model": "Boeing 737-800"
                  },
                  "airline": {
                    "name": "Ryanair"
                  },
                  "arrival": {
                    "quality": [
                      "Basic"
                    ],
                    "scheduledTimeLocal": "2022-10-04 20:00+02:00",
                    "scheduledTimeUtc": "2022-10-04 18:00Z",
                    "terminal": "0"
                  },
                  "codeshareStatus": "Unknown",
                  "departure": {
                    "airport": {
                      "iata": "CHQ",
                      "icao": "LGSA",
                      "name": "Souda"
                    },
                    "quality": [
                      "Basic"
                    ],
                    "scheduledTimeLocal": "2022-10-04 17:50+03:00",
                    "scheduledTimeUtc": "2022-10-04 14:50Z"
                  },
                  "isCargo": false,
                  "number": "FR 5642",
                  "status": "Unknown"
                },
                {
                  "aircraft": {
                    "modeS": "4D00DA",
                    "model": "Bombardier Dash 8 Q400 / DHC-8-400",
                    "reg": "LX-LQJ"
                  },
                  "airline": {
                    "name": "Luxair"
                  },
                  "arrival": {
                    "quality": [
                      "Basic"
                    ],
                    "scheduledTimeLocal": "2022-10-04 20:10+02:00",
                    "scheduledTimeUtc": "2022-10-04 18:10Z",
                    "terminal": "1"
                  },
                  "callSign": "LGL9473",
                  "codeshareStatus": "Unknown",
                  "departure": {
                    "actualTimeLocal": "2022-10-04 18:40+02:00",
                    "actualTimeUtc": "2022-10-04 16:40Z",
                    "airport": {
                      "iata": "LUX",
                      "icao": "ELLX",
                      "name": "Luxembourg"
                    },
                    "quality": [
                      "Basic",
                      "Live"
                    ],
                    "scheduledTimeLocal": "2022-10-04 18:40+02:00",
                    "scheduledTimeUtc": "2022-10-04 16:40Z"
                  },
                  "isCargo": false,
                  "number": "LG 9473",
                  "status": "Expected"
                },
                {
                  "aircraft": {
                    "model": "Airbus A320"
                  },
                  "airline": {
                    "name": "Lufthansa"
                  },
                  "arrival": {
                    "quality": [
                      "Basic"
                    ],
                    "scheduledTimeLocal": "2022-10-04 20:05+02:00",
                    "scheduledTimeUtc": "2022-10-04 18:05Z",
                    "terminal": "1"
                  },
                  "codeshareStatus": "Unknown",
                  "departure": {
                    "actualTimeLocal": "2022-10-04 19:00+02:00",
                    "actualTimeUtc": "2022-10-04 17:00Z",
                    "airport": {
                      "iata": "MUC",
                      "icao": "EDDM",
                      "name": "Munich"
                    },
                    "quality": [
                      "Basic",
                      "Live"
                    ],
                    "scheduledTimeLocal": "2022-10-04 19:00+02:00",
                    "scheduledTimeUtc": "2022-10-04 17:00Z",
                    "terminal": "2"
                  },
                  "isCargo": false,
                  "number": "LH 1942",
                  "status": "Expected"
                },
                {
                  "aircraft": {
                    "model": "Airbus A321",
                    "reg": "D-AISW"
                  },
                  "airline": {
                    "name": "Lufthansa"
                  },
                  "arrival": {
                    "quality": [
                      "Basic"
                    ],
                    "scheduledTimeLocal": "2022-10-04 20:55+02:00",
                    "scheduledTimeUtc": "2022-10-04 18:55Z",
                    "terminal": "1"
                  },
                  "codeshareStatus": "Unknown",
                  "departure": {
                    "actualTimeLocal": "2022-10-04 19:45+02:00",
                    "actualTimeUtc": "2022-10-04 17:45Z",
                    "airport": {
                      "iata": "FRA",
                      "icao": "EDDF",
                      "name": "Frankfurt-am-Main"
                    },
                    "checkInDesk": "263-461",
                    "gate": "A52",
                    "quality": [
                      "Basic",
                      "Live"
                    ],
                    "scheduledTimeLocal": "2022-10-04 19:45+02:00",
                    "scheduledTimeUtc": "2022-10-04 17:45Z",
                    "terminal": "1"
                  },
                  "isCargo": false,
                  "number": "LH 200",
                  "status": "Expected"
                },
                {
                  "aircraft": {
                    "model": "Airbus A319"
                  },
                  "airline": {
                    "name": "Brussels"
                  },
                  "arrival": {
                    "quality": [
                      "Basic"
                    ],
                    "scheduledTimeLocal": "2022-10-04 20:00+02:00",
                    "scheduledTimeUtc": "2022-10-04 18:00Z",
                    "terminal": "1"
                  },
                  "codeshareStatus": "Unknown",
                  "departure": {
                    "actualTimeLocal": "2022-10-04 18:53+02:00",
                    "actualTimeUtc": "2022-10-04 16:53Z",
                    "airport": {
                      "iata": "BRU",
                      "icao": "EBBR",
                      "name": "Brussels"
                    },
                    "checkInDesk": "05",
                    "quality": [
                      "Basic",
                      "Live"
                    ],
                    "scheduledTimeLocal": "2022-10-04 18:40+02:00",
                    "scheduledTimeUtc": "2022-10-04 16:40Z"
                  },
                  "isCargo": false,
                  "number": "SN 2589",
                  "status": "Expected"
                },
                {
                  "aircraft": {
                    "model": "Airbus A319"
                  },
                  "airline": {
                    "name": "easyJet"
                  },
                  "arrival": {
                    "quality": [
                      "Basic"
                    ],
                    "scheduledTimeLocal": "2022-10-04 20:10+02:00",
                    "scheduledTimeUtc": "2022-10-04 18:10Z",
                    "terminal": "1"
                  },
                  "codeshareStatus": "Unknown",
                  "departure": {
                    "airport": {
                      "iata": "OLB",
                      "icao": "LIEO",
                      "name": "Olbia"
                    },
                    "quality": [
                      "Basic"
                    ],
                    "scheduledTimeLocal": "2022-10-04 17:50+02:00",
                    "scheduledTimeUtc": "2022-10-04 15:50Z"
                  },
                  "isCargo": false,
                  "number": "U2 4590",
                  "status": "Unknown"
                },
                {
                  "aircraft": {
                    "model": "Airbus A320"
                  },
                  "airline": {
                    "name": "easyJet"
                  },
                  "arrival": {
                    "quality": [
                      "Basic"
                    ],
                    "scheduledTimeLocal": "2022-10-04 20:50+02:00",
                    "scheduledTimeUtc": "2022-10-04 18:50Z",
                    "terminal": "1"
                  },
                  "codeshareStatus": "Unknown",
                  "departure": {
                    "airport": {
                      "iata": "BSL",
                      "icao": "LFSB",
                      "name": "Bâle/Mulhouse"
                    },
                    "quality": [
                      "Basic"
                    ],
                    "scheduledTimeLocal": "2022-10-04 19:15+02:00",
                    "scheduledTimeUtc": "2022-10-04 17:15Z"
                  },
                  "isCargo": false,
                  "number": "U2 4640",
                  "status": "Unknown"
                },
                {
                  "aircraft": {
                    "model": "Airbus A319"
                  },
                  "airline": {
                    "name": "easyJet"
                  },
                  "arrival": {
                    "quality": [
                      "Basic"
                    ],
                    "scheduledTimeLocal": "2022-10-04 20:35+02:00",
                    "scheduledTimeUtc": "2022-10-04 18:35Z",
                    "terminal": "1"
                  },
                  "codeshareStatus": "Unknown",
                  "departure": {
                    "airport": {
                      "iata": "VCE",
                      "icao": "LIPZ",
                      "name": "Venice"
                    },
                    "quality": [
                      "Basic"
                    ],
                    "scheduledTimeLocal": "2022-10-04 18:50+02:00",
                    "scheduledTimeUtc": "2022-10-04 16:50Z"
                  },
                  "isCargo": false,
                  "number": "U2 5840",
                  "status": "Unknown"
                },
                {
                  "aircraft": {
                    "modeS": "3C49C8",
                    "model": "Airbus A319",
                    "reg": "D-ABNH"
                  },
                  "airline": {
                    "name": "Eurowings"
                  },
                  "arrival": {
                    "quality": [
                      "Basic"
                    ],
                    "scheduledTimeLocal": "2022-10-04 21:55+02:00",
                    "scheduledTimeUtc": "2022-10-04 19:55Z",
                    "terminal": "1"
                  },
                  "callSign": "GWI27LR",
                  "codeshareStatus": "Unknown",
                  "departure": {
                    "actualTimeLocal": "2022-10-04 20:50+02:00",
                    "actualTimeUtc": "2022-10-04 18:50Z",
                    "airport": {
                      "iata": "DUS",
                      "icao": "EDDL",
                      "name": "Duesseldorf"
                    },
                    "checkInDesk": "153,170",
                    "gate": "A40",
                    "quality": [
                      "Basic",
                      "Live"
                    ],
                    "runwayTimeLocal": "2022-10-04 20:59+02:00",
                    "runwayTimeUtc": "2022-10-04 18:59Z",
                    "scheduledTimeLocal": "2022-10-04 20:45+02:00",
                    "scheduledTimeUtc": "2022-10-04 18:45Z",
                    "terminal": "B"
                  },
                  "isCargo": false,
                  "number": "EW 8047",
                  "status": "Expected"
                },
                {
                  "aircraft": {
                    "model": "Airbus A321"
                  },
                  "airline": {
                    "name": "Turkish"
                  },
                  "arrival": {
                    "quality": [
                      "Basic"
                    ],
                    "scheduledTimeLocal": "2022-10-04 21:05+02:00",
                    "scheduledTimeUtc": "2022-10-04 19:05Z",
                    "terminal": "1"
                  },
                  "codeshareStatus": "Unknown",
                  "departure": {
                    "airport": {
                      "iata": "IST",
                      "icao": "LTFM",
                      "name": "Istanbul"
                    },
                    "quality": [
                      "Basic"
                    ],
                    "scheduledTimeLocal": "2022-10-04 19:10+03:00",
                    "scheduledTimeUtc": "2022-10-04 16:10Z"
                  },
                  "isCargo": false,
                  "number": "TK 1727",
                  "status": "Unknown"
                },
                {
                  "aircraft": {
                    "model": "Airbus A320"
                  },
                  "airline": {
                    "name": "easyJet"
                  },
                  "arrival": {
                    "quality": [
                      "Basic"
                    ],
                    "scheduledTimeLocal": "2022-10-04 21:10+02:00",
                    "scheduledTimeUtc": "2022-10-04 19:10Z",
                    "terminal": "1"
                  },
                  "codeshareStatus": "Unknown",
                  "departure": {
                    "airport": {
                      "iata": "LIN",
                      "icao": "LIML",
                      "name": "Milan"
                    },
                    "quality": [
                      "Basic"
                    ],
                    "scheduledTimeLocal": "2022-10-04 19:20+02:00",
                    "scheduledTimeUtc": "2022-10-04 17:20Z"
                  },
                  "isCargo": false,
                  "number": "U2 4678",
                  "status": "Unknown"
                },
                {
                  "aircraft": {
                    "model": "Airbus A320"
                  },
                  "airline": {
                    "name": "easyJet"
                  },
                  "arrival": {
                    "quality": [
                      "Basic"
                    ],
                    "scheduledTimeLocal": "2022-10-04 21:55+02:00",
                    "scheduledTimeUtc": "2022-10-04 19:55Z",
                    "terminal": "1"
                  },
                  "codeshareStatus": "Unknown",
                  "departure": {
                    "airport": {
                      "iata": "HRG",
                      "icao": "HEGN",
                      "name": "Hurghada"
                    },
                    "quality": [
                      "Basic"
                    ],
                    "scheduledTimeLocal": "2022-10-04 16:45+02:00",
                    "scheduledTimeUtc": "2022-10-04 14:45Z",
                    "terminal": "1"
                  },
                  "isCargo": false,
                  "number": "U2 5788",
                  "status": "Unknown"
                },
                {
                  "aircraft": {
                    "model": "Airbus A319"
                  },
                  "airline": {
                    "name": "easyJet"
                  },
                  "arrival": {
                    "quality": [
                      "Basic"
                    ],
                    "scheduledTimeLocal": "2022-10-04 21:00+02:00",
                    "scheduledTimeUtc": "2022-10-04 19:00Z",
                    "terminal": "1"
                  },
                  "codeshareStatus": "Unknown",
                  "departure": {
                    "actualTimeLocal": "2022-10-04 18:00+01:00",
                    "actualTimeUtc": "2022-10-04 17:00Z",
                    "airport": {
                      "iata": "LGW",
                      "icao": "EGKK",
                      "name": "London"
                    },
                    "gate": "564",
                    "quality": [
                      "Basic",
                      "Live"
                    ],
                    "scheduledTimeLocal": "2022-10-04 18:00+01:00",
                    "scheduledTimeUtc": "2022-10-04 17:00Z",
                    "terminal": "N"
                  },
                  "isCargo": false,
                  "number": "U2 8125",
                  "status": "Expected"
                },
                {
                  "aircraft": {
                    "model": "Airbus A320"
                  },
                  "airline": {
                    "name": "Vueling"
                  },
                  "arrival": {
                    "quality": [
                      "Basic"
                    ],
                    "scheduledTimeLocal": "2022-10-04 21:20+02:00",
                    "scheduledTimeUtc": "2022-10-04 19:20Z",
                    "terminal": "1"
                  },
                  "codeshareStatus": "Unknown",
                  "departure": {
                    "actualTimeLocal": "2022-10-04 18:39+02:00",
                    "actualTimeUtc": "2022-10-04 16:39Z",
                    "airport": {
                      "iata": "BCN",
                      "icao": "LEBL",
                      "name": "Barcelona"
                    },
                    "checkInDesk": "401-512",
                    "gate": "A12",
                    "quality": [
                      "Basic",
                      "Live"
                    ],
                    "scheduledTimeLocal": "2022-10-04 18:35+02:00",
                    "scheduledTimeUtc": "2022-10-04 16:35Z",
                    "terminal": "1"
                  },
                  "isCargo": false,
                  "number": "VY 1884",
                  "status": "Expected"
                },
                {
                  "aircraft": {
                    "model": "Airbus A320"
                  },
                  "airline": {
                    "name": "Wizz Air"
                  },
                  "arrival": {
                    "quality": [
                      "Basic"
                    ],
                    "scheduledTimeLocal": "2022-10-04 21:20+02:00",
                    "scheduledTimeUtc": "2022-10-04 19:20Z",
                    "terminal": "0"
                  },
                  "codeshareStatus": "IsOperator",
                  "departure": {
                    "airport": {
                      "iata": "VAR",
                      "icao": "LBWN",
                      "name": "Varna"
                    },
                    "quality": [
                      "Basic"
                    ],
                    "scheduledTimeLocal": "2022-10-04 19:50+03:00",
                    "scheduledTimeUtc": "2022-10-04 16:50Z"
                  },
                  "isCargo": false,
                  "number": "W6 4515",
                  "status": "Unknown"
                },
                {
                  "aircraft": {
                    "model": "Boeing 737-800"
                  },
                  "airline": {
                    "name": "Norwegian Air Shuttle"
                  },
                  "arrival": {
                    "quality": [
                      "Basic"
                    ],
                    "scheduledTimeLocal": "2022-10-04 20:05+02:00",
                    "scheduledTimeUtc": "2022-10-04 18:05Z",
                    "terminal": "1"
                  },
                  "codeshareStatus": "Unknown",
                  "departure": {
                    "actualTimeLocal": "2022-10-04 18:27+02:00",
                    "actualTimeUtc": "2022-10-04 16:27Z",
                    "airport": {
                      "iata": "OSL",
                      "icao": "ENGM",
                      "name": "Oslo"
                    },
                    "checkInDesk": "123",
                    "gate": "D3",
                    "quality": [
                      "Basic",
                      "Live"
                    ],
                    "scheduledTimeLocal": "2022-10-04 18:30+02:00",
                    "scheduledTimeUtc": "2022-10-04 16:30Z"
                  },
                  "isCargo": false,
                  "number": "DY 1108",
                  "status": "Expected"
                },
                {
                  "aircraft": {
                    "model": "Airbus A220-300"
                  },
                  "airline": {
                    "name": "Air Baltic"
                  },
                  "arrival": {
                    "quality": [
                      "Basic"
                    ],
                    "scheduledTimeLocal": "2022-10-04 20:35+02:00",
                    "scheduledTimeUtc": "2022-10-04 18:35Z",
                    "terminal": "1"
                  },
                  "codeshareStatus": "Unknown",
                  "departure": {
                    "airport": {
                      "iata": "VNO",
                      "icao": "EYVI",
                      "name": "Vilnius"
                    },
                    "quality": [
                      "Basic"
                    ],
                    "scheduledTimeLocal": "2022-10-04 20:00+03:00",
                    "scheduledTimeUtc": "2022-10-04 17:00Z"
                  },
                  "isCargo": false,
                  "number": "BT 921",
                  "status": "Unknown"
                },
                {
                  "aircraft": {
                    "model": "Airbus A320"
                  },
                  "airline": {
                    "name": "Air France"
                  },
                  "arrival": {
                    "quality": [
                      "Basic"
                    ],
                    "scheduledTimeLocal": "2022-10-04 22:40+02:00",
                    "scheduledTimeUtc": "2022-10-04 20:40Z",
                    "terminal": "1"
                  },
                  "codeshareStatus": "Unknown",
                  "departure": {
                    "airport": {
                      "iata": "CDG",
                      "icao": "LFPG",
                      "name": "Paris"
                    },
                    "quality": [
                      "Basic"
                    ],
                    "scheduledTimeLocal": "2022-10-04 20:55+02:00",
                    "scheduledTimeUtc": "2022-10-04 18:55Z",
                    "terminal": "2F"
                  },
                  "isCargo": false,
                  "number": "AF 1134",
                  "status": "Unknown"
                },
                {
                  "aircraft": {
                    "model": "Airbus A320"
                  },
                  "airline": {
                    "name": "Eurowings"
                  },
                  "arrival": {
                    "quality": [
                      "Basic"
                    ],
                    "scheduledTimeLocal": "2022-10-04 22:20+02:00",
                    "scheduledTimeUtc": "2022-10-04 20:20Z",
                    "terminal": "1"
                  },
                  "codeshareStatus": "Unknown",
                  "departure": {
                    "airport": {
                      "iata": "RHO",
                      "icao": "LGRP",
                      "name": "Rodes Island"
                    },
                    "quality": [
                      "Basic"
                    ],
                    "scheduledTimeLocal": "2022-10-04 19:50+03:00",
                    "scheduledTimeUtc": "2022-10-04 16:50Z"
                  },
                  "isCargo": false,
                  "number": "EW 5305",
                  "status": "Unknown"
                },
                {
                  "aircraft": {
                    "model": "Boeing 737-800"
                  },
                  "airline": {
                    "name": "Ryanair"
                  },
                  "arrival": {
                    "quality": [
                      "Basic"
                    ],
                    "scheduledTimeLocal": "2022-10-04 22:40+02:00",
                    "scheduledTimeUtc": "2022-10-04 20:40Z",
                    "terminal": "0"
                  },
                  "codeshareStatus": "Unknown",
                  "departure": {
                    "airport": {
                      "iata": "SKG",
                      "icao": "LGTS",
                      "name": "Thessaloniki"
                    },
                    "quality": [
                      "Basic"
                    ],
                    "scheduledTimeLocal": "2022-10-04 21:05+03:00",
                    "scheduledTimeUtc": "2022-10-04 18:05Z",
                    "terminal": "0"
                  },
                  "isCargo": false,
                  "number": "FR 1147",
                  "status": "Unknown"
                },
                {
                  "aircraft": {
                    "model": "Boeing 737-800"
                  },
                  "airline": {
                    "name": "Ryanair"
                  },
                  "arrival": {
                    "quality": [
                      "Basic"
                    ],
                    "scheduledTimeLocal": "2022-10-04 22:30+02:00",
                    "scheduledTimeUtc": "2022-10-04 20:30Z",
                    "terminal": "0"
                  },
                  "codeshareStatus": "Unknown",
                  "departure": {
                    "actualTimeLocal": "2022-10-04 21:07+01:00",
                    "actualTimeUtc": "2022-10-04 20:07Z",
                    "airport": {
                      "iata": "STN",
                      "icao": "EGSS",
                      "name": "London"
                    },
                    "quality": [
                      "Basic",
                      "Live"
                    ],
                    "scheduledTimeLocal": "2022-10-04 19:45+01:00",
                    "scheduledTimeUtc": "2022-10-04 18:45Z",
                    "terminal": "1"
                  },
                  "isCargo": false,
                  "number": "FR 147",
                  "status": "Expected"
                },
                {
                  "aircraft": {
                    "model": "Boeing 737-800"
                  },
                  "airline": {
                    "name": "Ryanair"
                  },
                  "arrival": {
                    "quality": [
                      "Basic"
                    ],
                    "scheduledTimeLocal": "2022-10-04 22:20+02:00",
                    "scheduledTimeUtc": "2022-10-04 20:20Z",
                    "terminal": "0"
                  },
                  "codeshareStatus": "Unknown",
                  "departure": {
                    "actualTimeLocal": "2022-10-04 19:57+02:00",
                    "actualTimeUtc": "2022-10-04 17:57Z",
                    "airport": {
                      "iata": "CTA",
                      "icao": "LICC",
                      "name": "Catania"
                    },
                    "quality": [
                      "Basic",
                      "Live"
                    ],
                    "scheduledTimeLocal": "2022-10-04 19:35+02:00",
                    "scheduledTimeUtc": "2022-10-04 17:35Z",
                    "terminal": "A"
                  },
                  "isCargo": false,
                  "number": "FR 1577",
                  "status": "Expected"
                },
                {
                  "aircraft": {
                    "model": "Boeing 737-800"
                  },
                  "airline": {
                    "name": "Ryanair"
                  },
                  "arrival": {
                    "quality": [
                      "Basic"
                    ],
                    "scheduledTimeLocal": "2022-10-04 22:15+02:00",
                    "scheduledTimeUtc": "2022-10-04 20:15Z",
                    "terminal": "0"
                  },
                  "codeshareStatus": "Unknown",
                  "departure": {
                    "actualTimeLocal": "2022-10-04 20:35+03:00",
                    "actualTimeUtc": "2022-10-04 17:35Z",
                    "airport": {
                      "iata": "ATH",
                      "icao": "LGAV",
                      "name": "Athens"
                    },
                    "checkInDesk": "50---52",
                    "gate": "A40",
                    "quality": [
                      "Basic",
                      "Live"
                    ],
                    "scheduledTimeLocal": "2022-10-04 20:20+03:00",
                    "scheduledTimeUtc": "2022-10-04 17:20Z",
                    "terminal": "D"
                  },
                  "isCargo": false,
                  "number": "FR 171",
                  "status": "Expected"
                },
                {
                  "aircraft": {
                    "model": "Boeing 737-800"
                  },
                  "airline": {
                    "name": "Ryanair"
                  },
                  "arrival": {
                    "quality": [
                      "Basic"
                    ],
                    "scheduledTimeLocal": "2022-10-04 22:20+02:00",
                    "scheduledTimeUtc": "2022-10-04 20:20Z",
                    "terminal": "0"
                  },
                  "codeshareStatus": "Unknown",
                  "departure": {
                    "actualTimeLocal": "2022-10-04 19:59+02:00",
                    "actualTimeUtc": "2022-10-04 17:59Z",
                    "airport": {
                      "iata": "IBZ",
                      "icao": "LEIB",
                      "name": "Ibiza Town"
                    },
                    "checkInDesk": "21-22",
                    "gate": "02",
                    "quality": [
                      "Basic",
                      "Live"
                    ],
                    "scheduledTimeLocal": "2022-10-04 19:35+02:00",
                    "scheduledTimeUtc": "2022-10-04 17:35Z",
                    "terminal": "1"
                  },
                  "isCargo": false,
                  "number": "FR 209",
                  "status": "Expected"
                },
                {
                  "aircraft": {
                    "model": "Boeing 737-800"
                  },
                  "airline": {
                    "name": "Ryanair"
                  },
                  "arrival": {
                    "quality": [
                      "Basic"
                    ],
                    "scheduledTimeLocal": "2022-10-04 22:00+02:00",
                    "scheduledTimeUtc": "2022-10-04 20:00Z",
                    "terminal": "0"
                  },
                  "codeshareStatus": "Unknown",
                  "departure": {
                    "airport": {
                      "iata": "MXP",
                      "icao": "LIMC",
                      "name": "Milan"
                    },
                    "quality": [
                      "Basic"
                    ],
                    "scheduledTimeLocal": "2022-10-04 20:15+02:00",
                    "scheduledTimeUtc": "2022-10-04 18:15Z",
                    "terminal": "1"
                  },
                  "isCargo": false,
                  "number": "FR 9",
                  "status": "Unknown"
                },
                {
                  "aircraft": {
                    "model": "Airbus A320"
                  },
                  "airline": {
                    "name": "Iberia"
                  },
                  "arrival": {
                    "quality": [
                      "Basic"
                    ],
                    "scheduledTimeLocal": "2022-10-04 22:40+02:00",
                    "scheduledTimeUtc": "2022-10-04 20:40Z",
                    "terminal": "1"
                  },
                  "codeshareStatus": "Unknown",
                  "departure": {
                    "actualTimeLocal": "2022-10-04 19:40+02:00",
                    "actualTimeUtc": "2022-10-04 17:40Z",
                    "airport": {
                      "iata": "MAD",
                      "icao": "LEMD",
                      "name": "Madrid"
                    },
                    "checkInDesk": "850-859",
                    "gate": "J48",
                    "quality": [
                      "Basic",
                      "Live"
                    ],
                    "scheduledTimeLocal": "2022-10-04 19:40+02:00",
                    "scheduledTimeUtc": "2022-10-04 17:40Z",
                    "terminal": "4"
                  },
                  "isCargo": false,
                  "number": "IB 3674",
                  "status": "Expected"
                },
                {
                  "aircraft": {
                    "model": "Airbus A320"
                  },
                  "airline": {
                    "name": "Lufthansa"
                  },
                  "arrival": {
                    "quality": [
                      "Basic"
                    ],
                    "scheduledTimeLocal": "2022-10-04 22:35+02:00",
                    "scheduledTimeUtc": "2022-10-04 20:35Z",
                    "terminal": "1"
                  },
                  "codeshareStatus": "Unknown",
                  "departure": {
                    "actualTimeLocal": "2022-10-04 21:30+02:00",
                    "actualTimeUtc": "2022-10-04 19:30Z",
                    "airport": {
                      "iata": "MUC",
                      "icao": "EDDM",
                      "name": "Munich"
                    },
                    "quality": [
                      "Basic",
                      "Live"
                    ],
                    "scheduledTimeLocal": "2022-10-04 21:30+02:00",
                    "scheduledTimeUtc": "2022-10-04 19:30Z",
                    "terminal": "2"
                  },
                  "isCargo": false,
                  "number": "LH 1960",
                  "status": "Expected"
                },
                {
                  "aircraft": {
                    "modeS": "3C64A1",
                    "model": "Airbus A321",
                    "reg": "D-AIEA"
                  },
                  "airline": {
                    "name": "Lufthansa"
                  },
                  "arrival": {
                    "quality": [
                      "Basic"
                    ],
                    "scheduledTimeLocal": "2022-10-04 22:25+02:00",
                    "scheduledTimeUtc": "2022-10-04 20:25Z",
                    "terminal": "1"
                  },
                  "codeshareStatus": "Unknown",
                  "departure": {
                    "actualTimeLocal": "2022-10-04 21:15+02:00",
                    "actualTimeUtc": "2022-10-04 19:15Z",
                    "airport": {
                      "iata": "FRA",
                      "icao": "EDDF",
                      "name": "Frankfurt-am-Main"
                    },
                    "checkInDesk": "263-461",
                    "gate": "A50",
                    "quality": [
                      "Basic",
                      "Live"
                    ],
                    "scheduledTimeLocal": "2022-10-04 21:15+02:00",
                    "scheduledTimeUtc": "2022-10-04 19:15Z",
                    "terminal": "1"
                  },
                  "isCargo": false,
                  "number": "LH 44",
                  "status": "Expected"
                },
                {
                  "aircraft": {
                    "modeS": "4B1698",
                    "model": "Airbus A320",
                    "reg": "HB-IOM"
                  },
                  "airline": {
                    "name": "SWISS"
                  },
                  "arrival": {
                    "quality": [
                      "Basic"
                    ],
                    "scheduledTimeLocal": "2022-10-04 22:20+02:00",
                    "scheduledTimeUtc": "2022-10-04 20:20Z",
                    "terminal": "1"
                  },
                  "codeshareStatus": "Unknown",
                  "departure": {
                    "actualTimeLocal": "2022-10-04 20:55+02:00",
                    "actualTimeUtc": "2022-10-04 18:55Z",
                    "airport": {
                      "iata": "ZRH",
                      "icao": "LSZH",
                      "name": "Zurich"
                    },
                    "checkInDesk": "1",
                    "gate": "A71",
                    "quality": [
                      "Basic",
                      "Live"
                    ],
                    "scheduledTimeLocal": "2022-10-04 20:55+02:00",
                    "scheduledTimeUtc": "2022-10-04 18:55Z"
                  },
                  "isCargo": false,
                  "number": "LX 962",
                  "status": "Expected"
                },
                {
                  "aircraft": {
                    "model": "Airbus A320"
                  },
                  "airline": {
                    "name": "Austrian"
                  },
                  "arrival": {
                    "quality": [
                      "Basic"
                    ],
                    "scheduledTimeLocal": "2022-10-04 22:15+02:00",
                    "scheduledTimeUtc": "2022-10-04 20:15Z",
                    "terminal": "1"
                  },
                  "codeshareStatus": "Unknown",
                  "departure": {
                    "actualTimeLocal": "2022-10-04 21:17+02:00",
                    "actualTimeUtc": "2022-10-04 19:17Z",
                    "airport": {
                      "iata": "VIE",
                      "icao": "LOWW",
                      "name": "Vienna"
                    },
                    "checkInDesk": "351-368",
                    "gate": "F27",
                    "quality": [
                      "Basic",
                      "Live"
                    ],
                    "scheduledTimeLocal": "2022-10-04 21:00+02:00",
                    "scheduledTimeUtc": "2022-10-04 19:00Z",
                    "terminal": "3"
                  },
                  "isCargo": false,
                  "number": "OS 239",
                  "status": "Expected"
                },
                {
                  "aircraft": {
                    "model": "Airbus A320"
                  },
                  "airline": {
                    "name": "Brussels"
                  },
                  "arrival": {
                    "quality": [
                      "Basic"
                    ],
                    "scheduledTimeLocal": "2022-10-04 22:10+02:00",
                    "scheduledTimeUtc": "2022-10-04 20:10Z",
                    "terminal": "1"
                  },
                  "codeshareStatus": "Unknown",
                  "departure": {
                    "actualTimeLocal": "2022-10-04 21:24+02:00",
                    "actualTimeUtc": "2022-10-04 19:24Z",
                    "airport": {
                      "iata": "BRU",
                      "icao": "EBBR",
                      "name": "Brussels"
                    },
                    "checkInDesk": "05",
                    "quality": [
                      "Basic",
                      "Live"
                    ],
                    "scheduledTimeLocal": "2022-10-04 20:50+02:00",
                    "scheduledTimeUtc": "2022-10-04 18:50Z"
                  },
                  "isCargo": false,
                  "number": "SN 2591",
                  "status": "Expected"
                },
                {
                  "aircraft": {
                    "model": "Embraer 190"
                  },
                  "airline": {
                    "name": "TAP Air Portugal"
                  },
                  "arrival": {
                    "quality": [
                      "Basic"
                    ],
                    "scheduledTimeLocal": "2022-10-04 22:20+02:00",
                    "scheduledTimeUtc": "2022-10-04 20:20Z",
                    "terminal": "1"
                  },
                  "codeshareStatus": "Unknown",
                  "departure": {
                    "actualTimeLocal": "2022-10-04 18:18+01:00",
                    "actualTimeUtc": "2022-10-04 17:18Z",
                    "airport": {
                      "iata": "LIS",
                      "icao": "LPPT",
                      "name": "Lisbon"
                    },
                    "quality": [
                      "Basic",
                      "Live"
                    ],
                    "scheduledTimeLocal": "2022-10-04 17:55+01:00",
                    "scheduledTimeUtc": "2022-10-04 16:55Z",
                    "terminal": "1"
                  },
                  "isCargo": false,
                  "number": "TP 532",
                  "status": "Expected"
                },
                {
                  "aircraft": {
                    "model": "Airbus A319"
                  },
                  "airline": {
                    "name": "easyJet"
                  },
                  "arrival": {
                    "quality": [
                      "Basic"
                    ],
                    "scheduledTimeLocal": "2022-10-04 22:15+02:00",
                    "scheduledTimeUtc": "2022-10-04 20:15Z",
                    "terminal": "1"
                  },
                  "codeshareStatus": "Unknown",
                  "departure": {
                    "airport": {
                      "iata": "NAP",
                      "icao": "LIRN",
                      "name": "Nápoli"
                    },
                    "quality": [
                      "Basic"
                    ],
                    "scheduledTimeLocal": "2022-10-04 19:55+02:00",
                    "scheduledTimeUtc": "2022-10-04 17:55Z"
                  },
                  "isCargo": false,
                  "number": "U2 4576",
                  "status": "Unknown"
                },
                {
                  "aircraft": {
                    "model": "Airbus A319"
                  },
                  "airline": {
                    "name": "easyJet"
                  },
                  "arrival": {
                    "quality": [
                      "Basic"
                    ],
                    "scheduledTimeLocal": "2022-10-04 22:15+02:00",
                    "scheduledTimeUtc": "2022-10-04 20:15Z",
                    "terminal": "1"
                  },
                  "codeshareStatus": "Unknown",
                  "departure": {
                    "airport": {
                      "name": "Paris"
                    },
                    "quality": []
                  },
                  "isCargo": false,
                  "number": "U2 5540",
                  "status": "Unknown"
                },
                {
                  "aircraft": {
                    "model": "Airbus A320"
                  },
                  "airline": {
                    "name": "easyJet"
                  },
                  "arrival": {
                    "quality": [
                      "Basic"
                    ],
                    "scheduledTimeLocal": "2022-10-04 22:00+02:00",
                    "scheduledTimeUtc": "2022-10-04 20:00Z",
                    "terminal": "1"
                  },
                  "codeshareStatus": "Unknown",
                  "departure": {
                    "airport": {
                      "iata": "CAG",
                      "icao": "LIEE",
                      "name": "Cagliari"
                    },
                    "quality": [
                      "Basic"
                    ],
                    "scheduledTimeLocal": "2022-10-04 19:25+02:00",
                    "scheduledTimeUtc": "2022-10-04 17:25Z"
                  },
                  "isCargo": false,
                  "number": "U2 5662",
                  "status": "Unknown"
                },
                {
                  "aircraft": {
                    "modeS": "484165",
                    "model": "Boeing 737-800",
                    "reg": "PH-BXM"
                  },
                  "airline": {
                    "name": "KLM"
                  },
                  "arrival": {
                    "quality": [
                      "Basic"
                    ],
                    "scheduledTimeLocal": "2022-10-04 23:20+02:00",
                    "scheduledTimeUtc": "2022-10-04 21:20Z",
                    "terminal": "1"
                  },
                  "codeshareStatus": "Unknown",
                  "departure": {
                    "actualTimeLocal": "2022-10-04 22:06+02:00",
                    "actualTimeUtc": "2022-10-04 20:06Z",
                    "airport": {
                      "iata": "AMS",
                      "icao": "EHAM",
                      "name": "Amsterdam"
                    },
                    "checkInDesk": "6-8",
                    "gate": "C16",
                    "quality": [
                      "Basic",
                      "Live"
                    ],
                    "scheduledTimeLocal": "2022-10-04 22:05+02:00",
                    "scheduledTimeUtc": "2022-10-04 20:05Z",
                    "terminal": "1"
                  },
                  "isCargo": false,
                  "number": "KL 1835",
                  "status": "Expected"
                },
                {
                  "aircraft": {
                    "modeS": "4BCDD4",
                    "model": "Boeing 737-800",
                    "reg": "TC-SNT"
                  },
                  "airline": {
                    "name": "SunExpress"
                  },
                  "arrival": {
                    "quality": [
                      "Basic"
                    ],
                    "scheduledTimeLocal": "2022-10-05 05:45+02:00",
                    "scheduledTimeUtc": "2022-10-05 03:45Z",
                    "terminal": "1"
                  },
                  "callSign": "SXS5DY",
                  "codeshareStatus": "IsOperator",
                  "departure": {
                    "actualTimeLocal": "2022-10-05 04:00+03:00",
                    "actualTimeUtc": "2022-10-05 01:00Z",
                    "airport": {
                      "iata": "ADB",
                      "icao": "LTBJ",
                      "name": "İzmir"
                    },
                    "checkInDesk": "21",
                    "gate": "29",
                    "quality": [
                      "Basic",
                      "Live"
                    ],
                    "scheduledTimeLocal": "2022-10-05 03:45+03:00",
                    "scheduledTimeUtc": "2022-10-05 00:45Z",
                    "terminal": "I"
                  },
                  "isCargo": false,
                  "number": "XQ 966",
                  "status": "Expected"
                },
                {
                  "aircraft": {
                    "modeS": "47AEC6",
                    "model": "Boeing 787-9",
                    "reg": "LN-FNJ"
                  },
                  "airline": {
                    "name": "NBT"
                  },
                  "arrival": {
                    "quality": [
                      "Basic"
                    ],
                    "scheduledTimeLocal": "2022-10-05 06:14+02:00",
                    "scheduledTimeUtc": "2022-10-05 04:14Z"
                  },
                  "callSign": "NBT612",
                  "codeshareStatus": "IsOperator",
                  "departure": {
                    "actualTimeLocal": "2022-10-04 10:57-07:00",
                    "actualTimeUtc": "2022-10-04 17:57Z",
                    "airport": {
                      "iata": "LAX",
                      "icao": "KLAX",
                      "name": "Los Angeles"
                    },
                    "quality": [
                      "Basic",
                      "Live"
                    ],
                    "runwayTimeLocal": "2022-10-04 10:57-07:00",
                    "runwayTimeUtc": "2022-10-04 17:57Z",
                    "scheduledTimeLocal": "2022-10-04 10:57-07:00",
                    "scheduledTimeUtc": "2022-10-04 17:57Z"
                  },
                  "isCargo": false,
                  "number": "NBT 612",
                  "status": "Expected"
                },
                {
                  "aircraft": {
                    "model": "Boeing 787-8"
                  },
                  "airline": {
                    "name": "Qatar Airways"
                  },
                  "arrival": {
                    "quality": [
                      "Basic"
                    ],
                    "scheduledTimeLocal": "2022-10-05 06:50+02:00",
                    "scheduledTimeUtc": "2022-10-05 04:50Z",
                    "terminal": "1"
                  },
                  "codeshareStatus": "IsOperator",
                  "departure": {
                    "airport": {
                      "iata": "DOH",
                      "icao": "OTHH",
                      "name": "Doha"
                    },
                    "quality": [
                      "Basic"
                    ],
                    "scheduledTimeLocal": "2022-10-05 03:10+03:00",
                    "scheduledTimeUtc": "2022-10-05 00:10Z"
                  },
                  "isCargo": false,
                  "number": "QR 79",
                  "status": "Unknown"
                },
                {
                  "aircraft": {
                    "modeS": "4D23D9",
                    "model": "Airbus A320",
                    "reg": "9H-MLD"
                  },
                  "airline": {
                    "name": "Eurowings"
                  },
                  "arrival": {
                    "quality": [
                      "Basic"
                    ],
                    "scheduledTimeLocal": "2022-10-05 07:40+02:00",
                    "scheduledTimeUtc": "2022-10-05 05:40Z",
                    "terminal": "1"
                  },
                  "callSign": "EWG2002",
                  "codeshareStatus": "IsOperator",
                  "departure": {
                    "actualTimeLocal": "2022-10-05 06:25+02:00",
                    "actualTimeUtc": "2022-10-05 04:25Z",
                    "airport": {
                      "iata": "STR",
                      "icao": "EDDS",
                      "name": "Stuttgart"
                    },
                    "gate": "324",
                    "quality": [
                      "Basic",
                      "Live"
                    ],
                    "scheduledTimeLocal": "2022-10-05 06:25+02:00",
                    "scheduledTimeUtc": "2022-10-05 04:25Z",
                    "terminal": "1"
                  },
                  "isCargo": false,
                  "number": "EW 2002",
                  "status": "Expected"
                },
                {
                  "aircraft": {
                    "modeS": "3C6DD6",
                    "model": "Airbus A319",
                    "reg": "D-AKNV"
                  },
                  "airline": {
                    "name": "Eurowings"
                  },
                  "arrival": {
                    "quality": [
                      "Basic"
                    ],
                    "scheduledTimeLocal": "2022-10-05 07:35+02:00",
                    "scheduledTimeUtc": "2022-10-05 05:35Z",
                    "terminal": "1"
                  },
                  "callSign": "GWI52FP",
                  "codeshareStatus": "Unknown",
                  "departure": {
                    "actualTimeLocal": "2022-10-05 06:17+02:00",
                    "actualTimeUtc": "2022-10-05 04:17Z",
                    "airport": {
                      "iata": "DUS",
                      "icao": "EDDL",
                      "name": "Duesseldorf"
                    },
                    "checkInDesk": "105,110",
                    "gate": "A52",
                    "quality": [
                      "Basic",
                      "Live"
                    ],
                    "runwayTimeLocal": "2022-10-05 06:27+02:00",
                    "runwayTimeUtc": "2022-10-05 04:27Z",
                    "scheduledTimeLocal": "2022-10-05 06:20+02:00",
                    "scheduledTimeUtc": "2022-10-05 04:20Z",
                    "terminal": "A"
                  },
                  "isCargo": false,
                  "number": "EW 9048",
                  "status": "Expected"
                },
                {
                  "aircraft": {
                    "modeS": "3C6646",
                    "model": "Airbus A321",
                    "reg": "D-AIRF"
                  },
                  "airline": {
                    "name": "Lufthansa"
                  },
                  "arrival": {
                    "quality": [
                      "Basic"
                    ],
                    "scheduledTimeLocal": "2022-10-05 07:55+02:00",
                    "scheduledTimeUtc": "2022-10-05 05:55Z",
                    "terminal": "1"
                  },
                  "codeshareStatus": "Unknown",
                  "departure": {
                    "actualTimeLocal": "2022-10-05 06:45+02:00",
                    "actualTimeUtc": "2022-10-05 04:45Z",
                    "airport": {
                      "iata": "FRA",
                      "icao": "EDDF",
                      "name": "Frankfurt-am-Main"
                    },
                    "checkInDesk": "263-461",
                    "gate": "A13",
                    "quality": [
                      "Basic",
                      "Live"
                    ],
                    "scheduledTimeLocal": "2022-10-05 06:45+02:00",
                    "scheduledTimeUtc": "2022-10-05 04:45Z",
                    "terminal": "1"
                  },
                  "isCargo": false,
                  "number": "LH 170",
                  "status": "Expected"
                },
                {
                  "aircraft": {
                    "model": "Airbus A320"
                  },
                  "airline": {
                    "name": "Lufthansa"
                  },
                  "arrival": {
                    "quality": [
                      "Basic"
                    ],
                    "scheduledTimeLocal": "2022-10-05 07:35+02:00",
                    "scheduledTimeUtc": "2022-10-05 05:35Z",
                    "terminal": "1"
                  },
                  "codeshareStatus": "IsOperator",
                  "departure": {
                    "actualTimeLocal": "2022-10-05 06:30+02:00",
                    "actualTimeUtc": "2022-10-05 04:30Z",
                    "airport": {
                      "iata": "MUC",
                      "icao": "EDDM",
                      "name": "Munich"
                    },
                    "quality": [
                      "Basic",
                      "Live"
                    ],
                    "scheduledTimeLocal": "2022-10-05 06:30+02:00",
                    "scheduledTimeUtc": "2022-10-05 04:30Z",
                    "terminal": "2"
                  },
                  "isCargo": false,
                  "number": "LH 1926",
                  "status": "Expected"
                },
                {
                  "aircraft": {
                    "model": "Airbus A320"
                  },
                  "airline": {
                    "name": "easyJet"
                  },
                  "arrival": {
                    "quality": [
                      "Basic"
                    ],
                    "scheduledTimeLocal": "2022-10-05 07:55+02:00",
                    "scheduledTimeUtc": "2022-10-05 05:55Z",
                    "terminal": "1"
                  },
                  "codeshareStatus": "Unknown",
                  "departure": {
                    "airport": {
                      "iata": "CDG",
                      "icao": "LFPG",
                      "name": "Paris"
                    },
                    "quality": [
                      "Basic"
                    ],
                    "scheduledTimeLocal": "2022-10-05 06:05+02:00",
                    "scheduledTimeUtc": "2022-10-05 04:05Z",
                    "terminal": "2B"
                  },
                  "isCargo": false,
                  "number": "U2 5674",
                  "status": "Unknown"
                },
                {
                  "aircraft": {
                    "modeS": "AA6C50",
                    "model": "Boeing 767-400",
                    "reg": "N77066"
                  },
                  "airline": {
                    "name": "United"
                  },
                  "arrival": {
                    "quality": [
                      "Basic"
                    ],
                    "scheduledTimeLocal": "2022-10-05 07:50+02:00",
                    "scheduledTimeUtc": "2022-10-05 05:50Z",
                    "terminal": "1"
                  },
                  "callSign": "UAL962",
                  "codeshareStatus": "IsOperator",
                  "departure": {
                    "actualTimeLocal": "2022-10-04 18:53-04:00",
                    "actualTimeUtc": "2022-10-04 22:53Z",
                    "airport": {
                      "iata": "EWR",
                      "icao": "KEWR",
                      "name": "Newark"
                    },
                    "quality": [
                      "Basic",
                      "Live"
                    ],
                    "runwayTimeLocal": "2022-10-04 18:53-04:00",
                    "runwayTimeUtc": "2022-10-04 22:53Z",
                    "scheduledTimeLocal": "2022-10-04 17:50-04:00",
                    "scheduledTimeUtc": "2022-10-04 21:50Z",
                    "terminal": "C"
                  },
                  "isCargo": false,
                  "number": "UA 962",
                  "status": "Expected"
                },
                {
                  "aircraft": {
                    "modeS": "76BCC9",
                    "model": "Boeing 787-8",
                    "reg": "9V-OFI"
                  },
                  "airline": {
                    "name": "Scoot"
                  },
                  "arrival": {
                    "quality": [
                      "Basic"
                    ],
                    "scheduledTimeLocal": "2022-10-05 08:00+02:00",
                    "scheduledTimeUtc": "2022-10-05 06:00Z",
                    "terminal": "1"
                  },
                  "callSign": "TGW734",
                  "codeshareStatus": "Unknown",
                  "departure": {
                    "actualTimeLocal": "2022-10-05 00:30+08:00",
                    "actualTimeUtc": "2022-10-04 16:30Z",
                    "airport": {
                      "iata": "SIN",
                      "icao": "WSSS",
                      "name": "Singapore"
                    },
                    "checkInDesk": "06",
                    "gate": "D46",
                    "quality": [
                      "Basic",
                      "Live"
                    ],
                    "scheduledTimeLocal": "2022-10-05 00:30+08:00",
                    "scheduledTimeUtc": "2022-10-04 16:30Z",
                    "terminal": "1"
                  },
                  "isCargo": false,
                  "number": "TR 734",
                  "status": "Expected"
                },
                {
                  "aircraft": {
                    "model": "Airbus A320"
                  },
                  "airline": {
                    "name": "Wizz Air"
                  },
                  "arrival": {
                    "quality": [
                      "Basic"
                    ],
                    "scheduledTimeLocal": "2022-10-05 08:00+02:00",
                    "scheduledTimeUtc": "2022-10-05 06:00Z",
                    "terminal": "0"
                  },
                  "codeshareStatus": "Unknown",
                  "departure": {
                    "airport": {
                      "iata": "TZL",
                      "icao": "LQTZ",
                      "name": "Tuzla"
                    },
                    "quality": [
                      "Basic"
                    ],
                    "scheduledTimeLocal": "2022-10-05 06:10+02:00",
                    "scheduledTimeUtc": "2022-10-05 04:10Z"
                  },
                  "isCargo": false,
                  "number": "W6 4275",
                  "status": "Unknown"
                }
              ]
            },
            "text/plain": [
              "<IPython.core.display.JSON object>"
            ]
          },
          "metadata": {
            "application/json": {
              "expanded": false,
              "root": "root"
            }
          },
          "output_type": "display_data"
        }
      ],
      "source": [
        "display(JSON(response.json()))"
      ]
    },
    {
      "cell_type": "code",
      "execution_count": null,
      "metadata": {
        "id": "LkKPSNGw-5hM"
      },
      "outputs": [],
      "source": [
        "from datetime import datetime, date, timedelta\n",
        "from pytz import timezone"
      ]
    },
    {
      "cell_type": "code",
      "execution_count": null,
      "metadata": {
        "id": "gzk6n8PU-5hM",
        "outputId": "3f2b8e29-db6d-47a9-d548-de6065070011"
      },
      "outputs": [
        {
          "data": {
            "text/plain": [
              "datetime.date(2023, 3, 29)"
            ]
          },
          "execution_count": 27,
          "metadata": {},
          "output_type": "execute_result"
        }
      ],
      "source": [
        "today = datetime.now().astimezone(timezone('Europe/Berlin')).date()\n",
        "today"
      ]
    },
    {
      "cell_type": "code",
      "execution_count": null,
      "metadata": {
        "tags": [],
        "id": "nCkuwwPA-5hM",
        "outputId": "1a9a76da-ec88-4c8f-e2ae-ac61896ff9f5"
      },
      "outputs": [
        {
          "data": {
            "text/plain": [
              "datetime.date(2023, 3, 30)"
            ]
          },
          "execution_count": 29,
          "metadata": {},
          "output_type": "execute_result"
        }
      ],
      "source": [
        "tomorrow = (today + timedelta(days=1))\n",
        "tomorrow           "
      ]
    },
    {
      "cell_type": "code",
      "execution_count": null,
      "metadata": {
        "id": "5WAv-6_T-5hM"
      },
      "outputs": [],
      "source": []
    },
    {
      "cell_type": "code",
      "execution_count": null,
      "metadata": {
        "id": "9xaG9Y0R-5hM"
      },
      "outputs": [],
      "source": []
    },
    {
      "cell_type": "code",
      "execution_count": null,
      "metadata": {
        "tags": [],
        "id": "OlkKyVjH-5hM"
      },
      "outputs": [],
      "source": [
        "def tomorrows_flight_arrivals(icao_list):\n",
        "\n",
        "  today = datetime.now().astimezone(timezone('Europe/Berlin')).date()\n",
        "  tomorrow = (today + timedelta(days=1))\n",
        "\n",
        "  list_for_df = []\n",
        "\n",
        "  for icao in icao_list:\n",
        "    times = [[\"00:00\",\"11:59\"],[\"12:00\",\"23:59\"]]\n",
        "\n",
        "    for time in times:\n",
        "      url = f\"https://aerodatabox.p.rapidapi.com/flights/airports/icao/{icao}/{tomorrow}T{time[0]}/{tomorrow}T{time[1]}\"\n",
        "      querystring = {\"withLeg\":\"true\",\"direction\":\"Arrival\",\"withCancelled\":\"false\",\"withCodeshared\":\"true\",\"withCargo\":\"false\",\"withPrivate\":\"false\"}\n",
        "      headers = {\n",
        "          'x-rapidapi-host': \"aerodatabox.p.rapidapi.com\",\n",
        "          'x-rapidapi-key': \"YOUR_API_KEY_HERE\"\n",
        "          }\n",
        "      response = requests.request(\"GET\", url, headers=headers, params=querystring)\n",
        "      flights_json = response.json()\n",
        "\n",
        "      for flight in flights_json['arrivals']:\n",
        "        flights_dict = {}\n",
        "        flights_dict['arrival_icao'] = icao\n",
        "        # .get() is another way of ensuring our code doesn't break\n",
        "        # in the previous 2 notebooks you learnt about 'if' (cities) and 'try/except' (weather)\n",
        "        # .get() works similar, it will get the text if possible, if there is no text a None value will be inserted instead\n",
        "        flights_dict['arrival_time_local'] = flight['arrival'].get('scheduledTimeLocal', None)\n",
        "        flights_dict['arrival_terminal'] = flight['arrival'].get('terminal', None)\n",
        "        flights_dict['departure_city'] = flight['departure']['airport'].get('name', None)\n",
        "        flights_dict['departure_icao'] = flight['departure']['airport'].get('icao', None)\n",
        "        flights_dict['departure_time_local'] = flight['departure'].get('scheduledTimeLocal', None)\n",
        "        flights_dict['airline'] = flight['airline'].get('name', None)\n",
        "        flights_dict['flight_number'] = flight.get('number', None)\n",
        "        flights_dict['data_retrieved_on'] = datetime.now().astimezone(timezone('Europe/Berlin')).date()\n",
        "        list_for_df.append(flights_dict)\n",
        "\n",
        "  return pd.DataFrame(list_for_df)"
      ]
    },
    {
      "cell_type": "code",
      "execution_count": null,
      "metadata": {
        "id": "mdUnFXJr-5hM",
        "outputId": "03b35d1b-f0d5-4df1-a68f-b5dce692d3dc"
      },
      "outputs": [
        {
          "data": {
            "text/html": [
              "<div>\n",
              "<style scoped>\n",
              "    .dataframe tbody tr th:only-of-type {\n",
              "        vertical-align: middle;\n",
              "    }\n",
              "\n",
              "    .dataframe tbody tr th {\n",
              "        vertical-align: top;\n",
              "    }\n",
              "\n",
              "    .dataframe thead th {\n",
              "        text-align: right;\n",
              "    }\n",
              "</style>\n",
              "<table border=\"1\" class=\"dataframe\">\n",
              "  <thead>\n",
              "    <tr style=\"text-align: right;\">\n",
              "      <th></th>\n",
              "      <th>arrival_icao</th>\n",
              "      <th>arrival_time_local</th>\n",
              "      <th>arrival_terminal</th>\n",
              "      <th>departure_city</th>\n",
              "      <th>departure_icao</th>\n",
              "      <th>departure_time_local</th>\n",
              "      <th>airline</th>\n",
              "      <th>flight_number</th>\n",
              "      <th>data_retrieved_on</th>\n",
              "    </tr>\n",
              "  </thead>\n",
              "  <tbody>\n",
              "    <tr>\n",
              "      <th>2382</th>\n",
              "      <td>EGLL</td>\n",
              "      <td>2023-03-30 22:25+01:00</td>\n",
              "      <td>2</td>\n",
              "      <td>Istanbul</td>\n",
              "      <td>LTFM</td>\n",
              "      <td>None</td>\n",
              "      <td>Pakistan International</td>\n",
              "      <td>PK 5987</td>\n",
              "      <td>2023-03-29</td>\n",
              "    </tr>\n",
              "    <tr>\n",
              "      <th>2383</th>\n",
              "      <td>EGLL</td>\n",
              "      <td>2023-03-30 22:10+01:00</td>\n",
              "      <td>3</td>\n",
              "      <td>Chicago</td>\n",
              "      <td>KORD</td>\n",
              "      <td>None</td>\n",
              "      <td>Qatar Airways</td>\n",
              "      <td>QR 2858</td>\n",
              "      <td>2023-03-29</td>\n",
              "    </tr>\n",
              "    <tr>\n",
              "      <th>2384</th>\n",
              "      <td>EGLL</td>\n",
              "      <td>2023-03-30 22:00+01:00</td>\n",
              "      <td>4</td>\n",
              "      <td>Doha</td>\n",
              "      <td>OTHH</td>\n",
              "      <td>2023-03-30 16:40+03:00</td>\n",
              "      <td>Qatar Airways</td>\n",
              "      <td>QR 5</td>\n",
              "      <td>2023-03-29</td>\n",
              "    </tr>\n",
              "    <tr>\n",
              "      <th>2385</th>\n",
              "      <td>EGLL</td>\n",
              "      <td>2023-03-30 22:35+01:00</td>\n",
              "      <td>5</td>\n",
              "      <td>Glasgow</td>\n",
              "      <td>EGPF</td>\n",
              "      <td>None</td>\n",
              "      <td>Qatar Airways</td>\n",
              "      <td>QR 5905</td>\n",
              "      <td>2023-03-29</td>\n",
              "    </tr>\n",
              "    <tr>\n",
              "      <th>2386</th>\n",
              "      <td>EGLL</td>\n",
              "      <td>2023-03-30 22:00+01:00</td>\n",
              "      <td>2</td>\n",
              "      <td>Lisbon</td>\n",
              "      <td>LPPT</td>\n",
              "      <td>2023-03-30 19:20+01:00</td>\n",
              "      <td>Azores</td>\n",
              "      <td>S4 8048</td>\n",
              "      <td>2023-03-29</td>\n",
              "    </tr>\n",
              "    <tr>\n",
              "      <th>2387</th>\n",
              "      <td>EGLL</td>\n",
              "      <td>2023-03-30 22:25+01:00</td>\n",
              "      <td>2</td>\n",
              "      <td>Istanbul</td>\n",
              "      <td>LTFM</td>\n",
              "      <td>2023-03-30 20:20+03:00</td>\n",
              "      <td>Turkish</td>\n",
              "      <td>TK 1987</td>\n",
              "      <td>2023-03-29</td>\n",
              "    </tr>\n",
              "    <tr>\n",
              "      <th>2388</th>\n",
              "      <td>EGLL</td>\n",
              "      <td>2023-03-30 22:00+01:00</td>\n",
              "      <td>2</td>\n",
              "      <td>Lisbon</td>\n",
              "      <td>LPPT</td>\n",
              "      <td>2023-03-30 19:20+01:00</td>\n",
              "      <td>TAP Air Portugal</td>\n",
              "      <td>TP 1358</td>\n",
              "      <td>2023-03-29</td>\n",
              "    </tr>\n",
              "    <tr>\n",
              "      <th>2389</th>\n",
              "      <td>EGLL</td>\n",
              "      <td>2023-03-30 22:55+01:00</td>\n",
              "      <td>2</td>\n",
              "      <td>Lisbon</td>\n",
              "      <td>LPPT</td>\n",
              "      <td>2023-03-30 20:15+01:00</td>\n",
              "      <td>TAP Air Portugal</td>\n",
              "      <td>TP 1366</td>\n",
              "      <td>2023-03-29</td>\n",
              "    </tr>\n",
              "    <tr>\n",
              "      <th>2390</th>\n",
              "      <td>EGLL</td>\n",
              "      <td>2023-03-30 22:25+01:00</td>\n",
              "      <td>2</td>\n",
              "      <td>Istanbul</td>\n",
              "      <td>LTFM</td>\n",
              "      <td>None</td>\n",
              "      <td>United</td>\n",
              "      <td>UA 6918</td>\n",
              "      <td>2023-03-29</td>\n",
              "    </tr>\n",
              "    <tr>\n",
              "      <th>2391</th>\n",
              "      <td>EGLL</td>\n",
              "      <td>2023-03-30 22:00+01:00</td>\n",
              "      <td>4</td>\n",
              "      <td>Doha</td>\n",
              "      <td>OTHH</td>\n",
              "      <td>None</td>\n",
              "      <td>Oman Air</td>\n",
              "      <td>WY 6433</td>\n",
              "      <td>2023-03-29</td>\n",
              "    </tr>\n",
              "  </tbody>\n",
              "</table>\n",
              "</div>"
            ],
            "text/plain": [
              "     arrival_icao      arrival_time_local arrival_terminal departure_city  \\\n",
              "2382         EGLL  2023-03-30 22:25+01:00                2       Istanbul   \n",
              "2383         EGLL  2023-03-30 22:10+01:00                3        Chicago   \n",
              "2384         EGLL  2023-03-30 22:00+01:00                4           Doha   \n",
              "2385         EGLL  2023-03-30 22:35+01:00                5        Glasgow   \n",
              "2386         EGLL  2023-03-30 22:00+01:00                2         Lisbon   \n",
              "2387         EGLL  2023-03-30 22:25+01:00                2       Istanbul   \n",
              "2388         EGLL  2023-03-30 22:00+01:00                2         Lisbon   \n",
              "2389         EGLL  2023-03-30 22:55+01:00                2         Lisbon   \n",
              "2390         EGLL  2023-03-30 22:25+01:00                2       Istanbul   \n",
              "2391         EGLL  2023-03-30 22:00+01:00                4           Doha   \n",
              "\n",
              "     departure_icao    departure_time_local                 airline  \\\n",
              "2382           LTFM                    None  Pakistan International   \n",
              "2383           KORD                    None           Qatar Airways   \n",
              "2384           OTHH  2023-03-30 16:40+03:00           Qatar Airways   \n",
              "2385           EGPF                    None           Qatar Airways   \n",
              "2386           LPPT  2023-03-30 19:20+01:00                  Azores   \n",
              "2387           LTFM  2023-03-30 20:20+03:00                 Turkish   \n",
              "2388           LPPT  2023-03-30 19:20+01:00        TAP Air Portugal   \n",
              "2389           LPPT  2023-03-30 20:15+01:00        TAP Air Portugal   \n",
              "2390           LTFM                    None                  United   \n",
              "2391           OTHH                    None                Oman Air   \n",
              "\n",
              "     flight_number data_retrieved_on  \n",
              "2382       PK 5987        2023-03-29  \n",
              "2383       QR 2858        2023-03-29  \n",
              "2384          QR 5        2023-03-29  \n",
              "2385       QR 5905        2023-03-29  \n",
              "2386       S4 8048        2023-03-29  \n",
              "2387       TK 1987        2023-03-29  \n",
              "2388       TP 1358        2023-03-29  \n",
              "2389       TP 1366        2023-03-29  \n",
              "2390       UA 6918        2023-03-29  \n",
              "2391       WY 6433        2023-03-29  "
            ]
          },
          "execution_count": 35,
          "metadata": {},
          "output_type": "execute_result"
        }
      ],
      "source": [
        "icaos = ['EDDB', 'EGLL']\n",
        "tomorrows_flight_arrivals(icaos).tail(10)"
      ]
    },
    {
      "cell_type": "code",
      "execution_count": null,
      "metadata": {
        "id": "xFVr7ahM-5hN"
      },
      "outputs": [],
      "source": []
    }
  ],
  "metadata": {
    "colab": {
      "provenance": []
    },
    "kernelspec": {
      "display_name": "Python 3 (ipykernel)",
      "language": "python",
      "name": "python3"
    },
    "language_info": {
      "codemirror_mode": {
        "name": "ipython",
        "version": 3
      },
      "file_extension": ".py",
      "mimetype": "text/x-python",
      "name": "python",
      "nbconvert_exporter": "python",
      "pygments_lexer": "ipython3",
      "version": "3.9.12"
    }
  },
  "nbformat": 4,
  "nbformat_minor": 0
}