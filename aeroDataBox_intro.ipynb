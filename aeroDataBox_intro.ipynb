{
  "cells": [
    {
      "cell_type": "markdown",
      "metadata": {
        "id": "Wu99MtE0j0za"
      },
      "source": [
        "So far we've learnt how to scrape the web, and how to make a request for information from an API. Some websites make APIs even easier. Check out [RapidAPI](https://rapidapi.com/) they take care of writing most of the code for you.\n",
        "\n",
        "We will use the [AeroDataBox API](https://rapidapi.com/aedbx-aedbx/api/aerodatabox/), which can retrieve all sorts of information about flights and airports. We will show you how to retrieve information about the airports, and then it's up to you to apply this, along with what you've already learnt this week, to **produce a function, which retrieves tomorrows flight information for the major airports in the cities you web scraped**."
      ]
    },
    {
      "cell_type": "code",
      "execution_count": null,
      "metadata": {
        "id": "lIYdn1woOS1n"
      },
      "outputs": [],
      "source": [
        "import pandas as pd\n",
        "import requests"
      ]
    },
    {
      "cell_type": "markdown",
      "metadata": {
        "id": "_xaphJ-ElsfW"
      },
      "source": [
        "On the left hand side of the AeroDataBox API page, you'll see a list of options for information that you can retrieve:\n",
        "> - Flights API\n",
        "- Subsciption / PUSH API\n",
        "- Airport API\n",
        "- Aircraft API\n",
        "- Healthcheck & Status API\n",
        "\n",
        "1. We want to select `Airport API`\n",
        "\n",
        "2. Then within Airport API we want to select `Search airports by location`\n",
        "\n",
        "3. Now in the middle third you'll want to enter the `latitude` and `longitude` of any city to test... we chose Berlin: latitude 52.31 longitude 13.24. Next we changed the `radiusKM` to only 50km. And finally set `withFlightInfoOnly` to true, so it will only return airports which have flight data (scheduled or live) available.\n",
        "\n",
        "4. On the right hand third of the screen you should see a block of code that looks pretty unfamiliar. This is because by default the code is probably set to *(Node.js) Axios*. However, we have the power to change this to familiar python. Select the dropdown box at the top of the code and select `python > requests`.\n",
        "\n",
        "Now you can copy the code to your notebook and it should look a little something like the cell below:"
      ]
    },
    {
      "cell_type": "code",
      "execution_count": null,
      "metadata": {
        "id": "SIdHZDHyr0Du",
        "outputId": "9d67af4f-5ba6-4252-d0e7-99ebc048b2e0"
      },
      "outputs": [
        {
          "name": "stdout",
          "output_type": "stream",
          "text": [
            "{\"searchBy\":{\"lat\":52.31,\"lon\":13.24},\"items\":[{\"icao\":\"EDDB\",\"iata\":\"BER\",\"name\":\"Berlin, Berlin Brandenburg\",\"shortName\":\"Brandenburg\",\"municipalityName\":\"Berlin\",\"location\":{\"lat\":52.35139,\"lon\":13.493889},\"countryCode\":\"DE\"}]}\n"
          ]
        }
      ],
      "source": [
        "url = \"https://aerodatabox.p.rapidapi.com/airports/search/location\"\n",
        "\n",
        "querystring = {\"lat\":\"52.31\",\"lon\":\"13.24\",\"radiusKm\":\"50\",\"limit\":\"10\",\"withFlightInfoOnly\":\"true\"}\n",
        "\n",
        "headers = {\n",
        "\t\"X-RapidAPI-Key\": \"YOUR_API_KEY_HERE\",\n",
        "\t\"X-RapidAPI-Host\": \"aerodatabox.p.rapidapi.com\"\n",
        "}\n",
        "\n",
        "response = requests.request(\"GET\", url, headers=headers, params=querystring)\n",
        "\n",
        "print(response.text)"
      ]
    },
    {
      "cell_type": "markdown",
      "metadata": {
        "id": "bOCrL-Jdr0Dv"
      },
      "source": [
        "Let's view the response as `.json()` instead of `.text` so that it's easier to read"
      ]
    },
    {
      "cell_type": "code",
      "execution_count": null,
      "metadata": {
        "id": "96_vKoixr0Dw",
        "outputId": "fed84a2b-8c5a-48a2-d8e2-ebdf19d1d02f"
      },
      "outputs": [
        {
          "name": "stdout",
          "output_type": "stream",
          "text": [
            "<bound method Response.json of <Response [200]>>\n"
          ]
        }
      ],
      "source": [
        "print(response.json)"
      ]
    },
    {
      "cell_type": "code",
      "execution_count": null,
      "metadata": {
        "id": "LJVjC_cGr0Dw"
      },
      "outputs": [],
      "source": [
        "from IPython.display import JSON"
      ]
    },
    {
      "cell_type": "code",
      "execution_count": null,
      "metadata": {
        "id": "MJg7Xl2_r0Dw",
        "outputId": "d7132f4c-135b-49e4-a6c5-c9365652d94d"
      },
      "outputs": [
        {
          "data": {
            "application/json": {
              "items": [
                {
                  "countryCode": "DE",
                  "iata": "BER",
                  "icao": "EDDB",
                  "location": {
                    "lat": 52.35139,
                    "lon": 13.493889
                  },
                  "municipalityName": "Berlin",
                  "name": "Berlin, Berlin Brandenburg",
                  "shortName": "Brandenburg"
                }
              ],
              "searchBy": {
                "lat": 52.31,
                "lon": 13.24
              }
            },
            "text/plain": [
              "<IPython.core.display.JSON object>"
            ]
          },
          "metadata": {
            "application/json": {
              "expanded": false,
              "root": "root"
            }
          },
          "output_type": "display_data"
        }
      ],
      "source": [
        "display(JSON(response.json()))"
      ]
    },
    {
      "cell_type": "markdown",
      "metadata": {
        "id": "TKBSuq2Zr0Dx"
      },
      "source": [
        "We can now turn this into a dataframe using `.json_normalize()`"
      ]
    },
    {
      "cell_type": "code",
      "execution_count": null,
      "metadata": {
        "id": "unhrKoePr0Dx",
        "outputId": "dd9acdce-491f-4420-f315-28b4df3133ad"
      },
      "outputs": [
        {
          "data": {
            "text/html": [
              "<div>\n",
              "<style scoped>\n",
              "    .dataframe tbody tr th:only-of-type {\n",
              "        vertical-align: middle;\n",
              "    }\n",
              "\n",
              "    .dataframe tbody tr th {\n",
              "        vertical-align: top;\n",
              "    }\n",
              "\n",
              "    .dataframe thead th {\n",
              "        text-align: right;\n",
              "    }\n",
              "</style>\n",
              "<table border=\"1\" class=\"dataframe\">\n",
              "  <thead>\n",
              "    <tr style=\"text-align: right;\">\n",
              "      <th></th>\n",
              "      <th>icao</th>\n",
              "      <th>iata</th>\n",
              "      <th>name</th>\n",
              "      <th>shortName</th>\n",
              "      <th>municipalityName</th>\n",
              "      <th>countryCode</th>\n",
              "      <th>location.lat</th>\n",
              "      <th>location.lon</th>\n",
              "    </tr>\n",
              "  </thead>\n",
              "  <tbody>\n",
              "    <tr>\n",
              "      <th>0</th>\n",
              "      <td>EDDB</td>\n",
              "      <td>BER</td>\n",
              "      <td>Berlin, Berlin Brandenburg</td>\n",
              "      <td>Brandenburg</td>\n",
              "      <td>Berlin</td>\n",
              "      <td>DE</td>\n",
              "      <td>52.35139</td>\n",
              "      <td>13.493889</td>\n",
              "    </tr>\n",
              "  </tbody>\n",
              "</table>\n",
              "</div>"
            ],
            "text/plain": [
              "   icao iata                        name    shortName municipalityName  \\\n",
              "0  EDDB  BER  Berlin, Berlin Brandenburg  Brandenburg           Berlin   \n",
              "\n",
              "  countryCode  location.lat  location.lon  \n",
              "0          DE      52.35139     13.493889  "
            ]
          },
          "execution_count": 7,
          "metadata": {},
          "output_type": "execute_result"
        }
      ],
      "source": [
        "pd.json_normalize(response.json()['items'])"
      ]
    },
    {
      "cell_type": "markdown",
      "metadata": {
        "id": "Q47nbbH0I3Xt"
      },
      "source": [
        "Let's now use this for the latitude and longitude of multiple cities"
      ]
    },
    {
      "cell_type": "code",
      "execution_count": null,
      "metadata": {
        "id": "3v-S9r3or0Dy"
      },
      "outputs": [],
      "source": [
        "lat = [52.3112, 51.3026]\n",
        "lon = [13.2418, 0.739]\n",
        "\n",
        "list_for_df_airports = []\n",
        "\n",
        "for i in range(len(lat)):\n",
        "    url = \"https://aerodatabox.p.rapidapi.com/airports/search/location\"\n",
        "\n",
        "    querystring = {\"lat\":lat[i],\"lon\":lon[i],\"radiusKm\":\"50\",\"limit\":\"10\",\"withFlightInfoOnly\":\"true\"}\n",
        "\n",
        "    headers = {\n",
        "        \"X-RapidAPI-Key\": \"1c3251541bmsh3ea474bb0b452e2p114d3ajsnb5ebfcb79cb2\",\n",
        "        \"X-RapidAPI-Host\": \"aerodatabox.p.rapidapi.com\"\n",
        "    }\n",
        "\n",
        "    response = requests.request(\"GET\", url, headers=headers, params=querystring)\n",
        "    \n",
        "    list_for_df_airports.append(response.json()['items'])"
      ]
    },
    {
      "cell_type": "code",
      "execution_count": null,
      "metadata": {
        "id": "yVB8lq8hr0Dy"
      },
      "outputs": [],
      "source": [
        "# lat = [52.3112, 51.3026]\n",
        "# lon = [13.2418, 0.739]\n",
        "\n",
        "# list_for_df_airports = []\n",
        "\n",
        "# for i in range(len(lat)):\n",
        "#     url = f\"https://aerodatabox.p.rapidapi.com/airports/search/location/{lat[i]}/{lon[i]}/km/50/10\"\n",
        "\n",
        "#     querystring = {\"withFlightInfoOnly\":\"true\"}\n",
        "\n",
        "#     headers = {\n",
        "#         \"X-RapidAPI-Key\": \"1c3251541bmsh3ea474bb0b452e2p114d3ajsnb5ebfcb79cb2\",\n",
        "#         \"X-RapidAPI-Host\": \"aerodatabox.p.rapidapi.com\"\n",
        "#     }\n",
        "\n",
        "#     response = requests.request(\"GET\", url, headers=headers, params=querystring)\n",
        "    \n",
        "#     list_for_df_airports.append(response.json()['items'])"
      ]
    },
    {
      "cell_type": "code",
      "execution_count": null,
      "metadata": {
        "id": "vsfji3fEr0Dz",
        "outputId": "72422520-959e-4ab6-ea17-ab9ab3d37c5d"
      },
      "outputs": [
        {
          "data": {
            "text/plain": [
              "[[{'icao': 'EDDB',\n",
              "   'iata': 'BER',\n",
              "   'name': 'Berlin, Berlin Brandenburg',\n",
              "   'shortName': 'Brandenburg',\n",
              "   'municipalityName': 'Berlin',\n",
              "   'location': {'lat': 52.35139, 'lon': 13.493889},\n",
              "   'countryCode': 'DE'}],\n",
              " [{'icao': 'EGMC',\n",
              "   'iata': 'SEN',\n",
              "   'name': 'Southend',\n",
              "   'shortName': 'Southend',\n",
              "   'municipalityName': 'Southend',\n",
              "   'location': {'lat': 51.5714, 'lon': 0.695555},\n",
              "   'countryCode': 'GB'}]]"
            ]
          },
          "execution_count": 9,
          "metadata": {},
          "output_type": "execute_result"
        }
      ],
      "source": [
        "list_for_df_airports"
      ]
    },
    {
      "cell_type": "code",
      "execution_count": null,
      "metadata": {
        "id": "0tLknBrjr0Dz",
        "outputId": "37202160-e217-4163-a45c-572a85545dd0"
      },
      "outputs": [
        {
          "data": {
            "text/plain": [
              "'EGMC'"
            ]
          },
          "execution_count": 14,
          "metadata": {},
          "output_type": "execute_result"
        }
      ],
      "source": [
        "list_for_df_airports[1][0]['icao']"
      ]
    },
    {
      "cell_type": "code",
      "execution_count": null,
      "metadata": {
        "id": "Q1GIT988r0Dz",
        "outputId": "5acdb24b-d6ea-42b6-acbb-f1b2f7df75c3"
      },
      "outputs": [
        {
          "data": {
            "text/plain": [
              "{'icao': 'EDDB', 'name': 'Berlin, Berlin Brandenburg'}"
            ]
          },
          "execution_count": 15,
          "metadata": {},
          "output_type": "execute_result"
        }
      ],
      "source": [
        "airpot_dict = {}\n",
        "airpot_dict['icao'] = list_for_df_airports[0][0]['icao']\n",
        "airpot_dict['name'] = list_for_df_airports[0][0]['name']\n",
        "\n",
        "airpot_dict"
      ]
    },
    {
      "cell_type": "code",
      "execution_count": null,
      "metadata": {
        "id": "LWHsUYPar0Dz"
      },
      "outputs": [],
      "source": []
    },
    {
      "cell_type": "code",
      "execution_count": null,
      "metadata": {
        "id": "UsNzS4Dar0Dz"
      },
      "outputs": [],
      "source": [
        "list_for_df = []\n",
        "\n",
        "for i in list_for_df_airports:\n",
        "    airpots_dict = {}\n",
        "    \n",
        "    airpots_dict['icao'] = i[0]['icao']\n",
        "    airpots_dict['name'] = i[0]['name']\n",
        "    list_for_df.append(airpots_dict)"
      ]
    },
    {
      "cell_type": "code",
      "execution_count": null,
      "metadata": {
        "id": "Vzd3iqpTr0D0",
        "outputId": "ec31ecc7-36a7-4213-c0bf-b97126be301b"
      },
      "outputs": [
        {
          "data": {
            "text/plain": [
              "[{'icao': 'EDDB', 'name': 'Berlin, Berlin Brandenburg'},\n",
              " {'icao': 'EGMC', 'name': 'Southend'}]"
            ]
          },
          "execution_count": 20,
          "metadata": {},
          "output_type": "execute_result"
        }
      ],
      "source": [
        "list_for_df"
      ]
    },
    {
      "cell_type": "code",
      "execution_count": null,
      "metadata": {
        "id": "9nigK7F1r0D0",
        "outputId": "2050db15-e29a-4b36-cf76-7a8a539aabe5"
      },
      "outputs": [
        {
          "data": {
            "text/html": [
              "<div>\n",
              "<style scoped>\n",
              "    .dataframe tbody tr th:only-of-type {\n",
              "        vertical-align: middle;\n",
              "    }\n",
              "\n",
              "    .dataframe tbody tr th {\n",
              "        vertical-align: top;\n",
              "    }\n",
              "\n",
              "    .dataframe thead th {\n",
              "        text-align: right;\n",
              "    }\n",
              "</style>\n",
              "<table border=\"1\" class=\"dataframe\">\n",
              "  <thead>\n",
              "    <tr style=\"text-align: right;\">\n",
              "      <th></th>\n",
              "      <th>icao</th>\n",
              "      <th>name</th>\n",
              "    </tr>\n",
              "  </thead>\n",
              "  <tbody>\n",
              "    <tr>\n",
              "      <th>0</th>\n",
              "      <td>EDDB</td>\n",
              "      <td>Berlin, Berlin Brandenburg</td>\n",
              "    </tr>\n",
              "    <tr>\n",
              "      <th>1</th>\n",
              "      <td>EGMC</td>\n",
              "      <td>Southend</td>\n",
              "    </tr>\n",
              "  </tbody>\n",
              "</table>\n",
              "</div>"
            ],
            "text/plain": [
              "   icao                        name\n",
              "0  EDDB  Berlin, Berlin Brandenburg\n",
              "1  EGMC                    Southend"
            ]
          },
          "execution_count": 21,
          "metadata": {},
          "output_type": "execute_result"
        }
      ],
      "source": [
        "airports_df = pd.DataFrame(list_for_df)\n",
        "airports_df"
      ]
    },
    {
      "cell_type": "code",
      "execution_count": null,
      "metadata": {
        "id": "q0VCPFOmH3vl"
      },
      "outputs": [],
      "source": [
        "def icao_airport_codes(latitudes, longitudes):\n",
        "\n",
        "  #assert len(latitudes) == len(longitudes)\n",
        "  \n",
        "  list_for_df = []\n",
        "\n",
        "  for i in range(len(latitudes)):\n",
        "\n",
        "    url = f\"https://aerodatabox.p.rapidapi.com/airports/search/location/{latitudes[i]}/{longitudes[i]}/km/100/16\"\n",
        "\n",
        "    querystring = {\"withFlightInfoOnly\":\"true\"}\n",
        "\n",
        "    headers = {\n",
        "      \"X-RapidAPI-Host\": \"aerodatabox.p.rapidapi.com\",\n",
        "      \"X-RapidAPI-Key\": \"YOUR_API_KEY_HERE\"\n",
        "    }\n",
        "\n",
        "    response = requests.request(\"GET\", url, headers=headers, params=querystring)\n",
        "\n",
        "    list_for_df.append(pd.json_normalize(response.json()['items']))\n",
        "\n",
        "  return pd.concat(list_for_df, ignore_index=True)"
      ]
    },
    {
      "cell_type": "markdown",
      "metadata": {
        "id": "q3DS1gbq3xG8"
      },
      "source": [
        "###### **Challenge 1:** Icao codes\n",
        "If you use the above for all of your cities, you can create a DataFrame of all the airports and their associated `icao` codes. Perfect for a relational database.\n",
        "\n",
        "###### **Challenge 2:** Arrivals information\n",
        "Using what you have been shown above, plus the skills you've learnt in the last couple of days:\n",
        "1. In `AeroDataBox API` use the `Flight API` > `FIDS/Schedules: Airport departures and arrivals by airport ICAO code` section\n",
        "2. Fill out the parameters in the middle third and then copy the `python: requests` code from the right hand third\n",
        "3. Explore the data you get back. What would be useful in your DataFrame and what can be excluded? Remember Gans wants to know about when people are arriving in the city\n",
        "4. Make a DataFrame from the information you see as important\n",
        "5. Condense everything you did above into a function that can take a list of ICAO codes as an input, and as an output gives you a DataFrame with the information for *tomorrows arrivals*"
      ]
    },
    {
      "cell_type": "code",
      "execution_count": null,
      "metadata": {
        "id": "4xFK3kVd4w5A"
      },
      "outputs": [],
      "source": [
        "# your code here"
      ]
    }
  ],
  "metadata": {
    "colab": {
      "provenance": [],
      "toc_visible": true
    },
    "kernelspec": {
      "display_name": "Python 3 (ipykernel)",
      "language": "python",
      "name": "python3"
    },
    "language_info": {
      "codemirror_mode": {
        "name": "ipython",
        "version": 3
      },
      "file_extension": ".py",
      "mimetype": "text/x-python",
      "name": "python",
      "nbconvert_exporter": "python",
      "pygments_lexer": "ipython3",
      "version": "3.9.12"
    }
  },
  "nbformat": 4,
  "nbformat_minor": 0
}