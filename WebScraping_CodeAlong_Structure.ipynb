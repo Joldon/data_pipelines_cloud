{
  "cells": [
    {
      "cell_type": "markdown",
      "metadata": {
        "id": "yVkq4T4t4r2e"
      },
      "source": [
        "# Intro to web scraping"
      ]
    },
    {
      "cell_type": "markdown",
      "metadata": {
        "id": "j7OzcH7I4r2h"
      },
      "source": [
        "The first step of web scraping is to identify a website and download the html code from it. \n",
        "\n",
        "Real html from websites tends to be long and a bit too chaotic for a total beginner. Here we will start with a dummy html document and learn the basics of extracting info with beautifulsoup."
      ]
    },
    {
      "cell_type": "code",
      "execution_count": 81,
      "metadata": {
        "id": "aRpBuLTW4r2i"
      },
      "outputs": [],
      "source": [
        "html_doc = \"\"\"\n",
        "<!DOCTYPE html>\n",
        "<html><head><title>The Dormouse's story</title></head>\n",
        "<body>\n",
        "<p class=\"title\"><b>The Dormouse's story</b></p>\n",
        "\n",
        "<p class=\"story\">Once upon a time there were three little sisters; and their names were\n",
        "<a href=\"http://example.com/elsie\" class=\"sister\" id=\"link1\">Elsie</a>,\n",
        "<a href=\"http://example.com/lacie\" class=\"sister\" id=\"link2\">Lacie</a> and\n",
        "<a href=\"http://example.com/tillie\" class=\"sister\" id=\"link3\">Tillie</a>;\n",
        "and they lived at the bottom of a well.</p>\n",
        "\n",
        "<p class=\"story\">...</p>\n",
        "</html>\n",
        "\"\"\""
      ]
    },
    {
      "cell_type": "code",
      "execution_count": 82,
      "metadata": {
        "colab": {
          "base_uri": "https://localhost:8080/",
          "height": 160
        },
        "id": "tVMYzZQq4r2j",
        "outputId": "3fb0b4f6-e8f7-4ccf-833b-86d0dfbfb832"
      },
      "outputs": [
        {
          "output_type": "execute_result",
          "data": {
            "text/plain": [
              "'\\n<!DOCTYPE html>\\n<html><head><title>The Dormouse\\'s story</title></head>\\n<body>\\n<p class=\"title\"><b>The Dormouse\\'s story</b></p>\\n\\n<p class=\"story\">Once upon a time there were three little sisters; and their names were\\n<a href=\"http://example.com/elsie\" class=\"sister\" id=\"link1\">Elsie</a>,\\n<a href=\"http://example.com/lacie\" class=\"sister\" id=\"link2\">Lacie</a> and\\n<a href=\"http://example.com/tillie\" class=\"sister\" id=\"link3\">Tillie</a>;\\nand they lived at the bottom of a well.</p>\\n\\n<p class=\"story\">...</p>\\n</html>\\n'"
            ],
            "application/vnd.google.colaboratory.intrinsic+json": {
              "type": "string"
            }
          },
          "metadata": {},
          "execution_count": 82
        }
      ],
      "source": [
        "html_doc"
      ]
    },
    {
      "cell_type": "code",
      "execution_count": 83,
      "metadata": {
        "id": "9iUsBPAj4r2k",
        "colab": {
          "base_uri": "https://localhost:8080/"
        },
        "outputId": "20cbb630-625e-4e99-c77c-11761834f505"
      },
      "outputs": [
        {
          "output_type": "stream",
          "name": "stdout",
          "text": [
            "Looking in indexes: https://pypi.org/simple, https://us-python.pkg.dev/colab-wheels/public/simple/\n",
            "Requirement already satisfied: beautifulsoup4 in /usr/local/lib/python3.9/dist-packages (4.12.0)\n",
            "Requirement already satisfied: soupsieve>1.2 in /usr/local/lib/python3.9/dist-packages (from beautifulsoup4) (2.4)\n"
          ]
        }
      ],
      "source": [
        "from bs4 import BeautifulSoup\n",
        "!pip install --upgrade beautifulsoup4"
      ]
    },
    {
      "cell_type": "markdown",
      "metadata": {
        "id": "gLiUYOtA4r2k"
      },
      "source": [
        "#### \"creating the soup\""
      ]
    },
    {
      "cell_type": "code",
      "execution_count": 84,
      "metadata": {
        "id": "mu8hYz064r2l"
      },
      "outputs": [],
      "source": [
        "# parse the element\n",
        "soup = BeautifulSoup(html_doc, 'html.parser')"
      ]
    },
    {
      "cell_type": "code",
      "execution_count": 85,
      "metadata": {
        "colab": {
          "base_uri": "https://localhost:8080/"
        },
        "id": "IiyEYX8c4r2l",
        "outputId": "525b4301-dff2-494b-b728-84952243f2c7"
      },
      "outputs": [
        {
          "output_type": "execute_result",
          "data": {
            "text/plain": [
              "<bound method Tag.prettify of \n",
              "<!DOCTYPE html>\n",
              "\n",
              "<html><head><title>The Dormouse's story</title></head>\n",
              "<body>\n",
              "<p class=\"title\"><b>The Dormouse's story</b></p>\n",
              "<p class=\"story\">Once upon a time there were three little sisters; and their names were\n",
              "<a class=\"sister\" href=\"http://example.com/elsie\" id=\"link1\">Elsie</a>,\n",
              "<a class=\"sister\" href=\"http://example.com/lacie\" id=\"link2\">Lacie</a> and\n",
              "<a class=\"sister\" href=\"http://example.com/tillie\" id=\"link3\">Tillie</a>;\n",
              "and they lived at the bottom of a well.</p>\n",
              "<p class=\"story\">...</p>\n",
              "</body></html>\n",
              ">"
            ]
          },
          "metadata": {},
          "execution_count": 85
        }
      ],
      "source": [
        "soup.prettify"
      ]
    },
    {
      "cell_type": "markdown",
      "metadata": {
        "id": "bnSHDPfB4r2m"
      },
      "source": [
        "#### accessing single elements"
      ]
    },
    {
      "cell_type": "code",
      "execution_count": 86,
      "metadata": {
        "colab": {
          "base_uri": "https://localhost:8080/"
        },
        "id": "FoanXd4p4r2m",
        "outputId": "bfd14e20-4edc-41f1-a511-6c0726ea99c9"
      },
      "outputs": [
        {
          "output_type": "execute_result",
          "data": {
            "text/plain": [
              "<title>The Dormouse's story</title>"
            ]
          },
          "metadata": {},
          "execution_count": 86
        }
      ],
      "source": [
        "soup.title"
      ]
    },
    {
      "cell_type": "code",
      "execution_count": 87,
      "metadata": {
        "colab": {
          "base_uri": "https://localhost:8080/",
          "height": 35
        },
        "id": "OryYiLOD4r2n",
        "outputId": "28bf49f2-9c53-4ba8-87cc-ce5c0c264ff2"
      },
      "outputs": [
        {
          "output_type": "execute_result",
          "data": {
            "text/plain": [
              "\"The Dormouse's story\""
            ],
            "application/vnd.google.colaboratory.intrinsic+json": {
              "type": "string"
            }
          },
          "metadata": {},
          "execution_count": 87
        }
      ],
      "source": [
        "soup.title.string"
      ]
    },
    {
      "cell_type": "code",
      "execution_count": 88,
      "metadata": {
        "colab": {
          "base_uri": "https://localhost:8080/",
          "height": 35
        },
        "id": "k7Hz_vu54r2n",
        "outputId": "26b444b0-9bd0-4ca4-89e0-3e12b62cb788"
      },
      "outputs": [
        {
          "output_type": "execute_result",
          "data": {
            "text/plain": [
              "'head'"
            ],
            "application/vnd.google.colaboratory.intrinsic+json": {
              "type": "string"
            }
          },
          "metadata": {},
          "execution_count": 88
        }
      ],
      "source": [
        "soup.title.parent.name"
      ]
    },
    {
      "cell_type": "code",
      "execution_count": 89,
      "metadata": {
        "colab": {
          "base_uri": "https://localhost:8080/"
        },
        "id": "Dkm_JHJ74r2n",
        "outputId": "b6c59dea-ca6b-4647-e074-720ebef2cdf0"
      },
      "outputs": [
        {
          "output_type": "execute_result",
          "data": {
            "text/plain": [
              "<body>\n",
              "<p class=\"title\"><b>The Dormouse's story</b></p>\n",
              "<p class=\"story\">Once upon a time there were three little sisters; and their names were\n",
              "<a class=\"sister\" href=\"http://example.com/elsie\" id=\"link1\">Elsie</a>,\n",
              "<a class=\"sister\" href=\"http://example.com/lacie\" id=\"link2\">Lacie</a> and\n",
              "<a class=\"sister\" href=\"http://example.com/tillie\" id=\"link3\">Tillie</a>;\n",
              "and they lived at the bottom of a well.</p>\n",
              "<p class=\"story\">...</p>\n",
              "</body>"
            ]
          },
          "metadata": {},
          "execution_count": 89
        }
      ],
      "source": [
        "soup.body"
      ]
    },
    {
      "cell_type": "code",
      "execution_count": 90,
      "metadata": {
        "colab": {
          "base_uri": "https://localhost:8080/"
        },
        "id": "eQ4f2fr24r2n",
        "outputId": "fe72f1b7-d676-499d-a517-bace0bcf3b14"
      },
      "outputs": [
        {
          "output_type": "execute_result",
          "data": {
            "text/plain": [
              "<p class=\"title\"><b>The Dormouse's story</b></p>"
            ]
          },
          "metadata": {},
          "execution_count": 90
        }
      ],
      "source": [
        "# this method only retrieves the first element of the specified tag\n",
        "soup.p"
      ]
    },
    {
      "cell_type": "markdown",
      "metadata": {
        "id": "e2AzSMlb4r2o"
      },
      "source": [
        "#### finding all elements of a tag with find_all()"
      ]
    },
    {
      "cell_type": "code",
      "execution_count": 91,
      "metadata": {
        "id": "8CgTFdkf4r2o"
      },
      "outputs": [],
      "source": [
        "p_tags = soup.find_all(\"p\")"
      ]
    },
    {
      "cell_type": "code",
      "source": [
        "p_tags "
      ],
      "metadata": {
        "colab": {
          "base_uri": "https://localhost:8080/"
        },
        "id": "J6W73rsFP5cj",
        "outputId": "90e667be-8666-4b92-e174-c05193af1850"
      },
      "execution_count": 92,
      "outputs": [
        {
          "output_type": "execute_result",
          "data": {
            "text/plain": [
              "[<p class=\"title\"><b>The Dormouse's story</b></p>,\n",
              " <p class=\"story\">Once upon a time there were three little sisters; and their names were\n",
              " <a class=\"sister\" href=\"http://example.com/elsie\" id=\"link1\">Elsie</a>,\n",
              " <a class=\"sister\" href=\"http://example.com/lacie\" id=\"link2\">Lacie</a> and\n",
              " <a class=\"sister\" href=\"http://example.com/tillie\" id=\"link3\">Tillie</a>;\n",
              " and they lived at the bottom of a well.</p>,\n",
              " <p class=\"story\">...</p>]"
            ]
          },
          "metadata": {},
          "execution_count": 92
        }
      ]
    },
    {
      "cell_type": "code",
      "execution_count": 93,
      "metadata": {
        "colab": {
          "base_uri": "https://localhost:8080/"
        },
        "id": "BWS2R-HC4r2o",
        "outputId": "d1778d48-324d-44cc-98be-9680f684a7e0"
      },
      "outputs": [
        {
          "output_type": "stream",
          "name": "stdout",
          "text": [
            "The Dormouse's story\n",
            "Once upon a time there were three little sisters; and their names were\n",
            "Elsie,\n",
            "Lacie and\n",
            "Tillie;\n",
            "and they lived at the bottom of a well.\n",
            "...\n"
          ]
        }
      ],
      "source": [
        "for p in p_tags:\n",
        "    print(p.get_text())"
      ]
    },
    {
      "cell_type": "markdown",
      "metadata": {
        "id": "-6HCw2TO4r2o"
      },
      "source": [
        "#### Using css selectors\n",
        "\n",
        "https://htmlcheatsheet.com/css/"
      ]
    },
    {
      "cell_type": "code",
      "execution_count": 94,
      "metadata": {
        "colab": {
          "base_uri": "https://localhost:8080/"
        },
        "id": "ViIxeVB34r2p",
        "outputId": "00e6157d-a128-4168-9c6c-6e3a513ea972"
      },
      "outputs": [
        {
          "output_type": "execute_result",
          "data": {
            "text/plain": [
              "[<p class=\"title\"><b>The Dormouse's story</b></p>]"
            ]
          },
          "metadata": {},
          "execution_count": 94
        }
      ],
      "source": [
        "# select all elements with class=\"title\"\n",
        "soup.select(\".title\")"
      ]
    },
    {
      "cell_type": "code",
      "execution_count": 95,
      "metadata": {
        "colab": {
          "base_uri": "https://localhost:8080/"
        },
        "id": "zL5OwQ7F4r2p",
        "outputId": "810d02fb-7a31-40d8-bfe3-7beab3d02eeb"
      },
      "outputs": [
        {
          "output_type": "execute_result",
          "data": {
            "text/plain": [
              "[<a class=\"sister\" href=\"http://example.com/elsie\" id=\"link1\">Elsie</a>,\n",
              " <a class=\"sister\" href=\"http://example.com/lacie\" id=\"link2\">Lacie</a>,\n",
              " <a class=\"sister\" href=\"http://example.com/tillie\" id=\"link3\">Tillie</a>]"
            ]
          },
          "metadata": {},
          "execution_count": 95
        }
      ],
      "source": [
        "# select all elements with class=\"sister\"\n",
        "soup.select(\".sister\")"
      ]
    },
    {
      "cell_type": "code",
      "execution_count": 96,
      "metadata": {
        "colab": {
          "base_uri": "https://localhost:8080/"
        },
        "id": "OEeTtq3k4r2p",
        "outputId": "7e2f8520-92fa-4cc9-bae8-97d743375d0e"
      },
      "outputs": [
        {
          "output_type": "execute_result",
          "data": {
            "text/plain": [
              "[<a class=\"sister\" href=\"http://example.com/lacie\" id=\"link2\">Lacie</a>]"
            ]
          },
          "metadata": {},
          "execution_count": 96
        }
      ],
      "source": [
        "# select \"all\" elements with the id=\"link2\"\n",
        "soup.select(\"#link2\")"
      ]
    },
    {
      "cell_type": "markdown",
      "metadata": {
        "id": "IhhEFb0X4r2p"
      },
      "source": [
        "We can combine the `select()` method with other bs4 methods, such as `get_text()`.\n",
        "\n",
        "`get_text()`, however, can only be applied to single elements, while `select()` might return multiple elements. It's common to iterate through the output of `select()`"
      ]
    },
    {
      "cell_type": "code",
      "execution_count": 97,
      "metadata": {
        "colab": {
          "base_uri": "https://localhost:8080/"
        },
        "id": "BN0vE1A34r2q",
        "outputId": "f0b4d06a-9f8e-4583-a294-5e448e68d00f"
      },
      "outputs": [
        {
          "output_type": "stream",
          "name": "stdout",
          "text": [
            "Once upon a time there were three little sisters; and their names were\n",
            "Elsie,\n",
            "Lacie and\n",
            "Tillie;\n",
            "and they lived at the bottom of a well.\n"
          ]
        }
      ],
      "source": [
        "print(soup.select(\"p.story\")[0].get_text())"
      ]
    },
    {
      "cell_type": "code",
      "execution_count": 98,
      "metadata": {
        "colab": {
          "base_uri": "https://localhost:8080/"
        },
        "id": "7TP7gDEM4r2q",
        "outputId": "585b5328-eaf9-4e47-91fe-ee5db280e887"
      },
      "outputs": [
        {
          "output_type": "stream",
          "name": "stdout",
          "text": [
            "Once upon a time there were three little sisters; and their names were\n",
            "Elsie,\n",
            "Lacie and\n",
            "Tillie;\n",
            "and they lived at the bottom of a well.\n",
            "...\n"
          ]
        }
      ],
      "source": [
        "for p in soup.select(\"p.story\"):\n",
        "    print(p.get_text())"
      ]
    },
    {
      "cell_type": "markdown",
      "metadata": {
        "id": "YvNvwEzf4r2q"
      },
      "source": [
        "### Your turn:\n",
        "\n",
        "Write code to print the following contents (not including the html tags, only human-readable text): \n",
        "\n",
        "1. All the \"fun facts\". \n",
        "\n",
        "2. The names of all the places. \n",
        "\n",
        "3. The content (name and fact) of all the cities (only cities, not countries!) \n",
        "\n",
        "4. The names (not facts!) of all the cities (not countries!)"
      ]
    },
    {
      "cell_type": "code",
      "execution_count": 99,
      "metadata": {
        "id": "8y1hSNm44r2q"
      },
      "outputs": [],
      "source": [
        "geography = \"\"\"\n",
        "<!DOCTYPE html>\n",
        "<html>\n",
        "<head> Geography</head>\n",
        "<body>\n",
        "\n",
        "<div class=\"city\">\n",
        "  <h2>London</h2>\n",
        "  <p>London is the most popular tourist destination in the world.</p>\n",
        "</div>\n",
        "\n",
        "<div class=\"city\">\n",
        "  <h2>Paris</h2>\n",
        "  <p>Paris was originally a Roman City called Lutetia.</p>\n",
        "</div>\n",
        "\n",
        "<div class=\"country\">\n",
        "  <h2>Spain</h2>\n",
        "  <p>Spain produces 43,8% of all the world's Olive Oil.</p>\n",
        "</div>\n",
        "\n",
        "</body>\n",
        "</html>\n",
        "\"\"\""
      ]
    },
    {
      "cell_type": "code",
      "source": [
        "geography"
      ],
      "metadata": {
        "colab": {
          "base_uri": "https://localhost:8080/",
          "height": 125
        },
        "id": "1I-nnpRMVOQ4",
        "outputId": "01dd4835-faf9-48b2-976c-be6f91c0d3be"
      },
      "execution_count": 100,
      "outputs": [
        {
          "output_type": "execute_result",
          "data": {
            "text/plain": [
              "'\\n<!DOCTYPE html>\\n<html>\\n<head> Geography</head>\\n<body>\\n\\n<div class=\"city\">\\n  <h2>London</h2>\\n  <p>London is the most popular tourist destination in the world.</p>\\n</div>\\n\\n<div class=\"city\">\\n  <h2>Paris</h2>\\n  <p>Paris was originally a Roman City called Lutetia.</p>\\n</div>\\n\\n<div class=\"country\">\\n  <h2>Spain</h2>\\n  <p>Spain produces 43,8% of all the world\\'s Olive Oil.</p>\\n</div>\\n\\n</body>\\n</html>\\n'"
            ],
            "application/vnd.google.colaboratory.intrinsic+json": {
              "type": "string"
            }
          },
          "metadata": {},
          "execution_count": 100
        }
      ]
    },
    {
      "cell_type": "code",
      "execution_count": 101,
      "metadata": {
        "id": "lA-d4CS04r2q"
      },
      "outputs": [],
      "source": [
        "# Create the \"soup\"\n",
        "soup = BeautifulSoup(geography, 'html.parser')"
      ]
    },
    {
      "cell_type": "code",
      "source": [
        "soup.prettify"
      ],
      "metadata": {
        "colab": {
          "base_uri": "https://localhost:8080/"
        },
        "id": "kI1-3PNXSyVO",
        "outputId": "e3c0ad13-c5b3-4f20-9820-dbecbe355712"
      },
      "execution_count": 102,
      "outputs": [
        {
          "output_type": "execute_result",
          "data": {
            "text/plain": [
              "<bound method Tag.prettify of \n",
              "<!DOCTYPE html>\n",
              "\n",
              "<html>\n",
              "<head> Geography</head>\n",
              "<body>\n",
              "<div class=\"city\">\n",
              "<h2>London</h2>\n",
              "<p>London is the most popular tourist destination in the world.</p>\n",
              "</div>\n",
              "<div class=\"city\">\n",
              "<h2>Paris</h2>\n",
              "<p>Paris was originally a Roman City called Lutetia.</p>\n",
              "</div>\n",
              "<div class=\"country\">\n",
              "<h2>Spain</h2>\n",
              "<p>Spain produces 43,8% of all the world's Olive Oil.</p>\n",
              "</div>\n",
              "</body>\n",
              "</html>\n",
              ">"
            ]
          },
          "metadata": {},
          "execution_count": 102
        }
      ]
    },
    {
      "cell_type": "code",
      "source": [
        "p_tags = soup.find_all('p')"
      ],
      "metadata": {
        "id": "_L3atupnUHKH"
      },
      "execution_count": 103,
      "outputs": []
    },
    {
      "cell_type": "code",
      "execution_count": 104,
      "metadata": {
        "id": "cgVSabQm4r2q",
        "colab": {
          "base_uri": "https://localhost:8080/"
        },
        "outputId": "0df2b923-1926-4bb0-e630-9efcc0bb0205"
      },
      "outputs": [
        {
          "output_type": "stream",
          "name": "stdout",
          "text": [
            "London is the most popular tourist destination in the world.\n",
            "Paris was originally a Roman City called Lutetia.\n",
            "Spain produces 43,8% of all the world's Olive Oil.\n"
          ]
        }
      ],
      "source": [
        "# 1. All the \"fun facts\"\n",
        "for p in p_tags:\n",
        "  print(p.get_text())"
      ]
    },
    {
      "cell_type": "code",
      "source": [
        "#pj\n",
        "# soup = BeautifulSoup(geography)\n",
        "# places = soup.find_all(\"div\", {\"class\": [\"city\", \"country\"]})\n",
        "# for place in places:\n",
        "#     name = place.find(\"h2\").get_text()\n",
        "#     print(name)"
      ],
      "metadata": {
        "id": "H_HPbfNvbfQT"
      },
      "execution_count": 105,
      "outputs": []
    },
    {
      "cell_type": "code",
      "source": [
        "cities = soup.find_all('h2')"
      ],
      "metadata": {
        "id": "goBB3w4VWCeP"
      },
      "execution_count": 106,
      "outputs": []
    },
    {
      "cell_type": "code",
      "execution_count": 107,
      "metadata": {
        "id": "O-rw5DtM4r2q",
        "colab": {
          "base_uri": "https://localhost:8080/"
        },
        "outputId": "4430e446-68d4-4389-c11f-4b702ee08583"
      },
      "outputs": [
        {
          "output_type": "stream",
          "name": "stdout",
          "text": [
            "London\n",
            "Paris\n",
            "Spain\n"
          ]
        }
      ],
      "source": [
        "# 2. The names of all the places.\n",
        "for h2 in cities:\n",
        "  print(h2.get_text())"
      ]
    },
    {
      "cell_type": "code",
      "execution_count": 108,
      "metadata": {
        "id": "ZHU_lcto4r2r",
        "colab": {
          "base_uri": "https://localhost:8080/"
        },
        "outputId": "bf732d73-af4e-41b7-d688-886747b5603f"
      },
      "outputs": [
        {
          "output_type": "stream",
          "name": "stdout",
          "text": [
            "\n",
            "London\n",
            "London is the most popular tourist destination in the world.\n",
            "\n",
            "\n",
            "Paris\n",
            "Paris was originally a Roman City called Lutetia.\n",
            "\n"
          ]
        }
      ],
      "source": [
        "# 3. All the content (name and fact) of all the cities (only cities, not countries!)\n",
        "\n",
        "for city in soup.select('.city'):\n",
        "  print(city.get_text())\n",
        "  \n"
      ]
    },
    {
      "cell_type": "code",
      "execution_count": 109,
      "metadata": {
        "id": "0BD7bOow4r2r",
        "colab": {
          "base_uri": "https://localhost:8080/"
        },
        "outputId": "81d9c4a0-4893-463c-9da2-81d2fb186990"
      },
      "outputs": [
        {
          "output_type": "stream",
          "name": "stdout",
          "text": [
            "London\n",
            "Paris\n"
          ]
        }
      ],
      "source": [
        "# 4. The names (not facts!) of all the cities (not countries!)\n",
        "\n",
        "for city in soup.select('.city h2'):\n",
        "  print(city.get_text())\n"
      ]
    },
    {
      "cell_type": "code",
      "source": [
        "#alternative solution\n",
        "\n",
        "\n",
        "# select all city <div> elements and extract the city names\n",
        "city_names = [div.h2.get_text() for div in soup.select('div.city')]\n",
        "\n",
        "# print the city names\n",
        "for city in city_names:\n",
        "    print(city)"
      ],
      "metadata": {
        "colab": {
          "base_uri": "https://localhost:8080/"
        },
        "id": "oIcYUsv7mpVr",
        "outputId": "0e6e3eb1-683c-4297-a8f3-944d12e8891b"
      },
      "execution_count": 110,
      "outputs": [
        {
          "output_type": "stream",
          "name": "stdout",
          "text": [
            "London\n",
            "Paris\n"
          ]
        }
      ]
    },
    {
      "cell_type": "markdown",
      "metadata": {
        "id": "uZ4KzYaO4r2r"
      },
      "source": [
        "## Use case: imdb top charts\n",
        "\n",
        "Let's go to https://www.imdb.com/chart/top, where we'll see the top 250 movies according to IMDb ratings.\n",
        "\n",
        "Notice how each movie has the following elements:\n",
        "\n",
        "- Title\n",
        "\n",
        "- Release Year\n",
        "\n",
        "- IMDb rating\n",
        "\n",
        "- Director & main stars (they appear when you hover over the title)\n",
        "\n",
        "Our objective is going to be to scrape this information and store it in a pandas dataframe.\n",
        "\n"
      ]
    },
    {
      "cell_type": "code",
      "execution_count": 111,
      "metadata": {
        "id": "EqouwmpU4r2r"
      },
      "outputs": [],
      "source": [
        "# 1. import libraries\n",
        "from bs4 import BeautifulSoup\n",
        "import requests\n",
        "import pandas as pd"
      ]
    },
    {
      "cell_type": "code",
      "execution_count": 112,
      "metadata": {
        "id": "jCoafcfp4r2r"
      },
      "outputs": [],
      "source": [
        "# 2. find url and store it in a variable\n",
        "url = \"https://www.imdb.com/chart/top\""
      ]
    },
    {
      "cell_type": "code",
      "execution_count": 114,
      "metadata": {
        "colab": {
          "base_uri": "https://localhost:8080/"
        },
        "id": "WXa8oy2w4r2s",
        "outputId": "dc8c39ec-3ce9-4b53-b345-1aa6a7c40ccf"
      },
      "outputs": [
        {
          "output_type": "execute_result",
          "data": {
            "text/plain": [
              "200"
            ]
          },
          "metadata": {},
          "execution_count": 114
        }
      ],
      "source": [
        "# 3. download html with a get request\n",
        "headers = {'Accept-Language': 'en-US,en;q=0.8'}\n",
        "response = requests.get(url, headers = headers)\n",
        "response.status_code # 200 status code means OK!"
      ]
    },
    {
      "cell_type": "code",
      "execution_count": 115,
      "metadata": {
        "jupyter": {
          "outputs_hidden": true
        },
        "id": "XQI6Vwmy4r2s"
      },
      "outputs": [],
      "source": [
        "# 4.1. parse html (create the 'soup')\n",
        "soup = BeautifulSoup(response.content, \"html.parser\")\n",
        "# 4.2. check that the html code looks like it should\n",
        "# soup"
      ]
    },
    {
      "cell_type": "code",
      "execution_count": null,
      "metadata": {
        "jupyter": {
          "outputs_hidden": true
        },
        "id": "iNs9Sa_C4r2u"
      },
      "outputs": [],
      "source": [
        "soup.select(\"td.titleColumn\") # all the info about all the movies"
      ]
    },
    {
      "cell_type": "code",
      "execution_count": null,
      "metadata": {
        "jupyter": {
          "outputs_hidden": true
        },
        "id": "XaJ7_YGD4r2u"
      },
      "outputs": [],
      "source": [
        "soup.select(\"td.titleColumn a\") # all elements containing movie titles"
      ]
    },
    {
      "cell_type": "code",
      "execution_count": null,
      "metadata": {
        "colab": {
          "base_uri": "https://localhost:8080/",
          "height": 36
        },
        "id": "0SaqchYg4r2u",
        "outputId": "cfdf277f-dbfc-4768-e2ac-652e540f9533"
      },
      "outputs": [
        {
          "output_type": "execute_result",
          "data": {
            "text/plain": [
              "'The Shawshank Redemption'"
            ],
            "application/vnd.google.colaboratory.intrinsic+json": {
              "type": "string"
            }
          },
          "metadata": {},
          "execution_count": 31
        }
      ],
      "source": [
        "# we can use .get_text() to extract the content of the tags we selected\n",
        "# we'll need to do it to each tag with a for loop: here we do it to the first one\n",
        "soup.select(\"td.titleColumn a\")[0].get_text()"
      ]
    },
    {
      "cell_type": "code",
      "execution_count": null,
      "metadata": {
        "colab": {
          "base_uri": "https://localhost:8080/",
          "height": 36
        },
        "id": "bHl_kNI54r2u",
        "outputId": "c800da4b-ce68-4ea9-a985-0a43dc4956af"
      },
      "outputs": [
        {
          "output_type": "execute_result",
          "data": {
            "text/plain": [
              "'Frank Darabont (dir.), Tim Robbins, Morgan Freeman'"
            ],
            "application/vnd.google.colaboratory.intrinsic+json": {
              "type": "string"
            }
          },
          "metadata": {},
          "execution_count": 32
        }
      ],
      "source": [
        "# the director and main stars are in the same tag, but as a value of the attribute \"title\"\n",
        "# we can access attributes as key-value pairs of dictionaries: using [\"key\"] to get the value:\n",
        "soup.select(\"td.titleColumn a\")[0][\"title\"] "
      ]
    },
    {
      "cell_type": "code",
      "source": [
        "# instead of [\"title\"] we could use .get(\"title\"): choose whatever you prefer\n",
        "\n",
        "soup.select(\"td.titleColumn a\")[0].get(\"title\")"
      ],
      "metadata": {
        "colab": {
          "base_uri": "https://localhost:8080/",
          "height": 36
        },
        "id": "UqcSCe8iaMfR",
        "outputId": "fa922d4a-e7b3-4635-be05-1f731c8bf12d"
      },
      "execution_count": null,
      "outputs": [
        {
          "output_type": "execute_result",
          "data": {
            "text/plain": [
              "'Frank Darabont (dir.), Tim Robbins, Morgan Freeman'"
            ],
            "application/vnd.google.colaboratory.intrinsic+json": {
              "type": "string"
            }
          },
          "metadata": {},
          "execution_count": 33
        }
      ]
    },
    {
      "cell_type": "code",
      "execution_count": null,
      "metadata": {
        "colab": {
          "base_uri": "https://localhost:8080/",
          "height": 36
        },
        "id": "t7mtG39n4r2u",
        "outputId": "dffbcc1c-6a37-4a73-c26f-58752d60fdba"
      },
      "outputs": [
        {
          "output_type": "execute_result",
          "data": {
            "text/plain": [
              "'(1994)'"
            ],
            "application/vnd.google.colaboratory.intrinsic+json": {
              "type": "string"
            }
          },
          "metadata": {},
          "execution_count": 34
        }
      ],
      "source": [
        "# the years are inside a 'span' tag with the 'secondaryInfo' class\n",
        "# we also specify the parent tag and its class, which is the same we used before\n",
        "# the years are inside parentheses, but we'll take care of that later\n",
        "soup.select(\"td.titleColumn span.secondaryInfo\")[0].get_text()"
      ]
    },
    {
      "cell_type": "markdown",
      "metadata": {
        "id": "wm6Vde3w4r2u"
      },
      "source": [
        "### Storing information in lists"
      ]
    },
    {
      "cell_type": "code",
      "execution_count": null,
      "metadata": {
        "id": "6VFUIuy74r2u"
      },
      "outputs": [],
      "source": [
        "#initialize empty lists\n",
        "title = []\n",
        "dir_stars = []\n",
        "year = []"
      ]
    },
    {
      "cell_type": "code",
      "execution_count": null,
      "metadata": {
        "id": "z3p2BuUr4r2u"
      },
      "outputs": [],
      "source": [
        "# define the number of iterations of our for loop \n",
        "# by checking how many elements are in the retrieved result set\n",
        "# (this is equivalent but more robust than just explicitly defining 250 iterations)\n",
        "num_iter = len(soup.select(\"td.titleColumn a\"))"
      ]
    },
    {
      "cell_type": "code",
      "source": [
        "num_iter"
      ],
      "metadata": {
        "colab": {
          "base_uri": "https://localhost:8080/"
        },
        "id": "_4OZzXQgbjZJ",
        "outputId": "43acf945-51f5-422d-cf67-2599f3e0baa1"
      },
      "execution_count": null,
      "outputs": [
        {
          "output_type": "execute_result",
          "data": {
            "text/plain": [
              "250"
            ]
          },
          "metadata": {},
          "execution_count": 37
        }
      ]
    },
    {
      "cell_type": "code",
      "execution_count": null,
      "metadata": {
        "id": "3R0MAVxO4r2v"
      },
      "outputs": [],
      "source": [
        "#table = soup.select(\"tbody > tr\")"
      ]
    },
    {
      "cell_type": "code",
      "execution_count": null,
      "metadata": {
        "id": "9DBY7I1q4r2v"
      },
      "outputs": [],
      "source": [
        "#table[2].select(\"td.titleColumn a\")"
      ]
    },
    {
      "cell_type": "code",
      "execution_count": null,
      "metadata": {
        "id": "hOBJeAnB4r2v"
      },
      "outputs": [],
      "source": [
        "# iterate through the result set and retrive all the data\n",
        "for i in range(num_iter):\n",
        "    title.append(soup.select(\"td.titleColumn a\")[i].get_text())\n",
        "    dir_stars.append(soup.select(\"td.titleColumn a\")[i][\"title\"])\n",
        "    year.append(soup.select(\"td.titleColumn span.secondaryInfo\")[i].get_text())"
      ]
    },
    {
      "cell_type": "code",
      "source": [
        "title \n"
      ],
      "metadata": {
        "id": "ILzmjgEXcYfM"
      },
      "execution_count": null,
      "outputs": []
    },
    {
      "cell_type": "code",
      "source": [
        "dir_stars"
      ],
      "metadata": {
        "id": "fuSDcTNvcn-L"
      },
      "execution_count": null,
      "outputs": []
    },
    {
      "cell_type": "code",
      "source": [
        "year "
      ],
      "metadata": {
        "id": "NZHVynlOcrnZ"
      },
      "execution_count": null,
      "outputs": []
    },
    {
      "cell_type": "markdown",
      "metadata": {
        "id": "IVVe6cFW4r2v"
      },
      "source": [
        "### Storing information in pandas DataFrames\n",
        "\n",
        "If you get an error try this: \n",
        "assert len(title) == len(dir_stars) == len(year)"
      ]
    },
    {
      "cell_type": "code",
      "execution_count": null,
      "metadata": {
        "id": "wzFV5ldV4r2v"
      },
      "outputs": [],
      "source": [
        "import pandas as pd"
      ]
    },
    {
      "cell_type": "code",
      "execution_count": null,
      "metadata": {
        "id": "DDRNFZd74r2v"
      },
      "outputs": [],
      "source": [
        "movies_df = pd.DataFrame(\n",
        "    {\"movie_name\": title,\n",
        "     \"director_stars\": dir_stars,\n",
        "     \"release_year\": year\n",
        "    }\n",
        ")"
      ]
    },
    {
      "cell_type": "code",
      "execution_count": null,
      "metadata": {
        "colab": {
          "base_uri": "https://localhost:8080/"
        },
        "id": "EeMxyyvT4r2v",
        "outputId": "d5a92e8f-0ab0-4d9a-98bb-e7aa7d665d76"
      },
      "outputs": [
        {
          "output_type": "execute_result",
          "data": {
            "text/plain": [
              "                 movie_name  \\\n",
              "0  The Shawshank Redemption   \n",
              "1             The Godfather   \n",
              "2           The Dark Knight   \n",
              "3     The Godfather Part II   \n",
              "4              12 Angry Men   \n",
              "\n",
              "                                      director_stars release_year  \n",
              "0  Frank Darabont (dir.), Tim Robbins, Morgan Fre...       (1994)  \n",
              "1  Francis Ford Coppola (dir.), Marlon Brando, Al...       (1972)  \n",
              "2  Christopher Nolan (dir.), Christian Bale, Heat...       (2008)  \n",
              "3  Francis Ford Coppola (dir.), Al Pacino, Robert...       (1974)  \n",
              "4      Sidney Lumet (dir.), Henry Fonda, Lee J. Cobb       (1957)  "
            ],
            "text/html": [
              "\n",
              "  <div id=\"df-2ceb4d8f-99ed-4a0b-9e5d-91cd6d4ca2c7\">\n",
              "    <div class=\"colab-df-container\">\n",
              "      <div>\n",
              "<style scoped>\n",
              "    .dataframe tbody tr th:only-of-type {\n",
              "        vertical-align: middle;\n",
              "    }\n",
              "\n",
              "    .dataframe tbody tr th {\n",
              "        vertical-align: top;\n",
              "    }\n",
              "\n",
              "    .dataframe thead th {\n",
              "        text-align: right;\n",
              "    }\n",
              "</style>\n",
              "<table border=\"1\" class=\"dataframe\">\n",
              "  <thead>\n",
              "    <tr style=\"text-align: right;\">\n",
              "      <th></th>\n",
              "      <th>movie_name</th>\n",
              "      <th>director_stars</th>\n",
              "      <th>release_year</th>\n",
              "    </tr>\n",
              "  </thead>\n",
              "  <tbody>\n",
              "    <tr>\n",
              "      <th>0</th>\n",
              "      <td>The Shawshank Redemption</td>\n",
              "      <td>Frank Darabont (dir.), Tim Robbins, Morgan Fre...</td>\n",
              "      <td>(1994)</td>\n",
              "    </tr>\n",
              "    <tr>\n",
              "      <th>1</th>\n",
              "      <td>The Godfather</td>\n",
              "      <td>Francis Ford Coppola (dir.), Marlon Brando, Al...</td>\n",
              "      <td>(1972)</td>\n",
              "    </tr>\n",
              "    <tr>\n",
              "      <th>2</th>\n",
              "      <td>The Dark Knight</td>\n",
              "      <td>Christopher Nolan (dir.), Christian Bale, Heat...</td>\n",
              "      <td>(2008)</td>\n",
              "    </tr>\n",
              "    <tr>\n",
              "      <th>3</th>\n",
              "      <td>The Godfather Part II</td>\n",
              "      <td>Francis Ford Coppola (dir.), Al Pacino, Robert...</td>\n",
              "      <td>(1974)</td>\n",
              "    </tr>\n",
              "    <tr>\n",
              "      <th>4</th>\n",
              "      <td>12 Angry Men</td>\n",
              "      <td>Sidney Lumet (dir.), Henry Fonda, Lee J. Cobb</td>\n",
              "      <td>(1957)</td>\n",
              "    </tr>\n",
              "  </tbody>\n",
              "</table>\n",
              "</div>\n",
              "      <button class=\"colab-df-convert\" onclick=\"convertToInteractive('df-2ceb4d8f-99ed-4a0b-9e5d-91cd6d4ca2c7')\"\n",
              "              title=\"Convert this dataframe to an interactive table.\"\n",
              "              style=\"display:none;\">\n",
              "        \n",
              "  <svg xmlns=\"http://www.w3.org/2000/svg\" height=\"24px\"viewBox=\"0 0 24 24\"\n",
              "       width=\"24px\">\n",
              "    <path d=\"M0 0h24v24H0V0z\" fill=\"none\"/>\n",
              "    <path d=\"M18.56 5.44l.94 2.06.94-2.06 2.06-.94-2.06-.94-.94-2.06-.94 2.06-2.06.94zm-11 1L8.5 8.5l.94-2.06 2.06-.94-2.06-.94L8.5 2.5l-.94 2.06-2.06.94zm10 10l.94 2.06.94-2.06 2.06-.94-2.06-.94-.94-2.06-.94 2.06-2.06.94z\"/><path d=\"M17.41 7.96l-1.37-1.37c-.4-.4-.92-.59-1.43-.59-.52 0-1.04.2-1.43.59L10.3 9.45l-7.72 7.72c-.78.78-.78 2.05 0 2.83L4 21.41c.39.39.9.59 1.41.59.51 0 1.02-.2 1.41-.59l7.78-7.78 2.81-2.81c.8-.78.8-2.07 0-2.86zM5.41 20L4 18.59l7.72-7.72 1.47 1.35L5.41 20z\"/>\n",
              "  </svg>\n",
              "      </button>\n",
              "      \n",
              "  <style>\n",
              "    .colab-df-container {\n",
              "      display:flex;\n",
              "      flex-wrap:wrap;\n",
              "      gap: 12px;\n",
              "    }\n",
              "\n",
              "    .colab-df-convert {\n",
              "      background-color: #E8F0FE;\n",
              "      border: none;\n",
              "      border-radius: 50%;\n",
              "      cursor: pointer;\n",
              "      display: none;\n",
              "      fill: #1967D2;\n",
              "      height: 32px;\n",
              "      padding: 0 0 0 0;\n",
              "      width: 32px;\n",
              "    }\n",
              "\n",
              "    .colab-df-convert:hover {\n",
              "      background-color: #E2EBFA;\n",
              "      box-shadow: 0px 1px 2px rgba(60, 64, 67, 0.3), 0px 1px 3px 1px rgba(60, 64, 67, 0.15);\n",
              "      fill: #174EA6;\n",
              "    }\n",
              "\n",
              "    [theme=dark] .colab-df-convert {\n",
              "      background-color: #3B4455;\n",
              "      fill: #D2E3FC;\n",
              "    }\n",
              "\n",
              "    [theme=dark] .colab-df-convert:hover {\n",
              "      background-color: #434B5C;\n",
              "      box-shadow: 0px 1px 3px 1px rgba(0, 0, 0, 0.15);\n",
              "      filter: drop-shadow(0px 1px 2px rgba(0, 0, 0, 0.3));\n",
              "      fill: #FFFFFF;\n",
              "    }\n",
              "  </style>\n",
              "\n",
              "      <script>\n",
              "        const buttonEl =\n",
              "          document.querySelector('#df-2ceb4d8f-99ed-4a0b-9e5d-91cd6d4ca2c7 button.colab-df-convert');\n",
              "        buttonEl.style.display =\n",
              "          google.colab.kernel.accessAllowed ? 'block' : 'none';\n",
              "\n",
              "        async function convertToInteractive(key) {\n",
              "          const element = document.querySelector('#df-2ceb4d8f-99ed-4a0b-9e5d-91cd6d4ca2c7');\n",
              "          const dataTable =\n",
              "            await google.colab.kernel.invokeFunction('convertToInteractive',\n",
              "                                                     [key], {});\n",
              "          if (!dataTable) return;\n",
              "\n",
              "          const docLinkHtml = 'Like what you see? Visit the ' +\n",
              "            '<a target=\"_blank\" href=https://colab.research.google.com/notebooks/data_table.ipynb>data table notebook</a>'\n",
              "            + ' to learn more about interactive tables.';\n",
              "          element.innerHTML = '';\n",
              "          dataTable['output_type'] = 'display_data';\n",
              "          await google.colab.output.renderOutput(dataTable, element);\n",
              "          const docLink = document.createElement('div');\n",
              "          docLink.innerHTML = docLinkHtml;\n",
              "          element.appendChild(docLink);\n",
              "        }\n",
              "      </script>\n",
              "    </div>\n",
              "  </div>\n",
              "  "
            ]
          },
          "metadata": {},
          "execution_count": 46
        }
      ],
      "source": [
        "movies_df.head()"
      ]
    },
    {
      "cell_type": "code",
      "source": [
        "movies_df.info()"
      ],
      "metadata": {
        "colab": {
          "base_uri": "https://localhost:8080/"
        },
        "id": "eZoYShyqdJAo",
        "outputId": "e8289b9d-4297-4c90-b19c-9ef4d4b0a7e9"
      },
      "execution_count": null,
      "outputs": [
        {
          "output_type": "stream",
          "name": "stdout",
          "text": [
            "<class 'pandas.core.frame.DataFrame'>\n",
            "RangeIndex: 250 entries, 0 to 249\n",
            "Data columns (total 3 columns):\n",
            " #   Column          Non-Null Count  Dtype \n",
            "---  ------          --------------  ----- \n",
            " 0   movie_name      250 non-null    object\n",
            " 1   director_stars  250 non-null    object\n",
            " 2   release_year    250 non-null    object\n",
            "dtypes: object(3)\n",
            "memory usage: 6.0+ KB\n"
          ]
        }
      ]
    },
    {
      "cell_type": "markdown",
      "metadata": {
        "id": "FGmptQx54r2v"
      },
      "source": [
        "#### Challenge: Cleaning the data\n",
        "\n",
        "An inherent part of web scraping is data cleaning. We managed to get the information we needed, but for it to be useful, we still need some extra steps:\n",
        "\n",
        "- Take the year out of the parentheses: we know we can totally do that with regex, but string methods such as str.replace() might be simpler to use. Additionally, this column should be turned into a numerical data type.\n",
        "\n",
        "- Split dir_stars into 3 columns, one for each person: \"director\", \"star_1\", \"star_2\". This could have been done by filtering when extracting the data from the html document, but it looks easier afterwards:\n",
        "\n",
        "    - The \"(dir.)\" pattern can be totally removed\n",
        "    - We can split the string at each comma"
      ]
    },
    {
      "cell_type": "code",
      "execution_count": null,
      "metadata": {
        "id": "FbFpMWQw4r2w"
      },
      "outputs": [],
      "source": []
    },
    {
      "cell_type": "code",
      "execution_count": null,
      "metadata": {
        "id": "YzJGcKo_4r2w"
      },
      "outputs": [],
      "source": []
    },
    {
      "cell_type": "code",
      "source": [],
      "metadata": {
        "id": "eqxu6Su9ddka"
      },
      "execution_count": null,
      "outputs": []
    }
  ],
  "metadata": {
    "kernelspec": {
      "display_name": "Python 3",
      "language": "python",
      "name": "python3"
    },
    "language_info": {
      "codemirror_mode": {
        "name": "ipython",
        "version": 3
      },
      "file_extension": ".py",
      "mimetype": "text/x-python",
      "name": "python",
      "nbconvert_exporter": "python",
      "pygments_lexer": "ipython3",
      "version": "3.8.5"
    },
    "toc": {
      "base_numbering": 1,
      "nav_menu": {},
      "number_sections": true,
      "sideBar": true,
      "skip_h1_title": false,
      "title_cell": "Table of Contents",
      "title_sidebar": "Contents",
      "toc_cell": false,
      "toc_position": {},
      "toc_section_display": true,
      "toc_window_display": false
    },
    "varInspector": {
      "cols": {
        "lenName": 16,
        "lenType": 16,
        "lenVar": 40
      },
      "kernels_config": {
        "python": {
          "delete_cmd_postfix": "",
          "delete_cmd_prefix": "del ",
          "library": "var_list.py",
          "varRefreshCmd": "print(var_dic_list())"
        },
        "r": {
          "delete_cmd_postfix": ") ",
          "delete_cmd_prefix": "rm(",
          "library": "var_list.r",
          "varRefreshCmd": "cat(var_dic_list()) "
        }
      },
      "oldHeight": 122.4,
      "position": {
        "height": "40px",
        "left": "1266px",
        "right": "20px",
        "top": "120px",
        "width": "250px"
      },
      "types_to_exclude": [
        "module",
        "function",
        "builtin_function_or_method",
        "instance",
        "_Feature"
      ],
      "varInspector_section_display": "none",
      "window_display": true
    },
    "colab": {
      "provenance": [],
      "toc_visible": true
    }
  },
  "nbformat": 4,
  "nbformat_minor": 0
}