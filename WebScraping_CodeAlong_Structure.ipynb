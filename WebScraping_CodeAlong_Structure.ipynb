{
  "cells": [
    {
      "cell_type": "markdown",
      "metadata": {
        "id": "yVkq4T4t4r2e"
      },
      "source": [
        "# Intro to web scraping"
      ]
    },
    {
      "cell_type": "markdown",
      "metadata": {
        "id": "j7OzcH7I4r2h"
      },
      "source": [
        "The first step of web scraping is to identify a website and download the html code from it. \n",
        "\n",
        "Real html from websites tends to be long and a bit too chaotic for a total beginner. Here we will start with a dummy html document and learn the basics of extracting info with beautifulsoup."
      ]
    },
    {
      "cell_type": "code",
      "execution_count": 132,
      "metadata": {
        "id": "aRpBuLTW4r2i"
      },
      "outputs": [],
      "source": [
        "html_doc = \"\"\"\n",
        "<!DOCTYPE html>\n",
        "<html><head><title>The Dormouse's story</title></head>\n",
        "<body>\n",
        "<p class=\"title\"><b>The Dormouse's story</b></p>\n",
        "\n",
        "<p class=\"story\">Once upon a time there were three little sisters; and their names were\n",
        "<a href=\"http://example.com/elsie\" class=\"sister\" id=\"link1\">Elsie</a>,\n",
        "<a href=\"http://example.com/lacie\" class=\"sister\" id=\"link2\">Lacie</a> and\n",
        "<a href=\"http://example.com/tillie\" class=\"sister\" id=\"link3\">Tillie</a>;\n",
        "and they lived at the bottom of a well.</p>\n",
        "\n",
        "<p class=\"story\">...</p>\n",
        "</html>\n",
        "\"\"\""
      ]
    },
    {
      "cell_type": "code",
      "execution_count": 133,
      "metadata": {
        "colab": {
          "base_uri": "https://localhost:8080/",
          "height": 160
        },
        "id": "tVMYzZQq4r2j",
        "outputId": "3fb0b4f6-e8f7-4ccf-833b-86d0dfbfb832"
      },
      "outputs": [
        {
          "data": {
            "text/plain": [
              "'\\n<!DOCTYPE html>\\n<html><head><title>The Dormouse\\'s story</title></head>\\n<body>\\n<p class=\"title\"><b>The Dormouse\\'s story</b></p>\\n\\n<p class=\"story\">Once upon a time there were three little sisters; and their names were\\n<a href=\"http://example.com/elsie\" class=\"sister\" id=\"link1\">Elsie</a>,\\n<a href=\"http://example.com/lacie\" class=\"sister\" id=\"link2\">Lacie</a> and\\n<a href=\"http://example.com/tillie\" class=\"sister\" id=\"link3\">Tillie</a>;\\nand they lived at the bottom of a well.</p>\\n\\n<p class=\"story\">...</p>\\n</html>\\n'"
            ]
          },
          "execution_count": 133,
          "metadata": {},
          "output_type": "execute_result"
        }
      ],
      "source": [
        "html_doc"
      ]
    },
    {
      "cell_type": "code",
      "execution_count": 134,
      "metadata": {
        "colab": {
          "base_uri": "https://localhost:8080/"
        },
        "id": "9iUsBPAj4r2k",
        "outputId": "20cbb630-625e-4e99-c77c-11761834f505"
      },
      "outputs": [
        {
          "name": "stdout",
          "output_type": "stream",
          "text": [
            "Requirement already satisfied: beautifulsoup4 in /Users/joldon/opt/anaconda3/lib/python3.9/site-packages (4.12.0)\n",
            "Requirement already satisfied: soupsieve>1.2 in /Users/joldon/opt/anaconda3/lib/python3.9/site-packages (from beautifulsoup4) (2.3.1)\n"
          ]
        }
      ],
      "source": [
        "from bs4 import BeautifulSoup\n",
        "!pip install --upgrade beautifulsoup4"
      ]
    },
    {
      "cell_type": "markdown",
      "metadata": {
        "id": "gLiUYOtA4r2k"
      },
      "source": [
        "#### \"creating the soup\""
      ]
    },
    {
      "cell_type": "code",
      "execution_count": 135,
      "metadata": {
        "id": "mu8hYz064r2l"
      },
      "outputs": [],
      "source": [
        "# parse the element\n",
        "soup = BeautifulSoup(html_doc, 'html.parser')"
      ]
    },
    {
      "cell_type": "code",
      "execution_count": 136,
      "metadata": {
        "colab": {
          "base_uri": "https://localhost:8080/"
        },
        "id": "IiyEYX8c4r2l",
        "outputId": "525b4301-dff2-494b-b728-84952243f2c7"
      },
      "outputs": [
        {
          "data": {
            "text/plain": [
              "<bound method Tag.prettify of \n",
              "<!DOCTYPE html>\n",
              "\n",
              "<html><head><title>The Dormouse's story</title></head>\n",
              "<body>\n",
              "<p class=\"title\"><b>The Dormouse's story</b></p>\n",
              "<p class=\"story\">Once upon a time there were three little sisters; and their names were\n",
              "<a class=\"sister\" href=\"http://example.com/elsie\" id=\"link1\">Elsie</a>,\n",
              "<a class=\"sister\" href=\"http://example.com/lacie\" id=\"link2\">Lacie</a> and\n",
              "<a class=\"sister\" href=\"http://example.com/tillie\" id=\"link3\">Tillie</a>;\n",
              "and they lived at the bottom of a well.</p>\n",
              "<p class=\"story\">...</p>\n",
              "</body></html>\n",
              ">"
            ]
          },
          "execution_count": 136,
          "metadata": {},
          "output_type": "execute_result"
        }
      ],
      "source": [
        "soup.prettify"
      ]
    },
    {
      "cell_type": "markdown",
      "metadata": {
        "id": "bnSHDPfB4r2m"
      },
      "source": [
        "#### accessing single elements"
      ]
    },
    {
      "cell_type": "code",
      "execution_count": 137,
      "metadata": {
        "colab": {
          "base_uri": "https://localhost:8080/"
        },
        "id": "FoanXd4p4r2m",
        "outputId": "bfd14e20-4edc-41f1-a511-6c0726ea99c9"
      },
      "outputs": [
        {
          "data": {
            "text/plain": [
              "<title>The Dormouse's story</title>"
            ]
          },
          "execution_count": 137,
          "metadata": {},
          "output_type": "execute_result"
        }
      ],
      "source": [
        "soup.title"
      ]
    },
    {
      "cell_type": "code",
      "execution_count": 138,
      "metadata": {
        "colab": {
          "base_uri": "https://localhost:8080/",
          "height": 35
        },
        "id": "OryYiLOD4r2n",
        "outputId": "28bf49f2-9c53-4ba8-87cc-ce5c0c264ff2"
      },
      "outputs": [
        {
          "data": {
            "text/plain": [
              "\"The Dormouse's story\""
            ]
          },
          "execution_count": 138,
          "metadata": {},
          "output_type": "execute_result"
        }
      ],
      "source": [
        "soup.title.string"
      ]
    },
    {
      "cell_type": "code",
      "execution_count": 139,
      "metadata": {
        "colab": {
          "base_uri": "https://localhost:8080/",
          "height": 35
        },
        "id": "k7Hz_vu54r2n",
        "outputId": "26b444b0-9bd0-4ca4-89e0-3e12b62cb788"
      },
      "outputs": [
        {
          "data": {
            "text/plain": [
              "'head'"
            ]
          },
          "execution_count": 139,
          "metadata": {},
          "output_type": "execute_result"
        }
      ],
      "source": [
        "soup.title.parent.name"
      ]
    },
    {
      "cell_type": "code",
      "execution_count": 140,
      "metadata": {
        "colab": {
          "base_uri": "https://localhost:8080/"
        },
        "id": "Dkm_JHJ74r2n",
        "outputId": "b6c59dea-ca6b-4647-e074-720ebef2cdf0"
      },
      "outputs": [
        {
          "data": {
            "text/plain": [
              "<body>\n",
              "<p class=\"title\"><b>The Dormouse's story</b></p>\n",
              "<p class=\"story\">Once upon a time there were three little sisters; and their names were\n",
              "<a class=\"sister\" href=\"http://example.com/elsie\" id=\"link1\">Elsie</a>,\n",
              "<a class=\"sister\" href=\"http://example.com/lacie\" id=\"link2\">Lacie</a> and\n",
              "<a class=\"sister\" href=\"http://example.com/tillie\" id=\"link3\">Tillie</a>;\n",
              "and they lived at the bottom of a well.</p>\n",
              "<p class=\"story\">...</p>\n",
              "</body>"
            ]
          },
          "execution_count": 140,
          "metadata": {},
          "output_type": "execute_result"
        }
      ],
      "source": [
        "soup.body"
      ]
    },
    {
      "cell_type": "code",
      "execution_count": 141,
      "metadata": {
        "colab": {
          "base_uri": "https://localhost:8080/"
        },
        "id": "eQ4f2fr24r2n",
        "outputId": "fe72f1b7-d676-499d-a517-bace0bcf3b14"
      },
      "outputs": [
        {
          "data": {
            "text/plain": [
              "<p class=\"title\"><b>The Dormouse's story</b></p>"
            ]
          },
          "execution_count": 141,
          "metadata": {},
          "output_type": "execute_result"
        }
      ],
      "source": [
        "# this method only retrieves the first element of the specified tag\n",
        "soup.p"
      ]
    },
    {
      "cell_type": "markdown",
      "metadata": {
        "id": "e2AzSMlb4r2o"
      },
      "source": [
        "#### finding all elements of a tag with find_all()"
      ]
    },
    {
      "cell_type": "code",
      "execution_count": 142,
      "metadata": {
        "id": "8CgTFdkf4r2o"
      },
      "outputs": [],
      "source": [
        "p_tags = soup.find_all(\"p\")"
      ]
    },
    {
      "cell_type": "code",
      "execution_count": 143,
      "metadata": {
        "colab": {
          "base_uri": "https://localhost:8080/"
        },
        "id": "J6W73rsFP5cj",
        "outputId": "90e667be-8666-4b92-e174-c05193af1850"
      },
      "outputs": [
        {
          "data": {
            "text/plain": [
              "[<p class=\"title\"><b>The Dormouse's story</b></p>,\n",
              " <p class=\"story\">Once upon a time there were three little sisters; and their names were\n",
              " <a class=\"sister\" href=\"http://example.com/elsie\" id=\"link1\">Elsie</a>,\n",
              " <a class=\"sister\" href=\"http://example.com/lacie\" id=\"link2\">Lacie</a> and\n",
              " <a class=\"sister\" href=\"http://example.com/tillie\" id=\"link3\">Tillie</a>;\n",
              " and they lived at the bottom of a well.</p>,\n",
              " <p class=\"story\">...</p>]"
            ]
          },
          "execution_count": 143,
          "metadata": {},
          "output_type": "execute_result"
        }
      ],
      "source": [
        "p_tags "
      ]
    },
    {
      "cell_type": "code",
      "execution_count": 144,
      "metadata": {
        "colab": {
          "base_uri": "https://localhost:8080/"
        },
        "id": "BWS2R-HC4r2o",
        "outputId": "d1778d48-324d-44cc-98be-9680f684a7e0"
      },
      "outputs": [
        {
          "name": "stdout",
          "output_type": "stream",
          "text": [
            "The Dormouse's story\n",
            "Once upon a time there were three little sisters; and their names were\n",
            "Elsie,\n",
            "Lacie and\n",
            "Tillie;\n",
            "and they lived at the bottom of a well.\n",
            "...\n"
          ]
        }
      ],
      "source": [
        "for p in p_tags:\n",
        "    print(p.get_text())"
      ]
    },
    {
      "cell_type": "markdown",
      "metadata": {
        "id": "-6HCw2TO4r2o"
      },
      "source": [
        "#### Using css selectors\n",
        "\n",
        "https://htmlcheatsheet.com/css/"
      ]
    },
    {
      "cell_type": "code",
      "execution_count": 145,
      "metadata": {
        "colab": {
          "base_uri": "https://localhost:8080/"
        },
        "id": "ViIxeVB34r2p",
        "outputId": "00e6157d-a128-4168-9c6c-6e3a513ea972"
      },
      "outputs": [
        {
          "data": {
            "text/plain": [
              "[<p class=\"title\"><b>The Dormouse's story</b></p>]"
            ]
          },
          "execution_count": 145,
          "metadata": {},
          "output_type": "execute_result"
        }
      ],
      "source": [
        "# select all elements with class=\"title\"\n",
        "soup.select(\".title\")"
      ]
    },
    {
      "cell_type": "code",
      "execution_count": 146,
      "metadata": {
        "colab": {
          "base_uri": "https://localhost:8080/"
        },
        "id": "zL5OwQ7F4r2p",
        "outputId": "810d02fb-7a31-40d8-bfe3-7beab3d02eeb"
      },
      "outputs": [
        {
          "data": {
            "text/plain": [
              "[<a class=\"sister\" href=\"http://example.com/elsie\" id=\"link1\">Elsie</a>,\n",
              " <a class=\"sister\" href=\"http://example.com/lacie\" id=\"link2\">Lacie</a>,\n",
              " <a class=\"sister\" href=\"http://example.com/tillie\" id=\"link3\">Tillie</a>]"
            ]
          },
          "execution_count": 146,
          "metadata": {},
          "output_type": "execute_result"
        }
      ],
      "source": [
        "# select all elements with class=\"sister\"\n",
        "soup.select(\".sister\")"
      ]
    },
    {
      "cell_type": "code",
      "execution_count": 147,
      "metadata": {
        "colab": {
          "base_uri": "https://localhost:8080/"
        },
        "id": "OEeTtq3k4r2p",
        "outputId": "7e2f8520-92fa-4cc9-bae8-97d743375d0e"
      },
      "outputs": [
        {
          "data": {
            "text/plain": [
              "[<a class=\"sister\" href=\"http://example.com/lacie\" id=\"link2\">Lacie</a>]"
            ]
          },
          "execution_count": 147,
          "metadata": {},
          "output_type": "execute_result"
        }
      ],
      "source": [
        "# select \"all\" elements with the id=\"link2\"\n",
        "soup.select(\"#link2\")"
      ]
    },
    {
      "cell_type": "markdown",
      "metadata": {
        "id": "IhhEFb0X4r2p"
      },
      "source": [
        "We can combine the `select()` method with other bs4 methods, such as `get_text()`.\n",
        "\n",
        "`get_text()`, however, can only be applied to single elements, while `select()` might return multiple elements. It's common to iterate through the output of `select()`"
      ]
    },
    {
      "cell_type": "code",
      "execution_count": 148,
      "metadata": {
        "colab": {
          "base_uri": "https://localhost:8080/"
        },
        "id": "BN0vE1A34r2q",
        "outputId": "f0b4d06a-9f8e-4583-a294-5e448e68d00f"
      },
      "outputs": [
        {
          "name": "stdout",
          "output_type": "stream",
          "text": [
            "Once upon a time there were three little sisters; and their names were\n",
            "Elsie,\n",
            "Lacie and\n",
            "Tillie;\n",
            "and they lived at the bottom of a well.\n"
          ]
        }
      ],
      "source": [
        "print(soup.select(\"p.story\")[0].get_text())"
      ]
    },
    {
      "cell_type": "code",
      "execution_count": 149,
      "metadata": {
        "colab": {
          "base_uri": "https://localhost:8080/"
        },
        "id": "7TP7gDEM4r2q",
        "outputId": "585b5328-eaf9-4e47-91fe-ee5db280e887"
      },
      "outputs": [
        {
          "name": "stdout",
          "output_type": "stream",
          "text": [
            "Once upon a time there were three little sisters; and their names were\n",
            "Elsie,\n",
            "Lacie and\n",
            "Tillie;\n",
            "and they lived at the bottom of a well.\n",
            "...\n"
          ]
        }
      ],
      "source": [
        "for p in soup.select(\"p.story\"):\n",
        "    print(p.get_text())"
      ]
    },
    {
      "cell_type": "markdown",
      "metadata": {
        "id": "YvNvwEzf4r2q"
      },
      "source": [
        "### Your turn:\n",
        "\n",
        "Write code to print the following contents (not including the html tags, only human-readable text): \n",
        "\n",
        "1. All the \"fun facts\". \n",
        "\n",
        "2. The names of all the places. \n",
        "\n",
        "3. The content (name and fact) of all the cities (only cities, not countries!) \n",
        "\n",
        "4. The names (not facts!) of all the cities (not countries!)"
      ]
    },
    {
      "cell_type": "code",
      "execution_count": 150,
      "metadata": {
        "id": "8y1hSNm44r2q"
      },
      "outputs": [],
      "source": [
        "geography = \"\"\"\n",
        "<!DOCTYPE html>\n",
        "<html>\n",
        "<head> Geography</head>\n",
        "<body>\n",
        "\n",
        "<div class=\"city\">\n",
        "  <h2>London</h2>\n",
        "  <p>London is the most popular tourist destination in the world.</p>\n",
        "</div>\n",
        "\n",
        "<div class=\"city\">\n",
        "  <h2>Paris</h2>\n",
        "  <p>Paris was originally a Roman City called Lutetia.</p>\n",
        "</div>\n",
        "\n",
        "<div class=\"country\">\n",
        "  <h2>Spain</h2>\n",
        "  <p>Spain produces 43,8% of all the world's Olive Oil.</p>\n",
        "</div>\n",
        "\n",
        "</body>\n",
        "</html>\n",
        "\"\"\""
      ]
    },
    {
      "cell_type": "code",
      "execution_count": 151,
      "metadata": {
        "colab": {
          "base_uri": "https://localhost:8080/",
          "height": 125
        },
        "id": "1I-nnpRMVOQ4",
        "outputId": "01dd4835-faf9-48b2-976c-be6f91c0d3be"
      },
      "outputs": [
        {
          "data": {
            "text/plain": [
              "'\\n<!DOCTYPE html>\\n<html>\\n<head> Geography</head>\\n<body>\\n\\n<div class=\"city\">\\n  <h2>London</h2>\\n  <p>London is the most popular tourist destination in the world.</p>\\n</div>\\n\\n<div class=\"city\">\\n  <h2>Paris</h2>\\n  <p>Paris was originally a Roman City called Lutetia.</p>\\n</div>\\n\\n<div class=\"country\">\\n  <h2>Spain</h2>\\n  <p>Spain produces 43,8% of all the world\\'s Olive Oil.</p>\\n</div>\\n\\n</body>\\n</html>\\n'"
            ]
          },
          "execution_count": 151,
          "metadata": {},
          "output_type": "execute_result"
        }
      ],
      "source": [
        "geography"
      ]
    },
    {
      "cell_type": "code",
      "execution_count": 152,
      "metadata": {
        "id": "lA-d4CS04r2q"
      },
      "outputs": [],
      "source": [
        "# Create the \"soup\"\n",
        "soup = BeautifulSoup(geography, 'html.parser')"
      ]
    },
    {
      "cell_type": "code",
      "execution_count": 153,
      "metadata": {
        "colab": {
          "base_uri": "https://localhost:8080/"
        },
        "id": "kI1-3PNXSyVO",
        "outputId": "e3c0ad13-c5b3-4f20-9820-dbecbe355712"
      },
      "outputs": [
        {
          "data": {
            "text/plain": [
              "<bound method Tag.prettify of \n",
              "<!DOCTYPE html>\n",
              "\n",
              "<html>\n",
              "<head> Geography</head>\n",
              "<body>\n",
              "<div class=\"city\">\n",
              "<h2>London</h2>\n",
              "<p>London is the most popular tourist destination in the world.</p>\n",
              "</div>\n",
              "<div class=\"city\">\n",
              "<h2>Paris</h2>\n",
              "<p>Paris was originally a Roman City called Lutetia.</p>\n",
              "</div>\n",
              "<div class=\"country\">\n",
              "<h2>Spain</h2>\n",
              "<p>Spain produces 43,8% of all the world's Olive Oil.</p>\n",
              "</div>\n",
              "</body>\n",
              "</html>\n",
              ">"
            ]
          },
          "execution_count": 153,
          "metadata": {},
          "output_type": "execute_result"
        }
      ],
      "source": [
        "soup.prettify"
      ]
    },
    {
      "cell_type": "code",
      "execution_count": 154,
      "metadata": {
        "id": "_L3atupnUHKH"
      },
      "outputs": [],
      "source": [
        "p_tags = soup.find_all('p')"
      ]
    },
    {
      "cell_type": "code",
      "execution_count": 155,
      "metadata": {
        "colab": {
          "base_uri": "https://localhost:8080/"
        },
        "id": "cgVSabQm4r2q",
        "outputId": "0df2b923-1926-4bb0-e630-9efcc0bb0205"
      },
      "outputs": [
        {
          "name": "stdout",
          "output_type": "stream",
          "text": [
            "London is the most popular tourist destination in the world.\n",
            "Paris was originally a Roman City called Lutetia.\n",
            "Spain produces 43,8% of all the world's Olive Oil.\n"
          ]
        }
      ],
      "source": [
        "# 1. All the \"fun facts\"\n",
        "for p in p_tags:\n",
        "  print(p.get_text())"
      ]
    },
    {
      "cell_type": "code",
      "execution_count": 156,
      "metadata": {
        "id": "H_HPbfNvbfQT"
      },
      "outputs": [],
      "source": [
        "#pj\n",
        "# soup = BeautifulSoup(geography)\n",
        "# places = soup.find_all(\"div\", {\"class\": [\"city\", \"country\"]})\n",
        "# for place in places:\n",
        "#     name = place.find(\"h2\").get_text()\n",
        "#     print(name)"
      ]
    },
    {
      "cell_type": "code",
      "execution_count": 157,
      "metadata": {
        "id": "goBB3w4VWCeP"
      },
      "outputs": [],
      "source": [
        "cities = soup.find_all('h2')"
      ]
    },
    {
      "cell_type": "code",
      "execution_count": 158,
      "metadata": {
        "colab": {
          "base_uri": "https://localhost:8080/"
        },
        "id": "O-rw5DtM4r2q",
        "outputId": "4430e446-68d4-4389-c11f-4b702ee08583"
      },
      "outputs": [
        {
          "name": "stdout",
          "output_type": "stream",
          "text": [
            "London\n",
            "Paris\n",
            "Spain\n"
          ]
        }
      ],
      "source": [
        "# 2. The names of all the places.\n",
        "for h2 in cities:\n",
        "  print(h2.get_text())"
      ]
    },
    {
      "cell_type": "code",
      "execution_count": 159,
      "metadata": {
        "colab": {
          "base_uri": "https://localhost:8080/"
        },
        "id": "ZHU_lcto4r2r",
        "outputId": "bf732d73-af4e-41b7-d688-886747b5603f"
      },
      "outputs": [
        {
          "name": "stdout",
          "output_type": "stream",
          "text": [
            "\n",
            "London\n",
            "London is the most popular tourist destination in the world.\n",
            "\n",
            "\n",
            "Paris\n",
            "Paris was originally a Roman City called Lutetia.\n",
            "\n"
          ]
        }
      ],
      "source": [
        "# 3. All the content (name and fact) of all the cities (only cities, not countries!)\n",
        "\n",
        "for city in soup.select('.city'):\n",
        "  print(city.get_text())\n",
        "  \n"
      ]
    },
    {
      "cell_type": "code",
      "execution_count": 160,
      "metadata": {
        "colab": {
          "base_uri": "https://localhost:8080/"
        },
        "id": "0BD7bOow4r2r",
        "outputId": "81d9c4a0-4893-463c-9da2-81d2fb186990"
      },
      "outputs": [
        {
          "name": "stdout",
          "output_type": "stream",
          "text": [
            "London\n",
            "Paris\n"
          ]
        }
      ],
      "source": [
        "# 4. The names (not facts!) of all the cities (not countries!)\n",
        "\n",
        "for city in soup.select('.city h2'):\n",
        "  print(city.get_text())\n"
      ]
    },
    {
      "cell_type": "code",
      "execution_count": 161,
      "metadata": {
        "colab": {
          "base_uri": "https://localhost:8080/"
        },
        "id": "oIcYUsv7mpVr",
        "outputId": "0e6e3eb1-683c-4297-a8f3-944d12e8891b"
      },
      "outputs": [
        {
          "name": "stdout",
          "output_type": "stream",
          "text": [
            "London\n",
            "Paris\n"
          ]
        }
      ],
      "source": [
        "#alternative solution\n",
        "\n",
        "\n",
        "# select all city <div> elements and extract the city names\n",
        "city_names = [div.h2.get_text() for div in soup.select('div.city')]\n",
        "\n",
        "# print the city names\n",
        "for city in city_names:\n",
        "    print(city)"
      ]
    },
    {
      "cell_type": "markdown",
      "metadata": {
        "id": "uZ4KzYaO4r2r"
      },
      "source": [
        "## Use case: imdb top charts\n",
        "\n",
        "Let's go to https://www.imdb.com/chart/top, where we'll see the top 250 movies according to IMDb ratings.\n",
        "\n",
        "Notice how each movie has the following elements:\n",
        "\n",
        "- Title\n",
        "\n",
        "- Release Year\n",
        "\n",
        "- IMDb rating\n",
        "\n",
        "- Director & main stars (they appear when you hover over the title)\n",
        "\n",
        "Our objective is going to be to scrape this information and store it in a pandas dataframe.\n",
        "\n"
      ]
    },
    {
      "cell_type": "code",
      "execution_count": 162,
      "metadata": {
        "id": "EqouwmpU4r2r"
      },
      "outputs": [],
      "source": [
        "# 1. import libraries\n",
        "from bs4 import BeautifulSoup\n",
        "import requests\n",
        "import pandas as pd"
      ]
    },
    {
      "cell_type": "code",
      "execution_count": 163,
      "metadata": {
        "id": "jCoafcfp4r2r"
      },
      "outputs": [],
      "source": [
        "# 2. find url and store it in a variable\n",
        "url = \"https://www.imdb.com/chart/top\""
      ]
    },
    {
      "cell_type": "code",
      "execution_count": 164,
      "metadata": {
        "colab": {
          "base_uri": "https://localhost:8080/"
        },
        "id": "WXa8oy2w4r2s",
        "outputId": "dc8c39ec-3ce9-4b53-b345-1aa6a7c40ccf"
      },
      "outputs": [
        {
          "data": {
            "text/plain": [
              "200"
            ]
          },
          "execution_count": 164,
          "metadata": {},
          "output_type": "execute_result"
        }
      ],
      "source": [
        "# 3. download html with a get request\n",
        "headers = {'Accept-Language': 'en-US,en;q=0.8'}\n",
        "response = requests.get(url, headers = headers)\n",
        "response.status_code # 200 status code means OK!"
      ]
    },
    {
      "cell_type": "code",
      "execution_count": 165,
      "metadata": {
        "id": "XQI6Vwmy4r2s",
        "jupyter": {
          "outputs_hidden": true
        }
      },
      "outputs": [],
      "source": [
        "# 4.1. parse html (create the 'soup')\n",
        "soup = BeautifulSoup(response.content, \"html.parser\")\n",
        "# 4.2. check that the html code looks like it should\n",
        "# soup"
      ]
    },
    {
      "cell_type": "code",
      "execution_count": 166,
      "metadata": {
        "id": "iNs9Sa_C4r2u",
        "jupyter": {
          "outputs_hidden": true
        }
      },
      "outputs": [
        {
          "data": {
            "text/plain": [
              "[<td class=\"titleColumn\">\n",
              "       1.\n",
              "       <a href=\"/title/tt0111161/\" title=\"Frank Darabont (dir.), Tim Robbins, Morgan Freeman\">The Shawshank Redemption</a>\n",
              " <span class=\"secondaryInfo\">(1994)</span>\n",
              " </td>,\n",
              " <td class=\"titleColumn\">\n",
              "       2.\n",
              "       <a href=\"/title/tt0068646/\" title=\"Francis Ford Coppola (dir.), Marlon Brando, Al Pacino\">The Godfather</a>\n",
              " <span class=\"secondaryInfo\">(1972)</span>\n",
              " </td>,\n",
              " <td class=\"titleColumn\">\n",
              "       3.\n",
              "       <a href=\"/title/tt0468569/\" title=\"Christopher Nolan (dir.), Christian Bale, Heath Ledger\">The Dark Knight</a>\n",
              " <span class=\"secondaryInfo\">(2008)</span>\n",
              " </td>,\n",
              " <td class=\"titleColumn\">\n",
              "       4.\n",
              "       <a href=\"/title/tt0071562/\" title=\"Francis Ford Coppola (dir.), Al Pacino, Robert De Niro\">The Godfather Part II</a>\n",
              " <span class=\"secondaryInfo\">(1974)</span>\n",
              " </td>,\n",
              " <td class=\"titleColumn\">\n",
              "       5.\n",
              "       <a href=\"/title/tt0050083/\" title=\"Sidney Lumet (dir.), Henry Fonda, Lee J. Cobb\">12 Angry Men</a>\n",
              " <span class=\"secondaryInfo\">(1957)</span>\n",
              " </td>,\n",
              " <td class=\"titleColumn\">\n",
              "       6.\n",
              "       <a href=\"/title/tt0108052/\" title=\"Steven Spielberg (dir.), Liam Neeson, Ralph Fiennes\">Schindler's List</a>\n",
              " <span class=\"secondaryInfo\">(1993)</span>\n",
              " </td>,\n",
              " <td class=\"titleColumn\">\n",
              "       7.\n",
              "       <a href=\"/title/tt0167260/\" title=\"Peter Jackson (dir.), Elijah Wood, Viggo Mortensen\">The Lord of the Rings: The Return of the King</a>\n",
              " <span class=\"secondaryInfo\">(2003)</span>\n",
              " </td>,\n",
              " <td class=\"titleColumn\">\n",
              "       8.\n",
              "       <a href=\"/title/tt0110912/\" title=\"Quentin Tarantino (dir.), John Travolta, Uma Thurman\">Pulp Fiction</a>\n",
              " <span class=\"secondaryInfo\">(1994)</span>\n",
              " </td>,\n",
              " <td class=\"titleColumn\">\n",
              "       9.\n",
              "       <a href=\"/title/tt0120737/\" title=\"Peter Jackson (dir.), Elijah Wood, Ian McKellen\">The Lord of the Rings: The Fellowship of the Ring</a>\n",
              " <span class=\"secondaryInfo\">(2001)</span>\n",
              " </td>,\n",
              " <td class=\"titleColumn\">\n",
              "       10.\n",
              "       <a href=\"/title/tt0060196/\" title=\"Sergio Leone (dir.), Clint Eastwood, Eli Wallach\">The Good, the Bad and the Ugly</a>\n",
              " <span class=\"secondaryInfo\">(1966)</span>\n",
              " </td>,\n",
              " <td class=\"titleColumn\">\n",
              "       11.\n",
              "       <a href=\"/title/tt0109830/\" title=\"Robert Zemeckis (dir.), Tom Hanks, Robin Wright\">Forrest Gump</a>\n",
              " <span class=\"secondaryInfo\">(1994)</span>\n",
              " </td>,\n",
              " <td class=\"titleColumn\">\n",
              "       12.\n",
              "       <a href=\"/title/tt0137523/\" title=\"David Fincher (dir.), Brad Pitt, Edward Norton\">Fight Club</a>\n",
              " <span class=\"secondaryInfo\">(1999)</span>\n",
              " </td>,\n",
              " <td class=\"titleColumn\">\n",
              "       13.\n",
              "       <a href=\"/title/tt0167261/\" title=\"Peter Jackson (dir.), Elijah Wood, Ian McKellen\">The Lord of the Rings: The Two Towers</a>\n",
              " <span class=\"secondaryInfo\">(2002)</span>\n",
              " </td>,\n",
              " <td class=\"titleColumn\">\n",
              "       14.\n",
              "       <a href=\"/title/tt1375666/\" title=\"Christopher Nolan (dir.), Leonardo DiCaprio, Joseph Gordon-Levitt\">Inception</a>\n",
              " <span class=\"secondaryInfo\">(2010)</span>\n",
              " </td>,\n",
              " <td class=\"titleColumn\">\n",
              "       15.\n",
              "       <a href=\"/title/tt0080684/\" title=\"Irvin Kershner (dir.), Mark Hamill, Harrison Ford\">Star Wars: Episode V - The Empire Strikes Back</a>\n",
              " <span class=\"secondaryInfo\">(1980)</span>\n",
              " </td>,\n",
              " <td class=\"titleColumn\">\n",
              "       16.\n",
              "       <a href=\"/title/tt0133093/\" title=\"Lana Wachowski (dir.), Keanu Reeves, Laurence Fishburne\">The Matrix</a>\n",
              " <span class=\"secondaryInfo\">(1999)</span>\n",
              " </td>,\n",
              " <td class=\"titleColumn\">\n",
              "       17.\n",
              "       <a href=\"/title/tt0099685/\" title=\"Martin Scorsese (dir.), Robert De Niro, Ray Liotta\">Goodfellas</a>\n",
              " <span class=\"secondaryInfo\">(1990)</span>\n",
              " </td>,\n",
              " <td class=\"titleColumn\">\n",
              "       18.\n",
              "       <a href=\"/title/tt0073486/\" title=\"Milos Forman (dir.), Jack Nicholson, Louise Fletcher\">One Flew Over the Cuckoo's Nest</a>\n",
              " <span class=\"secondaryInfo\">(1975)</span>\n",
              " </td>,\n",
              " <td class=\"titleColumn\">\n",
              "       19.\n",
              "       <a href=\"/title/tt0114369/\" title=\"David Fincher (dir.), Morgan Freeman, Brad Pitt\">Se7en</a>\n",
              " <span class=\"secondaryInfo\">(1995)</span>\n",
              " </td>,\n",
              " <td class=\"titleColumn\">\n",
              "       20.\n",
              "       <a href=\"/title/tt0047478/\" title=\"Akira Kurosawa (dir.), Toshirô Mifune, Takashi Shimura\">Seven Samurai</a>\n",
              " <span class=\"secondaryInfo\">(1954)</span>\n",
              " </td>,\n",
              " <td class=\"titleColumn\">\n",
              "       21.\n",
              "       <a href=\"/title/tt0038650/\" title=\"Frank Capra (dir.), James Stewart, Donna Reed\">It's a Wonderful Life</a>\n",
              " <span class=\"secondaryInfo\">(1946)</span>\n",
              " </td>,\n",
              " <td class=\"titleColumn\">\n",
              "       22.\n",
              "       <a href=\"/title/tt0102926/\" title=\"Jonathan Demme (dir.), Jodie Foster, Anthony Hopkins\">The Silence of the Lambs</a>\n",
              " <span class=\"secondaryInfo\">(1991)</span>\n",
              " </td>,\n",
              " <td class=\"titleColumn\">\n",
              "       23.\n",
              "       <a href=\"/title/tt0120815/\" title=\"Steven Spielberg (dir.), Tom Hanks, Matt Damon\">Saving Private Ryan</a>\n",
              " <span class=\"secondaryInfo\">(1998)</span>\n",
              " </td>,\n",
              " <td class=\"titleColumn\">\n",
              "       24.\n",
              "       <a href=\"/title/tt0317248/\" title=\"Fernando Meirelles (dir.), Alexandre Rodrigues, Leandro Firmino\">City of God</a>\n",
              " <span class=\"secondaryInfo\">(2002)</span>\n",
              " </td>,\n",
              " <td class=\"titleColumn\">\n",
              "       25.\n",
              "       <a href=\"/title/tt0816692/\" title=\"Christopher Nolan (dir.), Matthew McConaughey, Anne Hathaway\">Interstellar</a>\n",
              " <span class=\"secondaryInfo\">(2014)</span>\n",
              " </td>,\n",
              " <td class=\"titleColumn\">\n",
              "       26.\n",
              "       <a href=\"/title/tt0118799/\" title=\"Roberto Benigni (dir.), Roberto Benigni, Nicoletta Braschi\">Life Is Beautiful</a>\n",
              " <span class=\"secondaryInfo\">(1997)</span>\n",
              " </td>,\n",
              " <td class=\"titleColumn\">\n",
              "       27.\n",
              "       <a href=\"/title/tt0120689/\" title=\"Frank Darabont (dir.), Tom Hanks, Michael Clarke Duncan\">The Green Mile</a>\n",
              " <span class=\"secondaryInfo\">(1999)</span>\n",
              " </td>,\n",
              " <td class=\"titleColumn\">\n",
              "       28.\n",
              "       <a href=\"/title/tt0076759/\" title=\"George Lucas (dir.), Mark Hamill, Harrison Ford\">Star Wars: Episode IV - A New Hope</a>\n",
              " <span class=\"secondaryInfo\">(1977)</span>\n",
              " </td>,\n",
              " <td class=\"titleColumn\">\n",
              "       29.\n",
              "       <a href=\"/title/tt0103064/\" title=\"James Cameron (dir.), Arnold Schwarzenegger, Linda Hamilton\">Terminator 2: Judgment Day</a>\n",
              " <span class=\"secondaryInfo\">(1991)</span>\n",
              " </td>,\n",
              " <td class=\"titleColumn\">\n",
              "       30.\n",
              "       <a href=\"/title/tt0088763/\" title=\"Robert Zemeckis (dir.), Michael J. Fox, Christopher Lloyd\">Back to the Future</a>\n",
              " <span class=\"secondaryInfo\">(1985)</span>\n",
              " </td>,\n",
              " <td class=\"titleColumn\">\n",
              "       31.\n",
              "       <a href=\"/title/tt0245429/\" title=\"Hayao Miyazaki (dir.), Daveigh Chase, Suzanne Pleshette\">Spirited Away</a>\n",
              " <span class=\"secondaryInfo\">(2001)</span>\n",
              " </td>,\n",
              " <td class=\"titleColumn\">\n",
              "       32.\n",
              "       <a href=\"/title/tt0253474/\" title=\"Roman Polanski (dir.), Adrien Brody, Thomas Kretschmann\">The Pianist</a>\n",
              " <span class=\"secondaryInfo\">(2002)</span>\n",
              " </td>,\n",
              " <td class=\"titleColumn\">\n",
              "       33.\n",
              "       <a href=\"/title/tt0054215/\" title=\"Alfred Hitchcock (dir.), Anthony Perkins, Janet Leigh\">Psycho</a>\n",
              " <span class=\"secondaryInfo\">(1960)</span>\n",
              " </td>,\n",
              " <td class=\"titleColumn\">\n",
              "       34.\n",
              "       <a href=\"/title/tt6751668/\" title=\"Bong Joon Ho (dir.), Song Kang-ho, Lee Sun-kyun\">Parasite</a>\n",
              " <span class=\"secondaryInfo\">(2019)</span>\n",
              " </td>,\n",
              " <td class=\"titleColumn\">\n",
              "       35.\n",
              "       <a href=\"/title/tt0110413/\" title=\"Luc Besson (dir.), Jean Reno, Gary Oldman\">Léon: The Professional</a>\n",
              " <span class=\"secondaryInfo\">(1994)</span>\n",
              " </td>,\n",
              " <td class=\"titleColumn\">\n",
              "       36.\n",
              "       <a href=\"/title/tt0110357/\" title=\"Roger Allers (dir.), Matthew Broderick, Jeremy Irons\">The Lion King</a>\n",
              " <span class=\"secondaryInfo\">(1994)</span>\n",
              " </td>,\n",
              " <td class=\"titleColumn\">\n",
              "       37.\n",
              "       <a href=\"/title/tt0172495/\" title=\"Ridley Scott (dir.), Russell Crowe, Joaquin Phoenix\">Gladiator</a>\n",
              " <span class=\"secondaryInfo\">(2000)</span>\n",
              " </td>,\n",
              " <td class=\"titleColumn\">\n",
              "       38.\n",
              "       <a href=\"/title/tt0120586/\" title=\"Tony Kaye (dir.), Edward Norton, Edward Furlong\">American History X</a>\n",
              " <span class=\"secondaryInfo\">(1998)</span>\n",
              " </td>,\n",
              " <td class=\"titleColumn\">\n",
              "       39.\n",
              "       <a href=\"/title/tt0407887/\" title=\"Martin Scorsese (dir.), Leonardo DiCaprio, Matt Damon\">The Departed</a>\n",
              " <span class=\"secondaryInfo\">(2006)</span>\n",
              " </td>,\n",
              " <td class=\"titleColumn\">\n",
              "       40.\n",
              "       <a href=\"/title/tt0482571/\" title=\"Christopher Nolan (dir.), Christian Bale, Hugh Jackman\">The Prestige</a>\n",
              " <span class=\"secondaryInfo\">(2006)</span>\n",
              " </td>,\n",
              " <td class=\"titleColumn\">\n",
              "       41.\n",
              "       <a href=\"/title/tt2582802/\" title=\"Damien Chazelle (dir.), Miles Teller, J.K. Simmons\">Whiplash</a>\n",
              " <span class=\"secondaryInfo\">(2014)</span>\n",
              " </td>,\n",
              " <td class=\"titleColumn\">\n",
              "       42.\n",
              "       <a href=\"/title/tt0114814/\" title=\"Bryan Singer (dir.), Kevin Spacey, Gabriel Byrne\">The Usual Suspects</a>\n",
              " <span class=\"secondaryInfo\">(1995)</span>\n",
              " </td>,\n",
              " <td class=\"titleColumn\">\n",
              "       43.\n",
              "       <a href=\"/title/tt0034583/\" title=\"Michael Curtiz (dir.), Humphrey Bogart, Ingrid Bergman\">Casablanca</a>\n",
              " <span class=\"secondaryInfo\">(1942)</span>\n",
              " </td>,\n",
              " <td class=\"titleColumn\">\n",
              "       44.\n",
              "       <a href=\"/title/tt0095327/\" title=\"Isao Takahata (dir.), Tsutomu Tatsumi, Ayano Shiraishi\">Grave of the Fireflies</a>\n",
              " <span class=\"secondaryInfo\">(1988)</span>\n",
              " </td>,\n",
              " <td class=\"titleColumn\">\n",
              "       45.\n",
              "       <a href=\"/title/tt0056058/\" title=\"Masaki Kobayashi (dir.), Tatsuya Nakadai, Akira Ishihama\">Harakiri</a>\n",
              " <span class=\"secondaryInfo\">(1962)</span>\n",
              " </td>,\n",
              " <td class=\"titleColumn\">\n",
              "       46.\n",
              "       <a href=\"/title/tt1675434/\" title=\"Olivier Nakache (dir.), François Cluzet, Omar Sy\">The Intouchables</a>\n",
              " <span class=\"secondaryInfo\">(2011)</span>\n",
              " </td>,\n",
              " <td class=\"titleColumn\">\n",
              "       47.\n",
              "       <a href=\"/title/tt0027977/\" title=\"Charles Chaplin (dir.), Charles Chaplin, Paulette Goddard\">Modern Times</a>\n",
              " <span class=\"secondaryInfo\">(1936)</span>\n",
              " </td>,\n",
              " <td class=\"titleColumn\">\n",
              "       48.\n",
              "       <a href=\"/title/tt0064116/\" title=\"Sergio Leone (dir.), Henry Fonda, Charles Bronson\">Once Upon a Time in the West</a>\n",
              " <span class=\"secondaryInfo\">(1968)</span>\n",
              " </td>,\n",
              " <td class=\"titleColumn\">\n",
              "       49.\n",
              "       <a href=\"/title/tt0095765/\" title=\"Giuseppe Tornatore (dir.), Philippe Noiret, Enzo Cannavale\">Cinema Paradiso</a>\n",
              " <span class=\"secondaryInfo\">(1988)</span>\n",
              " </td>,\n",
              " <td class=\"titleColumn\">\n",
              "       50.\n",
              "       <a href=\"/title/tt0047396/\" title=\"Alfred Hitchcock (dir.), James Stewart, Grace Kelly\">Rear Window</a>\n",
              " <span class=\"secondaryInfo\">(1954)</span>\n",
              " </td>,\n",
              " <td class=\"titleColumn\">\n",
              "       51.\n",
              "       <a href=\"/title/tt0078748/\" title=\"Ridley Scott (dir.), Sigourney Weaver, Tom Skerritt\">Alien</a>\n",
              " <span class=\"secondaryInfo\">(1979)</span>\n",
              " </td>,\n",
              " <td class=\"titleColumn\">\n",
              "       52.\n",
              "       <a href=\"/title/tt0021749/\" title=\"Charles Chaplin (dir.), Charles Chaplin, Virginia Cherrill\">City Lights</a>\n",
              " <span class=\"secondaryInfo\">(1931)</span>\n",
              " </td>,\n",
              " <td class=\"titleColumn\">\n",
              "       53.\n",
              "       <a href=\"/title/tt0078788/\" title=\"Francis Ford Coppola (dir.), Martin Sheen, Marlon Brando\">Apocalypse Now</a>\n",
              " <span class=\"secondaryInfo\">(1979)</span>\n",
              " </td>,\n",
              " <td class=\"titleColumn\">\n",
              "       54.\n",
              "       <a href=\"/title/tt0209144/\" title=\"Christopher Nolan (dir.), Guy Pearce, Carrie-Anne Moss\">Memento</a>\n",
              " <span class=\"secondaryInfo\">(2000)</span>\n",
              " </td>,\n",
              " <td class=\"titleColumn\">\n",
              "       55.\n",
              "       <a href=\"/title/tt1853728/\" title=\"Quentin Tarantino (dir.), Jamie Foxx, Christoph Waltz\">Django Unchained</a>\n",
              " <span class=\"secondaryInfo\">(2012)</span>\n",
              " </td>,\n",
              " <td class=\"titleColumn\">\n",
              "       56.\n",
              "       <a href=\"/title/tt0082971/\" title=\"Steven Spielberg (dir.), Harrison Ford, Karen Allen\">Raiders of the Lost Ark</a>\n",
              " <span class=\"secondaryInfo\">(1981)</span>\n",
              " </td>,\n",
              " <td class=\"titleColumn\">\n",
              "       57.\n",
              "       <a href=\"/title/tt0910970/\" title=\"Andrew Stanton (dir.), Ben Burtt, Elissa Knight\">WALL·E</a>\n",
              " <span class=\"secondaryInfo\">(2008)</span>\n",
              " </td>,\n",
              " <td class=\"titleColumn\">\n",
              "       58.\n",
              "       <a href=\"/title/tt0405094/\" title=\"Florian Henckel von Donnersmarck (dir.), Ulrich Mühe, Martina Gedeck\">The Lives of Others</a>\n",
              " <span class=\"secondaryInfo\">(2006)</span>\n",
              " </td>,\n",
              " <td class=\"titleColumn\">\n",
              "       59.\n",
              "       <a href=\"/title/tt0043014/\" title=\"Billy Wilder (dir.), William Holden, Gloria Swanson\">Sunset Blvd.</a>\n",
              " <span class=\"secondaryInfo\">(1950)</span>\n",
              " </td>,\n",
              " <td class=\"titleColumn\">\n",
              "       60.\n",
              "       <a href=\"/title/tt0050825/\" title=\"Stanley Kubrick (dir.), Kirk Douglas, Ralph Meeker\">Paths of Glory</a>\n",
              " <span class=\"secondaryInfo\">(1957)</span>\n",
              " </td>,\n",
              " <td class=\"titleColumn\">\n",
              "       61.\n",
              "       <a href=\"/title/tt0081505/\" title=\"Stanley Kubrick (dir.), Jack Nicholson, Shelley Duvall\">The Shining</a>\n",
              " <span class=\"secondaryInfo\">(1980)</span>\n",
              " </td>,\n",
              " <td class=\"titleColumn\">\n",
              "       62.\n",
              "       <a href=\"/title/tt0032553/\" title=\"Charles Chaplin (dir.), Charles Chaplin, Paulette Goddard\">The Great Dictator</a>\n",
              " <span class=\"secondaryInfo\">(1940)</span>\n",
              " </td>,\n",
              " <td class=\"titleColumn\">\n",
              "       63.\n",
              "       <a href=\"/title/tt4154756/\" title=\"Anthony Russo (dir.), Robert Downey Jr., Chris Hemsworth\">Avengers: Infinity War</a>\n",
              " <span class=\"secondaryInfo\">(2018)</span>\n",
              " </td>,\n",
              " <td class=\"titleColumn\">\n",
              "       64.\n",
              "       <a href=\"/title/tt0051201/\" title=\"Billy Wilder (dir.), Tyrone Power, Marlene Dietrich\">Witness for the Prosecution</a>\n",
              " <span class=\"secondaryInfo\">(1957)</span>\n",
              " </td>,\n",
              " <td class=\"titleColumn\">\n",
              "       65.\n",
              "       <a href=\"/title/tt0090605/\" title=\"James Cameron (dir.), Sigourney Weaver, Michael Biehn\">Aliens</a>\n",
              " <span class=\"secondaryInfo\">(1986)</span>\n",
              " </td>,\n",
              " <td class=\"titleColumn\">\n",
              "       66.\n",
              "       <a href=\"/title/tt4633694/\" title=\"Bob Persichetti (dir.), Shameik Moore, Jake Johnson\">Spider-Man: Into the Spider-Verse</a>\n",
              " <span class=\"secondaryInfo\">(2018)</span>\n",
              " </td>,\n",
              " <td class=\"titleColumn\">\n",
              "       67.\n",
              "       <a href=\"/title/tt0169547/\" title=\"Sam Mendes (dir.), Kevin Spacey, Annette Bening\">American Beauty</a>\n",
              " <span class=\"secondaryInfo\">(1999)</span>\n",
              " </td>,\n",
              " <td class=\"titleColumn\">\n",
              "       68.\n",
              "       <a href=\"/title/tt0057012/\" title=\"Stanley Kubrick (dir.), Peter Sellers, George C. Scott\">Dr. Strangelove or: How I Learned to Stop Worrying and Love the Bomb</a>\n",
              " <span class=\"secondaryInfo\">(1964)</span>\n",
              " </td>,\n",
              " <td class=\"titleColumn\">\n",
              "       69.\n",
              "       <a href=\"/title/tt1345836/\" title=\"Christopher Nolan (dir.), Christian Bale, Tom Hardy\">The Dark Knight Rises</a>\n",
              " <span class=\"secondaryInfo\">(2012)</span>\n",
              " </td>,\n",
              " <td class=\"titleColumn\">\n",
              "       70.\n",
              "       <a href=\"/title/tt0364569/\" title=\"Park Chan-wook (dir.), Choi Min-sik, Yoo Ji-tae\">Oldboy</a>\n",
              " <span class=\"secondaryInfo\">(2003)</span>\n",
              " </td>,\n",
              " <td class=\"titleColumn\">\n",
              "       71.\n",
              "       <a href=\"/title/tt0361748/\" title=\"Quentin Tarantino (dir.), Brad Pitt, Diane Kruger\">Inglourious Basterds</a>\n",
              " <span class=\"secondaryInfo\">(2009)</span>\n",
              " </td>,\n",
              " <td class=\"titleColumn\">\n",
              "       72.\n",
              "       <a href=\"/title/tt0086879/\" title=\"Milos Forman (dir.), F. Murray Abraham, Tom Hulce\">Amadeus</a>\n",
              " <span class=\"secondaryInfo\">(1984)</span>\n",
              " </td>,\n",
              " <td class=\"titleColumn\">\n",
              "       73.\n",
              "       <a href=\"/title/tt2380307/\" title=\"Lee Unkrich (dir.), Anthony Gonzalez, Gael García Bernal\">Coco</a>\n",
              " <span class=\"secondaryInfo\">(2017)</span>\n",
              " </td>,\n",
              " <td class=\"titleColumn\">\n",
              "       74.\n",
              "       <a href=\"/title/tt0114709/\" title=\"John Lasseter (dir.), Tom Hanks, Tim Allen\">Toy Story</a>\n",
              " <span class=\"secondaryInfo\">(1995)</span>\n",
              " </td>,\n",
              " <td class=\"titleColumn\">\n",
              "       75.\n",
              "       <a href=\"/title/tt0112573/\" title=\"Mel Gibson (dir.), Mel Gibson, Sophie Marceau\">Braveheart</a>\n",
              " <span class=\"secondaryInfo\">(1995)</span>\n",
              " </td>,\n",
              " <td class=\"titleColumn\">\n",
              "       76.\n",
              "       <a href=\"/title/tt7286456/\" title=\"Todd Phillips (dir.), Joaquin Phoenix, Robert De Niro\">Joker</a>\n",
              " <span class=\"secondaryInfo\">(2019)</span>\n",
              " </td>,\n",
              " <td class=\"titleColumn\">\n",
              "       77.\n",
              "       <a href=\"/title/tt0082096/\" title=\"Wolfgang Petersen (dir.), Jürgen Prochnow, Herbert Grönemeyer\">Das Boot</a>\n",
              " <span class=\"secondaryInfo\">(1981)</span>\n",
              " </td>,\n",
              " <td class=\"titleColumn\">\n",
              "       78.\n",
              "       <a href=\"/title/tt4154796/\" title=\"Anthony Russo (dir.), Robert Downey Jr., Chris Evans\">Avengers: Endgame</a>\n",
              " <span class=\"secondaryInfo\">(2019)</span>\n",
              " </td>,\n",
              " <td class=\"titleColumn\">\n",
              "       79.\n",
              "       <a href=\"/title/tt0119698/\" title=\"Hayao Miyazaki (dir.), Yôji Matsuda, Yuriko Ishida\">Princess Mononoke</a>\n",
              " <span class=\"secondaryInfo\">(1997)</span>\n",
              " </td>,\n",
              " <td class=\"titleColumn\">\n",
              "       80.\n",
              "       <a href=\"/title/tt0087843/\" title=\"Sergio Leone (dir.), Robert De Niro, James Woods\">Once Upon a Time in America</a>\n",
              " <span class=\"secondaryInfo\">(1984)</span>\n",
              " </td>,\n",
              " <td class=\"titleColumn\">\n",
              "       81.\n",
              "       <a href=\"/title/tt0119217/\" title=\"Gus Van Sant (dir.), Robin Williams, Matt Damon\">Good Will Hunting</a>\n",
              " <span class=\"secondaryInfo\">(1997)</span>\n",
              " </td>,\n",
              " <td class=\"titleColumn\">\n",
              "       82.\n",
              "       <a href=\"/title/tt5311514/\" title=\"Makoto Shinkai (dir.), Ryunosuke Kamiki, Mone Kamishiraishi\">Your Name.</a>\n",
              " <span class=\"secondaryInfo\">(2016)</span>\n",
              " </td>,\n",
              " <td class=\"titleColumn\">\n",
              "       83.\n",
              "       <a href=\"/title/tt0045152/\" title=\"Stanley Donen (dir.), Gene Kelly, Donald O'Connor\">Singin' in the Rain</a>\n",
              " <span class=\"secondaryInfo\">(1952)</span>\n",
              " </td>,\n",
              " <td class=\"titleColumn\">\n",
              "       84.\n",
              "       <a href=\"/title/tt1187043/\" title=\"Rajkumar Hirani (dir.), Aamir Khan, Madhavan\">3 Idiots</a>\n",
              " <span class=\"secondaryInfo\">(2009)</span>\n",
              " </td>,\n",
              " <td class=\"titleColumn\">\n",
              "       85.\n",
              "       <a href=\"/title/tt0180093/\" title=\"Darren Aronofsky (dir.), Ellen Burstyn, Jared Leto\">Requiem for a Dream</a>\n",
              " <span class=\"secondaryInfo\">(2000)</span>\n",
              " </td>,\n",
              " <td class=\"titleColumn\">\n",
              "       86.\n",
              "       <a href=\"/title/tt0057565/\" title=\"Akira Kurosawa (dir.), Toshirô Mifune, Yutaka Sada\">High and Low</a>\n",
              " <span class=\"secondaryInfo\">(1963)</span>\n",
              " </td>,\n",
              " <td class=\"titleColumn\">\n",
              "       87.\n",
              "       <a href=\"/title/tt0435761/\" title=\"Lee Unkrich (dir.), Tom Hanks, Tim Allen\">Toy Story 3</a>\n",
              " <span class=\"secondaryInfo\">(2010)</span>\n",
              " </td>,\n",
              " <td class=\"titleColumn\">\n",
              "       88.\n",
              "       <a href=\"/title/tt8267604/\" title=\"Nadine Labaki (dir.), Zain Al Rafeea, Yordanos Shiferaw\">Capernaum</a>\n",
              " <span class=\"secondaryInfo\">(2018)</span>\n",
              " </td>,\n",
              " <td class=\"titleColumn\">\n",
              "       89.\n",
              "       <a href=\"/title/tt0086190/\" title=\"Richard Marquand (dir.), Mark Hamill, Harrison Ford\">Star Wars: Episode VI - Return of the Jedi</a>\n",
              " <span class=\"secondaryInfo\">(1983)</span>\n",
              " </td>,\n",
              " <td class=\"titleColumn\">\n",
              "       90.\n",
              "       <a href=\"/title/tt0338013/\" title=\"Michel Gondry (dir.), Jim Carrey, Kate Winslet\">Eternal Sunshine of the Spotless Mind</a>\n",
              " <span class=\"secondaryInfo\">(2004)</span>\n",
              " </td>,\n",
              " <td class=\"titleColumn\">\n",
              "       91.\n",
              "       <a href=\"/title/tt0062622/\" title=\"Stanley Kubrick (dir.), Keir Dullea, Gary Lockwood\">2001: A Space Odyssey</a>\n",
              " <span class=\"secondaryInfo\">(1968)</span>\n",
              " </td>,\n",
              " <td class=\"titleColumn\">\n",
              "       92.\n",
              "       <a href=\"/title/tt0091251/\" title=\"Elem Klimov (dir.), Aleksey Kravchenko, Olga Mironova\">Come and See</a>\n",
              " <span class=\"secondaryInfo\">(1985)</span>\n",
              " </td>,\n",
              " <td class=\"titleColumn\">\n",
              "       93.\n",
              "       <a href=\"/title/tt0105236/\" title=\"Quentin Tarantino (dir.), Harvey Keitel, Tim Roth\">Reservoir Dogs</a>\n",
              " <span class=\"secondaryInfo\">(1992)</span>\n",
              " </td>,\n",
              " <td class=\"titleColumn\">\n",
              "       94.\n",
              "       <a href=\"/title/tt2106476/\" title=\"Thomas Vinterberg (dir.), Mads Mikkelsen, Thomas Bo Larsen\">The Hunt</a>\n",
              " <span class=\"secondaryInfo\">(2012)</span>\n",
              " </td>,\n",
              " <td class=\"titleColumn\">\n",
              "       95.\n",
              "       <a href=\"/title/tt0033467/\" title=\"Orson Welles (dir.), Orson Welles, Joseph Cotten\">Citizen Kane</a>\n",
              " <span class=\"secondaryInfo\">(1941)</span>\n",
              " </td>,\n",
              " <td class=\"titleColumn\">\n",
              "       96.\n",
              "       <a href=\"/title/tt0022100/\" title=\"Fritz Lang (dir.), Peter Lorre, Ellen Widmann\">M</a>\n",
              " <span class=\"secondaryInfo\">(1931)</span>\n",
              " </td>,\n",
              " <td class=\"titleColumn\">\n",
              "       97.\n",
              "       <a href=\"/title/tt0056172/\" title=\"David Lean (dir.), Peter O'Toole, Alec Guinness\">Lawrence of Arabia</a>\n",
              " <span class=\"secondaryInfo\">(1962)</span>\n",
              " </td>,\n",
              " <td class=\"titleColumn\">\n",
              "       98.\n",
              "       <a href=\"/title/tt0053125/\" title=\"Alfred Hitchcock (dir.), Cary Grant, Eva Marie Saint\">North by Northwest</a>\n",
              " <span class=\"secondaryInfo\">(1959)</span>\n",
              " </td>,\n",
              " <td class=\"titleColumn\">\n",
              "       99.\n",
              "       <a href=\"/title/tt0044741/\" title=\"Akira Kurosawa (dir.), Takashi Shimura, Nobuo Kaneko\">Ikiru</a>\n",
              " <span class=\"secondaryInfo\">(1952)</span>\n",
              " </td>,\n",
              " <td class=\"titleColumn\">\n",
              "       100.\n",
              "       <a href=\"/title/tt0052357/\" title=\"Alfred Hitchcock (dir.), James Stewart, Kim Novak\">Vertigo</a>\n",
              " <span class=\"secondaryInfo\">(1958)</span>\n",
              " </td>,\n",
              " <td class=\"titleColumn\">\n",
              "       101.\n",
              "       <a href=\"/title/tt0053604/\" title=\"Billy Wilder (dir.), Jack Lemmon, Shirley MacLaine\">The Apartment</a>\n",
              " <span class=\"secondaryInfo\">(1960)</span>\n",
              " </td>,\n",
              " <td class=\"titleColumn\">\n",
              "       102.\n",
              "       <a href=\"/title/tt0211915/\" title=\"Jean-Pierre Jeunet (dir.), Audrey Tautou, Mathieu Kassovitz\">Amélie</a>\n",
              " <span class=\"secondaryInfo\">(2001)</span>\n",
              " </td>,\n",
              " <td class=\"titleColumn\">\n",
              "       103.\n",
              "       <a href=\"/title/tt0066921/\" title=\"Stanley Kubrick (dir.), Malcolm McDowell, Patrick Magee\">A Clockwork Orange</a>\n",
              " <span class=\"secondaryInfo\">(1971)</span>\n",
              " </td>,\n",
              " <td class=\"titleColumn\">\n",
              "       104.\n",
              "       <a href=\"/title/tt0036775/\" title=\"Billy Wilder (dir.), Fred MacMurray, Barbara Stanwyck\">Double Indemnity</a>\n",
              " <span class=\"secondaryInfo\">(1944)</span>\n",
              " </td>,\n",
              " <td class=\"titleColumn\">\n",
              "       105.\n",
              "       <a href=\"/title/tt0093058/\" title=\"Stanley Kubrick (dir.), Matthew Modine, R. Lee Ermey\">Full Metal Jacket</a>\n",
              " <span class=\"secondaryInfo\">(1987)</span>\n",
              " </td>,\n",
              " <td class=\"titleColumn\">\n",
              "       106.\n",
              "       <a href=\"/title/tt0086250/\" title=\"Brian De Palma (dir.), Al Pacino, Michelle Pfeiffer\">Scarface</a>\n",
              " <span class=\"secondaryInfo\">(1983)</span>\n",
              " </td>,\n",
              " <td class=\"titleColumn\">\n",
              "       107.\n",
              "       <a href=\"/title/tt8503618/\" title=\"Thomas Kail (dir.), Lin-Manuel Miranda, Phillipa Soo\">Hamilton</a>\n",
              " <span class=\"secondaryInfo\">(2020)</span>\n",
              " </td>,\n",
              " <td class=\"titleColumn\">\n",
              "       108.\n",
              "       <a href=\"/title/tt1255953/\" title=\"Denis Villeneuve (dir.), Lubna Azabal, Mélissa Désormeaux-Poulin\">Incendies</a>\n",
              " <span class=\"secondaryInfo\">(2010)</span>\n",
              " </td>,\n",
              " <td class=\"titleColumn\">\n",
              "       109.\n",
              "       <a href=\"/title/tt0113277/\" title=\"Michael Mann (dir.), Al Pacino, Robert De Niro\">Heat</a>\n",
              " <span class=\"secondaryInfo\">(1995)</span>\n",
              " </td>,\n",
              " <td class=\"titleColumn\">\n",
              "       110.\n",
              "       <a href=\"/title/tt0056592/\" title=\"Robert Mulligan (dir.), Gregory Peck, John Megna\">To Kill a Mockingbird</a>\n",
              " <span class=\"secondaryInfo\">(1962)</span>\n",
              " </td>,\n",
              " <td class=\"titleColumn\">\n",
              "       111.\n",
              "       <a href=\"/title/tt1049413/\" title=\"Pete Docter (dir.), Edward Asner, Jordan Nagai\">Up</a>\n",
              " <span class=\"secondaryInfo\">(2009)</span>\n",
              " </td>,\n",
              " <td class=\"titleColumn\">\n",
              "       112.\n",
              "       <a href=\"/title/tt0070735/\" title=\"George Roy Hill (dir.), Paul Newman, Robert Redford\">The Sting</a>\n",
              " <span class=\"secondaryInfo\">(1973)</span>\n",
              " </td>,\n",
              " <td class=\"titleColumn\">\n",
              "       113.\n",
              "       <a href=\"/title/tt1832382/\" title=\"Asghar Farhadi (dir.), Payman Maadi, Leila Hatami\">A Separation</a>\n",
              " <span class=\"secondaryInfo\">(2011)</span>\n",
              " </td>,\n",
              " <td class=\"titleColumn\">\n",
              "       114.\n",
              "       <a href=\"/title/tt0017136/\" title=\"Fritz Lang (dir.), Brigitte Helm, Alfred Abel\">Metropolis</a>\n",
              " <span class=\"secondaryInfo\">(1927)</span>\n",
              " </td>,\n",
              " <td class=\"titleColumn\">\n",
              "       115.\n",
              "       <a href=\"/title/tt0075314/\" title=\"Martin Scorsese (dir.), Robert De Niro, Jodie Foster\">Taxi Driver</a>\n",
              " <span class=\"secondaryInfo\">(1976)</span>\n",
              " </td>,\n",
              " <td class=\"titleColumn\">\n",
              "       116.\n",
              "       <a href=\"/title/tt0119488/\" title=\"Curtis Hanson (dir.), Kevin Spacey, Russell Crowe\">L.A. Confidential</a>\n",
              " <span class=\"secondaryInfo\">(1997)</span>\n",
              " </td>,\n",
              " <td class=\"titleColumn\">\n",
              "       117.\n",
              "       <a href=\"/title/tt0095016/\" title=\"John McTiernan (dir.), Bruce Willis, Alan Rickman\">Die Hard</a>\n",
              " <span class=\"secondaryInfo\">(1988)</span>\n",
              " </td>,\n",
              " <td class=\"titleColumn\">\n",
              "       118.\n",
              "       <a href=\"/title/tt0208092/\" title=\"Guy Ritchie (dir.), Jason Statham, Brad Pitt\">Snatch</a>\n",
              " <span class=\"secondaryInfo\">(2000)</span>\n",
              " </td>,\n",
              " <td class=\"titleColumn\">\n",
              "       119.\n",
              "       <a href=\"/title/tt0097576/\" title=\"Steven Spielberg (dir.), Harrison Ford, Sean Connery\">Indiana Jones and the Last Crusade</a>\n",
              " <span class=\"secondaryInfo\">(1989)</span>\n",
              " </td>,\n",
              " <td class=\"titleColumn\">\n",
              "       120.\n",
              "       <a href=\"/title/tt0040522/\" title=\"Vittorio De Sica (dir.), Lamberto Maggiorani, Enzo Staiola\">Bicycle Thieves</a>\n",
              " <span class=\"secondaryInfo\">(1948)</span>\n",
              " </td>,\n",
              " <td class=\"titleColumn\">\n",
              "       121.\n",
              "       <a href=\"/title/tt1745960/\" title=\"Joseph Kosinski (dir.), Tom Cruise, Jennifer Connelly\">Top Gun: Maverick</a>\n",
              " <span class=\"secondaryInfo\">(2022)</span>\n",
              " </td>,\n",
              " <td class=\"titleColumn\">\n",
              "       122.\n",
              "       <a href=\"/title/tt0986264/\" title=\"Aamir Khan (dir.), Darsheel Safary, Aamir Khan\">Like Stars on Earth</a>\n",
              " <span class=\"secondaryInfo\">(2007)</span>\n",
              " </td>,\n",
              " <td class=\"titleColumn\">\n",
              "       123.\n",
              "       <a href=\"/title/tt8579674/\" title=\"Sam Mendes (dir.), Dean-Charles Chapman, George MacKay\">1917</a>\n",
              " <span class=\"secondaryInfo\">(2019)</span>\n",
              " </td>,\n",
              " <td class=\"titleColumn\">\n",
              "       124.\n",
              "       <a href=\"/title/tt0363163/\" title=\"Oliver Hirschbiegel (dir.), Bruno Ganz, Alexandra Maria Lara\">Downfall</a>\n",
              " <span class=\"secondaryInfo\">(2004)</span>\n",
              " </td>,\n",
              " <td class=\"titleColumn\">\n",
              "       125.\n",
              "       <a href=\"/title/tt5074352/\" title=\"Nitesh Tiwari (dir.), Aamir Khan, Sakshi Tanwar\">Dangal</a>\n",
              " <span class=\"secondaryInfo\">(2016)</span>\n",
              " </td>,\n",
              " <td class=\"titleColumn\">\n",
              "       126.\n",
              "       <a href=\"/title/tt0059578/\" title=\"Sergio Leone (dir.), Clint Eastwood, Lee Van Cleef\">For a Few Dollars More</a>\n",
              " <span class=\"secondaryInfo\">(1965)</span>\n",
              " </td>,\n",
              " <td class=\"titleColumn\">\n",
              "       127.\n",
              "       <a href=\"/title/tt0372784/\" title=\"Christopher Nolan (dir.), Christian Bale, Michael Caine\">Batman Begins</a>\n",
              " <span class=\"secondaryInfo\">(2005)</span>\n",
              " </td>,\n",
              " <td class=\"titleColumn\">\n",
              "       128.\n",
              "       <a href=\"/title/tt0012349/\" title=\"Charles Chaplin (dir.), Charles Chaplin, Edna Purviance\">The Kid</a>\n",
              " <span class=\"secondaryInfo\">(1921)</span>\n",
              " </td>,\n",
              " <td class=\"titleColumn\">\n",
              "       129.\n",
              "       <a href=\"/title/tt0053291/\" title=\"Billy Wilder (dir.), Marilyn Monroe, Tony Curtis\">Some Like It Hot</a>\n",
              " <span class=\"secondaryInfo\">(1959)</span>\n",
              " </td>,\n",
              " <td class=\"titleColumn\">\n",
              "       130.\n",
              "       <a href=\"/title/tt10272386/\" title=\"Florian Zeller (dir.), Anthony Hopkins, Olivia Colman\">The Father</a>\n",
              " <span class=\"secondaryInfo\">(2020)</span>\n",
              " </td>,\n",
              " <td class=\"titleColumn\">\n",
              "       131.\n",
              "       <a href=\"/title/tt0042192/\" title=\"Joseph L. Mankiewicz (dir.), Bette Davis, Anne Baxter\">All About Eve</a>\n",
              " <span class=\"secondaryInfo\">(1950)</span>\n",
              " </td>,\n",
              " <td class=\"titleColumn\">\n",
              "       132.\n",
              "       <a href=\"/title/tt0993846/\" title=\"Martin Scorsese (dir.), Leonardo DiCaprio, Jonah Hill\">The Wolf of Wall Street</a>\n",
              " <span class=\"secondaryInfo\">(2013)</span>\n",
              " </td>,\n",
              " <td class=\"titleColumn\">\n",
              "       133.\n",
              "       <a href=\"/title/tt6966692/\" title=\"Peter Farrelly (dir.), Viggo Mortensen, Mahershala Ali\">Green Book</a>\n",
              " <span class=\"secondaryInfo\">(2018)</span>\n",
              " </td>,\n",
              " <td class=\"titleColumn\">\n",
              "       134.\n",
              "       <a href=\"/title/tt10366206/\" title=\"Chad Stahelski (dir.), Keanu Reeves, Laurence Fishburne\">John Wick: Chapter 4</a>\n",
              " <span class=\"secondaryInfo\">(2023)</span>\n",
              " </td>,\n",
              " <td class=\"titleColumn\">\n",
              "       135.\n",
              "       <a href=\"/title/tt0055031/\" title=\"Stanley Kramer (dir.), Spencer Tracy, Burt Lancaster\">Judgment at Nuremberg</a>\n",
              " <span class=\"secondaryInfo\">(1961)</span>\n",
              " </td>,\n",
              " <td class=\"titleColumn\">\n",
              "       136.\n",
              "       <a href=\"/title/tt0089881/\" title=\"Akira Kurosawa (dir.), Tatsuya Nakadai, Akira Terao\">Ran</a>\n",
              " <span class=\"secondaryInfo\">(1985)</span>\n",
              " </td>,\n",
              " <td class=\"titleColumn\">\n",
              "       137.\n",
              "       <a href=\"/title/tt0112641/\" title=\"Martin Scorsese (dir.), Robert De Niro, Sharon Stone\">Casino</a>\n",
              " <span class=\"secondaryInfo\">(1995)</span>\n",
              " </td>,\n",
              " <td class=\"titleColumn\">\n",
              "       138.\n",
              "       <a href=\"/title/tt0120382/\" title=\"Peter Weir (dir.), Jim Carrey, Ed Harris\">The Truman Show</a>\n",
              " <span class=\"secondaryInfo\">(1998)</span>\n",
              " </td>,\n",
              " <td class=\"titleColumn\">\n",
              "       139.\n",
              "       <a href=\"/title/tt0469494/\" title=\"Paul Thomas Anderson (dir.), Daniel Day-Lewis, Paul Dano\">There Will Be Blood</a>\n",
              " <span class=\"secondaryInfo\">(2007)</span>\n",
              " </td>,\n",
              " <td class=\"titleColumn\">\n",
              "       140.\n",
              "       <a href=\"/title/tt0457430/\" title=\"Guillermo del Toro (dir.), Ivana Baquero, Ariadna Gil\">Pan's Labyrinth</a>\n",
              " <span class=\"secondaryInfo\">(2006)</span>\n",
              " </td>,\n",
              " <td class=\"titleColumn\">\n",
              "       141.\n",
              "       <a href=\"/title/tt0105695/\" title=\"Clint Eastwood (dir.), Clint Eastwood, Gene Hackman\">Unforgiven</a>\n",
              " <span class=\"secondaryInfo\">(1992)</span>\n",
              " </td>,\n",
              " <td class=\"titleColumn\">\n",
              "       142.\n",
              "       <a href=\"/title/tt0167404/\" title=\"M. Night Shyamalan (dir.), Bruce Willis, Haley Joel Osment\">The Sixth Sense</a>\n",
              " <span class=\"secondaryInfo\">(1999)</span>\n",
              " </td>,\n",
              " <td class=\"titleColumn\">\n",
              "       143.\n",
              "       <a href=\"/title/tt1130884/\" title=\"Martin Scorsese (dir.), Leonardo DiCaprio, Emily Mortimer\">Shutter Island</a>\n",
              " <span class=\"secondaryInfo\">(2010)</span>\n",
              " </td>,\n",
              " <td class=\"titleColumn\">\n",
              "       144.\n",
              "       <a href=\"/title/tt0268978/\" title=\"Ron Howard (dir.), Russell Crowe, Ed Harris\">A Beautiful Mind</a>\n",
              " <span class=\"secondaryInfo\">(2001)</span>\n",
              " </td>,\n",
              " <td class=\"titleColumn\">\n",
              "       145.\n",
              "       <a href=\"/title/tt0107290/\" title=\"Steven Spielberg (dir.), Sam Neill, Laura Dern\">Jurassic Park</a>\n",
              " <span class=\"secondaryInfo\">(1993)</span>\n",
              " </td>,\n",
              " <td class=\"titleColumn\">\n",
              "       146.\n",
              "       <a href=\"/title/tt0055630/\" title=\"Akira Kurosawa (dir.), Toshirô Mifune, Eijirô Tôno\">Yojimbo</a>\n",
              " <span class=\"secondaryInfo\">(1961)</span>\n",
              " </td>,\n",
              " <td class=\"titleColumn\">\n",
              "       147.\n",
              "       <a href=\"/title/tt0040897/\" title=\"John Huston (dir.), Humphrey Bogart, Walter Huston\">The Treasure of the Sierra Madre</a>\n",
              " <span class=\"secondaryInfo\">(1948)</span>\n",
              " </td>,\n",
              " <td class=\"titleColumn\">\n",
              "       148.\n",
              "       <a href=\"/title/tt0071853/\" title=\"Terry Gilliam (dir.), Graham Chapman, John Cleese\">Monty Python and the Holy Grail</a>\n",
              " <span class=\"secondaryInfo\">(1975)</span>\n",
              " </td>,\n",
              " <td class=\"titleColumn\">\n",
              "       149.\n",
              "       <a href=\"/title/tt0477348/\" title=\"Ethan Coen (dir.), Tommy Lee Jones, Javier Bardem\">No Country for Old Men</a>\n",
              " <span class=\"secondaryInfo\">(2007)</span>\n",
              " </td>,\n",
              " <td class=\"titleColumn\">\n",
              "       150.\n",
              "       <a href=\"/title/tt0057115/\" title=\"John Sturges (dir.), Steve McQueen, James Garner\">The Great Escape</a>\n",
              " <span class=\"secondaryInfo\">(1963)</span>\n",
              " </td>,\n",
              " <td class=\"titleColumn\">\n",
              "       151.\n",
              "       <a href=\"/title/tt0266697/\" title=\"Quentin Tarantino (dir.), Uma Thurman, David Carradine\">Kill Bill: Vol. 1</a>\n",
              " <span class=\"secondaryInfo\">(2003)</span>\n",
              " </td>,\n",
              " <td class=\"titleColumn\">\n",
              "       152.\n",
              "       <a href=\"/title/tt0042876/\" title=\"Akira Kurosawa (dir.), Toshirô Mifune, Machiko Kyô\">Rashomon</a>\n",
              " <span class=\"secondaryInfo\">(1950)</span>\n",
              " </td>,\n",
              " <td class=\"titleColumn\">\n",
              "       153.\n",
              "       <a href=\"/title/tt0084787/\" title=\"John Carpenter (dir.), Kurt Russell, Wilford Brimley\">The Thing</a>\n",
              " <span class=\"secondaryInfo\">(1982)</span>\n",
              " </td>,\n",
              " <td class=\"titleColumn\">\n",
              "       154.\n",
              "       <a href=\"/title/tt10872600/\" title=\"Jon Watts (dir.), Tom Holland, Zendaya\">Spider-Man: No Way Home</a>\n",
              " <span class=\"secondaryInfo\">(2021)</span>\n",
              " </td>,\n",
              " <td class=\"titleColumn\">\n",
              "       155.\n",
              "       <a href=\"/title/tt0266543/\" title=\"Andrew Stanton (dir.), Albert Brooks, Ellen DeGeneres\">Finding Nemo</a>\n",
              " <span class=\"secondaryInfo\">(2003)</span>\n",
              " </td>,\n",
              " <td class=\"titleColumn\">\n",
              "       156.\n",
              "       <a href=\"/title/tt0080678/\" title=\"David Lynch (dir.), Anthony Hopkins, John Hurt\">The Elephant Man</a>\n",
              " <span class=\"secondaryInfo\">(1980)</span>\n",
              " </td>,\n",
              " <td class=\"titleColumn\">\n",
              "       157.\n",
              "       <a href=\"/title/tt0071315/\" title=\"Roman Polanski (dir.), Jack Nicholson, Faye Dunaway\">Chinatown</a>\n",
              " <span class=\"secondaryInfo\">(1974)</span>\n",
              " </td>,\n",
              " <td class=\"titleColumn\">\n",
              "       158.\n",
              "       <a href=\"/title/tt0081398/\" title=\"Martin Scorsese (dir.), Robert De Niro, Cathy Moriarty\">Raging Bull</a>\n",
              " <span class=\"secondaryInfo\">(1980)</span>\n",
              " </td>,\n",
              " <td class=\"titleColumn\">\n",
              "       159.\n",
              "       <a href=\"/title/tt0434409/\" title=\"James McTeigue (dir.), Hugo Weaving, Natalie Portman\">V for Vendetta</a>\n",
              " <span class=\"secondaryInfo\">(2005)</span>\n",
              " </td>,\n",
              " <td class=\"titleColumn\">\n",
              "       160.\n",
              "       <a href=\"/title/tt0031381/\" title=\"Victor Fleming (dir.), Clark Gable, Vivien Leigh\">Gone with the Wind</a>\n",
              " <span class=\"secondaryInfo\">(1939)</span>\n",
              " </td>,\n",
              " <td class=\"titleColumn\">\n",
              "       161.\n",
              "       <a href=\"/title/tt0120735/\" title=\"Guy Ritchie (dir.), Jason Flemyng, Dexter Fletcher\">Lock, Stock and Two Smoking Barrels</a>\n",
              " <span class=\"secondaryInfo\">(1998)</span>\n",
              " </td>,\n",
              " <td class=\"titleColumn\">\n",
              "       162.\n",
              "       <a href=\"/title/tt0046912/\" title=\"Alfred Hitchcock (dir.), Ray Milland, Grace Kelly\">Dial M for Murder</a>\n",
              " <span class=\"secondaryInfo\">(1954)</span>\n",
              " </td>,\n",
              " <td class=\"titleColumn\">\n",
              "       163.\n",
              "       <a href=\"/title/tt2096673/\" title=\"Pete Docter (dir.), Amy Poehler, Bill Hader\">Inside Out</a>\n",
              " <span class=\"secondaryInfo\">(2015)</span>\n",
              " </td>,\n",
              " <td class=\"titleColumn\">\n",
              "       164.\n",
              "       <a href=\"/title/tt1305806/\" title=\"Juan José Campanella (dir.), Ricardo Darín, Soledad Villamil\">The Secret in Their Eyes</a>\n",
              " <span class=\"secondaryInfo\">(2009)</span>\n",
              " </td>,\n",
              " <td class=\"titleColumn\">\n",
              "       165.\n",
              "       <a href=\"/title/tt0347149/\" title=\"Hayao Miyazaki (dir.), Chieko Baisho, Takuya Kimura\">Howl's Moving Castle</a>\n",
              " <span class=\"secondaryInfo\">(2004)</span>\n",
              " </td>,\n",
              " <td class=\"titleColumn\">\n",
              "       166.\n",
              "       <a href=\"/title/tt5027774/\" title=\"Martin McDonagh (dir.), Frances McDormand, Woody Harrelson\">Three Billboards Outside Ebbing, Missouri</a>\n",
              " <span class=\"secondaryInfo\">(2017)</span>\n",
              " </td>,\n",
              " <td class=\"titleColumn\">\n",
              "       167.\n",
              "       <a href=\"/title/tt0117951/\" title=\"Danny Boyle (dir.), Ewan McGregor, Ewen Bremner\">Trainspotting</a>\n",
              " <span class=\"secondaryInfo\">(1996)</span>\n",
              " </td>,\n",
              " <td class=\"titleColumn\">\n",
              "       168.\n",
              "       <a href=\"/title/tt0050212/\" title=\"David Lean (dir.), William Holden, Alec Guinness\">The Bridge on the River Kwai</a>\n",
              " <span class=\"secondaryInfo\">(1957)</span>\n",
              " </td>,\n",
              " <td class=\"titleColumn\">\n",
              "       169.\n",
              "       <a href=\"/title/tt1392214/\" title=\"Denis Villeneuve (dir.), Hugh Jackman, Jake Gyllenhaal\">Prisoners</a>\n",
              " <span class=\"secondaryInfo\">(2013)</span>\n",
              " </td>,\n",
              " <td class=\"titleColumn\">\n",
              "       170.\n",
              "       <a href=\"/title/tt1291584/\" title=\"Gavin O'Connor (dir.), Tom Hardy, Nick Nolte\">Warrior</a>\n",
              " <span class=\"secondaryInfo\">(2011)</span>\n",
              " </td>,\n",
              " <td class=\"titleColumn\">\n",
              "       171.\n",
              "       <a href=\"/title/tt0116282/\" title=\"Joel Coen (dir.), William H. Macy, Frances McDormand\">Fargo</a>\n",
              " <span class=\"secondaryInfo\">(1996)</span>\n",
              " </td>,\n",
              " <td class=\"titleColumn\">\n",
              "       172.\n",
              "       <a href=\"/title/tt1205489/\" title=\"Clint Eastwood (dir.), Clint Eastwood, Bee Vang\">Gran Torino</a>\n",
              " <span class=\"secondaryInfo\">(2008)</span>\n",
              " </td>,\n",
              " <td class=\"titleColumn\">\n",
              "       173.\n",
              "       <a href=\"/title/tt0096283/\" title=\"Hayao Miyazaki (dir.), Hitoshi Takagi, Noriko Hidaka\">My Neighbor Totoro</a>\n",
              " <span class=\"secondaryInfo\">(1988)</span>\n",
              " </td>,\n",
              " <td class=\"titleColumn\">\n",
              "       174.\n",
              "       <a href=\"/title/tt0264464/\" title=\"Steven Spielberg (dir.), Leonardo DiCaprio, Tom Hanks\">Catch Me If You Can</a>\n",
              " <span class=\"secondaryInfo\">(2002)</span>\n",
              " </td>,\n",
              " <td class=\"titleColumn\">\n",
              "       175.\n",
              "       <a href=\"/title/tt0405159/\" title=\"Clint Eastwood (dir.), Hilary Swank, Clint Eastwood\">Million Dollar Baby</a>\n",
              " <span class=\"secondaryInfo\">(2004)</span>\n",
              " </td>,\n",
              " <td class=\"titleColumn\">\n",
              "       176.\n",
              "       <a href=\"/title/tt0118849/\" title=\"Majid Majidi (dir.), Mohammad Amir Naji, Amir Farrokh Hashemian\">Children of Heaven</a>\n",
              " <span class=\"secondaryInfo\">(1997)</span>\n",
              " </td>,\n",
              " <td class=\"titleColumn\">\n",
              "       177.\n",
              "       <a href=\"/title/tt0083658/\" title=\"Ridley Scott (dir.), Harrison Ford, Rutger Hauer\">Blade Runner</a>\n",
              " <span class=\"secondaryInfo\">(1982)</span>\n",
              " </td>,\n",
              " <td class=\"titleColumn\">\n",
              "       178.\n",
              "       <a href=\"/title/tt0015864/\" title=\"Charles Chaplin (dir.), Charles Chaplin, Mack Swain\">The Gold Rush</a>\n",
              " <span class=\"secondaryInfo\">(1925)</span>\n",
              " </td>,\n",
              " <td class=\"titleColumn\">\n",
              "       179.\n",
              "       <a href=\"/title/tt4729430/\" title=\"Sergio Pablos (dir.), Jason Schwartzman, J.K. Simmons\">Klaus</a>\n",
              " <span class=\"secondaryInfo\">(2019)</span>\n",
              " </td>,\n",
              " <td class=\"titleColumn\">\n",
              "       180.\n",
              "       <a href=\"/title/tt1201607/\" title=\"David Yates (dir.), Daniel Radcliffe, Emma Watson\">Harry Potter and the Deathly Hallows: Part 2</a>\n",
              " <span class=\"secondaryInfo\">(2011)</span>\n",
              " </td>,\n",
              " <td class=\"titleColumn\">\n",
              "       181.\n",
              "       <a href=\"/title/tt0112471/\" title=\"Richard Linklater (dir.), Ethan Hawke, Julie Delpy\">Before Sunrise</a>\n",
              " <span class=\"secondaryInfo\">(1995)</span>\n",
              " </td>,\n",
              " <td class=\"titleColumn\">\n",
              "       182.\n",
              "       <a href=\"/title/tt2024544/\" title=\"Steve McQueen (dir.), Chiwetel Ejiofor, Michael Kenneth Williams\">12 Years a Slave</a>\n",
              " <span class=\"secondaryInfo\">(2013)</span>\n",
              " </td>,\n",
              " <td class=\"titleColumn\">\n",
              "       183.\n",
              "       <a href=\"/title/tt0047296/\" title=\"Elia Kazan (dir.), Marlon Brando, Karl Malden\">On the Waterfront</a>\n",
              " <span class=\"secondaryInfo\">(1954)</span>\n",
              " </td>,\n",
              " <td class=\"titleColumn\">\n",
              "       184.\n",
              "       <a href=\"/title/tt0052618/\" title=\"William Wyler (dir.), Charlton Heston, Jack Hawkins\">Ben-Hur</a>\n",
              " <span class=\"secondaryInfo\">(1959)</span>\n",
              " </td>,\n",
              " <td class=\"titleColumn\">\n",
              "       185.\n",
              "       <a href=\"/title/tt2278388/\" title=\"Wes Anderson (dir.), Ralph Fiennes, F. Murray Abraham\">The Grand Budapest Hotel</a>\n",
              " <span class=\"secondaryInfo\">(2014)</span>\n",
              " </td>,\n",
              " <td class=\"titleColumn\">\n",
              "       186.\n",
              "       <a href=\"/title/tt2267998/\" title=\"David Fincher (dir.), Ben Affleck, Rosamund Pike\">Gone Girl</a>\n",
              " <span class=\"secondaryInfo\">(2014)</span>\n",
              " </td>,\n",
              " <td class=\"titleColumn\">\n",
              "       187.\n",
              "       <a href=\"/title/tt0050986/\" title=\"Ingmar Bergman (dir.), Victor Sjöström, Bibi Andersson\">Wild Strawberries</a>\n",
              " <span class=\"secondaryInfo\">(1957)</span>\n",
              " </td>,\n",
              " <td class=\"titleColumn\">\n",
              "       188.\n",
              "       <a href=\"/title/tt0017925/\" title=\"Clyde Bruckman (dir.), Buster Keaton, Marion Mack\">The General</a>\n",
              " <span class=\"secondaryInfo\">(1926)</span>\n",
              " </td>,\n",
              " <td class=\"titleColumn\">\n",
              "       189.\n",
              "       <a href=\"/title/tt0107207/\" title=\"Jim Sheridan (dir.), Daniel Day-Lewis, Pete Postlethwaite\">In the Name of the Father</a>\n",
              " <span class=\"secondaryInfo\">(1993)</span>\n",
              " </td>,\n",
              " <td class=\"titleColumn\">\n",
              "       190.\n",
              "       <a href=\"/title/tt0072684/\" title=\"Stanley Kubrick (dir.), Ryan O'Neal, Marisa Berenson\">Barry Lyndon</a>\n",
              " <span class=\"secondaryInfo\">(1975)</span>\n",
              " </td>,\n",
              " <td class=\"titleColumn\">\n",
              "       191.\n",
              "       <a href=\"/title/tt0041959/\" title=\"Carol Reed (dir.), Orson Welles, Joseph Cotten\">The Third Man</a>\n",
              " <span class=\"secondaryInfo\">(1949)</span>\n",
              " </td>,\n",
              " <td class=\"titleColumn\">\n",
              "       192.\n",
              "       <a href=\"/title/tt0077416/\" title=\"Michael Cimino (dir.), Robert De Niro, Christopher Walken\">The Deer Hunter</a>\n",
              " <span class=\"secondaryInfo\">(1978)</span>\n",
              " </td>,\n",
              " <td class=\"titleColumn\">\n",
              "       193.\n",
              "       <a href=\"/title/tt2119532/\" title=\"Mel Gibson (dir.), Andrew Garfield, Sam Worthington\">Hacksaw Ridge</a>\n",
              " <span class=\"secondaryInfo\">(2016)</span>\n",
              " </td>,\n",
              " <td class=\"titleColumn\">\n",
              "       194.\n",
              "       <a href=\"/title/tt0046268/\" title=\"Henri-Georges Clouzot (dir.), Yves Montand, Charles Vanel\">The Wages of Fear</a>\n",
              " <span class=\"secondaryInfo\">(1953)</span>\n",
              " </td>,\n",
              " <td class=\"titleColumn\">\n",
              "       195.\n",
              "       <a href=\"/title/tt0353969/\" title=\"Bong Joon Ho (dir.), Song Kang-ho, Kim Sang-kyung\">Memories of Murder</a>\n",
              " <span class=\"secondaryInfo\">(2003)</span>\n",
              " </td>,\n",
              " <td class=\"titleColumn\">\n",
              "       196.\n",
              "       <a href=\"/title/tt0015324/\" title=\"Buster Keaton (dir.), Buster Keaton, Kathryn McGuire\">Sherlock Jr.</a>\n",
              " <span class=\"secondaryInfo\">(1924)</span>\n",
              " </td>,\n",
              " <td class=\"titleColumn\">\n",
              "       197.\n",
              "       <a href=\"/title/tt3011894/\" title=\"Damián Szifron (dir.), Darío Grandinetti, María Marull\">Wild Tales</a>\n",
              " <span class=\"secondaryInfo\">(2014)</span>\n",
              " </td>,\n",
              " <td class=\"titleColumn\">\n",
              "       198.\n",
              "       <a href=\"/title/tt0031679/\" title=\"Frank Capra (dir.), James Stewart, Jean Arthur\">Mr. Smith Goes to Washington</a>\n",
              " <span class=\"secondaryInfo\">(1939)</span>\n",
              " </td>,\n",
              " <td class=\"titleColumn\">\n",
              "       199.\n",
              "       <a href=\"/title/tt1392190/\" title=\"George Miller (dir.), Tom Hardy, Charlize Theron\">Mad Max: Fury Road</a>\n",
              " <span class=\"secondaryInfo\">(2015)</span>\n",
              " </td>,\n",
              " <td class=\"titleColumn\">\n",
              "       200.\n",
              "       <a href=\"/title/tt0978762/\" title=\"Adam Elliot (dir.), Toni Collette, Philip Seymour Hoffman\">Mary and Max</a>\n",
              " <span class=\"secondaryInfo\">(2009)</span>\n",
              " </td>,\n",
              " <td class=\"titleColumn\">\n",
              "       201.\n",
              "       <a href=\"/title/tt0050976/\" title=\"Ingmar Bergman (dir.), Max von Sydow, Gunnar Björnstrand\">The Seventh Seal</a>\n",
              " <span class=\"secondaryInfo\">(1957)</span>\n",
              " </td>,\n",
              " <td class=\"titleColumn\">\n",
              "       202.\n",
              "       <a href=\"/title/tt0892769/\" title=\"Dean DeBlois (dir.), Jay Baruchel, Gerard Butler\">How to Train Your Dragon</a>\n",
              " <span class=\"secondaryInfo\">(2010)</span>\n",
              " </td>,\n",
              " <td class=\"titleColumn\">\n",
              "       203.\n",
              "       <a href=\"/title/tt0198781/\" title=\"Pete Docter (dir.), Billy Crystal, John Goodman\">Monsters, Inc.</a>\n",
              " <span class=\"secondaryInfo\">(2001)</span>\n",
              " </td>,\n",
              " <td class=\"titleColumn\">\n",
              "       204.\n",
              "       <a href=\"/title/tt0073195/\" title=\"Steven Spielberg (dir.), Roy Scheider, Robert Shaw\">Jaws</a>\n",
              " <span class=\"secondaryInfo\">(1975)</span>\n",
              " </td>,\n",
              " <td class=\"titleColumn\">\n",
              "       205.\n",
              "       <a href=\"/title/tt0097165/\" title=\"Peter Weir (dir.), Robin Williams, Robert Sean Leonard\">Dead Poets Society</a>\n",
              " <span class=\"secondaryInfo\">(1989)</span>\n",
              " </td>,\n",
              " <td class=\"titleColumn\">\n",
              "       206.\n",
              "       <a href=\"/title/tt3170832/\" title=\"Lenny Abrahamson (dir.), Brie Larson, Jacob Tremblay\">Room</a>\n",
              " <span class=\"secondaryInfo\">(2015)</span>\n",
              " </td>,\n",
              " <td class=\"titleColumn\">\n",
              "       207.\n",
              "       <a href=\"/title/tt0118715/\" title=\"Joel Coen (dir.), Jeff Bridges, John Goodman\">The Big Lebowski</a>\n",
              " <span class=\"secondaryInfo\">(1998)</span>\n",
              " </td>,\n",
              " <td class=\"titleColumn\">\n",
              "       208.\n",
              "       <a href=\"/title/tt0046438/\" title=\"Yasujirô Ozu (dir.), Chishû Ryû, Chieko Higashiyama\">Tokyo Story</a>\n",
              " <span class=\"secondaryInfo\">(1953)</span>\n",
              " </td>,\n",
              " <td class=\"titleColumn\">\n",
              "       209.\n",
              "       <a href=\"/title/tt0019254/\" title=\"Carl Theodor Dreyer (dir.), Maria Falconetti, Eugene Silvain\">The Passion of Joan of Arc</a>\n",
              " <span class=\"secondaryInfo\">(1928)</span>\n",
              " </td>,\n",
              " <td class=\"titleColumn\">\n",
              "       210.\n",
              "       <a href=\"/title/tt1950186/\" title=\"James Mangold (dir.), Matt Damon, Christian Bale\">Ford v Ferrari</a>\n",
              " <span class=\"secondaryInfo\">(2019)</span>\n",
              " </td>,\n",
              " <td class=\"titleColumn\">\n",
              "       211.\n",
              "       <a href=\"/title/tt0395169/\" title=\"Terry George (dir.), Don Cheadle, Sophie Okonedo\">Hotel Rwanda</a>\n",
              " <span class=\"secondaryInfo\">(2004)</span>\n",
              " </td>,\n",
              " <td class=\"titleColumn\">\n",
              "       212.\n",
              "       <a href=\"/title/tt0075148/\" title=\"John G. Avildsen (dir.), Sylvester Stallone, Talia Shire\">Rocky</a>\n",
              " <span class=\"secondaryInfo\">(1976)</span>\n",
              " </td>,\n",
              " <td class=\"titleColumn\">\n",
              "       213.\n",
              "       <a href=\"/title/tt0091763/\" title=\"Oliver Stone (dir.), Charlie Sheen, Tom Berenger\">Platoon</a>\n",
              " <span class=\"secondaryInfo\">(1986)</span>\n",
              " </td>,\n",
              " <td class=\"titleColumn\">\n",
              "       214.\n",
              "       <a href=\"/title/tt0382932/\" title=\"Brad Bird (dir.), Brad Garrett, Lou Romano\">Ratatouille</a>\n",
              " <span class=\"secondaryInfo\">(2007)</span>\n",
              " </td>,\n",
              " <td class=\"titleColumn\">\n",
              "       215.\n",
              "       <a href=\"/title/tt1895587/\" title=\"Tom McCarthy (dir.), Mark Ruffalo, Michael Keaton\">Spotlight</a>\n",
              " <span class=\"secondaryInfo\">(2015)</span>\n",
              " </td>,\n",
              " <td class=\"titleColumn\">\n",
              "       216.\n",
              "       <a href=\"/title/tt3315342/\" title=\"James Mangold (dir.), Hugh Jackman, Patrick Stewart\">Logan</a>\n",
              " <span class=\"secondaryInfo\">(2017)</span>\n",
              " </td>,\n",
              " <td class=\"titleColumn\">\n",
              "       217.\n",
              "       <a href=\"/title/tt0088247/\" title=\"James Cameron (dir.), Arnold Schwarzenegger, Linda Hamilton\">The Terminator</a>\n",
              " <span class=\"secondaryInfo\">(1984)</span>\n",
              " </td>,\n",
              " <td class=\"titleColumn\">\n",
              "       218.\n",
              "       <a href=\"/title/tt0092005/\" title=\"Rob Reiner (dir.), Wil Wheaton, River Phoenix\">Stand by Me</a>\n",
              " <span class=\"secondaryInfo\">(1986)</span>\n",
              " </td>,\n",
              " <td class=\"titleColumn\">\n",
              "       219.\n",
              "       <a href=\"/title/tt1979320/\" title=\"Ron Howard (dir.), Daniel Brühl, Chris Hemsworth\">Rush</a>\n",
              " <span class=\"secondaryInfo\">(2013)</span>\n",
              " </td>,\n",
              " <td class=\"titleColumn\">\n",
              "       220.\n",
              "       <a href=\"/title/tt0074958/\" title=\"Sidney Lumet (dir.), Faye Dunaway, William Holden\">Network</a>\n",
              " <span class=\"secondaryInfo\">(1976)</span>\n",
              " </td>,\n",
              " <td class=\"titleColumn\">\n",
              "       221.\n",
              "       <a href=\"/title/tt0381681/\" title=\"Richard Linklater (dir.), Ethan Hawke, Julie Delpy\">Before Sunset</a>\n",
              " <span class=\"secondaryInfo\">(2004)</span>\n",
              " </td>,\n",
              " <td class=\"titleColumn\">\n",
              "       222.\n",
              "       <a href=\"/title/tt0758758/\" title=\"Sean Penn (dir.), Emile Hirsch, Vince Vaughn\">Into the Wild</a>\n",
              " <span class=\"secondaryInfo\">(2007)</span>\n",
              " </td>,\n",
              " <td class=\"titleColumn\">\n",
              "       223.\n",
              "       <a href=\"/title/tt0032138/\" title=\"Victor Fleming (dir.), Judy Garland, Frank Morgan\">The Wizard of Oz</a>\n",
              " <span class=\"secondaryInfo\">(1939)</span>\n",
              " </td>,\n",
              " <td class=\"titleColumn\">\n",
              "       224.\n",
              "       <a href=\"/title/tt0036868/\" title=\"William Wyler (dir.), Myrna Loy, Dana Andrews\">The Best Years of Our Lives</a>\n",
              " <span class=\"secondaryInfo\">(1946)</span>\n",
              " </td>,\n",
              " <td class=\"titleColumn\">\n",
              "       225.\n",
              "       <a href=\"/title/tt0107048/\" title=\"Harold Ramis (dir.), Bill Murray, Andie MacDowell\">Groundhog Day</a>\n",
              " <span class=\"secondaryInfo\">(1993)</span>\n",
              " </td>,\n",
              " <td class=\"titleColumn\">\n",
              "       226.\n",
              "       <a href=\"/title/tt0070047/\" title=\"William Friedkin (dir.), Ellen Burstyn, Max von Sydow\">The Exorcist</a>\n",
              " <span class=\"secondaryInfo\">(1973)</span>\n",
              " </td>,\n",
              " <td class=\"titleColumn\">\n",
              "       227.\n",
              "       <a href=\"/title/tt0317705/\" title=\"Brad Bird (dir.), Craig T. Nelson, Samuel L. Jackson\">The Incredibles</a>\n",
              " <span class=\"secondaryInfo\">(2004)</span>\n",
              " </td>,\n",
              " <td class=\"titleColumn\">\n",
              "       228.\n",
              "       <a href=\"/title/tt0048473/\" title=\"Satyajit Ray (dir.), Kanu Bannerjee, Karuna Bannerjee\">Pather Panchali</a>\n",
              " <span class=\"secondaryInfo\">(1955)</span>\n",
              " </td>,\n",
              " <td class=\"titleColumn\">\n",
              "       229.\n",
              "       <a href=\"/title/tt0035446/\" title=\"Ernst Lubitsch (dir.), Carole Lombard, Jack Benny\">To Be or Not to Be</a>\n",
              " <span class=\"secondaryInfo\">(1942)</span>\n",
              " </td>,\n",
              " <td class=\"titleColumn\">\n",
              "       230.\n",
              "       <a href=\"/title/tt0113247/\" title=\"Mathieu Kassovitz (dir.), Vincent Cassel, Hubert Koundé\">La haine</a>\n",
              " <span class=\"secondaryInfo\">(1995)</span>\n",
              " </td>,\n",
              " <td class=\"titleColumn\">\n",
              "       231.\n",
              "       <a href=\"/title/tt0325980/\" title=\"Gore Verbinski (dir.), Johnny Depp, Geoffrey Rush\">Pirates of the Caribbean: The Curse of the Black Pearl</a>\n",
              " <span class=\"secondaryInfo\">(2003)</span>\n",
              " </td>,\n",
              " <td class=\"titleColumn\">\n",
              "       232.\n",
              "       <a href=\"/title/tt0032551/\" title=\"John Ford (dir.), Henry Fonda, Jane Darwell\">The Grapes of Wrath</a>\n",
              " <span class=\"secondaryInfo\">(1940)</span>\n",
              " </td>,\n",
              " <td class=\"titleColumn\">\n",
              "       233.\n",
              "       <a href=\"/title/tt0058946/\" title=\"Gillo Pontecorvo (dir.), Brahim Hadjadj, Jean Martin\">The Battle of Algiers</a>\n",
              " <span class=\"secondaryInfo\">(1966)</span>\n",
              " </td>,\n",
              " <td class=\"titleColumn\">\n",
              "       234.\n",
              "       <a href=\"/title/tt1028532/\" title=\"Lasse Hallström (dir.), Richard Gere, Joan Allen\">Hachi: A Dog's Tale</a>\n",
              " <span class=\"secondaryInfo\">(2009)</span>\n",
              " </td>,\n",
              " <td class=\"titleColumn\">\n",
              "       235.\n",
              "       <a href=\"/title/tt15097216/\" title=\"T.J. Gnanavel (dir.), Suriya, Lijo Mol Jose\">Jai Bhim</a>\n",
              " <span class=\"secondaryInfo\">(2021)</span>\n",
              " </td>,\n",
              " <td class=\"titleColumn\">\n",
              "       236.\n",
              "       <a href=\"/title/tt0476735/\" title=\"Çagan Irmak (dir.), Çetin Tekindor, Fikret Kuskan\">My Father and My Son</a>\n",
              " <span class=\"secondaryInfo\">(2005)</span>\n",
              " </td>,\n",
              " <td class=\"titleColumn\">\n",
              "       237.\n",
              "       <a href=\"/title/tt0245712/\" title=\"Alejandro G. Iñárritu (dir.), Emilio Echevarría, Gael García Bernal\">Amores Perros</a>\n",
              " <span class=\"secondaryInfo\">(2000)</span>\n",
              " </td>,\n",
              " <td class=\"titleColumn\">\n",
              "       238.\n",
              "       <a href=\"/title/tt0032976/\" title=\"Alfred Hitchcock (dir.), Laurence Olivier, Joan Fontaine\">Rebecca</a>\n",
              " <span class=\"secondaryInfo\">(1940)</span>\n",
              " </td>,\n",
              " <td class=\"titleColumn\">\n",
              "       239.\n",
              "       <a href=\"/title/tt0061512/\" title=\"Stuart Rosenberg (dir.), Paul Newman, George Kennedy\">Cool Hand Luke</a>\n",
              " <span class=\"secondaryInfo\">(1967)</span>\n",
              " </td>,\n",
              " <td class=\"titleColumn\">\n",
              "       240.\n",
              "       <a href=\"/title/tt4016934/\" title=\"Park Chan-wook (dir.), Kim Min-hee, Ha Jung-woo\">The Handmaiden</a>\n",
              " <span class=\"secondaryInfo\">(2016)</span>\n",
              " </td>,\n",
              " <td class=\"titleColumn\">\n",
              "       241.\n",
              "       <a href=\"/title/tt0053198/\" title=\"François Truffaut (dir.), Jean-Pierre Léaud, Albert Rémy\">The 400 Blows</a>\n",
              " <span class=\"secondaryInfo\">(1959)</span>\n",
              " </td>,\n",
              " <td class=\"titleColumn\">\n",
              "       242.\n",
              "       <a href=\"/title/tt0059742/\" title=\"Robert Wise (dir.), Julie Andrews, Christopher Plummer\">The Sound of Music</a>\n",
              " <span class=\"secondaryInfo\">(1965)</span>\n",
              " </td>,\n",
              " <td class=\"titleColumn\">\n",
              "       243.\n",
              "       <a href=\"/title/tt0025316/\" title=\"Frank Capra (dir.), Clark Gable, Claudette Colbert\">It Happened One Night</a>\n",
              " <span class=\"secondaryInfo\">(1934)</span>\n",
              " </td>,\n",
              " <td class=\"titleColumn\">\n",
              "       244.\n",
              "       <a href=\"/title/tt0060827/\" title=\"Ingmar Bergman (dir.), Bibi Andersson, Liv Ullmann\">Persona</a>\n",
              " <span class=\"secondaryInfo\">(1966)</span>\n",
              " </td>,\n",
              " <td class=\"titleColumn\">\n",
              "       245.\n",
              "       <a href=\"/title/tt0079470/\" title=\"Terry Jones (dir.), Graham Chapman, John Cleese\">Life of Brian</a>\n",
              " <span class=\"secondaryInfo\">(1979)</span>\n",
              " </td>,\n",
              " <td class=\"titleColumn\">\n",
              "       246.\n",
              "       <a href=\"/title/tt0129167/\" title=\"Brad Bird (dir.), Eli Marienthal, Harry Connick Jr.\">The Iron Giant</a>\n",
              " <span class=\"secondaryInfo\">(1999)</span>\n",
              " </td>,\n",
              " <td class=\"titleColumn\">\n",
              "       247.\n",
              "       <a href=\"/title/tt1454029/\" title=\"Tate Taylor (dir.), Viola Davis, Emma Stone\">The Help</a>\n",
              " <span class=\"secondaryInfo\">(2011)</span>\n",
              " </td>,\n",
              " <td class=\"titleColumn\">\n",
              "       248.\n",
              "       <a href=\"/title/tt0071411/\" title=\"Akira Kurosawa (dir.), Maksim Munzuk, Yuriy Solomin\">Dersu Uzala</a>\n",
              " <span class=\"secondaryInfo\">(1975)</span>\n",
              " </td>,\n",
              " <td class=\"titleColumn\">\n",
              "       249.\n",
              "       <a href=\"/title/tt0103639/\" title=\"Ron Clements (dir.), Scott Weinger, Robin Williams\">Aladdin</a>\n",
              " <span class=\"secondaryInfo\">(1992)</span>\n",
              " </td>,\n",
              " <td class=\"titleColumn\">\n",
              "       250.\n",
              "       <a href=\"/title/tt0099348/\" title=\"Kevin Costner (dir.), Kevin Costner, Mary McDonnell\">Dances with Wolves</a>\n",
              " <span class=\"secondaryInfo\">(1990)</span>\n",
              " </td>]"
            ]
          },
          "execution_count": 166,
          "metadata": {},
          "output_type": "execute_result"
        }
      ],
      "source": [
        "soup.select(\"td.titleColumn\") # all the info about all the movies"
      ]
    },
    {
      "cell_type": "code",
      "execution_count": 167,
      "metadata": {
        "id": "XaJ7_YGD4r2u",
        "jupyter": {
          "outputs_hidden": true
        }
      },
      "outputs": [
        {
          "data": {
            "text/plain": [
              "[<a href=\"/title/tt0111161/\" title=\"Frank Darabont (dir.), Tim Robbins, Morgan Freeman\">The Shawshank Redemption</a>,\n",
              " <a href=\"/title/tt0068646/\" title=\"Francis Ford Coppola (dir.), Marlon Brando, Al Pacino\">The Godfather</a>,\n",
              " <a href=\"/title/tt0468569/\" title=\"Christopher Nolan (dir.), Christian Bale, Heath Ledger\">The Dark Knight</a>,\n",
              " <a href=\"/title/tt0071562/\" title=\"Francis Ford Coppola (dir.), Al Pacino, Robert De Niro\">The Godfather Part II</a>,\n",
              " <a href=\"/title/tt0050083/\" title=\"Sidney Lumet (dir.), Henry Fonda, Lee J. Cobb\">12 Angry Men</a>,\n",
              " <a href=\"/title/tt0108052/\" title=\"Steven Spielberg (dir.), Liam Neeson, Ralph Fiennes\">Schindler's List</a>,\n",
              " <a href=\"/title/tt0167260/\" title=\"Peter Jackson (dir.), Elijah Wood, Viggo Mortensen\">The Lord of the Rings: The Return of the King</a>,\n",
              " <a href=\"/title/tt0110912/\" title=\"Quentin Tarantino (dir.), John Travolta, Uma Thurman\">Pulp Fiction</a>,\n",
              " <a href=\"/title/tt0120737/\" title=\"Peter Jackson (dir.), Elijah Wood, Ian McKellen\">The Lord of the Rings: The Fellowship of the Ring</a>,\n",
              " <a href=\"/title/tt0060196/\" title=\"Sergio Leone (dir.), Clint Eastwood, Eli Wallach\">The Good, the Bad and the Ugly</a>,\n",
              " <a href=\"/title/tt0109830/\" title=\"Robert Zemeckis (dir.), Tom Hanks, Robin Wright\">Forrest Gump</a>,\n",
              " <a href=\"/title/tt0137523/\" title=\"David Fincher (dir.), Brad Pitt, Edward Norton\">Fight Club</a>,\n",
              " <a href=\"/title/tt0167261/\" title=\"Peter Jackson (dir.), Elijah Wood, Ian McKellen\">The Lord of the Rings: The Two Towers</a>,\n",
              " <a href=\"/title/tt1375666/\" title=\"Christopher Nolan (dir.), Leonardo DiCaprio, Joseph Gordon-Levitt\">Inception</a>,\n",
              " <a href=\"/title/tt0080684/\" title=\"Irvin Kershner (dir.), Mark Hamill, Harrison Ford\">Star Wars: Episode V - The Empire Strikes Back</a>,\n",
              " <a href=\"/title/tt0133093/\" title=\"Lana Wachowski (dir.), Keanu Reeves, Laurence Fishburne\">The Matrix</a>,\n",
              " <a href=\"/title/tt0099685/\" title=\"Martin Scorsese (dir.), Robert De Niro, Ray Liotta\">Goodfellas</a>,\n",
              " <a href=\"/title/tt0073486/\" title=\"Milos Forman (dir.), Jack Nicholson, Louise Fletcher\">One Flew Over the Cuckoo's Nest</a>,\n",
              " <a href=\"/title/tt0114369/\" title=\"David Fincher (dir.), Morgan Freeman, Brad Pitt\">Se7en</a>,\n",
              " <a href=\"/title/tt0047478/\" title=\"Akira Kurosawa (dir.), Toshirô Mifune, Takashi Shimura\">Seven Samurai</a>,\n",
              " <a href=\"/title/tt0038650/\" title=\"Frank Capra (dir.), James Stewart, Donna Reed\">It's a Wonderful Life</a>,\n",
              " <a href=\"/title/tt0102926/\" title=\"Jonathan Demme (dir.), Jodie Foster, Anthony Hopkins\">The Silence of the Lambs</a>,\n",
              " <a href=\"/title/tt0120815/\" title=\"Steven Spielberg (dir.), Tom Hanks, Matt Damon\">Saving Private Ryan</a>,\n",
              " <a href=\"/title/tt0317248/\" title=\"Fernando Meirelles (dir.), Alexandre Rodrigues, Leandro Firmino\">City of God</a>,\n",
              " <a href=\"/title/tt0816692/\" title=\"Christopher Nolan (dir.), Matthew McConaughey, Anne Hathaway\">Interstellar</a>,\n",
              " <a href=\"/title/tt0118799/\" title=\"Roberto Benigni (dir.), Roberto Benigni, Nicoletta Braschi\">Life Is Beautiful</a>,\n",
              " <a href=\"/title/tt0120689/\" title=\"Frank Darabont (dir.), Tom Hanks, Michael Clarke Duncan\">The Green Mile</a>,\n",
              " <a href=\"/title/tt0076759/\" title=\"George Lucas (dir.), Mark Hamill, Harrison Ford\">Star Wars: Episode IV - A New Hope</a>,\n",
              " <a href=\"/title/tt0103064/\" title=\"James Cameron (dir.), Arnold Schwarzenegger, Linda Hamilton\">Terminator 2: Judgment Day</a>,\n",
              " <a href=\"/title/tt0088763/\" title=\"Robert Zemeckis (dir.), Michael J. Fox, Christopher Lloyd\">Back to the Future</a>,\n",
              " <a href=\"/title/tt0245429/\" title=\"Hayao Miyazaki (dir.), Daveigh Chase, Suzanne Pleshette\">Spirited Away</a>,\n",
              " <a href=\"/title/tt0253474/\" title=\"Roman Polanski (dir.), Adrien Brody, Thomas Kretschmann\">The Pianist</a>,\n",
              " <a href=\"/title/tt0054215/\" title=\"Alfred Hitchcock (dir.), Anthony Perkins, Janet Leigh\">Psycho</a>,\n",
              " <a href=\"/title/tt6751668/\" title=\"Bong Joon Ho (dir.), Song Kang-ho, Lee Sun-kyun\">Parasite</a>,\n",
              " <a href=\"/title/tt0110413/\" title=\"Luc Besson (dir.), Jean Reno, Gary Oldman\">Léon: The Professional</a>,\n",
              " <a href=\"/title/tt0110357/\" title=\"Roger Allers (dir.), Matthew Broderick, Jeremy Irons\">The Lion King</a>,\n",
              " <a href=\"/title/tt0172495/\" title=\"Ridley Scott (dir.), Russell Crowe, Joaquin Phoenix\">Gladiator</a>,\n",
              " <a href=\"/title/tt0120586/\" title=\"Tony Kaye (dir.), Edward Norton, Edward Furlong\">American History X</a>,\n",
              " <a href=\"/title/tt0407887/\" title=\"Martin Scorsese (dir.), Leonardo DiCaprio, Matt Damon\">The Departed</a>,\n",
              " <a href=\"/title/tt0482571/\" title=\"Christopher Nolan (dir.), Christian Bale, Hugh Jackman\">The Prestige</a>,\n",
              " <a href=\"/title/tt2582802/\" title=\"Damien Chazelle (dir.), Miles Teller, J.K. Simmons\">Whiplash</a>,\n",
              " <a href=\"/title/tt0114814/\" title=\"Bryan Singer (dir.), Kevin Spacey, Gabriel Byrne\">The Usual Suspects</a>,\n",
              " <a href=\"/title/tt0034583/\" title=\"Michael Curtiz (dir.), Humphrey Bogart, Ingrid Bergman\">Casablanca</a>,\n",
              " <a href=\"/title/tt0095327/\" title=\"Isao Takahata (dir.), Tsutomu Tatsumi, Ayano Shiraishi\">Grave of the Fireflies</a>,\n",
              " <a href=\"/title/tt0056058/\" title=\"Masaki Kobayashi (dir.), Tatsuya Nakadai, Akira Ishihama\">Harakiri</a>,\n",
              " <a href=\"/title/tt1675434/\" title=\"Olivier Nakache (dir.), François Cluzet, Omar Sy\">The Intouchables</a>,\n",
              " <a href=\"/title/tt0027977/\" title=\"Charles Chaplin (dir.), Charles Chaplin, Paulette Goddard\">Modern Times</a>,\n",
              " <a href=\"/title/tt0064116/\" title=\"Sergio Leone (dir.), Henry Fonda, Charles Bronson\">Once Upon a Time in the West</a>,\n",
              " <a href=\"/title/tt0095765/\" title=\"Giuseppe Tornatore (dir.), Philippe Noiret, Enzo Cannavale\">Cinema Paradiso</a>,\n",
              " <a href=\"/title/tt0047396/\" title=\"Alfred Hitchcock (dir.), James Stewart, Grace Kelly\">Rear Window</a>,\n",
              " <a href=\"/title/tt0078748/\" title=\"Ridley Scott (dir.), Sigourney Weaver, Tom Skerritt\">Alien</a>,\n",
              " <a href=\"/title/tt0021749/\" title=\"Charles Chaplin (dir.), Charles Chaplin, Virginia Cherrill\">City Lights</a>,\n",
              " <a href=\"/title/tt0078788/\" title=\"Francis Ford Coppola (dir.), Martin Sheen, Marlon Brando\">Apocalypse Now</a>,\n",
              " <a href=\"/title/tt0209144/\" title=\"Christopher Nolan (dir.), Guy Pearce, Carrie-Anne Moss\">Memento</a>,\n",
              " <a href=\"/title/tt1853728/\" title=\"Quentin Tarantino (dir.), Jamie Foxx, Christoph Waltz\">Django Unchained</a>,\n",
              " <a href=\"/title/tt0082971/\" title=\"Steven Spielberg (dir.), Harrison Ford, Karen Allen\">Raiders of the Lost Ark</a>,\n",
              " <a href=\"/title/tt0910970/\" title=\"Andrew Stanton (dir.), Ben Burtt, Elissa Knight\">WALL·E</a>,\n",
              " <a href=\"/title/tt0405094/\" title=\"Florian Henckel von Donnersmarck (dir.), Ulrich Mühe, Martina Gedeck\">The Lives of Others</a>,\n",
              " <a href=\"/title/tt0043014/\" title=\"Billy Wilder (dir.), William Holden, Gloria Swanson\">Sunset Blvd.</a>,\n",
              " <a href=\"/title/tt0050825/\" title=\"Stanley Kubrick (dir.), Kirk Douglas, Ralph Meeker\">Paths of Glory</a>,\n",
              " <a href=\"/title/tt0081505/\" title=\"Stanley Kubrick (dir.), Jack Nicholson, Shelley Duvall\">The Shining</a>,\n",
              " <a href=\"/title/tt0032553/\" title=\"Charles Chaplin (dir.), Charles Chaplin, Paulette Goddard\">The Great Dictator</a>,\n",
              " <a href=\"/title/tt4154756/\" title=\"Anthony Russo (dir.), Robert Downey Jr., Chris Hemsworth\">Avengers: Infinity War</a>,\n",
              " <a href=\"/title/tt0051201/\" title=\"Billy Wilder (dir.), Tyrone Power, Marlene Dietrich\">Witness for the Prosecution</a>,\n",
              " <a href=\"/title/tt0090605/\" title=\"James Cameron (dir.), Sigourney Weaver, Michael Biehn\">Aliens</a>,\n",
              " <a href=\"/title/tt4633694/\" title=\"Bob Persichetti (dir.), Shameik Moore, Jake Johnson\">Spider-Man: Into the Spider-Verse</a>,\n",
              " <a href=\"/title/tt0169547/\" title=\"Sam Mendes (dir.), Kevin Spacey, Annette Bening\">American Beauty</a>,\n",
              " <a href=\"/title/tt0057012/\" title=\"Stanley Kubrick (dir.), Peter Sellers, George C. Scott\">Dr. Strangelove or: How I Learned to Stop Worrying and Love the Bomb</a>,\n",
              " <a href=\"/title/tt1345836/\" title=\"Christopher Nolan (dir.), Christian Bale, Tom Hardy\">The Dark Knight Rises</a>,\n",
              " <a href=\"/title/tt0364569/\" title=\"Park Chan-wook (dir.), Choi Min-sik, Yoo Ji-tae\">Oldboy</a>,\n",
              " <a href=\"/title/tt0361748/\" title=\"Quentin Tarantino (dir.), Brad Pitt, Diane Kruger\">Inglourious Basterds</a>,\n",
              " <a href=\"/title/tt0086879/\" title=\"Milos Forman (dir.), F. Murray Abraham, Tom Hulce\">Amadeus</a>,\n",
              " <a href=\"/title/tt2380307/\" title=\"Lee Unkrich (dir.), Anthony Gonzalez, Gael García Bernal\">Coco</a>,\n",
              " <a href=\"/title/tt0114709/\" title=\"John Lasseter (dir.), Tom Hanks, Tim Allen\">Toy Story</a>,\n",
              " <a href=\"/title/tt0112573/\" title=\"Mel Gibson (dir.), Mel Gibson, Sophie Marceau\">Braveheart</a>,\n",
              " <a href=\"/title/tt7286456/\" title=\"Todd Phillips (dir.), Joaquin Phoenix, Robert De Niro\">Joker</a>,\n",
              " <a href=\"/title/tt0082096/\" title=\"Wolfgang Petersen (dir.), Jürgen Prochnow, Herbert Grönemeyer\">Das Boot</a>,\n",
              " <a href=\"/title/tt4154796/\" title=\"Anthony Russo (dir.), Robert Downey Jr., Chris Evans\">Avengers: Endgame</a>,\n",
              " <a href=\"/title/tt0119698/\" title=\"Hayao Miyazaki (dir.), Yôji Matsuda, Yuriko Ishida\">Princess Mononoke</a>,\n",
              " <a href=\"/title/tt0087843/\" title=\"Sergio Leone (dir.), Robert De Niro, James Woods\">Once Upon a Time in America</a>,\n",
              " <a href=\"/title/tt0119217/\" title=\"Gus Van Sant (dir.), Robin Williams, Matt Damon\">Good Will Hunting</a>,\n",
              " <a href=\"/title/tt5311514/\" title=\"Makoto Shinkai (dir.), Ryunosuke Kamiki, Mone Kamishiraishi\">Your Name.</a>,\n",
              " <a href=\"/title/tt0045152/\" title=\"Stanley Donen (dir.), Gene Kelly, Donald O'Connor\">Singin' in the Rain</a>,\n",
              " <a href=\"/title/tt1187043/\" title=\"Rajkumar Hirani (dir.), Aamir Khan, Madhavan\">3 Idiots</a>,\n",
              " <a href=\"/title/tt0180093/\" title=\"Darren Aronofsky (dir.), Ellen Burstyn, Jared Leto\">Requiem for a Dream</a>,\n",
              " <a href=\"/title/tt0057565/\" title=\"Akira Kurosawa (dir.), Toshirô Mifune, Yutaka Sada\">High and Low</a>,\n",
              " <a href=\"/title/tt0435761/\" title=\"Lee Unkrich (dir.), Tom Hanks, Tim Allen\">Toy Story 3</a>,\n",
              " <a href=\"/title/tt8267604/\" title=\"Nadine Labaki (dir.), Zain Al Rafeea, Yordanos Shiferaw\">Capernaum</a>,\n",
              " <a href=\"/title/tt0086190/\" title=\"Richard Marquand (dir.), Mark Hamill, Harrison Ford\">Star Wars: Episode VI - Return of the Jedi</a>,\n",
              " <a href=\"/title/tt0338013/\" title=\"Michel Gondry (dir.), Jim Carrey, Kate Winslet\">Eternal Sunshine of the Spotless Mind</a>,\n",
              " <a href=\"/title/tt0062622/\" title=\"Stanley Kubrick (dir.), Keir Dullea, Gary Lockwood\">2001: A Space Odyssey</a>,\n",
              " <a href=\"/title/tt0091251/\" title=\"Elem Klimov (dir.), Aleksey Kravchenko, Olga Mironova\">Come and See</a>,\n",
              " <a href=\"/title/tt0105236/\" title=\"Quentin Tarantino (dir.), Harvey Keitel, Tim Roth\">Reservoir Dogs</a>,\n",
              " <a href=\"/title/tt2106476/\" title=\"Thomas Vinterberg (dir.), Mads Mikkelsen, Thomas Bo Larsen\">The Hunt</a>,\n",
              " <a href=\"/title/tt0033467/\" title=\"Orson Welles (dir.), Orson Welles, Joseph Cotten\">Citizen Kane</a>,\n",
              " <a href=\"/title/tt0022100/\" title=\"Fritz Lang (dir.), Peter Lorre, Ellen Widmann\">M</a>,\n",
              " <a href=\"/title/tt0056172/\" title=\"David Lean (dir.), Peter O'Toole, Alec Guinness\">Lawrence of Arabia</a>,\n",
              " <a href=\"/title/tt0053125/\" title=\"Alfred Hitchcock (dir.), Cary Grant, Eva Marie Saint\">North by Northwest</a>,\n",
              " <a href=\"/title/tt0044741/\" title=\"Akira Kurosawa (dir.), Takashi Shimura, Nobuo Kaneko\">Ikiru</a>,\n",
              " <a href=\"/title/tt0052357/\" title=\"Alfred Hitchcock (dir.), James Stewart, Kim Novak\">Vertigo</a>,\n",
              " <a href=\"/title/tt0053604/\" title=\"Billy Wilder (dir.), Jack Lemmon, Shirley MacLaine\">The Apartment</a>,\n",
              " <a href=\"/title/tt0211915/\" title=\"Jean-Pierre Jeunet (dir.), Audrey Tautou, Mathieu Kassovitz\">Amélie</a>,\n",
              " <a href=\"/title/tt0066921/\" title=\"Stanley Kubrick (dir.), Malcolm McDowell, Patrick Magee\">A Clockwork Orange</a>,\n",
              " <a href=\"/title/tt0036775/\" title=\"Billy Wilder (dir.), Fred MacMurray, Barbara Stanwyck\">Double Indemnity</a>,\n",
              " <a href=\"/title/tt0093058/\" title=\"Stanley Kubrick (dir.), Matthew Modine, R. Lee Ermey\">Full Metal Jacket</a>,\n",
              " <a href=\"/title/tt0086250/\" title=\"Brian De Palma (dir.), Al Pacino, Michelle Pfeiffer\">Scarface</a>,\n",
              " <a href=\"/title/tt8503618/\" title=\"Thomas Kail (dir.), Lin-Manuel Miranda, Phillipa Soo\">Hamilton</a>,\n",
              " <a href=\"/title/tt1255953/\" title=\"Denis Villeneuve (dir.), Lubna Azabal, Mélissa Désormeaux-Poulin\">Incendies</a>,\n",
              " <a href=\"/title/tt0113277/\" title=\"Michael Mann (dir.), Al Pacino, Robert De Niro\">Heat</a>,\n",
              " <a href=\"/title/tt0056592/\" title=\"Robert Mulligan (dir.), Gregory Peck, John Megna\">To Kill a Mockingbird</a>,\n",
              " <a href=\"/title/tt1049413/\" title=\"Pete Docter (dir.), Edward Asner, Jordan Nagai\">Up</a>,\n",
              " <a href=\"/title/tt0070735/\" title=\"George Roy Hill (dir.), Paul Newman, Robert Redford\">The Sting</a>,\n",
              " <a href=\"/title/tt1832382/\" title=\"Asghar Farhadi (dir.), Payman Maadi, Leila Hatami\">A Separation</a>,\n",
              " <a href=\"/title/tt0017136/\" title=\"Fritz Lang (dir.), Brigitte Helm, Alfred Abel\">Metropolis</a>,\n",
              " <a href=\"/title/tt0075314/\" title=\"Martin Scorsese (dir.), Robert De Niro, Jodie Foster\">Taxi Driver</a>,\n",
              " <a href=\"/title/tt0119488/\" title=\"Curtis Hanson (dir.), Kevin Spacey, Russell Crowe\">L.A. Confidential</a>,\n",
              " <a href=\"/title/tt0095016/\" title=\"John McTiernan (dir.), Bruce Willis, Alan Rickman\">Die Hard</a>,\n",
              " <a href=\"/title/tt0208092/\" title=\"Guy Ritchie (dir.), Jason Statham, Brad Pitt\">Snatch</a>,\n",
              " <a href=\"/title/tt0097576/\" title=\"Steven Spielberg (dir.), Harrison Ford, Sean Connery\">Indiana Jones and the Last Crusade</a>,\n",
              " <a href=\"/title/tt0040522/\" title=\"Vittorio De Sica (dir.), Lamberto Maggiorani, Enzo Staiola\">Bicycle Thieves</a>,\n",
              " <a href=\"/title/tt1745960/\" title=\"Joseph Kosinski (dir.), Tom Cruise, Jennifer Connelly\">Top Gun: Maverick</a>,\n",
              " <a href=\"/title/tt0986264/\" title=\"Aamir Khan (dir.), Darsheel Safary, Aamir Khan\">Like Stars on Earth</a>,\n",
              " <a href=\"/title/tt8579674/\" title=\"Sam Mendes (dir.), Dean-Charles Chapman, George MacKay\">1917</a>,\n",
              " <a href=\"/title/tt0363163/\" title=\"Oliver Hirschbiegel (dir.), Bruno Ganz, Alexandra Maria Lara\">Downfall</a>,\n",
              " <a href=\"/title/tt5074352/\" title=\"Nitesh Tiwari (dir.), Aamir Khan, Sakshi Tanwar\">Dangal</a>,\n",
              " <a href=\"/title/tt0059578/\" title=\"Sergio Leone (dir.), Clint Eastwood, Lee Van Cleef\">For a Few Dollars More</a>,\n",
              " <a href=\"/title/tt0372784/\" title=\"Christopher Nolan (dir.), Christian Bale, Michael Caine\">Batman Begins</a>,\n",
              " <a href=\"/title/tt0012349/\" title=\"Charles Chaplin (dir.), Charles Chaplin, Edna Purviance\">The Kid</a>,\n",
              " <a href=\"/title/tt0053291/\" title=\"Billy Wilder (dir.), Marilyn Monroe, Tony Curtis\">Some Like It Hot</a>,\n",
              " <a href=\"/title/tt10272386/\" title=\"Florian Zeller (dir.), Anthony Hopkins, Olivia Colman\">The Father</a>,\n",
              " <a href=\"/title/tt0042192/\" title=\"Joseph L. Mankiewicz (dir.), Bette Davis, Anne Baxter\">All About Eve</a>,\n",
              " <a href=\"/title/tt0993846/\" title=\"Martin Scorsese (dir.), Leonardo DiCaprio, Jonah Hill\">The Wolf of Wall Street</a>,\n",
              " <a href=\"/title/tt6966692/\" title=\"Peter Farrelly (dir.), Viggo Mortensen, Mahershala Ali\">Green Book</a>,\n",
              " <a href=\"/title/tt10366206/\" title=\"Chad Stahelski (dir.), Keanu Reeves, Laurence Fishburne\">John Wick: Chapter 4</a>,\n",
              " <a href=\"/title/tt0055031/\" title=\"Stanley Kramer (dir.), Spencer Tracy, Burt Lancaster\">Judgment at Nuremberg</a>,\n",
              " <a href=\"/title/tt0089881/\" title=\"Akira Kurosawa (dir.), Tatsuya Nakadai, Akira Terao\">Ran</a>,\n",
              " <a href=\"/title/tt0112641/\" title=\"Martin Scorsese (dir.), Robert De Niro, Sharon Stone\">Casino</a>,\n",
              " <a href=\"/title/tt0120382/\" title=\"Peter Weir (dir.), Jim Carrey, Ed Harris\">The Truman Show</a>,\n",
              " <a href=\"/title/tt0469494/\" title=\"Paul Thomas Anderson (dir.), Daniel Day-Lewis, Paul Dano\">There Will Be Blood</a>,\n",
              " <a href=\"/title/tt0457430/\" title=\"Guillermo del Toro (dir.), Ivana Baquero, Ariadna Gil\">Pan's Labyrinth</a>,\n",
              " <a href=\"/title/tt0105695/\" title=\"Clint Eastwood (dir.), Clint Eastwood, Gene Hackman\">Unforgiven</a>,\n",
              " <a href=\"/title/tt0167404/\" title=\"M. Night Shyamalan (dir.), Bruce Willis, Haley Joel Osment\">The Sixth Sense</a>,\n",
              " <a href=\"/title/tt1130884/\" title=\"Martin Scorsese (dir.), Leonardo DiCaprio, Emily Mortimer\">Shutter Island</a>,\n",
              " <a href=\"/title/tt0268978/\" title=\"Ron Howard (dir.), Russell Crowe, Ed Harris\">A Beautiful Mind</a>,\n",
              " <a href=\"/title/tt0107290/\" title=\"Steven Spielberg (dir.), Sam Neill, Laura Dern\">Jurassic Park</a>,\n",
              " <a href=\"/title/tt0055630/\" title=\"Akira Kurosawa (dir.), Toshirô Mifune, Eijirô Tôno\">Yojimbo</a>,\n",
              " <a href=\"/title/tt0040897/\" title=\"John Huston (dir.), Humphrey Bogart, Walter Huston\">The Treasure of the Sierra Madre</a>,\n",
              " <a href=\"/title/tt0071853/\" title=\"Terry Gilliam (dir.), Graham Chapman, John Cleese\">Monty Python and the Holy Grail</a>,\n",
              " <a href=\"/title/tt0477348/\" title=\"Ethan Coen (dir.), Tommy Lee Jones, Javier Bardem\">No Country for Old Men</a>,\n",
              " <a href=\"/title/tt0057115/\" title=\"John Sturges (dir.), Steve McQueen, James Garner\">The Great Escape</a>,\n",
              " <a href=\"/title/tt0266697/\" title=\"Quentin Tarantino (dir.), Uma Thurman, David Carradine\">Kill Bill: Vol. 1</a>,\n",
              " <a href=\"/title/tt0042876/\" title=\"Akira Kurosawa (dir.), Toshirô Mifune, Machiko Kyô\">Rashomon</a>,\n",
              " <a href=\"/title/tt0084787/\" title=\"John Carpenter (dir.), Kurt Russell, Wilford Brimley\">The Thing</a>,\n",
              " <a href=\"/title/tt10872600/\" title=\"Jon Watts (dir.), Tom Holland, Zendaya\">Spider-Man: No Way Home</a>,\n",
              " <a href=\"/title/tt0266543/\" title=\"Andrew Stanton (dir.), Albert Brooks, Ellen DeGeneres\">Finding Nemo</a>,\n",
              " <a href=\"/title/tt0080678/\" title=\"David Lynch (dir.), Anthony Hopkins, John Hurt\">The Elephant Man</a>,\n",
              " <a href=\"/title/tt0071315/\" title=\"Roman Polanski (dir.), Jack Nicholson, Faye Dunaway\">Chinatown</a>,\n",
              " <a href=\"/title/tt0081398/\" title=\"Martin Scorsese (dir.), Robert De Niro, Cathy Moriarty\">Raging Bull</a>,\n",
              " <a href=\"/title/tt0434409/\" title=\"James McTeigue (dir.), Hugo Weaving, Natalie Portman\">V for Vendetta</a>,\n",
              " <a href=\"/title/tt0031381/\" title=\"Victor Fleming (dir.), Clark Gable, Vivien Leigh\">Gone with the Wind</a>,\n",
              " <a href=\"/title/tt0120735/\" title=\"Guy Ritchie (dir.), Jason Flemyng, Dexter Fletcher\">Lock, Stock and Two Smoking Barrels</a>,\n",
              " <a href=\"/title/tt0046912/\" title=\"Alfred Hitchcock (dir.), Ray Milland, Grace Kelly\">Dial M for Murder</a>,\n",
              " <a href=\"/title/tt2096673/\" title=\"Pete Docter (dir.), Amy Poehler, Bill Hader\">Inside Out</a>,\n",
              " <a href=\"/title/tt1305806/\" title=\"Juan José Campanella (dir.), Ricardo Darín, Soledad Villamil\">The Secret in Their Eyes</a>,\n",
              " <a href=\"/title/tt0347149/\" title=\"Hayao Miyazaki (dir.), Chieko Baisho, Takuya Kimura\">Howl's Moving Castle</a>,\n",
              " <a href=\"/title/tt5027774/\" title=\"Martin McDonagh (dir.), Frances McDormand, Woody Harrelson\">Three Billboards Outside Ebbing, Missouri</a>,\n",
              " <a href=\"/title/tt0117951/\" title=\"Danny Boyle (dir.), Ewan McGregor, Ewen Bremner\">Trainspotting</a>,\n",
              " <a href=\"/title/tt0050212/\" title=\"David Lean (dir.), William Holden, Alec Guinness\">The Bridge on the River Kwai</a>,\n",
              " <a href=\"/title/tt1392214/\" title=\"Denis Villeneuve (dir.), Hugh Jackman, Jake Gyllenhaal\">Prisoners</a>,\n",
              " <a href=\"/title/tt1291584/\" title=\"Gavin O'Connor (dir.), Tom Hardy, Nick Nolte\">Warrior</a>,\n",
              " <a href=\"/title/tt0116282/\" title=\"Joel Coen (dir.), William H. Macy, Frances McDormand\">Fargo</a>,\n",
              " <a href=\"/title/tt1205489/\" title=\"Clint Eastwood (dir.), Clint Eastwood, Bee Vang\">Gran Torino</a>,\n",
              " <a href=\"/title/tt0096283/\" title=\"Hayao Miyazaki (dir.), Hitoshi Takagi, Noriko Hidaka\">My Neighbor Totoro</a>,\n",
              " <a href=\"/title/tt0264464/\" title=\"Steven Spielberg (dir.), Leonardo DiCaprio, Tom Hanks\">Catch Me If You Can</a>,\n",
              " <a href=\"/title/tt0405159/\" title=\"Clint Eastwood (dir.), Hilary Swank, Clint Eastwood\">Million Dollar Baby</a>,\n",
              " <a href=\"/title/tt0118849/\" title=\"Majid Majidi (dir.), Mohammad Amir Naji, Amir Farrokh Hashemian\">Children of Heaven</a>,\n",
              " <a href=\"/title/tt0083658/\" title=\"Ridley Scott (dir.), Harrison Ford, Rutger Hauer\">Blade Runner</a>,\n",
              " <a href=\"/title/tt0015864/\" title=\"Charles Chaplin (dir.), Charles Chaplin, Mack Swain\">The Gold Rush</a>,\n",
              " <a href=\"/title/tt4729430/\" title=\"Sergio Pablos (dir.), Jason Schwartzman, J.K. Simmons\">Klaus</a>,\n",
              " <a href=\"/title/tt1201607/\" title=\"David Yates (dir.), Daniel Radcliffe, Emma Watson\">Harry Potter and the Deathly Hallows: Part 2</a>,\n",
              " <a href=\"/title/tt0112471/\" title=\"Richard Linklater (dir.), Ethan Hawke, Julie Delpy\">Before Sunrise</a>,\n",
              " <a href=\"/title/tt2024544/\" title=\"Steve McQueen (dir.), Chiwetel Ejiofor, Michael Kenneth Williams\">12 Years a Slave</a>,\n",
              " <a href=\"/title/tt0047296/\" title=\"Elia Kazan (dir.), Marlon Brando, Karl Malden\">On the Waterfront</a>,\n",
              " <a href=\"/title/tt0052618/\" title=\"William Wyler (dir.), Charlton Heston, Jack Hawkins\">Ben-Hur</a>,\n",
              " <a href=\"/title/tt2278388/\" title=\"Wes Anderson (dir.), Ralph Fiennes, F. Murray Abraham\">The Grand Budapest Hotel</a>,\n",
              " <a href=\"/title/tt2267998/\" title=\"David Fincher (dir.), Ben Affleck, Rosamund Pike\">Gone Girl</a>,\n",
              " <a href=\"/title/tt0050986/\" title=\"Ingmar Bergman (dir.), Victor Sjöström, Bibi Andersson\">Wild Strawberries</a>,\n",
              " <a href=\"/title/tt0017925/\" title=\"Clyde Bruckman (dir.), Buster Keaton, Marion Mack\">The General</a>,\n",
              " <a href=\"/title/tt0107207/\" title=\"Jim Sheridan (dir.), Daniel Day-Lewis, Pete Postlethwaite\">In the Name of the Father</a>,\n",
              " <a href=\"/title/tt0072684/\" title=\"Stanley Kubrick (dir.), Ryan O'Neal, Marisa Berenson\">Barry Lyndon</a>,\n",
              " <a href=\"/title/tt0041959/\" title=\"Carol Reed (dir.), Orson Welles, Joseph Cotten\">The Third Man</a>,\n",
              " <a href=\"/title/tt0077416/\" title=\"Michael Cimino (dir.), Robert De Niro, Christopher Walken\">The Deer Hunter</a>,\n",
              " <a href=\"/title/tt2119532/\" title=\"Mel Gibson (dir.), Andrew Garfield, Sam Worthington\">Hacksaw Ridge</a>,\n",
              " <a href=\"/title/tt0046268/\" title=\"Henri-Georges Clouzot (dir.), Yves Montand, Charles Vanel\">The Wages of Fear</a>,\n",
              " <a href=\"/title/tt0353969/\" title=\"Bong Joon Ho (dir.), Song Kang-ho, Kim Sang-kyung\">Memories of Murder</a>,\n",
              " <a href=\"/title/tt0015324/\" title=\"Buster Keaton (dir.), Buster Keaton, Kathryn McGuire\">Sherlock Jr.</a>,\n",
              " <a href=\"/title/tt3011894/\" title=\"Damián Szifron (dir.), Darío Grandinetti, María Marull\">Wild Tales</a>,\n",
              " <a href=\"/title/tt0031679/\" title=\"Frank Capra (dir.), James Stewart, Jean Arthur\">Mr. Smith Goes to Washington</a>,\n",
              " <a href=\"/title/tt1392190/\" title=\"George Miller (dir.), Tom Hardy, Charlize Theron\">Mad Max: Fury Road</a>,\n",
              " <a href=\"/title/tt0978762/\" title=\"Adam Elliot (dir.), Toni Collette, Philip Seymour Hoffman\">Mary and Max</a>,\n",
              " <a href=\"/title/tt0050976/\" title=\"Ingmar Bergman (dir.), Max von Sydow, Gunnar Björnstrand\">The Seventh Seal</a>,\n",
              " <a href=\"/title/tt0892769/\" title=\"Dean DeBlois (dir.), Jay Baruchel, Gerard Butler\">How to Train Your Dragon</a>,\n",
              " <a href=\"/title/tt0198781/\" title=\"Pete Docter (dir.), Billy Crystal, John Goodman\">Monsters, Inc.</a>,\n",
              " <a href=\"/title/tt0073195/\" title=\"Steven Spielberg (dir.), Roy Scheider, Robert Shaw\">Jaws</a>,\n",
              " <a href=\"/title/tt0097165/\" title=\"Peter Weir (dir.), Robin Williams, Robert Sean Leonard\">Dead Poets Society</a>,\n",
              " <a href=\"/title/tt3170832/\" title=\"Lenny Abrahamson (dir.), Brie Larson, Jacob Tremblay\">Room</a>,\n",
              " <a href=\"/title/tt0118715/\" title=\"Joel Coen (dir.), Jeff Bridges, John Goodman\">The Big Lebowski</a>,\n",
              " <a href=\"/title/tt0046438/\" title=\"Yasujirô Ozu (dir.), Chishû Ryû, Chieko Higashiyama\">Tokyo Story</a>,\n",
              " <a href=\"/title/tt0019254/\" title=\"Carl Theodor Dreyer (dir.), Maria Falconetti, Eugene Silvain\">The Passion of Joan of Arc</a>,\n",
              " <a href=\"/title/tt1950186/\" title=\"James Mangold (dir.), Matt Damon, Christian Bale\">Ford v Ferrari</a>,\n",
              " <a href=\"/title/tt0395169/\" title=\"Terry George (dir.), Don Cheadle, Sophie Okonedo\">Hotel Rwanda</a>,\n",
              " <a href=\"/title/tt0075148/\" title=\"John G. Avildsen (dir.), Sylvester Stallone, Talia Shire\">Rocky</a>,\n",
              " <a href=\"/title/tt0091763/\" title=\"Oliver Stone (dir.), Charlie Sheen, Tom Berenger\">Platoon</a>,\n",
              " <a href=\"/title/tt0382932/\" title=\"Brad Bird (dir.), Brad Garrett, Lou Romano\">Ratatouille</a>,\n",
              " <a href=\"/title/tt1895587/\" title=\"Tom McCarthy (dir.), Mark Ruffalo, Michael Keaton\">Spotlight</a>,\n",
              " <a href=\"/title/tt3315342/\" title=\"James Mangold (dir.), Hugh Jackman, Patrick Stewart\">Logan</a>,\n",
              " <a href=\"/title/tt0088247/\" title=\"James Cameron (dir.), Arnold Schwarzenegger, Linda Hamilton\">The Terminator</a>,\n",
              " <a href=\"/title/tt0092005/\" title=\"Rob Reiner (dir.), Wil Wheaton, River Phoenix\">Stand by Me</a>,\n",
              " <a href=\"/title/tt1979320/\" title=\"Ron Howard (dir.), Daniel Brühl, Chris Hemsworth\">Rush</a>,\n",
              " <a href=\"/title/tt0074958/\" title=\"Sidney Lumet (dir.), Faye Dunaway, William Holden\">Network</a>,\n",
              " <a href=\"/title/tt0381681/\" title=\"Richard Linklater (dir.), Ethan Hawke, Julie Delpy\">Before Sunset</a>,\n",
              " <a href=\"/title/tt0758758/\" title=\"Sean Penn (dir.), Emile Hirsch, Vince Vaughn\">Into the Wild</a>,\n",
              " <a href=\"/title/tt0032138/\" title=\"Victor Fleming (dir.), Judy Garland, Frank Morgan\">The Wizard of Oz</a>,\n",
              " <a href=\"/title/tt0036868/\" title=\"William Wyler (dir.), Myrna Loy, Dana Andrews\">The Best Years of Our Lives</a>,\n",
              " <a href=\"/title/tt0107048/\" title=\"Harold Ramis (dir.), Bill Murray, Andie MacDowell\">Groundhog Day</a>,\n",
              " <a href=\"/title/tt0070047/\" title=\"William Friedkin (dir.), Ellen Burstyn, Max von Sydow\">The Exorcist</a>,\n",
              " <a href=\"/title/tt0317705/\" title=\"Brad Bird (dir.), Craig T. Nelson, Samuel L. Jackson\">The Incredibles</a>,\n",
              " <a href=\"/title/tt0048473/\" title=\"Satyajit Ray (dir.), Kanu Bannerjee, Karuna Bannerjee\">Pather Panchali</a>,\n",
              " <a href=\"/title/tt0035446/\" title=\"Ernst Lubitsch (dir.), Carole Lombard, Jack Benny\">To Be or Not to Be</a>,\n",
              " <a href=\"/title/tt0113247/\" title=\"Mathieu Kassovitz (dir.), Vincent Cassel, Hubert Koundé\">La haine</a>,\n",
              " <a href=\"/title/tt0325980/\" title=\"Gore Verbinski (dir.), Johnny Depp, Geoffrey Rush\">Pirates of the Caribbean: The Curse of the Black Pearl</a>,\n",
              " <a href=\"/title/tt0032551/\" title=\"John Ford (dir.), Henry Fonda, Jane Darwell\">The Grapes of Wrath</a>,\n",
              " <a href=\"/title/tt0058946/\" title=\"Gillo Pontecorvo (dir.), Brahim Hadjadj, Jean Martin\">The Battle of Algiers</a>,\n",
              " <a href=\"/title/tt1028532/\" title=\"Lasse Hallström (dir.), Richard Gere, Joan Allen\">Hachi: A Dog's Tale</a>,\n",
              " <a href=\"/title/tt15097216/\" title=\"T.J. Gnanavel (dir.), Suriya, Lijo Mol Jose\">Jai Bhim</a>,\n",
              " <a href=\"/title/tt0476735/\" title=\"Çagan Irmak (dir.), Çetin Tekindor, Fikret Kuskan\">My Father and My Son</a>,\n",
              " <a href=\"/title/tt0245712/\" title=\"Alejandro G. Iñárritu (dir.), Emilio Echevarría, Gael García Bernal\">Amores Perros</a>,\n",
              " <a href=\"/title/tt0032976/\" title=\"Alfred Hitchcock (dir.), Laurence Olivier, Joan Fontaine\">Rebecca</a>,\n",
              " <a href=\"/title/tt0061512/\" title=\"Stuart Rosenberg (dir.), Paul Newman, George Kennedy\">Cool Hand Luke</a>,\n",
              " <a href=\"/title/tt4016934/\" title=\"Park Chan-wook (dir.), Kim Min-hee, Ha Jung-woo\">The Handmaiden</a>,\n",
              " <a href=\"/title/tt0053198/\" title=\"François Truffaut (dir.), Jean-Pierre Léaud, Albert Rémy\">The 400 Blows</a>,\n",
              " <a href=\"/title/tt0059742/\" title=\"Robert Wise (dir.), Julie Andrews, Christopher Plummer\">The Sound of Music</a>,\n",
              " <a href=\"/title/tt0025316/\" title=\"Frank Capra (dir.), Clark Gable, Claudette Colbert\">It Happened One Night</a>,\n",
              " <a href=\"/title/tt0060827/\" title=\"Ingmar Bergman (dir.), Bibi Andersson, Liv Ullmann\">Persona</a>,\n",
              " <a href=\"/title/tt0079470/\" title=\"Terry Jones (dir.), Graham Chapman, John Cleese\">Life of Brian</a>,\n",
              " <a href=\"/title/tt0129167/\" title=\"Brad Bird (dir.), Eli Marienthal, Harry Connick Jr.\">The Iron Giant</a>,\n",
              " <a href=\"/title/tt1454029/\" title=\"Tate Taylor (dir.), Viola Davis, Emma Stone\">The Help</a>,\n",
              " <a href=\"/title/tt0071411/\" title=\"Akira Kurosawa (dir.), Maksim Munzuk, Yuriy Solomin\">Dersu Uzala</a>,\n",
              " <a href=\"/title/tt0103639/\" title=\"Ron Clements (dir.), Scott Weinger, Robin Williams\">Aladdin</a>,\n",
              " <a href=\"/title/tt0099348/\" title=\"Kevin Costner (dir.), Kevin Costner, Mary McDonnell\">Dances with Wolves</a>]"
            ]
          },
          "execution_count": 167,
          "metadata": {},
          "output_type": "execute_result"
        }
      ],
      "source": [
        "soup.select(\"td.titleColumn a\") # all elements containing movie titles"
      ]
    },
    {
      "cell_type": "code",
      "execution_count": 168,
      "metadata": {
        "colab": {
          "base_uri": "https://localhost:8080/",
          "height": 36
        },
        "id": "0SaqchYg4r2u",
        "outputId": "cfdf277f-dbfc-4768-e2ac-652e540f9533"
      },
      "outputs": [
        {
          "data": {
            "text/plain": [
              "'The Shawshank Redemption'"
            ]
          },
          "execution_count": 168,
          "metadata": {},
          "output_type": "execute_result"
        }
      ],
      "source": [
        "# we can use .get_text() to extract the content of the tags we selected\n",
        "# we'll need to do it to each tag with a for loop: here we do it to the first one\n",
        "soup.select(\"td.titleColumn a\")[0].get_text()"
      ]
    },
    {
      "cell_type": "code",
      "execution_count": 169,
      "metadata": {
        "colab": {
          "base_uri": "https://localhost:8080/",
          "height": 36
        },
        "id": "bHl_kNI54r2u",
        "outputId": "c800da4b-ce68-4ea9-a985-0a43dc4956af"
      },
      "outputs": [
        {
          "data": {
            "text/plain": [
              "'Frank Darabont (dir.), Tim Robbins, Morgan Freeman'"
            ]
          },
          "execution_count": 169,
          "metadata": {},
          "output_type": "execute_result"
        }
      ],
      "source": [
        "# the director and main stars are in the same tag, but as a value of the attribute \"title\"\n",
        "# we can access attributes as key-value pairs of dictionaries: using [\"key\"] to get the value:\n",
        "soup.select(\"td.titleColumn a\")[0][\"title\"] "
      ]
    },
    {
      "cell_type": "code",
      "execution_count": 170,
      "metadata": {
        "colab": {
          "base_uri": "https://localhost:8080/",
          "height": 36
        },
        "id": "UqcSCe8iaMfR",
        "outputId": "fa922d4a-e7b3-4635-be05-1f731c8bf12d"
      },
      "outputs": [
        {
          "data": {
            "text/plain": [
              "'Frank Darabont (dir.), Tim Robbins, Morgan Freeman'"
            ]
          },
          "execution_count": 170,
          "metadata": {},
          "output_type": "execute_result"
        }
      ],
      "source": [
        "# instead of [\"title\"] we could use .get(\"title\"): choose whatever you prefer\n",
        "\n",
        "soup.select(\"td.titleColumn a\")[0].get(\"title\")"
      ]
    },
    {
      "cell_type": "code",
      "execution_count": 171,
      "metadata": {
        "colab": {
          "base_uri": "https://localhost:8080/",
          "height": 36
        },
        "id": "t7mtG39n4r2u",
        "outputId": "dffbcc1c-6a37-4a73-c26f-58752d60fdba"
      },
      "outputs": [
        {
          "data": {
            "text/plain": [
              "'(1994)'"
            ]
          },
          "execution_count": 171,
          "metadata": {},
          "output_type": "execute_result"
        }
      ],
      "source": [
        "# the years are inside a 'span' tag with the 'secondaryInfo' class\n",
        "# we also specify the parent tag and its class, which is the same we used before\n",
        "# the years are inside parentheses, but we'll take care of that later\n",
        "soup.select(\"td.titleColumn span.secondaryInfo\")[0].get_text()"
      ]
    },
    {
      "cell_type": "markdown",
      "metadata": {
        "id": "wm6Vde3w4r2u"
      },
      "source": [
        "### Storing information in lists"
      ]
    },
    {
      "cell_type": "code",
      "execution_count": 172,
      "metadata": {
        "id": "6VFUIuy74r2u"
      },
      "outputs": [],
      "source": [
        "#initialize empty lists\n",
        "title = []\n",
        "dir_stars = []\n",
        "year = []"
      ]
    },
    {
      "cell_type": "code",
      "execution_count": 173,
      "metadata": {
        "id": "z3p2BuUr4r2u"
      },
      "outputs": [],
      "source": [
        "# define the number of iterations of our for loop \n",
        "# by checking how many elements are in the retrieved result set\n",
        "# (this is equivalent but more robust than just explicitly defining 250 iterations)\n",
        "num_iter = len(soup.select(\"td.titleColumn a\"))"
      ]
    },
    {
      "cell_type": "code",
      "execution_count": 174,
      "metadata": {
        "colab": {
          "base_uri": "https://localhost:8080/"
        },
        "id": "_4OZzXQgbjZJ",
        "outputId": "43acf945-51f5-422d-cf67-2599f3e0baa1"
      },
      "outputs": [
        {
          "data": {
            "text/plain": [
              "250"
            ]
          },
          "execution_count": 174,
          "metadata": {},
          "output_type": "execute_result"
        }
      ],
      "source": [
        "num_iter"
      ]
    },
    {
      "cell_type": "code",
      "execution_count": 175,
      "metadata": {
        "id": "3R0MAVxO4r2v"
      },
      "outputs": [],
      "source": [
        "#table = soup.select(\"tbody > tr\")"
      ]
    },
    {
      "cell_type": "code",
      "execution_count": 176,
      "metadata": {
        "id": "9DBY7I1q4r2v"
      },
      "outputs": [],
      "source": [
        "#table[2].select(\"td.titleColumn a\")"
      ]
    },
    {
      "cell_type": "code",
      "execution_count": 177,
      "metadata": {
        "id": "hOBJeAnB4r2v"
      },
      "outputs": [],
      "source": [
        "# iterate through the result set and retrive all the data\n",
        "for i in range(num_iter):\n",
        "    title.append(soup.select(\"td.titleColumn a\")[i].get_text())\n",
        "    dir_stars.append(soup.select(\"td.titleColumn a\")[i][\"title\"])\n",
        "    year.append(soup.select(\"td.titleColumn span.secondaryInfo\")[i].get_text())"
      ]
    },
    {
      "cell_type": "code",
      "execution_count": 178,
      "metadata": {
        "id": "ILzmjgEXcYfM"
      },
      "outputs": [
        {
          "data": {
            "text/plain": [
              "['The Shawshank Redemption',\n",
              " 'The Godfather',\n",
              " 'The Dark Knight',\n",
              " 'The Godfather Part II',\n",
              " '12 Angry Men',\n",
              " \"Schindler's List\",\n",
              " 'The Lord of the Rings: The Return of the King',\n",
              " 'Pulp Fiction',\n",
              " 'The Lord of the Rings: The Fellowship of the Ring',\n",
              " 'The Good, the Bad and the Ugly',\n",
              " 'Forrest Gump',\n",
              " 'Fight Club',\n",
              " 'The Lord of the Rings: The Two Towers',\n",
              " 'Inception',\n",
              " 'Star Wars: Episode V - The Empire Strikes Back',\n",
              " 'The Matrix',\n",
              " 'Goodfellas',\n",
              " \"One Flew Over the Cuckoo's Nest\",\n",
              " 'Se7en',\n",
              " 'Seven Samurai',\n",
              " \"It's a Wonderful Life\",\n",
              " 'The Silence of the Lambs',\n",
              " 'Saving Private Ryan',\n",
              " 'City of God',\n",
              " 'Interstellar',\n",
              " 'Life Is Beautiful',\n",
              " 'The Green Mile',\n",
              " 'Star Wars: Episode IV - A New Hope',\n",
              " 'Terminator 2: Judgment Day',\n",
              " 'Back to the Future',\n",
              " 'Spirited Away',\n",
              " 'The Pianist',\n",
              " 'Psycho',\n",
              " 'Parasite',\n",
              " 'Léon: The Professional',\n",
              " 'The Lion King',\n",
              " 'Gladiator',\n",
              " 'American History X',\n",
              " 'The Departed',\n",
              " 'The Prestige',\n",
              " 'Whiplash',\n",
              " 'The Usual Suspects',\n",
              " 'Casablanca',\n",
              " 'Grave of the Fireflies',\n",
              " 'Harakiri',\n",
              " 'The Intouchables',\n",
              " 'Modern Times',\n",
              " 'Once Upon a Time in the West',\n",
              " 'Cinema Paradiso',\n",
              " 'Rear Window',\n",
              " 'Alien',\n",
              " 'City Lights',\n",
              " 'Apocalypse Now',\n",
              " 'Memento',\n",
              " 'Django Unchained',\n",
              " 'Raiders of the Lost Ark',\n",
              " 'WALL·E',\n",
              " 'The Lives of Others',\n",
              " 'Sunset Blvd.',\n",
              " 'Paths of Glory',\n",
              " 'The Shining',\n",
              " 'The Great Dictator',\n",
              " 'Avengers: Infinity War',\n",
              " 'Witness for the Prosecution',\n",
              " 'Aliens',\n",
              " 'Spider-Man: Into the Spider-Verse',\n",
              " 'American Beauty',\n",
              " 'Dr. Strangelove or: How I Learned to Stop Worrying and Love the Bomb',\n",
              " 'The Dark Knight Rises',\n",
              " 'Oldboy',\n",
              " 'Inglourious Basterds',\n",
              " 'Amadeus',\n",
              " 'Coco',\n",
              " 'Toy Story',\n",
              " 'Braveheart',\n",
              " 'Joker',\n",
              " 'Das Boot',\n",
              " 'Avengers: Endgame',\n",
              " 'Princess Mononoke',\n",
              " 'Once Upon a Time in America',\n",
              " 'Good Will Hunting',\n",
              " 'Your Name.',\n",
              " \"Singin' in the Rain\",\n",
              " '3 Idiots',\n",
              " 'Requiem for a Dream',\n",
              " 'High and Low',\n",
              " 'Toy Story 3',\n",
              " 'Capernaum',\n",
              " 'Star Wars: Episode VI - Return of the Jedi',\n",
              " 'Eternal Sunshine of the Spotless Mind',\n",
              " '2001: A Space Odyssey',\n",
              " 'Come and See',\n",
              " 'Reservoir Dogs',\n",
              " 'The Hunt',\n",
              " 'Citizen Kane',\n",
              " 'M',\n",
              " 'Lawrence of Arabia',\n",
              " 'North by Northwest',\n",
              " 'Ikiru',\n",
              " 'Vertigo',\n",
              " 'The Apartment',\n",
              " 'Amélie',\n",
              " 'A Clockwork Orange',\n",
              " 'Double Indemnity',\n",
              " 'Full Metal Jacket',\n",
              " 'Scarface',\n",
              " 'Hamilton',\n",
              " 'Incendies',\n",
              " 'Heat',\n",
              " 'To Kill a Mockingbird',\n",
              " 'Up',\n",
              " 'The Sting',\n",
              " 'A Separation',\n",
              " 'Metropolis',\n",
              " 'Taxi Driver',\n",
              " 'L.A. Confidential',\n",
              " 'Die Hard',\n",
              " 'Snatch',\n",
              " 'Indiana Jones and the Last Crusade',\n",
              " 'Bicycle Thieves',\n",
              " 'Top Gun: Maverick',\n",
              " 'Like Stars on Earth',\n",
              " '1917',\n",
              " 'Downfall',\n",
              " 'Dangal',\n",
              " 'For a Few Dollars More',\n",
              " 'Batman Begins',\n",
              " 'The Kid',\n",
              " 'Some Like It Hot',\n",
              " 'The Father',\n",
              " 'All About Eve',\n",
              " 'The Wolf of Wall Street',\n",
              " 'Green Book',\n",
              " 'John Wick: Chapter 4',\n",
              " 'Judgment at Nuremberg',\n",
              " 'Ran',\n",
              " 'Casino',\n",
              " 'The Truman Show',\n",
              " 'There Will Be Blood',\n",
              " \"Pan's Labyrinth\",\n",
              " 'Unforgiven',\n",
              " 'The Sixth Sense',\n",
              " 'Shutter Island',\n",
              " 'A Beautiful Mind',\n",
              " 'Jurassic Park',\n",
              " 'Yojimbo',\n",
              " 'The Treasure of the Sierra Madre',\n",
              " 'Monty Python and the Holy Grail',\n",
              " 'No Country for Old Men',\n",
              " 'The Great Escape',\n",
              " 'Kill Bill: Vol. 1',\n",
              " 'Rashomon',\n",
              " 'The Thing',\n",
              " 'Spider-Man: No Way Home',\n",
              " 'Finding Nemo',\n",
              " 'The Elephant Man',\n",
              " 'Chinatown',\n",
              " 'Raging Bull',\n",
              " 'V for Vendetta',\n",
              " 'Gone with the Wind',\n",
              " 'Lock, Stock and Two Smoking Barrels',\n",
              " 'Dial M for Murder',\n",
              " 'Inside Out',\n",
              " 'The Secret in Their Eyes',\n",
              " \"Howl's Moving Castle\",\n",
              " 'Three Billboards Outside Ebbing, Missouri',\n",
              " 'Trainspotting',\n",
              " 'The Bridge on the River Kwai',\n",
              " 'Prisoners',\n",
              " 'Warrior',\n",
              " 'Fargo',\n",
              " 'Gran Torino',\n",
              " 'My Neighbor Totoro',\n",
              " 'Catch Me If You Can',\n",
              " 'Million Dollar Baby',\n",
              " 'Children of Heaven',\n",
              " 'Blade Runner',\n",
              " 'The Gold Rush',\n",
              " 'Klaus',\n",
              " 'Harry Potter and the Deathly Hallows: Part 2',\n",
              " 'Before Sunrise',\n",
              " '12 Years a Slave',\n",
              " 'On the Waterfront',\n",
              " 'Ben-Hur',\n",
              " 'The Grand Budapest Hotel',\n",
              " 'Gone Girl',\n",
              " 'Wild Strawberries',\n",
              " 'The General',\n",
              " 'In the Name of the Father',\n",
              " 'Barry Lyndon',\n",
              " 'The Third Man',\n",
              " 'The Deer Hunter',\n",
              " 'Hacksaw Ridge',\n",
              " 'The Wages of Fear',\n",
              " 'Memories of Murder',\n",
              " 'Sherlock Jr.',\n",
              " 'Wild Tales',\n",
              " 'Mr. Smith Goes to Washington',\n",
              " 'Mad Max: Fury Road',\n",
              " 'Mary and Max',\n",
              " 'The Seventh Seal',\n",
              " 'How to Train Your Dragon',\n",
              " 'Monsters, Inc.',\n",
              " 'Jaws',\n",
              " 'Dead Poets Society',\n",
              " 'Room',\n",
              " 'The Big Lebowski',\n",
              " 'Tokyo Story',\n",
              " 'The Passion of Joan of Arc',\n",
              " 'Ford v Ferrari',\n",
              " 'Hotel Rwanda',\n",
              " 'Rocky',\n",
              " 'Platoon',\n",
              " 'Ratatouille',\n",
              " 'Spotlight',\n",
              " 'Logan',\n",
              " 'The Terminator',\n",
              " 'Stand by Me',\n",
              " 'Rush',\n",
              " 'Network',\n",
              " 'Before Sunset',\n",
              " 'Into the Wild',\n",
              " 'The Wizard of Oz',\n",
              " 'The Best Years of Our Lives',\n",
              " 'Groundhog Day',\n",
              " 'The Exorcist',\n",
              " 'The Incredibles',\n",
              " 'Pather Panchali',\n",
              " 'To Be or Not to Be',\n",
              " 'La haine',\n",
              " 'Pirates of the Caribbean: The Curse of the Black Pearl',\n",
              " 'The Grapes of Wrath',\n",
              " 'The Battle of Algiers',\n",
              " \"Hachi: A Dog's Tale\",\n",
              " 'Jai Bhim',\n",
              " 'My Father and My Son',\n",
              " 'Amores Perros',\n",
              " 'Rebecca',\n",
              " 'Cool Hand Luke',\n",
              " 'The Handmaiden',\n",
              " 'The 400 Blows',\n",
              " 'The Sound of Music',\n",
              " 'It Happened One Night',\n",
              " 'Persona',\n",
              " 'Life of Brian',\n",
              " 'The Iron Giant',\n",
              " 'The Help',\n",
              " 'Dersu Uzala',\n",
              " 'Aladdin',\n",
              " 'Dances with Wolves']"
            ]
          },
          "execution_count": 178,
          "metadata": {},
          "output_type": "execute_result"
        }
      ],
      "source": [
        "title \n"
      ]
    },
    {
      "cell_type": "code",
      "execution_count": 179,
      "metadata": {
        "id": "fuSDcTNvcn-L"
      },
      "outputs": [
        {
          "data": {
            "text/plain": [
              "['Frank Darabont (dir.), Tim Robbins, Morgan Freeman',\n",
              " 'Francis Ford Coppola (dir.), Marlon Brando, Al Pacino',\n",
              " 'Christopher Nolan (dir.), Christian Bale, Heath Ledger',\n",
              " 'Francis Ford Coppola (dir.), Al Pacino, Robert De Niro',\n",
              " 'Sidney Lumet (dir.), Henry Fonda, Lee J. Cobb',\n",
              " 'Steven Spielberg (dir.), Liam Neeson, Ralph Fiennes',\n",
              " 'Peter Jackson (dir.), Elijah Wood, Viggo Mortensen',\n",
              " 'Quentin Tarantino (dir.), John Travolta, Uma Thurman',\n",
              " 'Peter Jackson (dir.), Elijah Wood, Ian McKellen',\n",
              " 'Sergio Leone (dir.), Clint Eastwood, Eli Wallach',\n",
              " 'Robert Zemeckis (dir.), Tom Hanks, Robin Wright',\n",
              " 'David Fincher (dir.), Brad Pitt, Edward Norton',\n",
              " 'Peter Jackson (dir.), Elijah Wood, Ian McKellen',\n",
              " 'Christopher Nolan (dir.), Leonardo DiCaprio, Joseph Gordon-Levitt',\n",
              " 'Irvin Kershner (dir.), Mark Hamill, Harrison Ford',\n",
              " 'Lana Wachowski (dir.), Keanu Reeves, Laurence Fishburne',\n",
              " 'Martin Scorsese (dir.), Robert De Niro, Ray Liotta',\n",
              " 'Milos Forman (dir.), Jack Nicholson, Louise Fletcher',\n",
              " 'David Fincher (dir.), Morgan Freeman, Brad Pitt',\n",
              " 'Akira Kurosawa (dir.), Toshirô Mifune, Takashi Shimura',\n",
              " 'Frank Capra (dir.), James Stewart, Donna Reed',\n",
              " 'Jonathan Demme (dir.), Jodie Foster, Anthony Hopkins',\n",
              " 'Steven Spielberg (dir.), Tom Hanks, Matt Damon',\n",
              " 'Fernando Meirelles (dir.), Alexandre Rodrigues, Leandro Firmino',\n",
              " 'Christopher Nolan (dir.), Matthew McConaughey, Anne Hathaway',\n",
              " 'Roberto Benigni (dir.), Roberto Benigni, Nicoletta Braschi',\n",
              " 'Frank Darabont (dir.), Tom Hanks, Michael Clarke Duncan',\n",
              " 'George Lucas (dir.), Mark Hamill, Harrison Ford',\n",
              " 'James Cameron (dir.), Arnold Schwarzenegger, Linda Hamilton',\n",
              " 'Robert Zemeckis (dir.), Michael J. Fox, Christopher Lloyd',\n",
              " 'Hayao Miyazaki (dir.), Daveigh Chase, Suzanne Pleshette',\n",
              " 'Roman Polanski (dir.), Adrien Brody, Thomas Kretschmann',\n",
              " 'Alfred Hitchcock (dir.), Anthony Perkins, Janet Leigh',\n",
              " 'Bong Joon Ho (dir.), Song Kang-ho, Lee Sun-kyun',\n",
              " 'Luc Besson (dir.), Jean Reno, Gary Oldman',\n",
              " 'Roger Allers (dir.), Matthew Broderick, Jeremy Irons',\n",
              " 'Ridley Scott (dir.), Russell Crowe, Joaquin Phoenix',\n",
              " 'Tony Kaye (dir.), Edward Norton, Edward Furlong',\n",
              " 'Martin Scorsese (dir.), Leonardo DiCaprio, Matt Damon',\n",
              " 'Christopher Nolan (dir.), Christian Bale, Hugh Jackman',\n",
              " 'Damien Chazelle (dir.), Miles Teller, J.K. Simmons',\n",
              " 'Bryan Singer (dir.), Kevin Spacey, Gabriel Byrne',\n",
              " 'Michael Curtiz (dir.), Humphrey Bogart, Ingrid Bergman',\n",
              " 'Isao Takahata (dir.), Tsutomu Tatsumi, Ayano Shiraishi',\n",
              " 'Masaki Kobayashi (dir.), Tatsuya Nakadai, Akira Ishihama',\n",
              " 'Olivier Nakache (dir.), François Cluzet, Omar Sy',\n",
              " 'Charles Chaplin (dir.), Charles Chaplin, Paulette Goddard',\n",
              " 'Sergio Leone (dir.), Henry Fonda, Charles Bronson',\n",
              " 'Giuseppe Tornatore (dir.), Philippe Noiret, Enzo Cannavale',\n",
              " 'Alfred Hitchcock (dir.), James Stewart, Grace Kelly',\n",
              " 'Ridley Scott (dir.), Sigourney Weaver, Tom Skerritt',\n",
              " 'Charles Chaplin (dir.), Charles Chaplin, Virginia Cherrill',\n",
              " 'Francis Ford Coppola (dir.), Martin Sheen, Marlon Brando',\n",
              " 'Christopher Nolan (dir.), Guy Pearce, Carrie-Anne Moss',\n",
              " 'Quentin Tarantino (dir.), Jamie Foxx, Christoph Waltz',\n",
              " 'Steven Spielberg (dir.), Harrison Ford, Karen Allen',\n",
              " 'Andrew Stanton (dir.), Ben Burtt, Elissa Knight',\n",
              " 'Florian Henckel von Donnersmarck (dir.), Ulrich Mühe, Martina Gedeck',\n",
              " 'Billy Wilder (dir.), William Holden, Gloria Swanson',\n",
              " 'Stanley Kubrick (dir.), Kirk Douglas, Ralph Meeker',\n",
              " 'Stanley Kubrick (dir.), Jack Nicholson, Shelley Duvall',\n",
              " 'Charles Chaplin (dir.), Charles Chaplin, Paulette Goddard',\n",
              " 'Anthony Russo (dir.), Robert Downey Jr., Chris Hemsworth',\n",
              " 'Billy Wilder (dir.), Tyrone Power, Marlene Dietrich',\n",
              " 'James Cameron (dir.), Sigourney Weaver, Michael Biehn',\n",
              " 'Bob Persichetti (dir.), Shameik Moore, Jake Johnson',\n",
              " 'Sam Mendes (dir.), Kevin Spacey, Annette Bening',\n",
              " 'Stanley Kubrick (dir.), Peter Sellers, George C. Scott',\n",
              " 'Christopher Nolan (dir.), Christian Bale, Tom Hardy',\n",
              " 'Park Chan-wook (dir.), Choi Min-sik, Yoo Ji-tae',\n",
              " 'Quentin Tarantino (dir.), Brad Pitt, Diane Kruger',\n",
              " 'Milos Forman (dir.), F. Murray Abraham, Tom Hulce',\n",
              " 'Lee Unkrich (dir.), Anthony Gonzalez, Gael García Bernal',\n",
              " 'John Lasseter (dir.), Tom Hanks, Tim Allen',\n",
              " 'Mel Gibson (dir.), Mel Gibson, Sophie Marceau',\n",
              " 'Todd Phillips (dir.), Joaquin Phoenix, Robert De Niro',\n",
              " 'Wolfgang Petersen (dir.), Jürgen Prochnow, Herbert Grönemeyer',\n",
              " 'Anthony Russo (dir.), Robert Downey Jr., Chris Evans',\n",
              " 'Hayao Miyazaki (dir.), Yôji Matsuda, Yuriko Ishida',\n",
              " 'Sergio Leone (dir.), Robert De Niro, James Woods',\n",
              " 'Gus Van Sant (dir.), Robin Williams, Matt Damon',\n",
              " 'Makoto Shinkai (dir.), Ryunosuke Kamiki, Mone Kamishiraishi',\n",
              " \"Stanley Donen (dir.), Gene Kelly, Donald O'Connor\",\n",
              " 'Rajkumar Hirani (dir.), Aamir Khan, Madhavan',\n",
              " 'Darren Aronofsky (dir.), Ellen Burstyn, Jared Leto',\n",
              " 'Akira Kurosawa (dir.), Toshirô Mifune, Yutaka Sada',\n",
              " 'Lee Unkrich (dir.), Tom Hanks, Tim Allen',\n",
              " 'Nadine Labaki (dir.), Zain Al Rafeea, Yordanos Shiferaw',\n",
              " 'Richard Marquand (dir.), Mark Hamill, Harrison Ford',\n",
              " 'Michel Gondry (dir.), Jim Carrey, Kate Winslet',\n",
              " 'Stanley Kubrick (dir.), Keir Dullea, Gary Lockwood',\n",
              " 'Elem Klimov (dir.), Aleksey Kravchenko, Olga Mironova',\n",
              " 'Quentin Tarantino (dir.), Harvey Keitel, Tim Roth',\n",
              " 'Thomas Vinterberg (dir.), Mads Mikkelsen, Thomas Bo Larsen',\n",
              " 'Orson Welles (dir.), Orson Welles, Joseph Cotten',\n",
              " 'Fritz Lang (dir.), Peter Lorre, Ellen Widmann',\n",
              " \"David Lean (dir.), Peter O'Toole, Alec Guinness\",\n",
              " 'Alfred Hitchcock (dir.), Cary Grant, Eva Marie Saint',\n",
              " 'Akira Kurosawa (dir.), Takashi Shimura, Nobuo Kaneko',\n",
              " 'Alfred Hitchcock (dir.), James Stewart, Kim Novak',\n",
              " 'Billy Wilder (dir.), Jack Lemmon, Shirley MacLaine',\n",
              " 'Jean-Pierre Jeunet (dir.), Audrey Tautou, Mathieu Kassovitz',\n",
              " 'Stanley Kubrick (dir.), Malcolm McDowell, Patrick Magee',\n",
              " 'Billy Wilder (dir.), Fred MacMurray, Barbara Stanwyck',\n",
              " 'Stanley Kubrick (dir.), Matthew Modine, R. Lee Ermey',\n",
              " 'Brian De Palma (dir.), Al Pacino, Michelle Pfeiffer',\n",
              " 'Thomas Kail (dir.), Lin-Manuel Miranda, Phillipa Soo',\n",
              " 'Denis Villeneuve (dir.), Lubna Azabal, Mélissa Désormeaux-Poulin',\n",
              " 'Michael Mann (dir.), Al Pacino, Robert De Niro',\n",
              " 'Robert Mulligan (dir.), Gregory Peck, John Megna',\n",
              " 'Pete Docter (dir.), Edward Asner, Jordan Nagai',\n",
              " 'George Roy Hill (dir.), Paul Newman, Robert Redford',\n",
              " 'Asghar Farhadi (dir.), Payman Maadi, Leila Hatami',\n",
              " 'Fritz Lang (dir.), Brigitte Helm, Alfred Abel',\n",
              " 'Martin Scorsese (dir.), Robert De Niro, Jodie Foster',\n",
              " 'Curtis Hanson (dir.), Kevin Spacey, Russell Crowe',\n",
              " 'John McTiernan (dir.), Bruce Willis, Alan Rickman',\n",
              " 'Guy Ritchie (dir.), Jason Statham, Brad Pitt',\n",
              " 'Steven Spielberg (dir.), Harrison Ford, Sean Connery',\n",
              " 'Vittorio De Sica (dir.), Lamberto Maggiorani, Enzo Staiola',\n",
              " 'Joseph Kosinski (dir.), Tom Cruise, Jennifer Connelly',\n",
              " 'Aamir Khan (dir.), Darsheel Safary, Aamir Khan',\n",
              " 'Sam Mendes (dir.), Dean-Charles Chapman, George MacKay',\n",
              " 'Oliver Hirschbiegel (dir.), Bruno Ganz, Alexandra Maria Lara',\n",
              " 'Nitesh Tiwari (dir.), Aamir Khan, Sakshi Tanwar',\n",
              " 'Sergio Leone (dir.), Clint Eastwood, Lee Van Cleef',\n",
              " 'Christopher Nolan (dir.), Christian Bale, Michael Caine',\n",
              " 'Charles Chaplin (dir.), Charles Chaplin, Edna Purviance',\n",
              " 'Billy Wilder (dir.), Marilyn Monroe, Tony Curtis',\n",
              " 'Florian Zeller (dir.), Anthony Hopkins, Olivia Colman',\n",
              " 'Joseph L. Mankiewicz (dir.), Bette Davis, Anne Baxter',\n",
              " 'Martin Scorsese (dir.), Leonardo DiCaprio, Jonah Hill',\n",
              " 'Peter Farrelly (dir.), Viggo Mortensen, Mahershala Ali',\n",
              " 'Chad Stahelski (dir.), Keanu Reeves, Laurence Fishburne',\n",
              " 'Stanley Kramer (dir.), Spencer Tracy, Burt Lancaster',\n",
              " 'Akira Kurosawa (dir.), Tatsuya Nakadai, Akira Terao',\n",
              " 'Martin Scorsese (dir.), Robert De Niro, Sharon Stone',\n",
              " 'Peter Weir (dir.), Jim Carrey, Ed Harris',\n",
              " 'Paul Thomas Anderson (dir.), Daniel Day-Lewis, Paul Dano',\n",
              " 'Guillermo del Toro (dir.), Ivana Baquero, Ariadna Gil',\n",
              " 'Clint Eastwood (dir.), Clint Eastwood, Gene Hackman',\n",
              " 'M. Night Shyamalan (dir.), Bruce Willis, Haley Joel Osment',\n",
              " 'Martin Scorsese (dir.), Leonardo DiCaprio, Emily Mortimer',\n",
              " 'Ron Howard (dir.), Russell Crowe, Ed Harris',\n",
              " 'Steven Spielberg (dir.), Sam Neill, Laura Dern',\n",
              " 'Akira Kurosawa (dir.), Toshirô Mifune, Eijirô Tôno',\n",
              " 'John Huston (dir.), Humphrey Bogart, Walter Huston',\n",
              " 'Terry Gilliam (dir.), Graham Chapman, John Cleese',\n",
              " 'Ethan Coen (dir.), Tommy Lee Jones, Javier Bardem',\n",
              " 'John Sturges (dir.), Steve McQueen, James Garner',\n",
              " 'Quentin Tarantino (dir.), Uma Thurman, David Carradine',\n",
              " 'Akira Kurosawa (dir.), Toshirô Mifune, Machiko Kyô',\n",
              " 'John Carpenter (dir.), Kurt Russell, Wilford Brimley',\n",
              " 'Jon Watts (dir.), Tom Holland, Zendaya',\n",
              " 'Andrew Stanton (dir.), Albert Brooks, Ellen DeGeneres',\n",
              " 'David Lynch (dir.), Anthony Hopkins, John Hurt',\n",
              " 'Roman Polanski (dir.), Jack Nicholson, Faye Dunaway',\n",
              " 'Martin Scorsese (dir.), Robert De Niro, Cathy Moriarty',\n",
              " 'James McTeigue (dir.), Hugo Weaving, Natalie Portman',\n",
              " 'Victor Fleming (dir.), Clark Gable, Vivien Leigh',\n",
              " 'Guy Ritchie (dir.), Jason Flemyng, Dexter Fletcher',\n",
              " 'Alfred Hitchcock (dir.), Ray Milland, Grace Kelly',\n",
              " 'Pete Docter (dir.), Amy Poehler, Bill Hader',\n",
              " 'Juan José Campanella (dir.), Ricardo Darín, Soledad Villamil',\n",
              " 'Hayao Miyazaki (dir.), Chieko Baisho, Takuya Kimura',\n",
              " 'Martin McDonagh (dir.), Frances McDormand, Woody Harrelson',\n",
              " 'Danny Boyle (dir.), Ewan McGregor, Ewen Bremner',\n",
              " 'David Lean (dir.), William Holden, Alec Guinness',\n",
              " 'Denis Villeneuve (dir.), Hugh Jackman, Jake Gyllenhaal',\n",
              " \"Gavin O'Connor (dir.), Tom Hardy, Nick Nolte\",\n",
              " 'Joel Coen (dir.), William H. Macy, Frances McDormand',\n",
              " 'Clint Eastwood (dir.), Clint Eastwood, Bee Vang',\n",
              " 'Hayao Miyazaki (dir.), Hitoshi Takagi, Noriko Hidaka',\n",
              " 'Steven Spielberg (dir.), Leonardo DiCaprio, Tom Hanks',\n",
              " 'Clint Eastwood (dir.), Hilary Swank, Clint Eastwood',\n",
              " 'Majid Majidi (dir.), Mohammad Amir Naji, Amir Farrokh Hashemian',\n",
              " 'Ridley Scott (dir.), Harrison Ford, Rutger Hauer',\n",
              " 'Charles Chaplin (dir.), Charles Chaplin, Mack Swain',\n",
              " 'Sergio Pablos (dir.), Jason Schwartzman, J.K. Simmons',\n",
              " 'David Yates (dir.), Daniel Radcliffe, Emma Watson',\n",
              " 'Richard Linklater (dir.), Ethan Hawke, Julie Delpy',\n",
              " 'Steve McQueen (dir.), Chiwetel Ejiofor, Michael Kenneth Williams',\n",
              " 'Elia Kazan (dir.), Marlon Brando, Karl Malden',\n",
              " 'William Wyler (dir.), Charlton Heston, Jack Hawkins',\n",
              " 'Wes Anderson (dir.), Ralph Fiennes, F. Murray Abraham',\n",
              " 'David Fincher (dir.), Ben Affleck, Rosamund Pike',\n",
              " 'Ingmar Bergman (dir.), Victor Sjöström, Bibi Andersson',\n",
              " 'Clyde Bruckman (dir.), Buster Keaton, Marion Mack',\n",
              " 'Jim Sheridan (dir.), Daniel Day-Lewis, Pete Postlethwaite',\n",
              " \"Stanley Kubrick (dir.), Ryan O'Neal, Marisa Berenson\",\n",
              " 'Carol Reed (dir.), Orson Welles, Joseph Cotten',\n",
              " 'Michael Cimino (dir.), Robert De Niro, Christopher Walken',\n",
              " 'Mel Gibson (dir.), Andrew Garfield, Sam Worthington',\n",
              " 'Henri-Georges Clouzot (dir.), Yves Montand, Charles Vanel',\n",
              " 'Bong Joon Ho (dir.), Song Kang-ho, Kim Sang-kyung',\n",
              " 'Buster Keaton (dir.), Buster Keaton, Kathryn McGuire',\n",
              " 'Damián Szifron (dir.), Darío Grandinetti, María Marull',\n",
              " 'Frank Capra (dir.), James Stewart, Jean Arthur',\n",
              " 'George Miller (dir.), Tom Hardy, Charlize Theron',\n",
              " 'Adam Elliot (dir.), Toni Collette, Philip Seymour Hoffman',\n",
              " 'Ingmar Bergman (dir.), Max von Sydow, Gunnar Björnstrand',\n",
              " 'Dean DeBlois (dir.), Jay Baruchel, Gerard Butler',\n",
              " 'Pete Docter (dir.), Billy Crystal, John Goodman',\n",
              " 'Steven Spielberg (dir.), Roy Scheider, Robert Shaw',\n",
              " 'Peter Weir (dir.), Robin Williams, Robert Sean Leonard',\n",
              " 'Lenny Abrahamson (dir.), Brie Larson, Jacob Tremblay',\n",
              " 'Joel Coen (dir.), Jeff Bridges, John Goodman',\n",
              " 'Yasujirô Ozu (dir.), Chishû Ryû, Chieko Higashiyama',\n",
              " 'Carl Theodor Dreyer (dir.), Maria Falconetti, Eugene Silvain',\n",
              " 'James Mangold (dir.), Matt Damon, Christian Bale',\n",
              " 'Terry George (dir.), Don Cheadle, Sophie Okonedo',\n",
              " 'John G. Avildsen (dir.), Sylvester Stallone, Talia Shire',\n",
              " 'Oliver Stone (dir.), Charlie Sheen, Tom Berenger',\n",
              " 'Brad Bird (dir.), Brad Garrett, Lou Romano',\n",
              " 'Tom McCarthy (dir.), Mark Ruffalo, Michael Keaton',\n",
              " 'James Mangold (dir.), Hugh Jackman, Patrick Stewart',\n",
              " 'James Cameron (dir.), Arnold Schwarzenegger, Linda Hamilton',\n",
              " 'Rob Reiner (dir.), Wil Wheaton, River Phoenix',\n",
              " 'Ron Howard (dir.), Daniel Brühl, Chris Hemsworth',\n",
              " 'Sidney Lumet (dir.), Faye Dunaway, William Holden',\n",
              " 'Richard Linklater (dir.), Ethan Hawke, Julie Delpy',\n",
              " 'Sean Penn (dir.), Emile Hirsch, Vince Vaughn',\n",
              " 'Victor Fleming (dir.), Judy Garland, Frank Morgan',\n",
              " 'William Wyler (dir.), Myrna Loy, Dana Andrews',\n",
              " 'Harold Ramis (dir.), Bill Murray, Andie MacDowell',\n",
              " 'William Friedkin (dir.), Ellen Burstyn, Max von Sydow',\n",
              " 'Brad Bird (dir.), Craig T. Nelson, Samuel L. Jackson',\n",
              " 'Satyajit Ray (dir.), Kanu Bannerjee, Karuna Bannerjee',\n",
              " 'Ernst Lubitsch (dir.), Carole Lombard, Jack Benny',\n",
              " 'Mathieu Kassovitz (dir.), Vincent Cassel, Hubert Koundé',\n",
              " 'Gore Verbinski (dir.), Johnny Depp, Geoffrey Rush',\n",
              " 'John Ford (dir.), Henry Fonda, Jane Darwell',\n",
              " 'Gillo Pontecorvo (dir.), Brahim Hadjadj, Jean Martin',\n",
              " 'Lasse Hallström (dir.), Richard Gere, Joan Allen',\n",
              " 'T.J. Gnanavel (dir.), Suriya, Lijo Mol Jose',\n",
              " 'Çagan Irmak (dir.), Çetin Tekindor, Fikret Kuskan',\n",
              " 'Alejandro G. Iñárritu (dir.), Emilio Echevarría, Gael García Bernal',\n",
              " 'Alfred Hitchcock (dir.), Laurence Olivier, Joan Fontaine',\n",
              " 'Stuart Rosenberg (dir.), Paul Newman, George Kennedy',\n",
              " 'Park Chan-wook (dir.), Kim Min-hee, Ha Jung-woo',\n",
              " 'François Truffaut (dir.), Jean-Pierre Léaud, Albert Rémy',\n",
              " 'Robert Wise (dir.), Julie Andrews, Christopher Plummer',\n",
              " 'Frank Capra (dir.), Clark Gable, Claudette Colbert',\n",
              " 'Ingmar Bergman (dir.), Bibi Andersson, Liv Ullmann',\n",
              " 'Terry Jones (dir.), Graham Chapman, John Cleese',\n",
              " 'Brad Bird (dir.), Eli Marienthal, Harry Connick Jr.',\n",
              " 'Tate Taylor (dir.), Viola Davis, Emma Stone',\n",
              " 'Akira Kurosawa (dir.), Maksim Munzuk, Yuriy Solomin',\n",
              " 'Ron Clements (dir.), Scott Weinger, Robin Williams',\n",
              " 'Kevin Costner (dir.), Kevin Costner, Mary McDonnell']"
            ]
          },
          "execution_count": 179,
          "metadata": {},
          "output_type": "execute_result"
        }
      ],
      "source": [
        "dir_stars"
      ]
    },
    {
      "cell_type": "code",
      "execution_count": 180,
      "metadata": {
        "id": "NZHVynlOcrnZ"
      },
      "outputs": [
        {
          "data": {
            "text/plain": [
              "['(1994)',\n",
              " '(1972)',\n",
              " '(2008)',\n",
              " '(1974)',\n",
              " '(1957)',\n",
              " '(1993)',\n",
              " '(2003)',\n",
              " '(1994)',\n",
              " '(2001)',\n",
              " '(1966)',\n",
              " '(1994)',\n",
              " '(1999)',\n",
              " '(2002)',\n",
              " '(2010)',\n",
              " '(1980)',\n",
              " '(1999)',\n",
              " '(1990)',\n",
              " '(1975)',\n",
              " '(1995)',\n",
              " '(1954)',\n",
              " '(1946)',\n",
              " '(1991)',\n",
              " '(1998)',\n",
              " '(2002)',\n",
              " '(2014)',\n",
              " '(1997)',\n",
              " '(1999)',\n",
              " '(1977)',\n",
              " '(1991)',\n",
              " '(1985)',\n",
              " '(2001)',\n",
              " '(2002)',\n",
              " '(1960)',\n",
              " '(2019)',\n",
              " '(1994)',\n",
              " '(1994)',\n",
              " '(2000)',\n",
              " '(1998)',\n",
              " '(2006)',\n",
              " '(2006)',\n",
              " '(2014)',\n",
              " '(1995)',\n",
              " '(1942)',\n",
              " '(1988)',\n",
              " '(1962)',\n",
              " '(2011)',\n",
              " '(1936)',\n",
              " '(1968)',\n",
              " '(1988)',\n",
              " '(1954)',\n",
              " '(1979)',\n",
              " '(1931)',\n",
              " '(1979)',\n",
              " '(2000)',\n",
              " '(2012)',\n",
              " '(1981)',\n",
              " '(2008)',\n",
              " '(2006)',\n",
              " '(1950)',\n",
              " '(1957)',\n",
              " '(1980)',\n",
              " '(1940)',\n",
              " '(2018)',\n",
              " '(1957)',\n",
              " '(1986)',\n",
              " '(2018)',\n",
              " '(1999)',\n",
              " '(1964)',\n",
              " '(2012)',\n",
              " '(2003)',\n",
              " '(2009)',\n",
              " '(1984)',\n",
              " '(2017)',\n",
              " '(1995)',\n",
              " '(1995)',\n",
              " '(2019)',\n",
              " '(1981)',\n",
              " '(2019)',\n",
              " '(1997)',\n",
              " '(1984)',\n",
              " '(1997)',\n",
              " '(2016)',\n",
              " '(1952)',\n",
              " '(2009)',\n",
              " '(2000)',\n",
              " '(1963)',\n",
              " '(2010)',\n",
              " '(2018)',\n",
              " '(1983)',\n",
              " '(2004)',\n",
              " '(1968)',\n",
              " '(1985)',\n",
              " '(1992)',\n",
              " '(2012)',\n",
              " '(1941)',\n",
              " '(1931)',\n",
              " '(1962)',\n",
              " '(1959)',\n",
              " '(1952)',\n",
              " '(1958)',\n",
              " '(1960)',\n",
              " '(2001)',\n",
              " '(1971)',\n",
              " '(1944)',\n",
              " '(1987)',\n",
              " '(1983)',\n",
              " '(2020)',\n",
              " '(2010)',\n",
              " '(1995)',\n",
              " '(1962)',\n",
              " '(2009)',\n",
              " '(1973)',\n",
              " '(2011)',\n",
              " '(1927)',\n",
              " '(1976)',\n",
              " '(1997)',\n",
              " '(1988)',\n",
              " '(2000)',\n",
              " '(1989)',\n",
              " '(1948)',\n",
              " '(2022)',\n",
              " '(2007)',\n",
              " '(2019)',\n",
              " '(2004)',\n",
              " '(2016)',\n",
              " '(1965)',\n",
              " '(2005)',\n",
              " '(1921)',\n",
              " '(1959)',\n",
              " '(2020)',\n",
              " '(1950)',\n",
              " '(2013)',\n",
              " '(2018)',\n",
              " '(2023)',\n",
              " '(1961)',\n",
              " '(1985)',\n",
              " '(1995)',\n",
              " '(1998)',\n",
              " '(2007)',\n",
              " '(2006)',\n",
              " '(1992)',\n",
              " '(1999)',\n",
              " '(2010)',\n",
              " '(2001)',\n",
              " '(1993)',\n",
              " '(1961)',\n",
              " '(1948)',\n",
              " '(1975)',\n",
              " '(2007)',\n",
              " '(1963)',\n",
              " '(2003)',\n",
              " '(1950)',\n",
              " '(1982)',\n",
              " '(2021)',\n",
              " '(2003)',\n",
              " '(1980)',\n",
              " '(1974)',\n",
              " '(1980)',\n",
              " '(2005)',\n",
              " '(1939)',\n",
              " '(1998)',\n",
              " '(1954)',\n",
              " '(2015)',\n",
              " '(2009)',\n",
              " '(2004)',\n",
              " '(2017)',\n",
              " '(1996)',\n",
              " '(1957)',\n",
              " '(2013)',\n",
              " '(2011)',\n",
              " '(1996)',\n",
              " '(2008)',\n",
              " '(1988)',\n",
              " '(2002)',\n",
              " '(2004)',\n",
              " '(1997)',\n",
              " '(1982)',\n",
              " '(1925)',\n",
              " '(2019)',\n",
              " '(2011)',\n",
              " '(1995)',\n",
              " '(2013)',\n",
              " '(1954)',\n",
              " '(1959)',\n",
              " '(2014)',\n",
              " '(2014)',\n",
              " '(1957)',\n",
              " '(1926)',\n",
              " '(1993)',\n",
              " '(1975)',\n",
              " '(1949)',\n",
              " '(1978)',\n",
              " '(2016)',\n",
              " '(1953)',\n",
              " '(2003)',\n",
              " '(1924)',\n",
              " '(2014)',\n",
              " '(1939)',\n",
              " '(2015)',\n",
              " '(2009)',\n",
              " '(1957)',\n",
              " '(2010)',\n",
              " '(2001)',\n",
              " '(1975)',\n",
              " '(1989)',\n",
              " '(2015)',\n",
              " '(1998)',\n",
              " '(1953)',\n",
              " '(1928)',\n",
              " '(2019)',\n",
              " '(2004)',\n",
              " '(1976)',\n",
              " '(1986)',\n",
              " '(2007)',\n",
              " '(2015)',\n",
              " '(2017)',\n",
              " '(1984)',\n",
              " '(1986)',\n",
              " '(2013)',\n",
              " '(1976)',\n",
              " '(2004)',\n",
              " '(2007)',\n",
              " '(1939)',\n",
              " '(1946)',\n",
              " '(1993)',\n",
              " '(1973)',\n",
              " '(2004)',\n",
              " '(1955)',\n",
              " '(1942)',\n",
              " '(1995)',\n",
              " '(2003)',\n",
              " '(1940)',\n",
              " '(1966)',\n",
              " '(2009)',\n",
              " '(2021)',\n",
              " '(2005)',\n",
              " '(2000)',\n",
              " '(1940)',\n",
              " '(1967)',\n",
              " '(2016)',\n",
              " '(1959)',\n",
              " '(1965)',\n",
              " '(1934)',\n",
              " '(1966)',\n",
              " '(1979)',\n",
              " '(1999)',\n",
              " '(2011)',\n",
              " '(1975)',\n",
              " '(1992)',\n",
              " '(1990)']"
            ]
          },
          "execution_count": 180,
          "metadata": {},
          "output_type": "execute_result"
        }
      ],
      "source": [
        "year "
      ]
    },
    {
      "cell_type": "markdown",
      "metadata": {
        "id": "IVVe6cFW4r2v"
      },
      "source": [
        "### Storing information in pandas DataFrames\n",
        "\n",
        "If you get an error try this: \n",
        "assert len(title) == len(dir_stars) == len(year)"
      ]
    },
    {
      "cell_type": "code",
      "execution_count": 181,
      "metadata": {
        "id": "wzFV5ldV4r2v"
      },
      "outputs": [],
      "source": [
        "import pandas as pd"
      ]
    },
    {
      "cell_type": "code",
      "execution_count": 182,
      "metadata": {
        "id": "DDRNFZd74r2v"
      },
      "outputs": [],
      "source": [
        "movies_df = pd.DataFrame(\n",
        "    {\"movie_name\": title,\n",
        "     \"director_stars\": dir_stars,\n",
        "     \"release_year\": year\n",
        "    }\n",
        ")"
      ]
    },
    {
      "cell_type": "code",
      "execution_count": 183,
      "metadata": {
        "colab": {
          "base_uri": "https://localhost:8080/"
        },
        "id": "EeMxyyvT4r2v",
        "outputId": "d5a92e8f-0ab0-4d9a-98bb-e7aa7d665d76"
      },
      "outputs": [
        {
          "data": {
            "text/html": [
              "<div>\n",
              "<style scoped>\n",
              "    .dataframe tbody tr th:only-of-type {\n",
              "        vertical-align: middle;\n",
              "    }\n",
              "\n",
              "    .dataframe tbody tr th {\n",
              "        vertical-align: top;\n",
              "    }\n",
              "\n",
              "    .dataframe thead th {\n",
              "        text-align: right;\n",
              "    }\n",
              "</style>\n",
              "<table border=\"1\" class=\"dataframe\">\n",
              "  <thead>\n",
              "    <tr style=\"text-align: right;\">\n",
              "      <th></th>\n",
              "      <th>movie_name</th>\n",
              "      <th>director_stars</th>\n",
              "      <th>release_year</th>\n",
              "    </tr>\n",
              "  </thead>\n",
              "  <tbody>\n",
              "    <tr>\n",
              "      <th>0</th>\n",
              "      <td>The Shawshank Redemption</td>\n",
              "      <td>Frank Darabont (dir.), Tim Robbins, Morgan Fre...</td>\n",
              "      <td>(1994)</td>\n",
              "    </tr>\n",
              "    <tr>\n",
              "      <th>1</th>\n",
              "      <td>The Godfather</td>\n",
              "      <td>Francis Ford Coppola (dir.), Marlon Brando, Al...</td>\n",
              "      <td>(1972)</td>\n",
              "    </tr>\n",
              "    <tr>\n",
              "      <th>2</th>\n",
              "      <td>The Dark Knight</td>\n",
              "      <td>Christopher Nolan (dir.), Christian Bale, Heat...</td>\n",
              "      <td>(2008)</td>\n",
              "    </tr>\n",
              "    <tr>\n",
              "      <th>3</th>\n",
              "      <td>The Godfather Part II</td>\n",
              "      <td>Francis Ford Coppola (dir.), Al Pacino, Robert...</td>\n",
              "      <td>(1974)</td>\n",
              "    </tr>\n",
              "    <tr>\n",
              "      <th>4</th>\n",
              "      <td>12 Angry Men</td>\n",
              "      <td>Sidney Lumet (dir.), Henry Fonda, Lee J. Cobb</td>\n",
              "      <td>(1957)</td>\n",
              "    </tr>\n",
              "  </tbody>\n",
              "</table>\n",
              "</div>"
            ],
            "text/plain": [
              "                 movie_name  \\\n",
              "0  The Shawshank Redemption   \n",
              "1             The Godfather   \n",
              "2           The Dark Knight   \n",
              "3     The Godfather Part II   \n",
              "4              12 Angry Men   \n",
              "\n",
              "                                      director_stars release_year  \n",
              "0  Frank Darabont (dir.), Tim Robbins, Morgan Fre...       (1994)  \n",
              "1  Francis Ford Coppola (dir.), Marlon Brando, Al...       (1972)  \n",
              "2  Christopher Nolan (dir.), Christian Bale, Heat...       (2008)  \n",
              "3  Francis Ford Coppola (dir.), Al Pacino, Robert...       (1974)  \n",
              "4      Sidney Lumet (dir.), Henry Fonda, Lee J. Cobb       (1957)  "
            ]
          },
          "execution_count": 183,
          "metadata": {},
          "output_type": "execute_result"
        }
      ],
      "source": [
        "movies_df.head()"
      ]
    },
    {
      "cell_type": "code",
      "execution_count": 184,
      "metadata": {
        "colab": {
          "base_uri": "https://localhost:8080/"
        },
        "id": "eZoYShyqdJAo",
        "outputId": "e8289b9d-4297-4c90-b19c-9ef4d4b0a7e9"
      },
      "outputs": [
        {
          "name": "stdout",
          "output_type": "stream",
          "text": [
            "<class 'pandas.core.frame.DataFrame'>\n",
            "RangeIndex: 250 entries, 0 to 249\n",
            "Data columns (total 3 columns):\n",
            " #   Column          Non-Null Count  Dtype \n",
            "---  ------          --------------  ----- \n",
            " 0   movie_name      250 non-null    object\n",
            " 1   director_stars  250 non-null    object\n",
            " 2   release_year    250 non-null    object\n",
            "dtypes: object(3)\n",
            "memory usage: 6.0+ KB\n"
          ]
        }
      ],
      "source": [
        "movies_df.info()"
      ]
    },
    {
      "cell_type": "markdown",
      "metadata": {
        "id": "FGmptQx54r2v"
      },
      "source": [
        "#### Challenge: Cleaning the data\n",
        "\n",
        "An inherent part of web scraping is data cleaning. We managed to get the information we needed, but for it to be useful, we still need some extra steps:\n",
        "\n",
        "- Take the year out of the parentheses: we know we can totally do that with regex, but string methods such as str.replace() might be simpler to use. Additionally, this column should be turned into a numerical data type.\n",
        "\n",
        "- Split dir_stars into 3 columns, one for each person: \"director\", \"star_1\", \"star_2\". This could have been done by filtering when extracting the data from the html document, but it looks easier afterwards:\n",
        "\n",
        "    - The \"(dir.)\" pattern can be totally removed\n",
        "    - We can split the string at each comma"
      ]
    },
    {
      "cell_type": "code",
      "execution_count": 185,
      "metadata": {
        "id": "FbFpMWQw4r2w"
      },
      "outputs": [],
      "source": [
        "# - Take the year out of the parentheses: we know we can totally do that with regex, but string methods such as str.replace() might be simpler to use. Additionally, this column should be turned into a numerical data type.\n",
        "\n",
        "# - Split dir_stars into 3 columns, one for each person: \"director\", \"star_1\", \"star_2\". This could have been done by filtering when extracting the data from the html document, but it looks easier afterwards:\n",
        "\n",
        "#     - The \"(dir.)\" pattern can be totally removed\n",
        "#     - We can split the string at each comma"
      ]
    },
    {
      "cell_type": "code",
      "execution_count": 186,
      "metadata": {},
      "outputs": [
        {
          "name": "stderr",
          "output_type": "stream",
          "text": [
            "/var/folders/fv/j2glptx96zv4jxc02f5d5ff40000gn/T/ipykernel_15471/3322003848.py:2: FutureWarning: The default value of regex will change from True to False in a future version. In addition, single character regular expressions will *not* be treated as literal strings when regex=True.\n",
            "  movies_df['release_year'] = movies_df.loc[:, 'release_year'].str.replace('(', '').str.replace(')', '')\n"
          ]
        }
      ],
      "source": [
        "# - Take the year out of the parentheses: we know we can totally do that with regex, but string methods such as str.replace() might be simpler to use. Additionally, this column should be turned into a numerical data type.\n",
        "movies_df['release_year'] = movies_df.loc[:, 'release_year'].str.replace('(', '').str.replace(')', '')"
      ]
    },
    {
      "cell_type": "code",
      "execution_count": 187,
      "metadata": {},
      "outputs": [],
      "source": [
        "#change the column to numrical data type\n",
        "movies_df['release_year'] = pd.to_numeric(movies_df['release_year'])"
      ]
    },
    {
      "cell_type": "code",
      "execution_count": 188,
      "metadata": {},
      "outputs": [],
      "source": [
        "#alternatively\n",
        "# movies_df['release_year'] = movies_df['release_year'].str.replace('(', '').str.replace(')', '').astype(int) #astype(int) converts the column to integer"
      ]
    },
    {
      "cell_type": "code",
      "execution_count": 189,
      "metadata": {},
      "outputs": [
        {
          "data": {
            "text/html": [
              "<div>\n",
              "<style scoped>\n",
              "    .dataframe tbody tr th:only-of-type {\n",
              "        vertical-align: middle;\n",
              "    }\n",
              "\n",
              "    .dataframe tbody tr th {\n",
              "        vertical-align: top;\n",
              "    }\n",
              "\n",
              "    .dataframe thead th {\n",
              "        text-align: right;\n",
              "    }\n",
              "</style>\n",
              "<table border=\"1\" class=\"dataframe\">\n",
              "  <thead>\n",
              "    <tr style=\"text-align: right;\">\n",
              "      <th></th>\n",
              "      <th>movie_name</th>\n",
              "      <th>director_stars</th>\n",
              "      <th>release_year</th>\n",
              "    </tr>\n",
              "  </thead>\n",
              "  <tbody>\n",
              "    <tr>\n",
              "      <th>0</th>\n",
              "      <td>The Shawshank Redemption</td>\n",
              "      <td>Frank Darabont (dir.), Tim Robbins, Morgan Fre...</td>\n",
              "      <td>1994</td>\n",
              "    </tr>\n",
              "    <tr>\n",
              "      <th>1</th>\n",
              "      <td>The Godfather</td>\n",
              "      <td>Francis Ford Coppola (dir.), Marlon Brando, Al...</td>\n",
              "      <td>1972</td>\n",
              "    </tr>\n",
              "    <tr>\n",
              "      <th>2</th>\n",
              "      <td>The Dark Knight</td>\n",
              "      <td>Christopher Nolan (dir.), Christian Bale, Heat...</td>\n",
              "      <td>2008</td>\n",
              "    </tr>\n",
              "    <tr>\n",
              "      <th>3</th>\n",
              "      <td>The Godfather Part II</td>\n",
              "      <td>Francis Ford Coppola (dir.), Al Pacino, Robert...</td>\n",
              "      <td>1974</td>\n",
              "    </tr>\n",
              "    <tr>\n",
              "      <th>4</th>\n",
              "      <td>12 Angry Men</td>\n",
              "      <td>Sidney Lumet (dir.), Henry Fonda, Lee J. Cobb</td>\n",
              "      <td>1957</td>\n",
              "    </tr>\n",
              "  </tbody>\n",
              "</table>\n",
              "</div>"
            ],
            "text/plain": [
              "                 movie_name  \\\n",
              "0  The Shawshank Redemption   \n",
              "1             The Godfather   \n",
              "2           The Dark Knight   \n",
              "3     The Godfather Part II   \n",
              "4              12 Angry Men   \n",
              "\n",
              "                                      director_stars  release_year  \n",
              "0  Frank Darabont (dir.), Tim Robbins, Morgan Fre...          1994  \n",
              "1  Francis Ford Coppola (dir.), Marlon Brando, Al...          1972  \n",
              "2  Christopher Nolan (dir.), Christian Bale, Heat...          2008  \n",
              "3  Francis Ford Coppola (dir.), Al Pacino, Robert...          1974  \n",
              "4      Sidney Lumet (dir.), Henry Fonda, Lee J. Cobb          1957  "
            ]
          },
          "execution_count": 189,
          "metadata": {},
          "output_type": "execute_result"
        }
      ],
      "source": [
        "movies_df.head()\n"
      ]
    },
    {
      "cell_type": "code",
      "execution_count": 190,
      "metadata": {
        "id": "YzJGcKo_4r2w"
      },
      "outputs": [
        {
          "name": "stderr",
          "output_type": "stream",
          "text": [
            "/var/folders/fv/j2glptx96zv4jxc02f5d5ff40000gn/T/ipykernel_15471/3895573361.py:2: FutureWarning: The default value of regex will change from True to False in a future version.\n",
            "  movies_df['director_stars'] = movies_df.loc[:, 'director_stars'].str.replace(r'\\(dir.\\)', '')\n"
          ]
        }
      ],
      "source": [
        "# removing the (dir.) pattern\n",
        "movies_df['director_stars'] = movies_df.loc[:, 'director_stars'].str.replace(r'\\(dir.\\)', '')\n",
        "\n",
        "\n"
      ]
    },
    {
      "cell_type": "code",
      "execution_count": 68,
      "metadata": {},
      "outputs": [],
      "source": [
        "#alternative solutions\n",
        "\n",
        "# WORKING SOLUTION\n",
        "# movies_df['director_stars'] = movies_df.loc[:, ['director_stars']].replace(to_replace = r'\\(dir.\\)', value = '', regex = True)\n",
        "\n",
        "#THESE DON'T WORK. SEE ERRORS BELOW\n",
        "# movies_df['director_stars'] = movies_df.loc[:, ['director_stars']].replace.to_string(r'\\(dir.\\)', '', regex=True) #AttributeError: 'function' object has no attribute 'to_string'\n",
        "\n",
        "# movies_df['director_stars'] = movies_df.loc[:, ['director_stars']].str.replace('(dir.)', '') #KeyError: 'director_stars'"
      ]
    },
    {
      "cell_type": "code",
      "execution_count": null,
      "metadata": {},
      "outputs": [],
      "source": [
        "# - Split dir_stars into 3 columns, one for each person: \"director\", \"star_1\", \"star_2\". \n",
        "#     - The \"(dir.)\" pattern can be totally removed\n",
        "\n"
      ]
    },
    {
      "cell_type": "code",
      "execution_count": 69,
      "metadata": {},
      "outputs": [
        {
          "data": {
            "text/html": [
              "<div>\n",
              "<style scoped>\n",
              "    .dataframe tbody tr th:only-of-type {\n",
              "        vertical-align: middle;\n",
              "    }\n",
              "\n",
              "    .dataframe tbody tr th {\n",
              "        vertical-align: top;\n",
              "    }\n",
              "\n",
              "    .dataframe thead th {\n",
              "        text-align: right;\n",
              "    }\n",
              "</style>\n",
              "<table border=\"1\" class=\"dataframe\">\n",
              "  <thead>\n",
              "    <tr style=\"text-align: right;\">\n",
              "      <th></th>\n",
              "      <th>movie_name</th>\n",
              "      <th>director_stars</th>\n",
              "      <th>release_year</th>\n",
              "    </tr>\n",
              "  </thead>\n",
              "  <tbody>\n",
              "    <tr>\n",
              "      <th>0</th>\n",
              "      <td>The Shawshank Redemption</td>\n",
              "      <td>Frank Darabont , Tim Robbins, Morgan Freeman</td>\n",
              "      <td>1994</td>\n",
              "    </tr>\n",
              "    <tr>\n",
              "      <th>1</th>\n",
              "      <td>The Godfather</td>\n",
              "      <td>Francis Ford Coppola , Marlon Brando, Al Pacino</td>\n",
              "      <td>1972</td>\n",
              "    </tr>\n",
              "    <tr>\n",
              "      <th>2</th>\n",
              "      <td>The Dark Knight</td>\n",
              "      <td>Christopher Nolan , Christian Bale, Heath Ledger</td>\n",
              "      <td>2008</td>\n",
              "    </tr>\n",
              "    <tr>\n",
              "      <th>3</th>\n",
              "      <td>The Godfather Part II</td>\n",
              "      <td>Francis Ford Coppola , Al Pacino, Robert De Niro</td>\n",
              "      <td>1974</td>\n",
              "    </tr>\n",
              "    <tr>\n",
              "      <th>4</th>\n",
              "      <td>12 Angry Men</td>\n",
              "      <td>Sidney Lumet , Henry Fonda, Lee J. Cobb</td>\n",
              "      <td>1957</td>\n",
              "    </tr>\n",
              "  </tbody>\n",
              "</table>\n",
              "</div>"
            ],
            "text/plain": [
              "                 movie_name                                    director_stars  \\\n",
              "0  The Shawshank Redemption      Frank Darabont , Tim Robbins, Morgan Freeman   \n",
              "1             The Godfather   Francis Ford Coppola , Marlon Brando, Al Pacino   \n",
              "2           The Dark Knight  Christopher Nolan , Christian Bale, Heath Ledger   \n",
              "3     The Godfather Part II  Francis Ford Coppola , Al Pacino, Robert De Niro   \n",
              "4              12 Angry Men           Sidney Lumet , Henry Fonda, Lee J. Cobb   \n",
              "\n",
              "   release_year  \n",
              "0          1994  \n",
              "1          1972  \n",
              "2          2008  \n",
              "3          1974  \n",
              "4          1957  "
            ]
          },
          "execution_count": 69,
          "metadata": {},
          "output_type": "execute_result"
        }
      ],
      "source": [
        "movies_df.head()"
      ]
    },
    {
      "cell_type": "code",
      "execution_count": null,
      "metadata": {
        "id": "eqxu6Su9ddka"
      },
      "outputs": [],
      "source": []
    }
  ],
  "metadata": {
    "colab": {
      "provenance": [],
      "toc_visible": true
    },
    "kernelspec": {
      "display_name": "Python 3",
      "language": "python",
      "name": "python3"
    },
    "language_info": {
      "codemirror_mode": {
        "name": "ipython",
        "version": 3
      },
      "file_extension": ".py",
      "mimetype": "text/x-python",
      "name": "python",
      "nbconvert_exporter": "python",
      "pygments_lexer": "ipython3",
      "version": "3.9.13"
    },
    "toc": {
      "base_numbering": 1,
      "nav_menu": {},
      "number_sections": true,
      "sideBar": true,
      "skip_h1_title": false,
      "title_cell": "Table of Contents",
      "title_sidebar": "Contents",
      "toc_cell": false,
      "toc_position": {},
      "toc_section_display": true,
      "toc_window_display": false
    },
    "varInspector": {
      "cols": {
        "lenName": 16,
        "lenType": 16,
        "lenVar": 40
      },
      "kernels_config": {
        "python": {
          "delete_cmd_postfix": "",
          "delete_cmd_prefix": "del ",
          "library": "var_list.py",
          "varRefreshCmd": "print(var_dic_list())"
        },
        "r": {
          "delete_cmd_postfix": ") ",
          "delete_cmd_prefix": "rm(",
          "library": "var_list.r",
          "varRefreshCmd": "cat(var_dic_list()) "
        }
      },
      "oldHeight": 122.4,
      "position": {
        "height": "40px",
        "left": "1266px",
        "right": "20px",
        "top": "120px",
        "width": "250px"
      },
      "types_to_exclude": [
        "module",
        "function",
        "builtin_function_or_method",
        "instance",
        "_Feature"
      ],
      "varInspector_section_display": "none",
      "window_display": true
    }
  },
  "nbformat": 4,
  "nbformat_minor": 0
}
