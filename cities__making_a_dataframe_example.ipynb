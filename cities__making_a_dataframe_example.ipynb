{
  "nbformat": 4,
  "nbformat_minor": 0,
  "metadata": {
    "colab": {
      "provenance": []
    },
    "kernelspec": {
      "name": "python3",
      "display_name": "Python 3"
    },
    "language_info": {
      "name": "python"
    }
  },
  "cells": [
    {
      "cell_type": "code",
      "source": [
        "# colab has an older version of beautifulsoup by default\n",
        "# here we upgrade it\n",
        "# if you are working on your own computer, you can probably comment this step out and skip it\n",
        "!pip install --upgrade beautifulsoup4"
      ],
      "metadata": {
        "colab": {
          "base_uri": "https://localhost:8080/"
        },
        "id": "h7XGRW58Onq4",
        "outputId": "06035ada-1ef2-4c65-a285-61994611f6aa"
      },
      "execution_count": null,
      "outputs": [
        {
          "output_type": "stream",
          "name": "stdout",
          "text": [
            "Looking in indexes: https://pypi.org/simple, https://us-python.pkg.dev/colab-wheels/public/simple/\n",
            "Requirement already satisfied: beautifulsoup4 in /usr/local/lib/python3.8/dist-packages (4.6.3)\n",
            "Collecting beautifulsoup4\n",
            "  Downloading beautifulsoup4-4.11.2-py3-none-any.whl (129 kB)\n",
            "\u001b[2K     \u001b[90m━━━━━━━━━━━━━━━━━━━━━━━━━━━━━━━━━━━━━━━\u001b[0m \u001b[32m129.4/129.4 KB\u001b[0m \u001b[31m3.6 MB/s\u001b[0m eta \u001b[36m0:00:00\u001b[0m\n",
            "\u001b[?25hCollecting soupsieve>1.2\n",
            "  Downloading soupsieve-2.4-py3-none-any.whl (37 kB)\n",
            "Installing collected packages: soupsieve, beautifulsoup4\n",
            "  Attempting uninstall: beautifulsoup4\n",
            "    Found existing installation: beautifulsoup4 4.6.3\n",
            "    Uninstalling beautifulsoup4-4.6.3:\n",
            "      Successfully uninstalled beautifulsoup4-4.6.3\n",
            "Successfully installed beautifulsoup4-4.11.2 soupsieve-2.4\n"
          ]
        }
      ]
    },
    {
      "cell_type": "code",
      "execution_count": null,
      "metadata": {
        "id": "09E5mZ6mjM-J"
      },
      "outputs": [],
      "source": [
        "# 1. import libraries\n",
        "from bs4 import BeautifulSoup\n",
        "import requests\n",
        "import pandas as pd\n",
        "import re"
      ]
    },
    {
      "cell_type": "code",
      "source": [
        "# 2. find url and store it in a variable\n",
        "url = \"https://en.wikipedia.org/wiki/Berlin\""
      ],
      "metadata": {
        "id": "EfulSS0rj9Gd"
      },
      "execution_count": null,
      "outputs": []
    },
    {
      "cell_type": "code",
      "source": [
        "# 3. download html with a get request\n",
        "response = requests.get(url)\n",
        "response.status_code # 200 status code means OK!"
      ],
      "metadata": {
        "colab": {
          "base_uri": "https://localhost:8080/"
        },
        "id": "6ToaJ81GkC0r",
        "outputId": "4973d63e-4efe-4105-f8da-be2f6be04be5"
      },
      "execution_count": null,
      "outputs": [
        {
          "output_type": "execute_result",
          "data": {
            "text/plain": [
              "200"
            ]
          },
          "metadata": {},
          "execution_count": 4
        }
      ]
    },
    {
      "cell_type": "code",
      "source": [
        "# 4.1. parse html (create the 'soup')\n",
        "soup = BeautifulSoup(response.content, \"html.parser\")\n",
        "# 4.2. check that the html code looks like it should\n",
        "# soup"
      ],
      "metadata": {
        "id": "bBB9cK_1kHeK"
      },
      "execution_count": null,
      "outputs": []
    },
    {
      "cell_type": "code",
      "source": [
        "# 5. retrieve/extract the desired info (here, you'll paste the \"Selector\" you copied before to get the element that belongs to the top movie)\n",
        "\n",
        "# let's first try to get the name of the city\n",
        "# by copying the selector we can see that it has the id firstHeading (it also has a class by the same name!)\n",
        "soup.select(\"#firstHeading\")"
      ],
      "metadata": {
        "colab": {
          "base_uri": "https://localhost:8080/"
        },
        "id": "NEPylwtLkRz6",
        "outputId": "d14a65cd-517c-454a-8608-1c7f9a53c8a1"
      },
      "execution_count": null,
      "outputs": [
        {
          "output_type": "execute_result",
          "data": {
            "text/plain": [
              "[<h1 class=\"firstHeading mw-first-heading\" id=\"firstHeading\"><span class=\"mw-page-title-main\">Berlin</span></h1>]"
            ]
          },
          "metadata": {},
          "execution_count": 6
        }
      ]
    },
    {
      "cell_type": "code",
      "source": [
        "soup.select(\"#firstHeading\")[0].get_text()"
      ],
      "metadata": {
        "colab": {
          "base_uri": "https://localhost:8080/",
          "height": 36
        },
        "id": "xC2gDSscWtyS",
        "outputId": "010a8325-7cc1-4b6f-f25f-64b7075c857c"
      },
      "execution_count": null,
      "outputs": [
        {
          "output_type": "execute_result",
          "data": {
            "text/plain": [
              "'Berlin'"
            ],
            "application/vnd.google.colaboratory.intrinsic+json": {
              "type": "string"
            }
          },
          "metadata": {},
          "execution_count": 7
        }
      ]
    },
    {
      "cell_type": "code",
      "source": [
        "# Let's use this class, infobox-data, to target the information country\n",
        "soup.select(\".infobox-data\")[0].get_text()"
      ],
      "metadata": {
        "colab": {
          "base_uri": "https://localhost:8080/",
          "height": 35
        },
        "id": "zqaG8u2YX96Z",
        "outputId": "a4d6af80-fcf8-4ce1-bb67-dc85dd5b7ce9"
      },
      "execution_count": null,
      "outputs": [
        {
          "output_type": "execute_result",
          "data": {
            "text/plain": [
              "'Germany'"
            ],
            "application/vnd.google.colaboratory.intrinsic+json": {
              "type": "string"
            }
          },
          "metadata": {},
          "execution_count": 14
        }
      ]
    },
    {
      "cell_type": "code",
      "source": [
        "#soup.select(\".infobox-data\")[0].get_text()"
      ],
      "metadata": {
        "id": "hdVBTcmTIwh8"
      },
      "execution_count": null,
      "outputs": []
    },
    {
      "cell_type": "markdown",
      "source": [
        "Now we just carry on exploring the html, finding classes, ids, and selectors to target the information we need. Hopefully these classes and selectors will be universal across all cities on wikipedia, but it is likely that they will change in a few places, and we will have to try to make our code robust to this"
      ],
      "metadata": {
        "id": "a5NbgdoeYKIo"
      }
    },
    {
      "cell_type": "code",
      "source": [
        "def recreate_wiki(cities):\n",
        "  # empty list that will be filled with one dictionary of information per city\n",
        "  list_for_df = []\n",
        "  \n",
        "  # begin a for loop to create a dictionary of information for each city\n",
        "  for city in cities:\n",
        "    # we can use the universal nature of wikipedias urls to our advantage here\n",
        "    # all of the urls are the same besides the city name\n",
        "    url = f'https://en.wikipedia.org/wiki/{city}'\n",
        "\n",
        "    # here we make our soup for the city\n",
        "    r = requests.get(url)\n",
        "    soup = BeautifulSoup(r.content, 'html.parser')\n",
        "\n",
        "    # here we initialise our empty dictionary for the city\n",
        "    response_dict = {}\n",
        "\n",
        "    # here we fill the dictionary with information using the ids, classes, and selectors that we found in the html\n",
        "    response_dict['city'] = soup.select(\".firstHeading\")[0].get_text()\n",
        "    response_dict['country'] = soup.select(\".infobox-data\")[0].get_text()\n",
        "    response_dict['latitude'] = soup.select(\".latitude\")[0].get_text()\n",
        "    response_dict['longitude'] = soup.select(\".longitude\")[0].get_text()\n",
        "    # not all of the wikipedia pages contain elevation, look at Hamburg\n",
        "    # the if clause means that our code can continue and won't stop at this hurdle\n",
        "    if soup.select_one('.infobox-label:-soup-contains(\"Elevation\")'):\n",
        "      response_dict['elevation'] = soup.select_one('.infobox-label:-soup-contains(\"Elevation\")').find_next(class_='infobox-data').get_text()\n",
        "    response_dict['website'] = soup.select_one('.infobox-label:-soup-contains(\"Website\")').find_next(class_='infobox-data').get_text()\n",
        "    if soup.select_one('th.infobox-header:-soup-contains(\"Population\")'):\n",
        "        response_dict['population'] = soup.select_one('th.infobox-header:-soup-contains(\"Population\")').parent.find_next_sibling().find(text=re.compile(r'\\d+'))\n",
        "    \n",
        "    # add our dictionary for the city to list_for_df\n",
        "    list_for_df.append(response_dict)\n",
        "  \n",
        "  # make the DataFrame\n",
        "  cities_df = pd.DataFrame(list_for_df)\n",
        "\n",
        "  # fixing latitude\n",
        "  cities_df['latitude'] = cities_df['latitude'].str.split('″').str[0].str.replace('°', '.', regex=False).str.replace('′', '', regex=False)\n",
        "  # fixing longitude\n",
        "  cities_df['longitude'] = cities_df['longitude'].str.split('″').str[0].str.replace('°', '.', regex=False).str.replace('′', '', regex=False)\n",
        "  # fixing elevation\n",
        "  cities_df.insert(4, 'elevation_in_meters', cities_df['elevation'].str.split('m').str[0].str.strip())\n",
        "\n",
        "  # return the DataFrame\n",
        "  return cities_df"
      ],
      "metadata": {
        "id": "6ZaT16qaP2yJ"
      },
      "execution_count": null,
      "outputs": []
    },
    {
      "cell_type": "code",
      "source": [
        "list_of_cities = ['Berlin', 'Hamburg', 'London', 'Manchester', 'Barcelona']\n",
        "recreate_wiki(list_of_cities)"
      ],
      "metadata": {
        "colab": {
          "base_uri": "https://localhost:8080/",
          "height": 206
        },
        "id": "vPj5D3KfTZk2",
        "outputId": "41f95d79-a85f-47cb-d03d-5b4ee98a0814"
      },
      "execution_count": null,
      "outputs": [
        {
          "output_type": "execute_result",
          "data": {
            "text/plain": [
              "         city          country latitude longitude elevation_in_meters  \\\n",
              "0      Berlin          Germany  52.3112   13.2418                  34   \n",
              "1     Hamburg          Germany  53.3300   10.0000                 NaN   \n",
              "2      London   United Kingdom  51.3026     0.739           36 ft (11   \n",
              "3  Manchester   United Kingdom  53.2846    2.1443                  38   \n",
              "4   Barcelona            Spain   41.23N     2.11E                  12   \n",
              "\n",
              "       elevation                       website population  \n",
              "0  34 m (112 ft)             www.berlin.de/en/  3,769,495  \n",
              "1            NaN  www.hamburg.de/stadt-staat/   1,845,229  \n",
              "2   36 ft (11 m)            www.london.gov.uk   8,799,800  \n",
              "3  38 m (125 ft)             manchester.gov.uk    552,858  \n",
              "4   12 m (39 ft)             www.barcelona.cat  1,620,343  "
            ],
            "text/html": [
              "\n",
              "  <div id=\"df-0ab085ed-da8a-4798-beee-76f55342af70\">\n",
              "    <div class=\"colab-df-container\">\n",
              "      <div>\n",
              "<style scoped>\n",
              "    .dataframe tbody tr th:only-of-type {\n",
              "        vertical-align: middle;\n",
              "    }\n",
              "\n",
              "    .dataframe tbody tr th {\n",
              "        vertical-align: top;\n",
              "    }\n",
              "\n",
              "    .dataframe thead th {\n",
              "        text-align: right;\n",
              "    }\n",
              "</style>\n",
              "<table border=\"1\" class=\"dataframe\">\n",
              "  <thead>\n",
              "    <tr style=\"text-align: right;\">\n",
              "      <th></th>\n",
              "      <th>city</th>\n",
              "      <th>country</th>\n",
              "      <th>latitude</th>\n",
              "      <th>longitude</th>\n",
              "      <th>elevation_in_meters</th>\n",
              "      <th>elevation</th>\n",
              "      <th>website</th>\n",
              "      <th>population</th>\n",
              "    </tr>\n",
              "  </thead>\n",
              "  <tbody>\n",
              "    <tr>\n",
              "      <th>0</th>\n",
              "      <td>Berlin</td>\n",
              "      <td>Germany</td>\n",
              "      <td>52.3112</td>\n",
              "      <td>13.2418</td>\n",
              "      <td>34</td>\n",
              "      <td>34 m (112 ft)</td>\n",
              "      <td>www.berlin.de/en/</td>\n",
              "      <td>3,769,495</td>\n",
              "    </tr>\n",
              "    <tr>\n",
              "      <th>1</th>\n",
              "      <td>Hamburg</td>\n",
              "      <td>Germany</td>\n",
              "      <td>53.3300</td>\n",
              "      <td>10.0000</td>\n",
              "      <td>NaN</td>\n",
              "      <td>NaN</td>\n",
              "      <td>www.hamburg.de/stadt-staat/</td>\n",
              "      <td>1,845,229</td>\n",
              "    </tr>\n",
              "    <tr>\n",
              "      <th>2</th>\n",
              "      <td>London</td>\n",
              "      <td>United Kingdom</td>\n",
              "      <td>51.3026</td>\n",
              "      <td>0.739</td>\n",
              "      <td>36 ft (11</td>\n",
              "      <td>36 ft (11 m)</td>\n",
              "      <td>www.london.gov.uk</td>\n",
              "      <td>8,799,800</td>\n",
              "    </tr>\n",
              "    <tr>\n",
              "      <th>3</th>\n",
              "      <td>Manchester</td>\n",
              "      <td>United Kingdom</td>\n",
              "      <td>53.2846</td>\n",
              "      <td>2.1443</td>\n",
              "      <td>38</td>\n",
              "      <td>38 m (125 ft)</td>\n",
              "      <td>manchester.gov.uk</td>\n",
              "      <td>552,858</td>\n",
              "    </tr>\n",
              "    <tr>\n",
              "      <th>4</th>\n",
              "      <td>Barcelona</td>\n",
              "      <td>Spain</td>\n",
              "      <td>41.23N</td>\n",
              "      <td>2.11E</td>\n",
              "      <td>12</td>\n",
              "      <td>12 m (39 ft)</td>\n",
              "      <td>www.barcelona.cat</td>\n",
              "      <td>1,620,343</td>\n",
              "    </tr>\n",
              "  </tbody>\n",
              "</table>\n",
              "</div>\n",
              "      <button class=\"colab-df-convert\" onclick=\"convertToInteractive('df-0ab085ed-da8a-4798-beee-76f55342af70')\"\n",
              "              title=\"Convert this dataframe to an interactive table.\"\n",
              "              style=\"display:none;\">\n",
              "        \n",
              "  <svg xmlns=\"http://www.w3.org/2000/svg\" height=\"24px\"viewBox=\"0 0 24 24\"\n",
              "       width=\"24px\">\n",
              "    <path d=\"M0 0h24v24H0V0z\" fill=\"none\"/>\n",
              "    <path d=\"M18.56 5.44l.94 2.06.94-2.06 2.06-.94-2.06-.94-.94-2.06-.94 2.06-2.06.94zm-11 1L8.5 8.5l.94-2.06 2.06-.94-2.06-.94L8.5 2.5l-.94 2.06-2.06.94zm10 10l.94 2.06.94-2.06 2.06-.94-2.06-.94-.94-2.06-.94 2.06-2.06.94z\"/><path d=\"M17.41 7.96l-1.37-1.37c-.4-.4-.92-.59-1.43-.59-.52 0-1.04.2-1.43.59L10.3 9.45l-7.72 7.72c-.78.78-.78 2.05 0 2.83L4 21.41c.39.39.9.59 1.41.59.51 0 1.02-.2 1.41-.59l7.78-7.78 2.81-2.81c.8-.78.8-2.07 0-2.86zM5.41 20L4 18.59l7.72-7.72 1.47 1.35L5.41 20z\"/>\n",
              "  </svg>\n",
              "      </button>\n",
              "      \n",
              "  <style>\n",
              "    .colab-df-container {\n",
              "      display:flex;\n",
              "      flex-wrap:wrap;\n",
              "      gap: 12px;\n",
              "    }\n",
              "\n",
              "    .colab-df-convert {\n",
              "      background-color: #E8F0FE;\n",
              "      border: none;\n",
              "      border-radius: 50%;\n",
              "      cursor: pointer;\n",
              "      display: none;\n",
              "      fill: #1967D2;\n",
              "      height: 32px;\n",
              "      padding: 0 0 0 0;\n",
              "      width: 32px;\n",
              "    }\n",
              "\n",
              "    .colab-df-convert:hover {\n",
              "      background-color: #E2EBFA;\n",
              "      box-shadow: 0px 1px 2px rgba(60, 64, 67, 0.3), 0px 1px 3px 1px rgba(60, 64, 67, 0.15);\n",
              "      fill: #174EA6;\n",
              "    }\n",
              "\n",
              "    [theme=dark] .colab-df-convert {\n",
              "      background-color: #3B4455;\n",
              "      fill: #D2E3FC;\n",
              "    }\n",
              "\n",
              "    [theme=dark] .colab-df-convert:hover {\n",
              "      background-color: #434B5C;\n",
              "      box-shadow: 0px 1px 3px 1px rgba(0, 0, 0, 0.15);\n",
              "      filter: drop-shadow(0px 1px 2px rgba(0, 0, 0, 0.3));\n",
              "      fill: #FFFFFF;\n",
              "    }\n",
              "  </style>\n",
              "\n",
              "      <script>\n",
              "        const buttonEl =\n",
              "          document.querySelector('#df-0ab085ed-da8a-4798-beee-76f55342af70 button.colab-df-convert');\n",
              "        buttonEl.style.display =\n",
              "          google.colab.kernel.accessAllowed ? 'block' : 'none';\n",
              "\n",
              "        async function convertToInteractive(key) {\n",
              "          const element = document.querySelector('#df-0ab085ed-da8a-4798-beee-76f55342af70');\n",
              "          const dataTable =\n",
              "            await google.colab.kernel.invokeFunction('convertToInteractive',\n",
              "                                                     [key], {});\n",
              "          if (!dataTable) return;\n",
              "\n",
              "          const docLinkHtml = 'Like what you see? Visit the ' +\n",
              "            '<a target=\"_blank\" href=https://colab.research.google.com/notebooks/data_table.ipynb>data table notebook</a>'\n",
              "            + ' to learn more about interactive tables.';\n",
              "          element.innerHTML = '';\n",
              "          dataTable['output_type'] = 'display_data';\n",
              "          await google.colab.output.renderOutput(dataTable, element);\n",
              "          const docLink = document.createElement('div');\n",
              "          docLink.innerHTML = docLinkHtml;\n",
              "          element.appendChild(docLink);\n",
              "        }\n",
              "      </script>\n",
              "    </div>\n",
              "  </div>\n",
              "  "
            ]
          },
          "metadata": {},
          "execution_count": 11
        }
      ]
    }
  ]
}